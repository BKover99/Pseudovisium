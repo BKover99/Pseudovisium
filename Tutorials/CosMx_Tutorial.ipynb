{
  "cells": [
    {
      "cell_type": "markdown",
      "metadata": {
        "id": "view-in-github",
        "colab_type": "text"
      },
      "source": [
        "<a href=\"https://colab.research.google.com/github/BKover99/Pseudovisium/blob/main/Tutorials/CosMx_Tutorial.ipynb\" target=\"_parent\"><img src=\"https://colab.research.google.com/assets/colab-badge.svg\" alt=\"Open In Colab\"/></a>"
      ]
    },
    {
      "cell_type": "markdown",
      "source": [
        "This section installs the required packages for the tutorial. It downloads and unzips a file, and then installs the pympler and Pseudovisium packages using pip."
      ],
      "metadata": {
        "id": "WNQNuL-_L-iZ"
      }
    },
    {
      "cell_type": "code",
      "execution_count": null,
      "metadata": {
        "colab": {
          "base_uri": "https://localhost:8080/"
        },
        "id": "FoYMs0bdzunk",
        "outputId": "0b158a68-3efc-45d3-d126-950076cb491d"
      },
      "outputs": [
        {
          "output_type": "stream",
          "name": "stdout",
          "text": [
            "--2024-06-06 15:50:19--  https://dg1oqa.bl.files.1drv.com/y4m2CulsqPOHi88uM3y4R3bpe_E0oV-5QWcibRtQAa6_OEwaeDJp2szwSfQLHeZ9hukrY97lU2Mzzghwvm77jm3jqzjsYHWWmwcn-_lRMn7e1R1tOBrFkHba5uaoOv2yQcDobXlqrpmChbiHihhY_4uT2L3ayWbLGj-OBQIIulTUqBSMDshOXZmZhfGQfa3i3GHgzgYf6-2z0sWlKjMlQhv-w\n",
            "Resolving dg1oqa.bl.files.1drv.com (dg1oqa.bl.files.1drv.com)... 13.107.42.12\n",
            "Connecting to dg1oqa.bl.files.1drv.com (dg1oqa.bl.files.1drv.com)|13.107.42.12|:443... connected.\n",
            "HTTP request sent, awaiting response... 200 OK\n",
            "Length: 2123307094 (2.0G) [application/zip]\n",
            "Saving to: ‘y4m2CulsqPOHi88uM3y4R3bpe_E0oV-5QWcibRtQAa6_OEwaeDJp2szwSfQLHeZ9hukrY97lU2Mzzghwvm77jm3jqzjsYHWWmwcn-_lRMn7e1R1tOBrFkHba5uaoOv2yQcDobXlqrpmChbiHihhY_4uT2L3ayWbLGj-OBQIIulTUqBSMDshOXZmZhfGQfa3i3GHgzgYf6-2z0sWlKjMlQhv-w’\n",
            "\n",
            "y4m2CulsqPOHi88uM3y 100%[===================>]   1.98G  46.7MB/s    in 71s     \n",
            "\n",
            "2024-06-06 15:51:30 (28.5 MB/s) - ‘y4m2CulsqPOHi88uM3y4R3bpe_E0oV-5QWcibRtQAa6_OEwaeDJp2szwSfQLHeZ9hukrY97lU2Mzzghwvm77jm3jqzjsYHWWmwcn-_lRMn7e1R1tOBrFkHba5uaoOv2yQcDobXlqrpmChbiHihhY_4uT2L3ayWbLGj-OBQIIulTUqBSMDshOXZmZhfGQfa3i3GHgzgYf6-2z0sWlKjMlQhv-w’ saved [2123307094/2123307094]\n",
            "\n",
            "Archive:  /content/y4m2CulsqPOHi88uM3y4R3bpe_E0oV-5QWcibRtQAa6_OEwaeDJp2szwSfQLHeZ9hukrY97lU2Mzzghwvm77jm3jqzjsYHWWmwcn-_lRMn7e1R1tOBrFkHba5uaoOv2yQcDobXlqrpmChbiHihhY_4uT2L3ayWbLGj-OBQIIulTUqBSMDshOXZmZhfGQfa3i3GHgzgYf6-2z0sWlKjMlQhv-w\n",
            "   creating: pancreas/\n",
            "  inflating: pancreas/.DS_Store      \n",
            "  inflating: __MACOSX/pancreas/._.DS_Store  \n",
            "   creating: pancreas/CellLabels/\n",
            "  inflating: __MACOSX/pancreas/._CellLabels  \n",
            "  inflating: pancreas/Pancreas_metadata_file.csv  \n",
            "  inflating: __MACOSX/pancreas/._Pancreas_metadata_file.csv  \n",
            "   creating: pancreas/CompartmentLabels/\n",
            "  inflating: __MACOSX/pancreas/._CompartmentLabels  \n",
            "  inflating: pancreas/Pancreas_tx_file.csv  \n",
            "  inflating: __MACOSX/pancreas/._Pancreas_tx_file.csv  \n",
            "  inflating: pancreas/Pancreas_exprMat_file.csv  \n",
            "  inflating: __MACOSX/pancreas/._Pancreas_exprMat_file.csv  \n",
            "   creating: pancreas/CellOverlay/\n",
            "  inflating: __MACOSX/pancreas/._CellOverlay  \n",
            "  inflating: pancreas/Pancreas-CosMx-WTx-FlatFiles.zip  \n",
            "  inflating: __MACOSX/pancreas/._Pancreas-CosMx-WTx-FlatFiles.zip  \n",
            "  inflating: pancreas/Pancreas_fov_positions_file.csv  \n",
            "  inflating: __MACOSX/pancreas/._Pancreas_fov_positions_file.csv  \n",
            "  inflating: pancreas/Pancreas-CosMx-ReadMe.html  \n",
            "  inflating: __MACOSX/pancreas/._Pancreas-CosMx-ReadMe.html  \n",
            "   creating: pancreas/CellComposite/\n",
            "  inflating: __MACOSX/pancreas/._CellComposite  \n",
            "  inflating: pancreas/Pancreas-polygons.csv  \n",
            "  inflating: __MACOSX/pancreas/._Pancreas-polygons.csv  \n",
            "   creating: pancreas/CellType_Accessory_Data/\n",
            "  inflating: __MACOSX/pancreas/._CellType_Accessory_Data  \n",
            "  inflating: pancreas/CellLabels/CellLabels_F057.tif  \n",
            "  inflating: __MACOSX/pancreas/CellLabels/._CellLabels_F057.tif  \n",
            "  inflating: pancreas/CellLabels/CellLabels_F056.tif  \n",
            "  inflating: __MACOSX/pancreas/CellLabels/._CellLabels_F056.tif  \n",
            "  inflating: pancreas/CellLabels/CellLabels_F068.tif  \n",
            "  inflating: __MACOSX/pancreas/CellLabels/._CellLabels_F068.tif  \n",
            "  inflating: pancreas/CellLabels/CellLabels_F054.tif  \n",
            "  inflating: __MACOSX/pancreas/CellLabels/._CellLabels_F054.tif  \n",
            "  inflating: pancreas/CellLabels/CellLabels_F055.tif  \n",
            "  inflating: __MACOSX/pancreas/CellLabels/._CellLabels_F055.tif  \n",
            "  inflating: pancreas/CellLabels/CellLabels_F051.tif  \n",
            "  inflating: __MACOSX/pancreas/CellLabels/._CellLabels_F051.tif  \n",
            "  inflating: pancreas/CellLabels/CellLabels_F052.tif  \n",
            "  inflating: __MACOSX/pancreas/CellLabels/._CellLabels_F052.tif  \n",
            "  inflating: pancreas/CellLabels/CellLabels_F053.tif  \n",
            "  inflating: __MACOSX/pancreas/CellLabels/._CellLabels_F053.tif  \n",
            "  inflating: pancreas/CellLabels/CellLabels_F062.tif  \n",
            "  inflating: __MACOSX/pancreas/CellLabels/._CellLabels_F062.tif  \n",
            "  inflating: pancreas/CellLabels/CellLabels_F063.tif  \n",
            "  inflating: __MACOSX/pancreas/CellLabels/._CellLabels_F063.tif  \n",
            "  inflating: pancreas/CellLabels/CellLabels_F061.tif  \n",
            "  inflating: __MACOSX/pancreas/CellLabels/._CellLabels_F061.tif  \n",
            "  inflating: pancreas/CellLabels/CellLabels_F060.tif  \n",
            "  inflating: __MACOSX/pancreas/CellLabels/._CellLabels_F060.tif  \n",
            "  inflating: pancreas/CellLabels/CellLabels_F064.tif  \n",
            "  inflating: __MACOSX/pancreas/CellLabels/._CellLabels_F064.tif  \n",
            "  inflating: pancreas/CellLabels/CellLabels_F058.tif  \n",
            "  inflating: __MACOSX/pancreas/CellLabels/._CellLabels_F058.tif  \n",
            "  inflating: pancreas/CellLabels/CellLabels_F059.tif  \n",
            "  inflating: __MACOSX/pancreas/CellLabels/._CellLabels_F059.tif  \n",
            "  inflating: pancreas/CellLabels/CellLabels_F065.tif  \n",
            "  inflating: __MACOSX/pancreas/CellLabels/._CellLabels_F065.tif  \n",
            "  inflating: pancreas/CellLabels/CellLabels_F067.tif  \n",
            "  inflating: __MACOSX/pancreas/CellLabels/._CellLabels_F067.tif  \n",
            "  inflating: pancreas/CellLabels/CellLabels_F066.tif  \n",
            "  inflating: __MACOSX/pancreas/CellLabels/._CellLabels_F066.tif  \n",
            "  inflating: pancreas/CompartmentLabels/CompartmentLabels_F052.tif  \n",
            "  inflating: __MACOSX/pancreas/CompartmentLabels/._CompartmentLabels_F052.tif  \n",
            "  inflating: pancreas/CompartmentLabels/CompartmentLabels_F053.tif  \n",
            "  inflating: __MACOSX/pancreas/CompartmentLabels/._CompartmentLabels_F053.tif  \n",
            "  inflating: pancreas/CompartmentLabels/CompartmentLabels_F051.tif  \n",
            "  inflating: __MACOSX/pancreas/CompartmentLabels/._CompartmentLabels_F051.tif  \n",
            "  inflating: pancreas/CompartmentLabels/CompartmentLabels_F068.tif  \n",
            "  inflating: __MACOSX/pancreas/CompartmentLabels/._CompartmentLabels_F068.tif  \n",
            "  inflating: pancreas/CompartmentLabels/CompartmentLabels_F054.tif  \n",
            "  inflating: __MACOSX/pancreas/CompartmentLabels/._CompartmentLabels_F054.tif  \n",
            "  inflating: pancreas/CompartmentLabels/CompartmentLabels_F055.tif  \n",
            "  inflating: __MACOSX/pancreas/CompartmentLabels/._CompartmentLabels_F055.tif  \n",
            "  inflating: pancreas/CompartmentLabels/CompartmentLabels_F057.tif  \n",
            "  inflating: __MACOSX/pancreas/CompartmentLabels/._CompartmentLabels_F057.tif  \n",
            "  inflating: pancreas/CompartmentLabels/CompartmentLabels_F056.tif  \n",
            "  inflating: __MACOSX/pancreas/CompartmentLabels/._CompartmentLabels_F056.tif  \n",
            "  inflating: pancreas/CompartmentLabels/CompartmentLabels_F067.tif  \n",
            "  inflating: __MACOSX/pancreas/CompartmentLabels/._CompartmentLabels_F067.tif  \n",
            "  inflating: pancreas/CompartmentLabels/CompartmentLabels_F066.tif  \n",
            "  inflating: __MACOSX/pancreas/CompartmentLabels/._CompartmentLabels_F066.tif  \n",
            "  inflating: pancreas/CompartmentLabels/CompartmentLabels_F064.tif  \n",
            "  inflating: __MACOSX/pancreas/CompartmentLabels/._CompartmentLabels_F064.tif  \n",
            "  inflating: pancreas/CompartmentLabels/CompartmentLabels_F058.tif  \n",
            "  inflating: __MACOSX/pancreas/CompartmentLabels/._CompartmentLabels_F058.tif  \n",
            "  inflating: pancreas/CompartmentLabels/CompartmentLabels_F059.tif  \n",
            "  inflating: __MACOSX/pancreas/CompartmentLabels/._CompartmentLabels_F059.tif  \n",
            "  inflating: pancreas/CompartmentLabels/CompartmentLabels_F065.tif  \n",
            "  inflating: __MACOSX/pancreas/CompartmentLabels/._CompartmentLabels_F065.tif  \n",
            "  inflating: pancreas/CompartmentLabels/CompartmentLabels_F061.tif  \n",
            "  inflating: __MACOSX/pancreas/CompartmentLabels/._CompartmentLabels_F061.tif  \n",
            "  inflating: pancreas/CompartmentLabels/CompartmentLabels_F060.tif  \n",
            "  inflating: __MACOSX/pancreas/CompartmentLabels/._CompartmentLabels_F060.tif  \n",
            "  inflating: pancreas/CompartmentLabels/CompartmentLabels_F062.tif  \n",
            "  inflating: __MACOSX/pancreas/CompartmentLabels/._CompartmentLabels_F062.tif  \n",
            "  inflating: pancreas/CompartmentLabels/CompartmentLabels_F063.tif  \n",
            "  inflating: __MACOSX/pancreas/CompartmentLabels/._CompartmentLabels_F063.tif  \n",
            "  inflating: pancreas/CellOverlay/CellOverlay_F066.jpg  \n",
            "  inflating: __MACOSX/pancreas/CellOverlay/._CellOverlay_F066.jpg  \n",
            "  inflating: pancreas/CellOverlay/CellOverlay_F067.jpg  \n",
            "  inflating: __MACOSX/pancreas/CellOverlay/._CellOverlay_F067.jpg  \n",
            "  inflating: pancreas/CellOverlay/CellOverlay_F065.jpg  \n",
            "  inflating: __MACOSX/pancreas/CellOverlay/._CellOverlay_F065.jpg  \n",
            "  inflating: pancreas/CellOverlay/CellOverlay_F059.jpg  \n",
            "  inflating: __MACOSX/pancreas/CellOverlay/._CellOverlay_F059.jpg  \n",
            "  inflating: pancreas/CellOverlay/CellOverlay_F058.jpg  \n",
            "  inflating: __MACOSX/pancreas/CellOverlay/._CellOverlay_F058.jpg  \n",
            "  inflating: pancreas/CellOverlay/CellOverlay_F064.jpg  \n",
            "  inflating: __MACOSX/pancreas/CellOverlay/._CellOverlay_F064.jpg  \n",
            "  inflating: pancreas/CellOverlay/CellOverlay_F060.jpg  \n",
            "  inflating: __MACOSX/pancreas/CellOverlay/._CellOverlay_F060.jpg  \n",
            "  inflating: pancreas/CellOverlay/CellOverlay_F061.jpg  \n",
            "  inflating: __MACOSX/pancreas/CellOverlay/._CellOverlay_F061.jpg  \n",
            "  inflating: pancreas/CellOverlay/CellOverlay_F063.jpg  \n",
            "  inflating: __MACOSX/pancreas/CellOverlay/._CellOverlay_F063.jpg  \n",
            "  inflating: pancreas/CellOverlay/CellOverlay_F062.jpg  \n",
            "  inflating: __MACOSX/pancreas/CellOverlay/._CellOverlay_F062.jpg  \n",
            "  inflating: pancreas/CellOverlay/CellOverlay_F053.jpg  \n",
            "  inflating: __MACOSX/pancreas/CellOverlay/._CellOverlay_F053.jpg  \n",
            "  inflating: pancreas/CellOverlay/CellOverlay_F052.jpg  \n",
            "  inflating: __MACOSX/pancreas/CellOverlay/._CellOverlay_F052.jpg  \n",
            "  inflating: pancreas/CellOverlay/CellOverlay_F051.jpg  \n",
            "  inflating: __MACOSX/pancreas/CellOverlay/._CellOverlay_F051.jpg  \n",
            "  inflating: pancreas/CellOverlay/CellOverlay_F055.jpg  \n",
            "  inflating: __MACOSX/pancreas/CellOverlay/._CellOverlay_F055.jpg  \n",
            "  inflating: pancreas/CellOverlay/CellOverlay_F054.jpg  \n",
            "  inflating: __MACOSX/pancreas/CellOverlay/._CellOverlay_F054.jpg  \n",
            "  inflating: pancreas/CellOverlay/CellOverlay_F068.jpg  \n",
            "  inflating: __MACOSX/pancreas/CellOverlay/._CellOverlay_F068.jpg  \n",
            "  inflating: pancreas/CellOverlay/CellOverlay_F056.jpg  \n",
            "  inflating: __MACOSX/pancreas/CellOverlay/._CellOverlay_F056.jpg  \n",
            "  inflating: pancreas/CellOverlay/CellOverlay_F057.jpg  \n",
            "  inflating: __MACOSX/pancreas/CellOverlay/._CellOverlay_F057.jpg  \n",
            "  inflating: pancreas/CellComposite/CellComposite_F063.jpg  \n",
            "  inflating: __MACOSX/pancreas/CellComposite/._CellComposite_F063.jpg  \n",
            "  inflating: pancreas/CellComposite/CellComposite_F062.jpg  \n",
            "  inflating: __MACOSX/pancreas/CellComposite/._CellComposite_F062.jpg  \n",
            "  inflating: pancreas/CellComposite/CellComposite_F060.jpg  \n",
            "  inflating: __MACOSX/pancreas/CellComposite/._CellComposite_F060.jpg  \n",
            "  inflating: pancreas/CellComposite/CellComposite_F061.jpg  \n",
            "  inflating: __MACOSX/pancreas/CellComposite/._CellComposite_F061.jpg  \n",
            "  inflating: pancreas/CellComposite/CellComposite_F065.jpg  \n",
            "  inflating: __MACOSX/pancreas/CellComposite/._CellComposite_F065.jpg  \n",
            "  inflating: pancreas/CellComposite/CellComposite_F059.jpg  \n",
            "  inflating: __MACOSX/pancreas/CellComposite/._CellComposite_F059.jpg  \n",
            "  inflating: pancreas/CellComposite/CellComposite_F058.jpg  \n",
            "  inflating: __MACOSX/pancreas/CellComposite/._CellComposite_F058.jpg  \n",
            "  inflating: pancreas/CellComposite/CellComposite_F064.jpg  \n",
            "  inflating: __MACOSX/pancreas/CellComposite/._CellComposite_F064.jpg  \n",
            "  inflating: pancreas/CellComposite/CellComposite_F066.jpg  \n",
            "  inflating: __MACOSX/pancreas/CellComposite/._CellComposite_F066.jpg  \n",
            "  inflating: pancreas/CellComposite/CellComposite_F067.jpg  \n",
            "  inflating: __MACOSX/pancreas/CellComposite/._CellComposite_F067.jpg  \n",
            "  inflating: pancreas/CellComposite/CellComposite_F056.jpg  \n",
            "  inflating: __MACOSX/pancreas/CellComposite/._CellComposite_F056.jpg  \n",
            "  inflating: pancreas/CellComposite/CellComposite_F057.jpg  \n",
            "  inflating: __MACOSX/pancreas/CellComposite/._CellComposite_F057.jpg  \n",
            "  inflating: pancreas/CellComposite/CellComposite_F055.jpg  \n",
            "  inflating: __MACOSX/pancreas/CellComposite/._CellComposite_F055.jpg  \n",
            "  inflating: pancreas/CellComposite/CellComposite_F054.jpg  \n",
            "  inflating: __MACOSX/pancreas/CellComposite/._CellComposite_F054.jpg  \n",
            "  inflating: pancreas/CellComposite/CellComposite_F068.jpg  \n",
            "  inflating: __MACOSX/pancreas/CellComposite/._CellComposite_F068.jpg  \n",
            "  inflating: pancreas/CellComposite/CellComposite_F051.jpg  \n",
            "  inflating: __MACOSX/pancreas/CellComposite/._CellComposite_F051.jpg  \n",
            "  inflating: pancreas/CellComposite/CellComposite_F053.jpg  \n",
            "  inflating: __MACOSX/pancreas/CellComposite/._CellComposite_F053.jpg  \n",
            "  inflating: pancreas/CellComposite/CellComposite_F052.jpg  \n",
            "  inflating: __MACOSX/pancreas/CellComposite/._CellComposite_F052.jpg  \n",
            "  inflating: pancreas/CellType_Accessory_Data/Pancreas_celltype_InSituType.rds  \n",
            "  inflating: __MACOSX/pancreas/CellType_Accessory_Data/._Pancreas_celltype_InSituType.rds  \n",
            "Collecting pympler\n",
            "  Downloading Pympler-1.0.1-py3-none-any.whl (164 kB)\n",
            "\u001b[2K     \u001b[90m━━━━━━━━━━━━━━━━━━━━━━━━━━━━━━━━━━━━━━━━\u001b[0m \u001b[32m164.8/164.8 kB\u001b[0m \u001b[31m6.8 MB/s\u001b[0m eta \u001b[36m0:00:00\u001b[0m\n",
            "\u001b[?25hInstalling collected packages: pympler\n",
            "Successfully installed pympler-1.0.1\n",
            "Collecting Pseudovisium\n",
            "  Downloading Pseudovisium-0.0.38.tar.gz (38 kB)\n",
            "  Preparing metadata (setup.py) ... \u001b[?25l\u001b[?25hdone\n",
            "Requirement already satisfied: numpy in /usr/local/lib/python3.10/dist-packages (from Pseudovisium) (1.25.2)\n",
            "Requirement already satisfied: scipy in /usr/local/lib/python3.10/dist-packages (from Pseudovisium) (1.11.4)\n",
            "Collecting scanpy (from Pseudovisium)\n",
            "  Downloading scanpy-1.10.1-py3-none-any.whl (2.1 MB)\n",
            "\u001b[2K     \u001b[90m━━━━━━━━━━━━━━━━━━━━━━━━━━━━━━━━━━━━━━━━\u001b[0m \u001b[32m2.1/2.1 MB\u001b[0m \u001b[31m36.7 MB/s\u001b[0m eta \u001b[36m0:00:00\u001b[0m\n",
            "\u001b[?25hCollecting squidpy (from Pseudovisium)\n",
            "  Downloading squidpy-1.5.0-py3-none-any.whl (146 kB)\n",
            "\u001b[2K     \u001b[90m━━━━━━━━━━━━━━━━━━━━━━━━━━━━━━━━━━━━━━━━\u001b[0m \u001b[32m146.2/146.2 kB\u001b[0m \u001b[31m20.3 MB/s\u001b[0m eta \u001b[36m0:00:00\u001b[0m\n",
            "\u001b[?25hRequirement already satisfied: matplotlib in /usr/local/lib/python3.10/dist-packages (from Pseudovisium) (3.7.1)\n",
            "Requirement already satisfied: opencv-python in /usr/local/lib/python3.10/dist-packages (from Pseudovisium) (4.8.0.76)\n",
            "Requirement already satisfied: h5py in /usr/local/lib/python3.10/dist-packages (from Pseudovisium) (3.9.0)\n",
            "Collecting anndata (from Pseudovisium)\n",
            "  Downloading anndata-0.10.7-py3-none-any.whl (122 kB)\n",
            "\u001b[2K     \u001b[90m━━━━━━━━━━━━━━━━━━━━━━━━━━━━━━━━━━━━━━━━\u001b[0m \u001b[32m122.4/122.4 kB\u001b[0m \u001b[31m15.5 MB/s\u001b[0m eta \u001b[36m0:00:00\u001b[0m\n",
            "\u001b[?25hRequirement already satisfied: tifffile in /usr/local/lib/python3.10/dist-packages (from Pseudovisium) (2024.5.22)\n",
            "Requirement already satisfied: tqdm in /usr/local/lib/python3.10/dist-packages (from Pseudovisium) (4.66.4)\n",
            "Collecting pysal (from Pseudovisium)\n",
            "  Downloading pysal-24.1-py3-none-any.whl (17 kB)\n",
            "Requirement already satisfied: geopandas in /usr/local/lib/python3.10/dist-packages (from Pseudovisium) (0.13.2)\n",
            "Requirement already satisfied: seaborn in /usr/local/lib/python3.10/dist-packages (from Pseudovisium) (0.13.1)\n",
            "Collecting adjustText (from Pseudovisium)\n",
            "  Downloading adjustText-1.1.1-py3-none-any.whl (11 kB)\n",
            "Requirement already satisfied: shapely in /usr/local/lib/python3.10/dist-packages (from Pseudovisium) (2.0.4)\n",
            "Collecting array-api-compat!=1.5,>1.4 (from anndata->Pseudovisium)\n",
            "  Downloading array_api_compat-1.7.1-py3-none-any.whl (37 kB)\n",
            "Requirement already satisfied: exceptiongroup in /usr/local/lib/python3.10/dist-packages (from anndata->Pseudovisium) (1.2.1)\n",
            "Requirement already satisfied: natsort in /usr/local/lib/python3.10/dist-packages (from anndata->Pseudovisium) (8.4.0)\n",
            "Requirement already satisfied: packaging>=20.0 in /usr/local/lib/python3.10/dist-packages (from anndata->Pseudovisium) (24.0)\n",
            "Requirement already satisfied: pandas!=2.1.0rc0,!=2.1.2,>=1.4 in /usr/local/lib/python3.10/dist-packages (from anndata->Pseudovisium) (2.0.3)\n",
            "Requirement already satisfied: fiona>=1.8.19 in /usr/local/lib/python3.10/dist-packages (from geopandas->Pseudovisium) (1.9.6)\n",
            "Requirement already satisfied: pyproj>=3.0.1 in /usr/local/lib/python3.10/dist-packages (from geopandas->Pseudovisium) (3.6.1)\n",
            "Requirement already satisfied: contourpy>=1.0.1 in /usr/local/lib/python3.10/dist-packages (from matplotlib->Pseudovisium) (1.2.1)\n",
            "Requirement already satisfied: cycler>=0.10 in /usr/local/lib/python3.10/dist-packages (from matplotlib->Pseudovisium) (0.12.1)\n",
            "Requirement already satisfied: fonttools>=4.22.0 in /usr/local/lib/python3.10/dist-packages (from matplotlib->Pseudovisium) (4.53.0)\n",
            "Requirement already satisfied: kiwisolver>=1.0.1 in /usr/local/lib/python3.10/dist-packages (from matplotlib->Pseudovisium) (1.4.5)\n",
            "Requirement already satisfied: pillow>=6.2.0 in /usr/local/lib/python3.10/dist-packages (from matplotlib->Pseudovisium) (9.4.0)\n",
            "Requirement already satisfied: pyparsing>=2.3.1 in /usr/local/lib/python3.10/dist-packages (from matplotlib->Pseudovisium) (3.1.2)\n",
            "Requirement already satisfied: python-dateutil>=2.7 in /usr/local/lib/python3.10/dist-packages (from matplotlib->Pseudovisium) (2.8.2)\n",
            "Collecting libpysal>=4.6.2 (from pysal->Pseudovisium)\n",
            "  Downloading libpysal-4.10-py3-none-any.whl (2.8 MB)\n",
            "\u001b[2K     \u001b[90m━━━━━━━━━━━━━━━━━━━━━━━━━━━━━━━━━━━━━━━━\u001b[0m \u001b[32m2.8/2.8 MB\u001b[0m \u001b[31m65.9 MB/s\u001b[0m eta \u001b[36m0:00:00\u001b[0m\n",
            "\u001b[?25hCollecting access>=1.1.8 (from pysal->Pseudovisium)\n",
            "  Downloading access-1.1.9-py3-none-any.whl (21 kB)\n",
            "Collecting esda>=2.4.1 (from pysal->Pseudovisium)\n",
            "  Downloading esda-2.5.1-py3-none-any.whl (132 kB)\n",
            "\u001b[2K     \u001b[90m━━━━━━━━━━━━━━━━━━━━━━━━━━━━━━━━━━━━━━━━\u001b[0m \u001b[32m132.4/132.4 kB\u001b[0m \u001b[31m16.2 MB/s\u001b[0m eta \u001b[36m0:00:00\u001b[0m\n",
            "\u001b[?25hCollecting giddy>=2.3.3 (from pysal->Pseudovisium)\n",
            "  Downloading giddy-2.3.5-py3-none-any.whl (61 kB)\n",
            "\u001b[2K     \u001b[90m━━━━━━━━━━━━━━━━━━━━━━━━━━━━━━━━━━━━━━━━\u001b[0m \u001b[32m61.1/61.1 kB\u001b[0m \u001b[31m7.0 MB/s\u001b[0m eta \u001b[36m0:00:00\u001b[0m\n",
            "\u001b[?25hCollecting inequality>=1.0.0 (from pysal->Pseudovisium)\n",
            "  Downloading inequality-1.0.1-py3-none-any.whl (15 kB)\n",
            "Collecting pointpats>=2.2.0 (from pysal->Pseudovisium)\n",
            "  Downloading pointpats-2.4.0-py3-none-any.whl (58 kB)\n",
            "\u001b[2K     \u001b[90m━━━━━━━━━━━━━━━━━━━━━━━━━━━━━━━━━━━━━━━━\u001b[0m \u001b[32m58.4/58.4 kB\u001b[0m \u001b[31m8.4 MB/s\u001b[0m eta \u001b[36m0:00:00\u001b[0m\n",
            "\u001b[?25hCollecting segregation>=2.3.1 (from pysal->Pseudovisium)\n",
            "  Downloading segregation-2.5-py3-none-any.whl (141 kB)\n",
            "\u001b[2K     \u001b[90m━━━━━━━━━━━━━━━━━━━━━━━━━━━━━━━━━━━━━━━━\u001b[0m \u001b[32m141.3/141.3 kB\u001b[0m \u001b[31m17.5 MB/s\u001b[0m eta \u001b[36m0:00:00\u001b[0m\n",
            "\u001b[?25hCollecting spaghetti>=1.6.6 (from pysal->Pseudovisium)\n",
            "  Downloading spaghetti-1.7.5.post1-py3-none-any.whl (54 kB)\n",
            "\u001b[2K     \u001b[90m━━━━━━━━━━━━━━━━━━━━━━━━━━━━━━━━━━━━━━━━\u001b[0m \u001b[32m54.1/54.1 kB\u001b[0m \u001b[31m7.3 MB/s\u001b[0m eta \u001b[36m0:00:00\u001b[0m\n",
            "\u001b[?25hCollecting mgwr>=2.1.2 (from pysal->Pseudovisium)\n",
            "  Downloading mgwr-2.2.1-py3-none-any.whl (47 kB)\n",
            "\u001b[2K     \u001b[90m━━━━━━━━━━━━━━━━━━━━━━━━━━━━━━━━━━━━━━━━\u001b[0m \u001b[32m47.9/47.9 kB\u001b[0m \u001b[31m5.8 MB/s\u001b[0m eta \u001b[36m0:00:00\u001b[0m\n",
            "\u001b[?25hCollecting momepy>=0.5.3 (from pysal->Pseudovisium)\n",
            "  Downloading momepy-0.7.0-py3-none-any.whl (277 kB)\n",
            "\u001b[2K     \u001b[90m━━━━━━━━━━━━━━━━━━━━━━━━━━━━━━━━━━━━━━━━\u001b[0m \u001b[32m277.8/277.8 kB\u001b[0m \u001b[31m25.9 MB/s\u001b[0m eta \u001b[36m0:00:00\u001b[0m\n",
            "\u001b[?25hCollecting spglm>=1.0.8 (from pysal->Pseudovisium)\n",
            "  Downloading spglm-1.1.0-py3-none-any.whl (41 kB)\n",
            "\u001b[2K     \u001b[90m━━━━━━━━━━━━━━━━━━━━━━━━━━━━━━━━━━━━━━━━\u001b[0m \u001b[32m41.4/41.4 kB\u001b[0m \u001b[31m4.5 MB/s\u001b[0m eta \u001b[36m0:00:00\u001b[0m\n",
            "\u001b[?25hCollecting spint>=1.0.7 (from pysal->Pseudovisium)\n",
            "  Downloading spint-1.0.7.tar.gz (28 kB)\n",
            "  Preparing metadata (setup.py) ... \u001b[?25l\u001b[?25hdone\n",
            "Collecting spreg>=1.2.4 (from pysal->Pseudovisium)\n",
            "  Downloading spreg-1.4.2-py3-none-any.whl (331 kB)\n",
            "\u001b[2K     \u001b[90m━━━━━━━━━━━━━━━━━━━━━━━━━━━━━━━━━━━━━━━━\u001b[0m \u001b[32m331.8/331.8 kB\u001b[0m \u001b[31m28.3 MB/s\u001b[0m eta \u001b[36m0:00:00\u001b[0m\n",
            "\u001b[?25hCollecting spvcm>=0.3.0 (from pysal->Pseudovisium)\n",
            "  Downloading spvcm-0.3.0.tar.gz (5.7 MB)\n",
            "\u001b[2K     \u001b[90m━━━━━━━━━━━━━━━━━━━━━━━━━━━━━━━━━━━━━━━━\u001b[0m \u001b[32m5.7/5.7 MB\u001b[0m \u001b[31m73.9 MB/s\u001b[0m eta \u001b[36m0:00:00\u001b[0m\n",
            "\u001b[?25h  Preparing metadata (setup.py) ... \u001b[?25l\u001b[?25hdone\n",
            "Collecting tobler>=0.8.2 (from pysal->Pseudovisium)\n",
            "  Downloading tobler-0.11.2-py3-none-any.whl (34 kB)\n",
            "Collecting mapclassify>=2.4.3 (from pysal->Pseudovisium)\n",
            "  Downloading mapclassify-2.6.1-py3-none-any.whl (38 kB)\n",
            "Collecting splot>=1.1.5.post1 (from pysal->Pseudovisium)\n",
            "  Downloading splot-1.1.5.post1-py3-none-any.whl (39 kB)\n",
            "Collecting spopt>=0.4.1 (from pysal->Pseudovisium)\n",
            "  Downloading spopt-0.6.0-py3-none-any.whl (244 kB)\n",
            "\u001b[2K     \u001b[90m━━━━━━━━━━━━━━━━━━━━━━━━━━━━━━━━━━━━━━━━\u001b[0m \u001b[32m244.5/244.5 kB\u001b[0m \u001b[31m30.2 MB/s\u001b[0m eta \u001b[36m0:00:00\u001b[0m\n",
            "\u001b[?25hRequirement already satisfied: joblib in /usr/local/lib/python3.10/dist-packages (from scanpy->Pseudovisium) (1.4.2)\n",
            "Collecting legacy-api-wrap>=1.4 (from scanpy->Pseudovisium)\n",
            "  Downloading legacy_api_wrap-1.4-py3-none-any.whl (15 kB)\n",
            "Requirement already satisfied: networkx>=2.7 in /usr/local/lib/python3.10/dist-packages (from scanpy->Pseudovisium) (3.3)\n",
            "Requirement already satisfied: numba>=0.56 in /usr/local/lib/python3.10/dist-packages (from scanpy->Pseudovisium) (0.58.1)\n",
            "Requirement already satisfied: patsy in /usr/local/lib/python3.10/dist-packages (from scanpy->Pseudovisium) (0.5.6)\n",
            "Collecting pynndescent>=0.5 (from scanpy->Pseudovisium)\n",
            "  Downloading pynndescent-0.5.12-py3-none-any.whl (56 kB)\n",
            "\u001b[2K     \u001b[90m━━━━━━━━━━━━━━━━━━━━━━━━━━━━━━━━━━━━━━━━\u001b[0m \u001b[32m56.8/56.8 kB\u001b[0m \u001b[31m7.7 MB/s\u001b[0m eta \u001b[36m0:00:00\u001b[0m\n",
            "\u001b[?25hRequirement already satisfied: scikit-learn>=0.24 in /usr/local/lib/python3.10/dist-packages (from scanpy->Pseudovisium) (1.2.2)\n",
            "Collecting session-info (from scanpy->Pseudovisium)\n",
            "  Downloading session_info-1.0.0.tar.gz (24 kB)\n",
            "  Preparing metadata (setup.py) ... \u001b[?25l\u001b[?25hdone\n",
            "Requirement already satisfied: statsmodels>=0.13 in /usr/local/lib/python3.10/dist-packages (from scanpy->Pseudovisium) (0.14.2)\n",
            "Collecting umap-learn!=0.5.0,>=0.5 (from scanpy->Pseudovisium)\n",
            "  Downloading umap_learn-0.5.6-py3-none-any.whl (85 kB)\n",
            "\u001b[2K     \u001b[90m━━━━━━━━━━━━━━━━━━━━━━━━━━━━━━━━━━━━━━━━\u001b[0m \u001b[32m85.7/85.7 kB\u001b[0m \u001b[31m10.8 MB/s\u001b[0m eta \u001b[36m0:00:00\u001b[0m\n",
            "\u001b[?25hRequirement already satisfied: aiohttp>=3.8.1 in /usr/local/lib/python3.10/dist-packages (from squidpy->Pseudovisium) (3.9.5)\n",
            "Collecting dask-image>=0.5.0 (from squidpy->Pseudovisium)\n",
            "  Downloading dask_image-2024.5.3-py3-none-any.whl (59 kB)\n",
            "\u001b[2K     \u001b[90m━━━━━━━━━━━━━━━━━━━━━━━━━━━━━━━━━━━━━━━━\u001b[0m \u001b[32m59.5/59.5 kB\u001b[0m \u001b[31m8.1 MB/s\u001b[0m eta \u001b[36m0:00:00\u001b[0m\n",
            "\u001b[?25hRequirement already satisfied: dask[array]>=2021.02.0 in /usr/local/lib/python3.10/dist-packages (from squidpy->Pseudovisium) (2023.8.1)\n",
            "Collecting docrep>=0.3.1 (from squidpy->Pseudovisium)\n",
            "  Downloading docrep-0.3.2.tar.gz (33 kB)\n",
            "  Preparing metadata (setup.py) ... \u001b[?25l\u001b[?25hdone\n",
            "Requirement already satisfied: fsspec>=2021.11.0 in /usr/local/lib/python3.10/dist-packages (from squidpy->Pseudovisium) (2023.6.0)\n",
            "Collecting leidenalg>=0.8.2 (from squidpy->Pseudovisium)\n",
            "  Downloading leidenalg-0.10.2-cp38-abi3-manylinux_2_17_x86_64.manylinux2014_x86_64.whl (2.0 MB)\n",
            "\u001b[2K     \u001b[90m━━━━━━━━━━━━━━━━━━━━━━━━━━━━━━━━━━━━━━━━\u001b[0m \u001b[32m2.0/2.0 MB\u001b[0m \u001b[31m86.0 MB/s\u001b[0m eta \u001b[36m0:00:00\u001b[0m\n",
            "\u001b[?25hCollecting matplotlib-scalebar>=0.8.0 (from squidpy->Pseudovisium)\n",
            "  Downloading matplotlib_scalebar-0.8.1-py2.py3-none-any.whl (17 kB)\n",
            "Collecting omnipath>=1.0.7 (from squidpy->Pseudovisium)\n",
            "  Downloading omnipath-1.0.8-py3-none-any.whl (68 kB)\n",
            "\u001b[2K     \u001b[90m━━━━━━━━━━━━━━━━━━━━━━━━━━━━━━━━━━━━━━━━\u001b[0m \u001b[32m68.9/68.9 kB\u001b[0m \u001b[31m10.1 MB/s\u001b[0m eta \u001b[36m0:00:00\u001b[0m\n",
            "\u001b[?25hCollecting pandas!=2.1.0rc0,!=2.1.2,>=1.4 (from anndata->Pseudovisium)\n",
            "  Downloading pandas-2.2.2-cp310-cp310-manylinux_2_17_x86_64.manylinux2014_x86_64.whl (13.0 MB)\n",
            "\u001b[2K     \u001b[90m━━━━━━━━━━━━━━━━━━━━━━━━━━━━━━━━━━━━━━━━\u001b[0m \u001b[32m13.0/13.0 MB\u001b[0m \u001b[31m110.0 MB/s\u001b[0m eta \u001b[36m0:00:00\u001b[0m\n",
            "\u001b[?25hCollecting scikit-image>=0.20 (from squidpy->Pseudovisium)\n",
            "  Downloading scikit_image-0.23.2-cp310-cp310-manylinux_2_17_x86_64.manylinux2014_x86_64.whl (14.7 MB)\n",
            "\u001b[2K     \u001b[90m━━━━━━━━━━━━━━━━━━━━━━━━━━━━━━━━━━━━━━━━\u001b[0m \u001b[32m14.7/14.7 MB\u001b[0m \u001b[31m102.3 MB/s\u001b[0m eta \u001b[36m0:00:00\u001b[0m\n",
            "\u001b[?25hCollecting spatialdata (from squidpy->Pseudovisium)\n",
            "  Downloading spatialdata-0.1.2-py3-none-any.whl (143 kB)\n",
            "\u001b[2K     \u001b[90m━━━━━━━━━━━━━━━━━━━━━━━━━━━━━━━━━━━━━━━━\u001b[0m \u001b[32m143.9/143.9 kB\u001b[0m \u001b[31m18.0 MB/s\u001b[0m eta \u001b[36m0:00:00\u001b[0m\n",
            "\u001b[?25hCollecting validators>=0.18.2 (from squidpy->Pseudovisium)\n",
            "  Downloading validators-0.28.3-py3-none-any.whl (40 kB)\n",
            "\u001b[2K     \u001b[90m━━━━━━━━━━━━━━━━━━━━━━━━━━━━━━━━━━━━━━━━\u001b[0m \u001b[32m40.0/40.0 kB\u001b[0m \u001b[31m4.5 MB/s\u001b[0m eta \u001b[36m0:00:00\u001b[0m\n",
            "\u001b[?25hRequirement already satisfied: xarray>=0.16.1 in /usr/local/lib/python3.10/dist-packages (from squidpy->Pseudovisium) (2023.7.0)\n",
            "Collecting zarr>=2.6.1 (from squidpy->Pseudovisium)\n",
            "  Downloading zarr-2.18.2-py3-none-any.whl (210 kB)\n",
            "\u001b[2K     \u001b[90m━━━━━━━━━━━━━━━━━━━━━━━━━━━━━━━━━━━━━━━━\u001b[0m \u001b[32m210.2/210.2 kB\u001b[0m \u001b[31m28.4 MB/s\u001b[0m eta \u001b[36m0:00:00\u001b[0m\n",
            "\u001b[?25hRequirement already satisfied: requests>=2 in /usr/local/lib/python3.10/dist-packages (from access>=1.1.8->pysal->Pseudovisium) (2.31.0)\n",
            "Requirement already satisfied: aiosignal>=1.1.2 in /usr/local/lib/python3.10/dist-packages (from aiohttp>=3.8.1->squidpy->Pseudovisium) (1.3.1)\n",
            "Requirement already satisfied: attrs>=17.3.0 in /usr/local/lib/python3.10/dist-packages (from aiohttp>=3.8.1->squidpy->Pseudovisium) (23.2.0)\n",
            "Requirement already satisfied: frozenlist>=1.1.1 in /usr/local/lib/python3.10/dist-packages (from aiohttp>=3.8.1->squidpy->Pseudovisium) (1.4.1)\n",
            "Requirement already satisfied: multidict<7.0,>=4.5 in /usr/local/lib/python3.10/dist-packages (from aiohttp>=3.8.1->squidpy->Pseudovisium) (6.0.5)\n",
            "Requirement already satisfied: yarl<2.0,>=1.0 in /usr/local/lib/python3.10/dist-packages (from aiohttp>=3.8.1->squidpy->Pseudovisium) (1.9.4)\n",
            "Requirement already satisfied: async-timeout<5.0,>=4.0 in /usr/local/lib/python3.10/dist-packages (from aiohttp>=3.8.1->squidpy->Pseudovisium) (4.0.3)\n",
            "Collecting dask[array,dataframe]>=2024.4.1 (from dask-image>=0.5.0->squidpy->Pseudovisium)\n",
            "  Downloading dask-2024.5.2-py3-none-any.whl (1.2 MB)\n",
            "\u001b[2K     \u001b[90m━━━━━━━━━━━━━━━━━━━━━━━━━━━━━━━━━━━━━━━━\u001b[0m \u001b[32m1.2/1.2 MB\u001b[0m \u001b[31m85.6 MB/s\u001b[0m eta \u001b[36m0:00:00\u001b[0m\n",
            "\u001b[?25hCollecting pims>=0.4.1 (from dask-image>=0.5.0->squidpy->Pseudovisium)\n",
            "  Downloading PIMS-0.6.1.tar.gz (86 kB)\n",
            "\u001b[2K     \u001b[90m━━━━━━━━━━━━━━━━━━━━━━━━━━━━━━━━━━━━━━━━\u001b[0m \u001b[32m86.0/86.0 kB\u001b[0m \u001b[31m12.9 MB/s\u001b[0m eta \u001b[36m0:00:00\u001b[0m\n",
            "\u001b[?25h  Preparing metadata (setup.py) ... \u001b[?25l\u001b[?25hdone\n",
            "Requirement already satisfied: click>=8.0 in /usr/local/lib/python3.10/dist-packages (from dask[array]>=2021.02.0->squidpy->Pseudovisium) (8.1.7)\n",
            "Requirement already satisfied: cloudpickle>=1.5.0 in /usr/local/lib/python3.10/dist-packages (from dask[array]>=2021.02.0->squidpy->Pseudovisium) (2.2.1)\n",
            "Requirement already satisfied: partd>=1.2.0 in /usr/local/lib/python3.10/dist-packages (from dask[array]>=2021.02.0->squidpy->Pseudovisium) (1.4.2)\n",
            "Requirement already satisfied: pyyaml>=5.3.1 in /usr/local/lib/python3.10/dist-packages (from dask[array]>=2021.02.0->squidpy->Pseudovisium) (6.0.1)\n",
            "Requirement already satisfied: toolz>=0.10.0 in /usr/local/lib/python3.10/dist-packages (from dask[array]>=2021.02.0->squidpy->Pseudovisium) (0.12.1)\n",
            "Requirement already satisfied: importlib-metadata>=4.13.0 in /usr/local/lib/python3.10/dist-packages (from dask[array]>=2021.02.0->squidpy->Pseudovisium) (7.1.0)\n",
            "Requirement already satisfied: six in /usr/local/lib/python3.10/dist-packages (from docrep>=0.3.1->squidpy->Pseudovisium) (1.16.0)\n",
            "Requirement already satisfied: certifi in /usr/local/lib/python3.10/dist-packages (from fiona>=1.8.19->geopandas->Pseudovisium) (2024.6.2)\n",
            "Requirement already satisfied: click-plugins>=1.0 in /usr/local/lib/python3.10/dist-packages (from fiona>=1.8.19->geopandas->Pseudovisium) (1.1.1)\n",
            "Requirement already satisfied: cligj>=0.5 in /usr/local/lib/python3.10/dist-packages (from fiona>=1.8.19->geopandas->Pseudovisium) (0.7.2)\n",
            "Collecting quantecon>=0.4.7 (from giddy>=2.3.3->pysal->Pseudovisium)\n",
            "  Downloading quantecon-0.7.2-py3-none-any.whl (215 kB)\n",
            "\u001b[2K     \u001b[90m━━━━━━━━━━━━━━━━━━━━━━━━━━━━━━━━━━━━━━━━\u001b[0m \u001b[32m215.4/215.4 kB\u001b[0m \u001b[31m21.6 MB/s\u001b[0m eta \u001b[36m0:00:00\u001b[0m\n",
            "\u001b[?25hCollecting igraph<0.12,>=0.10.0 (from leidenalg>=0.8.2->squidpy->Pseudovisium)\n",
            "  Downloading igraph-0.11.5-cp39-abi3-manylinux_2_17_x86_64.manylinux2014_x86_64.whl (3.3 MB)\n",
            "\u001b[2K     \u001b[90m━━━━━━━━━━━━━━━━━━━━━━━━━━━━━━━━━━━━━━━━\u001b[0m \u001b[32m3.3/3.3 MB\u001b[0m \u001b[31m89.4 MB/s\u001b[0m eta \u001b[36m0:00:00\u001b[0m\n",
            "\u001b[?25hRequirement already satisfied: beautifulsoup4>=4.10 in /usr/local/lib/python3.10/dist-packages (from libpysal>=4.6.2->pysal->Pseudovisium) (4.12.3)\n",
            "Requirement already satisfied: platformdirs>=2.0.2 in /usr/local/lib/python3.10/dist-packages (from libpysal>=4.6.2->pysal->Pseudovisium) (4.2.2)\n",
            "Requirement already satisfied: llvmlite<0.42,>=0.41.0dev0 in /usr/local/lib/python3.10/dist-packages (from numba>=0.56->scanpy->Pseudovisium) (0.41.1)\n",
            "Requirement already satisfied: inflect>=4.1.0 in /usr/local/lib/python3.10/dist-packages (from omnipath>=1.0.7->squidpy->Pseudovisium) (7.0.0)\n",
            "Requirement already satisfied: typing-extensions>=3.7.4.3 in /usr/local/lib/python3.10/dist-packages (from omnipath>=1.0.7->squidpy->Pseudovisium) (4.12.1)\n",
            "Requirement already satisfied: urllib3>=1.26.0 in /usr/local/lib/python3.10/dist-packages (from omnipath>=1.0.7->squidpy->Pseudovisium) (2.0.7)\n",
            "Requirement already satisfied: wrapt>=1.12.0 in /usr/local/lib/python3.10/dist-packages (from omnipath>=1.0.7->squidpy->Pseudovisium) (1.14.1)\n",
            "Requirement already satisfied: pytz>=2020.1 in /usr/local/lib/python3.10/dist-packages (from pandas!=2.1.0rc0,!=2.1.2,>=1.4->anndata->Pseudovisium) (2023.4)\n",
            "Requirement already satisfied: tzdata>=2022.7 in /usr/local/lib/python3.10/dist-packages (from pandas!=2.1.0rc0,!=2.1.2,>=1.4->anndata->Pseudovisium) (2024.1)\n",
            "Collecting imageio>=2.33 (from scikit-image>=0.20->squidpy->Pseudovisium)\n",
            "  Downloading imageio-2.34.1-py3-none-any.whl (313 kB)\n",
            "\u001b[2K     \u001b[90m━━━━━━━━━━━━━━━━━━━━━━━━━━━━━━━━━━━━━━━━\u001b[0m \u001b[32m313.5/313.5 kB\u001b[0m \u001b[31m36.0 MB/s\u001b[0m eta \u001b[36m0:00:00\u001b[0m\n",
            "\u001b[?25hRequirement already satisfied: lazy-loader>=0.4 in /usr/local/lib/python3.10/dist-packages (from scikit-image>=0.20->squidpy->Pseudovisium) (0.4)\n",
            "Requirement already satisfied: threadpoolctl>=2.0.0 in /usr/local/lib/python3.10/dist-packages (from scikit-learn>=0.24->scanpy->Pseudovisium) (3.5.0)\n",
            "Collecting deprecation (from segregation>=2.3.1->pysal->Pseudovisium)\n",
            "  Downloading deprecation-2.1.0-py2.py3-none-any.whl (11 kB)\n",
            "Collecting rtree>=1.0 (from spaghetti>=1.6.6->pysal->Pseudovisium)\n",
            "  Downloading Rtree-1.2.0-py3-none-manylinux2014_x86_64.manylinux_2_17_x86_64.whl (535 kB)\n",
            "\u001b[2K     \u001b[90m━━━━━━━━━━━━━━━━━━━━━━━━━━━━━━━━━━━━━━━━\u001b[0m \u001b[32m535.2/535.2 kB\u001b[0m \u001b[31m48.5 MB/s\u001b[0m eta \u001b[36m0:00:00\u001b[0m\n",
            "\u001b[?25hCollecting pulp>=2.7 (from spopt>=0.4.1->pysal->Pseudovisium)\n",
            "  Downloading PuLP-2.8.0-py3-none-any.whl (17.7 MB)\n",
            "\u001b[2K     \u001b[90m━━━━━━━━━━━━━━━━━━━━━━━━━━━━━━━━━━━━━━━━\u001b[0m \u001b[32m17.7/17.7 MB\u001b[0m \u001b[31m89.4 MB/s\u001b[0m eta \u001b[36m0:00:00\u001b[0m\n",
            "\u001b[?25hCollecting rasterio (from tobler>=0.8.2->pysal->Pseudovisium)\n",
            "  Downloading rasterio-1.3.10-cp310-cp310-manylinux2014_x86_64.whl (21.5 MB)\n",
            "\u001b[2K     \u001b[90m━━━━━━━━━━━━━━━━━━━━━━━━━━━━━━━━━━━━━━━━\u001b[0m \u001b[32m21.5/21.5 MB\u001b[0m \u001b[31m84.4 MB/s\u001b[0m eta \u001b[36m0:00:00\u001b[0m\n",
            "\u001b[?25hCollecting rasterstats (from tobler>=0.8.2->pysal->Pseudovisium)\n",
            "  Downloading rasterstats-0.19.0-py3-none-any.whl (16 kB)\n",
            "Collecting asciitree (from zarr>=2.6.1->squidpy->Pseudovisium)\n",
            "  Downloading asciitree-0.3.3.tar.gz (4.0 kB)\n",
            "  Preparing metadata (setup.py) ... \u001b[?25l\u001b[?25hdone\n",
            "Collecting numcodecs>=0.10.0 (from zarr>=2.6.1->squidpy->Pseudovisium)\n",
            "  Downloading numcodecs-0.12.1-cp310-cp310-manylinux_2_17_x86_64.manylinux2014_x86_64.whl (7.7 MB)\n",
            "\u001b[2K     \u001b[90m━━━━━━━━━━━━━━━━━━━━━━━━━━━━━━━━━━━━━━━━\u001b[0m \u001b[32m7.7/7.7 MB\u001b[0m \u001b[31m113.6 MB/s\u001b[0m eta \u001b[36m0:00:00\u001b[0m\n",
            "\u001b[?25hCollecting fasteners (from zarr>=2.6.1->squidpy->Pseudovisium)\n",
            "  Downloading fasteners-0.19-py3-none-any.whl (18 kB)\n",
            "Collecting stdlib_list (from session-info->scanpy->Pseudovisium)\n",
            "  Downloading stdlib_list-0.10.0-py3-none-any.whl (79 kB)\n",
            "\u001b[2K     \u001b[90m━━━━━━━━━━━━━━━━━━━━━━━━━━━━━━━━━━━━━━━━\u001b[0m \u001b[32m79.8/79.8 kB\u001b[0m \u001b[31m11.6 MB/s\u001b[0m eta \u001b[36m0:00:00\u001b[0m\n",
            "\u001b[?25hCollecting multiscale-spatial-image==0.11.2 (from spatialdata->squidpy->Pseudovisium)\n",
            "  Downloading multiscale_spatial_image-0.11.2-py3-none-any.whl (24 kB)\n",
            "Collecting ome-zarr>=0.7.0 (from spatialdata->squidpy->Pseudovisium)\n",
            "  Downloading ome_zarr-0.9.0-py3-none-any.whl (37 kB)\n",
            "Requirement already satisfied: pooch in /usr/local/lib/python3.10/dist-packages (from spatialdata->squidpy->Pseudovisium) (1.8.1)\n",
            "Requirement already satisfied: pyarrow in /usr/local/lib/python3.10/dist-packages (from spatialdata->squidpy->Pseudovisium) (14.0.2)\n",
            "Collecting pygeos (from spatialdata->squidpy->Pseudovisium)\n",
            "  Downloading pygeos-0.14-cp310-cp310-manylinux_2_17_x86_64.manylinux2014_x86_64.whl (2.2 MB)\n",
            "\u001b[2K     \u001b[90m━━━━━━━━━━━━━━━━━━━━━━━━━━━━━━━━━━━━━━━━\u001b[0m \u001b[32m2.2/2.2 MB\u001b[0m \u001b[31m105.1 MB/s\u001b[0m eta \u001b[36m0:00:00\u001b[0m\n",
            "\u001b[?25hRequirement already satisfied: rich in /usr/local/lib/python3.10/dist-packages (from spatialdata->squidpy->Pseudovisium) (13.7.1)\n",
            "Collecting spatial-image==0.3.0 (from spatialdata->squidpy->Pseudovisium)\n",
            "  Downloading spatial_image-0.3.0-py3-none-any.whl (7.8 kB)\n",
            "Collecting xarray-schema (from spatialdata->squidpy->Pseudovisium)\n",
            "  Downloading xarray_schema-0.0.3-py3-none-any.whl (10 kB)\n",
            "Collecting xarray-spatial>=0.3.5 (from spatialdata->squidpy->Pseudovisium)\n",
            "  Downloading xarray_spatial-0.4.0-py3-none-any.whl (2.0 MB)\n",
            "\u001b[2K     \u001b[90m━━━━━━━━━━━━━━━━━━━━━━━━━━━━━━━━━━━━━━━━\u001b[0m \u001b[32m2.0/2.0 MB\u001b[0m \u001b[31m107.1 MB/s\u001b[0m eta \u001b[36m0:00:00\u001b[0m\n",
            "\u001b[?25hCollecting xarray-datatree>=0.0.5 (from multiscale-spatial-image==0.11.2->spatialdata->squidpy->Pseudovisium)\n",
            "  Downloading xarray_datatree-0.0.14-py3-none-any.whl (63 kB)\n",
            "\u001b[2K     \u001b[90m━━━━━━━━━━━━━━━━━━━━━━━━━━━━━━━━━━━━━━━━\u001b[0m \u001b[32m63.7/63.7 kB\u001b[0m \u001b[31m9.6 MB/s\u001b[0m eta \u001b[36m0:00:00\u001b[0m\n",
            "\u001b[?25hCollecting xarray-dataclasses>=1.1.0 (from spatial-image==0.3.0->spatialdata->squidpy->Pseudovisium)\n",
            "  Downloading xarray_dataclasses-1.7.0-py3-none-any.whl (14 kB)\n",
            "Requirement already satisfied: soupsieve>1.2 in /usr/local/lib/python3.10/dist-packages (from beautifulsoup4>=4.10->libpysal>=4.6.2->pysal->Pseudovisium) (2.5)\n",
            "INFO: pip is looking at multiple versions of dask[array,dataframe] to determine which version is compatible with other requirements. This could take a while.\n",
            "Collecting dask[array,dataframe]>=2024.4.1 (from dask-image>=0.5.0->squidpy->Pseudovisium)\n",
            "  Downloading dask-2024.5.1-py3-none-any.whl (1.2 MB)\n",
            "\u001b[2K     \u001b[90m━━━━━━━━━━━━━━━━━━━━━━━━━━━━━━━━━━━━━━━━\u001b[0m \u001b[32m1.2/1.2 MB\u001b[0m \u001b[31m82.7 MB/s\u001b[0m eta \u001b[36m0:00:00\u001b[0m\n",
            "\u001b[?25h  Downloading dask-2024.5.0-py3-none-any.whl (1.2 MB)\n",
            "\u001b[2K     \u001b[90m━━━━━━━━━━━━━━━━━━━━━━━━━━━━━━━━━━━━━━━━\u001b[0m \u001b[32m1.2/1.2 MB\u001b[0m \u001b[31m80.6 MB/s\u001b[0m eta \u001b[36m0:00:00\u001b[0m\n",
            "\u001b[?25h  Downloading dask-2024.4.2-py3-none-any.whl (1.2 MB)\n",
            "\u001b[2K     \u001b[90m━━━━━━━━━━━━━━━━━━━━━━━━━━━━━━━━━━━━━━━━\u001b[0m \u001b[32m1.2/1.2 MB\u001b[0m \u001b[31m82.4 MB/s\u001b[0m eta \u001b[36m0:00:00\u001b[0m\n",
            "\u001b[?25h  Downloading dask-2024.4.1-py3-none-any.whl (1.2 MB)\n",
            "\u001b[2K     \u001b[90m━━━━━━━━━━━━━━━━━━━━━━━━━━━━━━━━━━━━━━━━\u001b[0m \u001b[32m1.2/1.2 MB\u001b[0m \u001b[31m80.2 MB/s\u001b[0m eta \u001b[36m0:00:00\u001b[0m\n",
            "\u001b[?25hCollecting spatialdata (from squidpy->Pseudovisium)\n",
            "  Downloading spatialdata-0.1.1-py3-none-any.whl (142 kB)\n",
            "\u001b[2K     \u001b[90m━━━━━━━━━━━━━━━━━━━━━━━━━━━━━━━━━━━━━━━━\u001b[0m \u001b[32m142.9/142.9 kB\u001b[0m \u001b[31m21.1 MB/s\u001b[0m eta \u001b[36m0:00:00\u001b[0m\n",
            "\u001b[?25hINFO: pip is looking at multiple versions of dask[array,dataframe] to determine which version is compatible with other requirements. This could take a while.\n",
            "  Downloading spatialdata-0.1.0-py3-none-any.whl (141 kB)\n",
            "\u001b[2K     \u001b[90m━━━━━━━━━━━━━━━━━━━━━━━━━━━━━━━━━━━━━━━━\u001b[0m \u001b[32m141.8/141.8 kB\u001b[0m \u001b[31m18.8 MB/s\u001b[0m eta \u001b[36m0:00:00\u001b[0m\n",
            "\u001b[?25hINFO: This is taking longer than usual. You might need to provide the dependency resolver with stricter constraints to reduce runtime. See https://pip.pypa.io/warnings/backtracking for guidance. If you want to abort this run, press Ctrl + C.\n",
            "  Downloading spatialdata-0.0.16-py3-none-any.whl (110 kB)\n",
            "\u001b[2K     \u001b[90m━━━━━━━━━━━━━━━━━━━━━━━━━━━━━━━━━━━━━━━━\u001b[0m \u001b[32m110.3/110.3 kB\u001b[0m \u001b[31m15.3 MB/s\u001b[0m eta \u001b[36m0:00:00\u001b[0m\n",
            "\u001b[?25h  Downloading spatialdata-0.0.15-py3-none-any.whl (110 kB)\n",
            "\u001b[2K     \u001b[90m━━━━━━━━━━━━━━━━━━━━━━━━━━━━━━━━━━━━━━━━\u001b[0m \u001b[32m110.3/110.3 kB\u001b[0m \u001b[31m17.3 MB/s\u001b[0m eta \u001b[36m0:00:00\u001b[0m\n",
            "\u001b[?25h  Downloading spatialdata-0.0.14-py3-none-any.whl (110 kB)\n",
            "\u001b[2K     \u001b[90m━━━━━━━━━━━━━━━━━━━━━━━━━━━━━━━━━━━━━━━━\u001b[0m \u001b[32m110.3/110.3 kB\u001b[0m \u001b[31m16.9 MB/s\u001b[0m eta \u001b[36m0:00:00\u001b[0m\n",
            "\u001b[?25hCollecting dask-expr<1.2,>=1.1 (from dask[array,dataframe]>=2024.4.1->dask-image>=0.5.0->squidpy->Pseudovisium)\n",
            "  Downloading dask_expr-1.1.2-py3-none-any.whl (205 kB)\n",
            "\u001b[2K     \u001b[90m━━━━━━━━━━━━━━━━━━━━━━━━━━━━━━━━━━━━━━━━\u001b[0m \u001b[32m205.5/205.5 kB\u001b[0m \u001b[31m20.1 MB/s\u001b[0m eta \u001b[36m0:00:00\u001b[0m\n",
            "\u001b[?25hINFO: pip is looking at multiple versions of spatialdata to determine which version is compatible with other requirements. This could take a while.\n",
            "Collecting texttable>=1.6.2 (from igraph<0.12,>=0.10.0->leidenalg>=0.8.2->squidpy->Pseudovisium)\n",
            "  Downloading texttable-1.7.0-py2.py3-none-any.whl (10 kB)\n",
            "Requirement already satisfied: zipp>=0.5 in /usr/local/lib/python3.10/dist-packages (from importlib-metadata>=4.13.0->dask[array]>=2021.02.0->squidpy->Pseudovisium) (3.19.1)\n",
            "Requirement already satisfied: pydantic>=1.9.1 in /usr/local/lib/python3.10/dist-packages (from inflect>=4.1.0->omnipath>=1.0.7->squidpy->Pseudovisium) (2.7.3)\n",
            "Requirement already satisfied: distributed in /usr/local/lib/python3.10/dist-packages (from ome-zarr>=0.7.0->spatialdata->squidpy->Pseudovisium) (2023.8.1)\n",
            "Requirement already satisfied: locket in /usr/local/lib/python3.10/dist-packages (from partd>=1.2.0->dask[array]>=2021.02.0->squidpy->Pseudovisium) (1.0.0)\n",
            "Collecting slicerator>=0.9.8 (from pims>=0.4.1->dask-image>=0.5.0->squidpy->Pseudovisium)\n",
            "  Downloading slicerator-1.1.0-py3-none-any.whl (10 kB)\n",
            "Requirement already satisfied: sympy in /usr/local/lib/python3.10/dist-packages (from quantecon>=0.4.7->giddy>=2.3.3->pysal->Pseudovisium) (1.12.1)\n",
            "Requirement already satisfied: charset-normalizer<4,>=2 in /usr/local/lib/python3.10/dist-packages (from requests>=2->access>=1.1.8->pysal->Pseudovisium) (3.3.2)\n",
            "Requirement already satisfied: idna<4,>=2.5 in /usr/local/lib/python3.10/dist-packages (from requests>=2->access>=1.1.8->pysal->Pseudovisium) (3.7)\n",
            "Collecting datashader>=0.15.0 (from xarray-spatial>=0.3.5->spatialdata->squidpy->Pseudovisium)\n",
            "  Downloading datashader-0.16.2-py2.py3-none-any.whl (18.3 MB)\n",
            "\u001b[2K     \u001b[90m━━━━━━━━━━━━━━━━━━━━━━━━━━━━━━━━━━━━━━━━\u001b[0m \u001b[32m18.3/18.3 MB\u001b[0m \u001b[31m85.8 MB/s\u001b[0m eta \u001b[36m0:00:00\u001b[0m\n",
            "\u001b[?25hCollecting affine (from rasterio->tobler>=0.8.2->pysal->Pseudovisium)\n",
            "  Downloading affine-2.4.0-py3-none-any.whl (15 kB)\n",
            "Collecting snuggs>=1.4.1 (from rasterio->tobler>=0.8.2->pysal->Pseudovisium)\n",
            "  Downloading snuggs-1.4.7-py3-none-any.whl (5.4 kB)\n",
            "Requirement already satisfied: setuptools in /usr/local/lib/python3.10/dist-packages (from rasterio->tobler>=0.8.2->pysal->Pseudovisium) (67.7.2)\n",
            "Collecting simplejson (from rasterstats->tobler>=0.8.2->pysal->Pseudovisium)\n",
            "  Downloading simplejson-3.19.2-cp310-cp310-manylinux_2_5_x86_64.manylinux1_x86_64.manylinux_2_17_x86_64.manylinux2014_x86_64.whl (137 kB)\n",
            "\u001b[2K     \u001b[90m━━━━━━━━━━━━━━━━━━━━━━━━━━━━━━━━━━━━━━━━\u001b[0m \u001b[32m137.9/137.9 kB\u001b[0m \u001b[31m17.1 MB/s\u001b[0m eta \u001b[36m0:00:00\u001b[0m\n",
            "\u001b[?25hRequirement already satisfied: markdown-it-py>=2.2.0 in /usr/local/lib/python3.10/dist-packages (from rich->spatialdata->squidpy->Pseudovisium) (3.0.0)\n",
            "Requirement already satisfied: pygments<3.0.0,>=2.13.0 in /usr/local/lib/python3.10/dist-packages (from rich->spatialdata->squidpy->Pseudovisium) (2.16.1)\n",
            "Requirement already satisfied: colorcet in /usr/local/lib/python3.10/dist-packages (from datashader>=0.15.0->xarray-spatial>=0.3.5->spatialdata->squidpy->Pseudovisium) (3.1.0)\n",
            "Requirement already satisfied: multipledispatch in /usr/local/lib/python3.10/dist-packages (from datashader>=0.15.0->xarray-spatial>=0.3.5->spatialdata->squidpy->Pseudovisium) (1.0.0)\n",
            "Requirement already satisfied: param in /usr/local/lib/python3.10/dist-packages (from datashader>=0.15.0->xarray-spatial>=0.3.5->spatialdata->squidpy->Pseudovisium) (2.1.0)\n",
            "Collecting pyct (from datashader>=0.15.0->xarray-spatial>=0.3.5->spatialdata->squidpy->Pseudovisium)\n",
            "  Downloading pyct-0.5.0-py2.py3-none-any.whl (15 kB)\n",
            "Collecting s3fs (from fsspec>=2021.11.0->squidpy->Pseudovisium)\n",
            "  Downloading s3fs-2024.6.0-py3-none-any.whl (29 kB)\n",
            "Requirement already satisfied: mdurl~=0.1 in /usr/local/lib/python3.10/dist-packages (from markdown-it-py>=2.2.0->rich->spatialdata->squidpy->Pseudovisium) (0.1.2)\n",
            "Requirement already satisfied: annotated-types>=0.4.0 in /usr/local/lib/python3.10/dist-packages (from pydantic>=1.9.1->inflect>=4.1.0->omnipath>=1.0.7->squidpy->Pseudovisium) (0.7.0)\n",
            "Requirement already satisfied: pydantic-core==2.18.4 in /usr/local/lib/python3.10/dist-packages (from pydantic>=1.9.1->inflect>=4.1.0->omnipath>=1.0.7->squidpy->Pseudovisium) (2.18.4)\n",
            "Collecting xarray>=0.16.1 (from squidpy->Pseudovisium)\n",
            "  Downloading xarray-2023.12.0-py3-none-any.whl (1.1 MB)\n",
            "\u001b[2K     \u001b[90m━━━━━━━━━━━━━━━━━━━━━━━━━━━━━━━━━━━━━━━━\u001b[0m \u001b[32m1.1/1.1 MB\u001b[0m \u001b[31m72.4 MB/s\u001b[0m eta \u001b[36m0:00:00\u001b[0m\n",
            "\u001b[?25hINFO: pip is looking at multiple versions of distributed to determine which version is compatible with other requirements. This could take a while.\n",
            "Collecting distributed (from ome-zarr>=0.7.0->spatialdata->squidpy->Pseudovisium)\n",
            "  Downloading distributed-2024.5.2-py3-none-any.whl (1.0 MB)\n",
            "\u001b[2K     \u001b[90m━━━━━━━━━━━━━━━━━━━━━━━━━━━━━━━━━━━━━━━━\u001b[0m \u001b[32m1.0/1.0 MB\u001b[0m \u001b[31m68.5 MB/s\u001b[0m eta \u001b[36m0:00:00\u001b[0m\n",
            "\u001b[?25hRequirement already satisfied: jinja2>=2.10.3 in /usr/local/lib/python3.10/dist-packages (from distributed->ome-zarr>=0.7.0->spatialdata->squidpy->Pseudovisium) (3.1.4)\n",
            "Requirement already satisfied: msgpack>=1.0.0 in /usr/local/lib/python3.10/dist-packages (from distributed->ome-zarr>=0.7.0->spatialdata->squidpy->Pseudovisium) (1.0.8)\n",
            "Requirement already satisfied: psutil>=5.7.2 in /usr/local/lib/python3.10/dist-packages (from distributed->ome-zarr>=0.7.0->spatialdata->squidpy->Pseudovisium) (5.9.5)\n",
            "Requirement already satisfied: sortedcontainers>=2.0.5 in /usr/local/lib/python3.10/dist-packages (from distributed->ome-zarr>=0.7.0->spatialdata->squidpy->Pseudovisium) (2.4.0)\n",
            "Requirement already satisfied: tblib>=1.6.0 in /usr/local/lib/python3.10/dist-packages (from distributed->ome-zarr>=0.7.0->spatialdata->squidpy->Pseudovisium) (3.0.0)\n",
            "Requirement already satisfied: tornado>=6.0.4 in /usr/local/lib/python3.10/dist-packages (from distributed->ome-zarr>=0.7.0->spatialdata->squidpy->Pseudovisium) (6.3.3)\n",
            "Requirement already satisfied: zict>=3.0.0 in /usr/local/lib/python3.10/dist-packages (from distributed->ome-zarr>=0.7.0->spatialdata->squidpy->Pseudovisium) (3.0.0)\n",
            "Requirement already satisfied: mpmath<1.4.0,>=1.1.0 in /usr/local/lib/python3.10/dist-packages (from sympy->quantecon>=0.4.7->giddy>=2.3.3->pysal->Pseudovisium) (1.3.0)\n",
            "Requirement already satisfied: MarkupSafe>=2.0 in /usr/local/lib/python3.10/dist-packages (from jinja2>=2.10.3->distributed->ome-zarr>=0.7.0->spatialdata->squidpy->Pseudovisium) (2.1.5)\n",
            "Collecting aiobotocore<3.0.0,>=2.5.4 (from s3fs->fsspec>=2021.11.0->squidpy->Pseudovisium)\n",
            "  Downloading aiobotocore-2.13.0-py3-none-any.whl (76 kB)\n",
            "\u001b[2K     \u001b[90m━━━━━━━━━━━━━━━━━━━━━━━━━━━━━━━━━━━━━━━━\u001b[0m \u001b[32m76.6/76.6 kB\u001b[0m \u001b[31m10.0 MB/s\u001b[0m eta \u001b[36m0:00:00\u001b[0m\n",
            "\u001b[?25hINFO: pip is looking at multiple versions of s3fs to determine which version is compatible with other requirements. This could take a while.\n",
            "Collecting s3fs (from fsspec>=2021.11.0->squidpy->Pseudovisium)\n",
            "  Downloading s3fs-2024.5.0-py3-none-any.whl (29 kB)\n",
            "  Downloading s3fs-2024.3.1-py3-none-any.whl (29 kB)\n",
            "  Downloading s3fs-2024.3.0-py3-none-any.whl (29 kB)\n",
            "  Downloading s3fs-2024.2.0-py3-none-any.whl (28 kB)\n",
            "  Downloading s3fs-2023.12.2-py3-none-any.whl (28 kB)\n",
            "  Downloading s3fs-2023.12.1-py3-none-any.whl (28 kB)\n",
            "  Downloading s3fs-2023.10.0-py3-none-any.whl (28 kB)\n",
            "Collecting aiobotocore~=2.7.0 (from s3fs->fsspec>=2021.11.0->squidpy->Pseudovisium)\n",
            "  Downloading aiobotocore-2.7.0-py3-none-any.whl (73 kB)\n",
            "\u001b[2K     \u001b[90m━━━━━━━━━━━━━━━━━━━━━━━━━━━━━━━━━━━━━━━━\u001b[0m \u001b[32m73.5/73.5 kB\u001b[0m \u001b[31m10.0 MB/s\u001b[0m eta \u001b[36m0:00:00\u001b[0m\n",
            "\u001b[?25hINFO: pip is looking at multiple versions of s3fs to determine which version is compatible with other requirements. This could take a while.\n",
            "Collecting s3fs (from fsspec>=2021.11.0->squidpy->Pseudovisium)\n",
            "  Downloading s3fs-2023.9.2-py3-none-any.whl (28 kB)\n",
            "Collecting aiobotocore~=2.5.4 (from s3fs->fsspec>=2021.11.0->squidpy->Pseudovisium)\n",
            "  Downloading aiobotocore-2.5.4-py3-none-any.whl (73 kB)\n",
            "\u001b[2K     \u001b[90m━━━━━━━━━━━━━━━━━━━━━━━━━━━━━━━━━━━━━━━━\u001b[0m \u001b[32m73.4/73.4 kB\u001b[0m \u001b[31m10.3 MB/s\u001b[0m eta \u001b[36m0:00:00\u001b[0m\n",
            "\u001b[?25hCollecting s3fs (from fsspec>=2021.11.0->squidpy->Pseudovisium)\n",
            "  Downloading s3fs-2023.9.1-py3-none-any.whl (28 kB)\n",
            "  Downloading s3fs-2023.9.0-py3-none-any.whl (28 kB)\n",
            "  Downloading s3fs-2023.6.0-py3-none-any.whl (28 kB)\n",
            "Collecting botocore<1.31.18,>=1.31.17 (from aiobotocore~=2.5.4->s3fs->fsspec>=2021.11.0->squidpy->Pseudovisium)\n",
            "  Downloading botocore-1.31.17-py3-none-any.whl (11.1 MB)\n",
            "\u001b[2K     \u001b[90m━━━━━━━━━━━━━━━━━━━━━━━━━━━━━━━━━━━━━━━━\u001b[0m \u001b[32m11.1/11.1 MB\u001b[0m \u001b[31m125.7 MB/s\u001b[0m eta \u001b[36m0:00:00\u001b[0m\n",
            "\u001b[?25hCollecting aioitertools<1.0.0,>=0.5.1 (from aiobotocore~=2.5.4->s3fs->fsspec>=2021.11.0->squidpy->Pseudovisium)\n",
            "  Downloading aioitertools-0.11.0-py3-none-any.whl (23 kB)\n",
            "Collecting jmespath<2.0.0,>=0.7.1 (from botocore<1.31.18,>=1.31.17->aiobotocore~=2.5.4->s3fs->fsspec>=2021.11.0->squidpy->Pseudovisium)\n",
            "  Downloading jmespath-1.0.1-py3-none-any.whl (20 kB)\n",
            "Collecting urllib3>=1.26.0 (from omnipath>=1.0.7->squidpy->Pseudovisium)\n",
            "  Downloading urllib3-1.26.18-py2.py3-none-any.whl (143 kB)\n",
            "\u001b[2K     \u001b[90m━━━━━━━━━━━━━━━━━━━━━━━━━━━━━━━━━━━━━━━━\u001b[0m \u001b[32m143.8/143.8 kB\u001b[0m \u001b[31m19.1 MB/s\u001b[0m eta \u001b[36m0:00:00\u001b[0m\n",
            "\u001b[?25hBuilding wheels for collected packages: Pseudovisium, docrep, spint, spvcm, session-info, pims, asciitree\n",
            "  Building wheel for Pseudovisium (setup.py) ... \u001b[?25l\u001b[?25hdone\n",
            "  Created wheel for Pseudovisium: filename=Pseudovisium-0.0.38-py3-none-any.whl size=37012 sha256=0783f9cdbbe0808f9925220a3c2cbdf88c6a02e04eb14aecc0dbb159c6372583\n",
            "  Stored in directory: /root/.cache/pip/wheels/2a/ac/b5/5a032392fb27743e9a5cfe3aea6d633292001cc78f22cb5793\n",
            "  Building wheel for docrep (setup.py) ... \u001b[?25l\u001b[?25hdone\n",
            "  Created wheel for docrep: filename=docrep-0.3.2-py3-none-any.whl size=19878 sha256=c61ac4b9c41576167e60e445550067f38f9464331cf9bb988b65b28bd8d6ccd0\n",
            "  Stored in directory: /root/.cache/pip/wheels/c3/64/48/03c38d8d906159eaa210b3c548fdb590eb3e2a4a5745ae2172\n",
            "  Building wheel for spint (setup.py) ... \u001b[?25l\u001b[?25hdone\n",
            "  Created wheel for spint: filename=spint-1.0.7-py3-none-any.whl size=31360 sha256=b808d256759941d5d940d2ea4811289d17db6c9141494822fbacaff730a6015b\n",
            "  Stored in directory: /root/.cache/pip/wheels/f6/1d/ab/81b0c9d17a778a97ec078147cb11901afdab420c4894dcfbc5\n",
            "  Building wheel for spvcm (setup.py) ... \u001b[?25l\u001b[?25hdone\n",
            "  Created wheel for spvcm: filename=spvcm-0.3.0-py3-none-any.whl size=5777184 sha256=775e8e85276de5576fbb0d106925c108020ba7635bb4b45fa2b4456adbab7338\n",
            "  Stored in directory: /root/.cache/pip/wheels/1c/58/6f/debcb62c0a142a6615a65f23217209b543b478d309edfa4e2b\n",
            "  Building wheel for session-info (setup.py) ... \u001b[?25l\u001b[?25hdone\n",
            "  Created wheel for session-info: filename=session_info-1.0.0-py3-none-any.whl size=8026 sha256=d020fd4d20e16b347031623d04255aba54e7fcd4b67936c3233aa94a5e5b943b\n",
            "  Stored in directory: /root/.cache/pip/wheels/6a/aa/b9/eb5d4031476ec10802795b97ccf937b9bd998d68a9b268765a\n",
            "  Building wheel for pims (setup.py) ... \u001b[?25l\u001b[?25hdone\n",
            "  Created wheel for pims: filename=PIMS-0.6.1-py3-none-any.whl size=82613 sha256=5970569d4160390085174f28a851335bd35aeaec6236d72fc8cb2f673c72b5d7\n",
            "  Stored in directory: /root/.cache/pip/wheels/cc/bf/3e/bfa77232d942f8244145f9c713b6b38f6ef04b6fb5c021c114\n",
            "  Building wheel for asciitree (setup.py) ... \u001b[?25l\u001b[?25hdone\n",
            "  Created wheel for asciitree: filename=asciitree-0.3.3-py3-none-any.whl size=5034 sha256=eb8b57af712c6714c397d361f66ba558a25fff981155c541c2db508c20b473fc\n",
            "  Stored in directory: /root/.cache/pip/wheels/7f/4e/be/1171b40f43b918087657ec57cf3b81fa1a2e027d8755baa184\n",
            "Successfully built Pseudovisium docrep spint spvcm session-info pims asciitree\n",
            "Installing collected packages: texttable, slicerator, asciitree, array-api-compat, validators, urllib3, stdlib_list, snuggs, simplejson, rtree, pygeos, pyct, pulp, numcodecs, legacy-api-wrap, jmespath, imageio, igraph, fasteners, docrep, deprecation, aioitertools, affine, zarr, session-info, scikit-image, rasterio, pims, pandas, leidenalg, dask, botocore, xarray, rasterstats, quantecon, pynndescent, matplotlib-scalebar, mapclassify, distributed, dask-expr, anndata, aiobotocore, adjustText, xarray-schema, xarray-datatree, xarray-dataclasses, umap-learn, s3fs, omnipath, libpysal, datashader, access, xarray-spatial, tobler, spreg, spatial-image, segregation, scanpy, pointpats, momepy, inequality, esda, dask-image, spvcm, spglm, spaghetti, ome-zarr, multiscale-spatial-image, giddy, spopt, splot, spint, spatialdata, mgwr, squidpy, pysal, Pseudovisium\n",
            "  Attempting uninstall: urllib3\n",
            "    Found existing installation: urllib3 2.0.7\n",
            "    Uninstalling urllib3-2.0.7:\n",
            "      Successfully uninstalled urllib3-2.0.7\n",
            "  Attempting uninstall: imageio\n",
            "    Found existing installation: imageio 2.31.6\n",
            "    Uninstalling imageio-2.31.6:\n",
            "      Successfully uninstalled imageio-2.31.6\n",
            "  Attempting uninstall: scikit-image\n",
            "    Found existing installation: scikit-image 0.19.3\n",
            "    Uninstalling scikit-image-0.19.3:\n",
            "      Successfully uninstalled scikit-image-0.19.3\n",
            "  Attempting uninstall: pandas\n",
            "    Found existing installation: pandas 2.0.3\n",
            "    Uninstalling pandas-2.0.3:\n",
            "      Successfully uninstalled pandas-2.0.3\n",
            "  Attempting uninstall: dask\n",
            "    Found existing installation: dask 2023.8.1\n",
            "    Uninstalling dask-2023.8.1:\n",
            "      Successfully uninstalled dask-2023.8.1\n",
            "  Attempting uninstall: xarray\n",
            "    Found existing installation: xarray 2023.7.0\n",
            "    Uninstalling xarray-2023.7.0:\n",
            "      Successfully uninstalled xarray-2023.7.0\n",
            "  Attempting uninstall: distributed\n",
            "    Found existing installation: distributed 2023.8.1\n",
            "    Uninstalling distributed-2023.8.1:\n",
            "      Successfully uninstalled distributed-2023.8.1\n",
            "\u001b[31mERROR: pip's dependency resolver does not currently take into account all the packages that are installed. This behaviour is the source of the following dependency conflicts.\n",
            "cudf-cu12 24.4.1 requires pandas<2.2.2dev0,>=2.0, but you have pandas 2.2.2 which is incompatible.\n",
            "google-colab 1.0.0 requires pandas==2.0.3, but you have pandas 2.2.2 which is incompatible.\u001b[0m\u001b[31m\n",
            "\u001b[0mSuccessfully installed Pseudovisium-0.0.38 access-1.1.9 adjustText-1.1.1 affine-2.4.0 aiobotocore-2.5.4 aioitertools-0.11.0 anndata-0.10.7 array-api-compat-1.7.1 asciitree-0.3.3 botocore-1.31.17 dask-2024.5.2 dask-expr-1.1.2 dask-image-2024.5.3 datashader-0.16.2 deprecation-2.1.0 distributed-2024.5.2 docrep-0.3.2 esda-2.5.1 fasteners-0.19 giddy-2.3.5 igraph-0.11.5 imageio-2.34.1 inequality-1.0.1 jmespath-1.0.1 legacy-api-wrap-1.4 leidenalg-0.10.2 libpysal-4.10 mapclassify-2.6.1 matplotlib-scalebar-0.8.1 mgwr-2.2.1 momepy-0.7.0 multiscale-spatial-image-0.11.2 numcodecs-0.12.1 ome-zarr-0.9.0 omnipath-1.0.8 pandas-2.2.2 pims-0.6.1 pointpats-2.4.0 pulp-2.8.0 pyct-0.5.0 pygeos-0.14 pynndescent-0.5.12 pysal-24.1 quantecon-0.7.2 rasterio-1.3.10 rasterstats-0.19.0 rtree-1.2.0 s3fs-2023.6.0 scanpy-1.10.1 scikit-image-0.23.2 segregation-2.5 session-info-1.0.0 simplejson-3.19.2 slicerator-1.1.0 snuggs-1.4.7 spaghetti-1.7.5.post1 spatial-image-0.3.0 spatialdata-0.0.15 spglm-1.1.0 spint-1.0.7 splot-1.1.5.post1 spopt-0.6.0 spreg-1.4.2 spvcm-0.3.0 squidpy-1.5.0 stdlib_list-0.10.0 texttable-1.7.0 tobler-0.11.2 umap-learn-0.5.6 urllib3-1.26.18 validators-0.28.3 xarray-2023.12.0 xarray-dataclasses-1.7.0 xarray-datatree-0.0.14 xarray-schema-0.0.3 xarray-spatial-0.4.0 zarr-2.18.2\n"
          ]
        }
      ],
      "source": [
        "!wget https://dg1oqa.bl.files.1drv.com/y4m2CulsqPOHi88uM3y4R3bpe_E0oV-5QWcibRtQAa6_OEwaeDJp2szwSfQLHeZ9hukrY97lU2Mzzghwvm77jm3jqzjsYHWWmwcn-_lRMn7e1R1tOBrFkHba5uaoOv2yQcDobXlqrpmChbiHihhY_4uT2L3ayWbLGj-OBQIIulTUqBSMDshOXZmZhfGQfa3i3GHgzgYf6-2z0sWlKjMlQhv-w\n",
        "!unzip /content/y4m2CulsqPOHi88uM3y4R3bpe_E0oV-5QWcibRtQAa6_OEwaeDJp2szwSfQLHeZ9hukrY97lU2Mzzghwvm77jm3jqzjsYHWWmwcn-_lRMn7e1R1tOBrFkHba5uaoOv2yQcDobXlqrpmChbiHihhY_4uT2L3ayWbLGj-OBQIIulTUqBSMDshOXZmZhfGQfa3i3GHgzgYf6-2z0sWlKjMlQhv-w\n",
        "!pip install pympler\n",
        "!pip install Pseudovisium"
      ]
    },
    {
      "cell_type": "markdown",
      "source": [
        "Here, we import the necessary modules, including time for measuring execution time, generate_pv from the Pseudovisium package, and asizeof from pympler for measuring memory usage. We also preview the first few lines of the input CSV file using the head command."
      ],
      "metadata": {
        "id": "w4PHNKYgMMwp"
      }
    },
    {
      "cell_type": "code",
      "execution_count": null,
      "metadata": {
        "id": "9VRSGsO80JoZ",
        "colab": {
          "base_uri": "https://localhost:8080/"
        },
        "outputId": "60b380d9-6ccd-4297-81af-0c0a5d0647e9"
      },
      "outputs": [
        {
          "output_type": "stream",
          "name": "stdout",
          "text": [
            "fov,cell_ID,cell,x_local_px,y_local_px,x_global_px,y_global_px,z,target,CellComp\n",
            "51,0,c_1_51_0,86,23,52525.0358181544,41902.4060461886,2,TRAPPC8,\n",
            "51,0,c_1_51_0,85,38,52524.036799034,41887.4088662988,2,APOL1,\n",
            "51,0,c_1_51_0,85,38,52524.036799034,41887.4088662988,3,APOL1,\n",
            "51,0,c_1_51_0,95,45,52534.0388833222,41880.4078037332,1,NCF4,\n",
            "51,0,c_1_51_0,83,56,52522.0387607934,41869.4067003248,3,MLN,\n",
            "51,0,c_1_51_0,84,56,52523.0377799137,41869.4067003248,4,MLN,\n",
            "51,0,c_1_51_0,40,59,52479.0373306414,41866.4056786022,7,DNAJC7,\n",
            "51,0,c_1_51_0,96,59,52535.0379024425,41866.4056786022,4,HNF1A,\n",
            "51,0,c_1_51_0,96,59,52535.0379024425,41866.4056786022,5,HNF1A,\n"
          ]
        }
      ],
      "source": [
        "import time\n",
        "from Pseudovisium.pseudovisium_generate import generate_pv\n",
        "from pympler import asizeof\n",
        "!head \"/content/pancreas/Pancreas_tx_file.csv\""
      ]
    },
    {
      "cell_type": "markdown",
      "source": [
        "This code block sets up the parameters for generating the Pseudovisium output. It specifies the input CSV file, output path, hexagon size (which can be adjusted for faster execution), batch size, technology (CosMx), number of workers, project name, and the pixel to micrometer conversion factor. The generate_pv function is then called with these parameters to generate the Pseudovisium output. The execution time is measured using time.time()."
      ],
      "metadata": {
        "id": "tm19u_j7N56g"
      }
    },
    {
      "cell_type": "code",
      "execution_count": null,
      "metadata": {
        "colab": {
          "base_uri": "https://localhost:8080/"
        },
        "id": "QJAs2fCl0Ly4",
        "outputId": "b3d7c806-4ed3-4aff-aaad-274818ba5b2d"
      },
      "outputs": [
        {
          "output_type": "stream",
          "name": "stdout",
          "text": [
            "You are using version:  ['Pseudovisium==0.0.38']\n",
            "Date:  2024-06-06\n",
            "Technology is Nanostring. Going forward with default column names.\n",
            "Quality filter is set to False\n",
            "Quality counting per hexagon is set to False\n",
            "Quality counting per probe is set to False\n",
            "Created temporary directory /tmp/tmp_hexaq1l3anvg\n",
            "Now creating batches\n",
            "Created batch 1\n",
            "Created batch 2\n",
            "Created batch 3\n",
            "Created batch 4\n",
            "Created batch 5\n",
            "Created batch 6\n",
            "Created batch 7\n",
            "Created batch 8\n",
            "Created batch 9\n",
            "Created batch 10\n",
            "Created batch 11\n",
            "Created batch 12\n",
            "Created batch 13\n",
            "Created batch 14\n",
            "Created batch 15\n",
            "Created batch 16\n",
            "Created batch 17\n",
            "Created batch 18\n",
            "Created batch 19\n",
            "Created batch 20\n",
            "Created batch 21\n",
            "Created batch 22\n",
            "Created batch 23\n",
            "Created batch 24\n",
            "Created batch 25\n",
            "Created batch 26\n",
            "Created batch 27\n",
            "Created batch 28\n",
            "Created batch 29\n",
            "Created batch 30\n",
            "Created batch 31\n",
            "Created batch 32\n",
            "Created batch 33\n",
            "Finished preprocessing. Total batches created: 33\n",
            "Processing batches using 8 processes\n"
          ]
        },
        {
          "output_type": "stream",
          "name": "stderr",
          "text": [
            "Processing batches: 100%|██████████| 33/33 [03:11<00:00,  5.81s/batch]\n"
          ]
        },
        {
          "output_type": "stream",
          "name": "stdout",
          "text": [
            "Creating pseudovisium folder in output path:/content/pseudovisium/cosmx_pancreas\n",
            "Using already existing folder: /content/pseudovisium/\n",
            "Creating scalefactors_json.json file in spatial folder.\n",
            "Creating barcodes.tsv.gz file in spatial folder.\n",
            "Creating tissue_positions_list.csv file in spatial folder.\n",
            "Creating pv_cell_hex.csv file in spatial folder.\n",
            "No quality information provided. Skipping quality information files.\n",
            "No quality information provided. Skipping quality information files.\n",
            "Creating features.tsv.gz file in spatial folder.\n"
          ]
        },
        {
          "output_type": "stream",
          "name": "stderr",
          "text": [
            "/usr/local/lib/python3.10/dist-packages/Pseudovisium/pseudovisium_generate.py:770: SettingWithCopyWarning: \n",
            "A value is trying to be set on a copy of a slice from a DataFrame.\n",
            "Try using .loc[row_indexer,col_indexer] = value instead\n",
            "\n",
            "See the caveats in the documentation: https://pandas.pydata.org/pandas-docs/stable/user_guide/indexing.html#returning-a-view-versus-a-copy\n",
            "  hexagon_cell_counts[\"hexagon_id\"] = hexagon_cell_counts[\"hexagon_id\"] + 1\n"
          ]
        },
        {
          "output_type": "stream",
          "name": "stdout",
          "text": [
            "Putting together the matrix.mtx file\n",
            "Total matrix count: 65794237.0\n",
            "Number of unique hexagons: 2347\n",
            "Creating matrix.mtx.gz file in spatial folder.\n",
            "Putting together the filtered_feature_bc_matrix.h5 file\n",
            "No image file provided. Drawing tissue positions on a white background.\n",
            "Creating arguments.json file in output path.\n",
            "Time taken: 692.7615597248077 seconds\n",
            "Searching for temporary batch files in: /tmp\n",
            "No remaining temporary batch files found.\n"
          ]
        }
      ],
      "source": [
        "csv_file=\"/content/pancreas/Pancreas_tx_file.csv\"\n",
        "output_path = \"/content\"\n",
        "hexagon_size = 25 #change to 50 for faster execution. Any higher would\n",
        "#be inappropriate for a very small tissue section like this\n",
        "start = time.time()\n",
        "pseudovisium_path = generate_pv(csv_file=csv_file,\n",
        "                                hexagon_size=hexagon_size,\n",
        "                                output_path=output_path,\n",
        "                                batch_size=2000000,\n",
        "                                technology=\"CosMx\",\n",
        "                                max_workers=10,\n",
        "                                project_name='cosmx_pancreas',\n",
        "                                coord_to_um_conversion=0.12028 #this is the\n",
        "                                #pxl to um conversion factor used\n",
        "                                #in this data,but may\n",
        "                                #differ for other cosmx dataset\n",
        "\n",
        "                                )\n",
        "end = time.time()"
      ]
    },
    {
      "cell_type": "markdown",
      "source": [
        "This section performs a quick quality control (QC) on the generated Pseudovisium output. It uses the generate_qc_report function from the pseudovisium_qc module. The function generates a QC report with specified parameters such as output folder, gene names, number of workers, normalization, and saving plots."
      ],
      "metadata": {
        "id": "WfHBSk8nOBEi"
      }
    },
    {
      "cell_type": "code",
      "source": [
        "from Pseudovisium.pseudovisium_qc import generate_qc_report\n",
        "folders= [\"/content/pseudovisium/cosmx_pancreas/\"]\n",
        "output_folder=\"/content/\"\n",
        "gene_names=[\"Ace2\"]\n",
        "generate_qc_report(folders,\n",
        "                   output_folder,\n",
        "                   gene_names,\n",
        "                   include_morans_i=False,\n",
        "                   max_workers=10,\n",
        "                   normalisation=True,\n",
        "                   save_plots=True)"
      ],
      "metadata": {
        "colab": {
          "base_uri": "https://localhost:8080/",
          "height": 936
        },
        "id": "Cjb6jodqTSfW",
        "outputId": "01f23b20-0eb8-49ad-b777-d7fa93c7b509"
      },
      "execution_count": null,
      "outputs": [
        {
          "output_type": "stream",
          "name": "stdout",
          "text": [
            "Plots will be saved\n"
          ]
        },
        {
          "output_type": "stream",
          "name": "stderr",
          "text": [
            "\rProcessing folders:   0%|          | 0/1 [00:00<?, ?it/s]"
          ]
        },
        {
          "output_type": "stream",
          "name": "stdout",
          "text": [
            "           barcode  in_tissue  tissue_col  tissue_row     x     y\n",
            "0        hexagon_1          1        -4.0       124.0  -173  6175\n",
            "1        hexagon_2          1        -6.0       124.0  -259  6175\n",
            "2        hexagon_3          1        -8.0       124.0  -346  6175\n",
            "3        hexagon_4          1       -10.0       124.0  -433  6175\n",
            "4        hexagon_5          1       -12.0       124.0  -519  6175\n",
            "...            ...        ...         ...         ...   ...   ...\n",
            "2342  hexagon_2343          1       108.0       157.0  4719  7850\n",
            "2343  hexagon_2344          1       110.0       157.0  4806  7850\n",
            "2344  hexagon_2345          1       112.0       157.0  4893  7850\n",
            "2345  hexagon_2346          1       114.0       157.0  4979  7850\n",
            "2346  hexagon_2347          1       116.0       157.0  5066  7850\n",
            "\n",
            "[2347 rows x 6 columns]\n"
          ]
        },
        {
          "output_type": "stream",
          "name": "stderr",
          "text": [
            "/usr/local/lib/python3.10/dist-packages/numpy/core/fromnumeric.py:3504: RuntimeWarning: Mean of empty slice.\n",
            "  return _methods._mean(a, axis=axis, dtype=dtype,\n",
            "/usr/local/lib/python3.10/dist-packages/libpysal/weights/distance.py:153: UserWarning: The weights matrix is not fully connected: \n",
            " There are 2 disconnected components.\n",
            "  W.__init__(self, neighbors, id_order=ids, **kwargs)\n",
            "Processing folders:   0%|          | 0/1 [00:22<?, ?it/s]\n"
          ]
        },
        {
          "output_type": "error",
          "ename": "KeyError",
          "evalue": "'max'",
          "traceback": [
            "\u001b[0;31m---------------------------------------------------------------------------\u001b[0m",
            "\u001b[0;31mKeyError\u001b[0m                                  Traceback (most recent call last)",
            "\u001b[0;32m/usr/local/lib/python3.10/dist-packages/pandas/core/indexes/base.py\u001b[0m in \u001b[0;36mget_loc\u001b[0;34m(self, key)\u001b[0m\n\u001b[1;32m   3804\u001b[0m         \u001b[0;32mtry\u001b[0m\u001b[0;34m:\u001b[0m\u001b[0;34m\u001b[0m\u001b[0;34m\u001b[0m\u001b[0m\n\u001b[0;32m-> 3805\u001b[0;31m             \u001b[0;32mreturn\u001b[0m \u001b[0mself\u001b[0m\u001b[0;34m.\u001b[0m\u001b[0m_engine\u001b[0m\u001b[0;34m.\u001b[0m\u001b[0mget_loc\u001b[0m\u001b[0;34m(\u001b[0m\u001b[0mcasted_key\u001b[0m\u001b[0;34m)\u001b[0m\u001b[0;34m\u001b[0m\u001b[0;34m\u001b[0m\u001b[0m\n\u001b[0m\u001b[1;32m   3806\u001b[0m         \u001b[0;32mexcept\u001b[0m \u001b[0mKeyError\u001b[0m \u001b[0;32mas\u001b[0m \u001b[0merr\u001b[0m\u001b[0;34m:\u001b[0m\u001b[0;34m\u001b[0m\u001b[0;34m\u001b[0m\u001b[0m\n",
            "\u001b[0;32mindex.pyx\u001b[0m in \u001b[0;36mpandas._libs.index.IndexEngine.get_loc\u001b[0;34m()\u001b[0m\n",
            "\u001b[0;32mindex.pyx\u001b[0m in \u001b[0;36mpandas._libs.index.IndexEngine.get_loc\u001b[0;34m()\u001b[0m\n",
            "\u001b[0;32mpandas/_libs/hashtable_class_helper.pxi\u001b[0m in \u001b[0;36mpandas._libs.hashtable.PyObjectHashTable.get_item\u001b[0;34m()\u001b[0m\n",
            "\u001b[0;32mpandas/_libs/hashtable_class_helper.pxi\u001b[0m in \u001b[0;36mpandas._libs.hashtable.PyObjectHashTable.get_item\u001b[0;34m()\u001b[0m\n",
            "\u001b[0;31mKeyError\u001b[0m: 'max'",
            "\nThe above exception was the direct cause of the following exception:\n",
            "\u001b[0;31mKeyError\u001b[0m                                  Traceback (most recent call last)",
            "\u001b[0;32m<ipython-input-4-8b71a14be80c>\u001b[0m in \u001b[0;36m<cell line: 5>\u001b[0;34m()\u001b[0m\n\u001b[1;32m      3\u001b[0m \u001b[0moutput_folder\u001b[0m\u001b[0;34m=\u001b[0m\u001b[0;34m\"/content/\"\u001b[0m\u001b[0;34m\u001b[0m\u001b[0;34m\u001b[0m\u001b[0m\n\u001b[1;32m      4\u001b[0m \u001b[0mgene_names\u001b[0m\u001b[0;34m=\u001b[0m\u001b[0;34m[\u001b[0m\u001b[0;34m\"Ace2\"\u001b[0m\u001b[0;34m]\u001b[0m\u001b[0;34m\u001b[0m\u001b[0;34m\u001b[0m\u001b[0m\n\u001b[0;32m----> 5\u001b[0;31m generate_qc_report(folders,\n\u001b[0m\u001b[1;32m      6\u001b[0m                    \u001b[0moutput_folder\u001b[0m\u001b[0;34m,\u001b[0m\u001b[0;34m\u001b[0m\u001b[0;34m\u001b[0m\u001b[0m\n\u001b[1;32m      7\u001b[0m                    \u001b[0mgene_names\u001b[0m\u001b[0;34m,\u001b[0m\u001b[0;34m\u001b[0m\u001b[0;34m\u001b[0m\u001b[0m\n",
            "\u001b[0;32m/usr/local/lib/python3.10/dist-packages/Pseudovisium/pseudovisium_qc.py\u001b[0m in \u001b[0;36mgenerate_qc_report\u001b[0;34m(folders, output_folder, gene_names, include_morans_i, max_workers, normalisation, save_plots, squidpy)\u001b[0m\n\u001b[1;32m    228\u001b[0m         \u001b[0mhexagon_gene_range\u001b[0m \u001b[0;34m=\u001b[0m \u001b[0mfiltered_matrix\u001b[0m\u001b[0;34m.\u001b[0m\u001b[0mgroupby\u001b[0m\u001b[0;34m(\u001b[0m\u001b[0;34m[\u001b[0m\u001b[0;34m\"Barcode_ID\"\u001b[0m\u001b[0;34m,\u001b[0m \u001b[0;34m\"Gene_ID_y\"\u001b[0m\u001b[0;34m]\u001b[0m\u001b[0;34m)\u001b[0m\u001b[0;34m[\u001b[0m\u001b[0;34m\"Counts\"\u001b[0m\u001b[0;34m]\u001b[0m\u001b[0;34m.\u001b[0m\u001b[0msum\u001b[0m\u001b[0;34m(\u001b[0m\u001b[0;34m)\u001b[0m\u001b[0;34m.\u001b[0m\u001b[0mreset_index\u001b[0m\u001b[0;34m(\u001b[0m\u001b[0;34m)\u001b[0m\u001b[0;34m\u001b[0m\u001b[0;34m\u001b[0m\u001b[0m\n\u001b[1;32m    229\u001b[0m         \u001b[0mhexagon_gene_range\u001b[0m \u001b[0;34m=\u001b[0m \u001b[0mhexagon_gene_range\u001b[0m\u001b[0;34m.\u001b[0m\u001b[0mgroupby\u001b[0m\u001b[0;34m(\u001b[0m\u001b[0;34m\"Barcode_ID\"\u001b[0m\u001b[0;34m)\u001b[0m\u001b[0;34m.\u001b[0m\u001b[0magg\u001b[0m\u001b[0;34m(\u001b[0m\u001b[0;34m[\u001b[0m\u001b[0;34m'min'\u001b[0m\u001b[0;34m,\u001b[0m \u001b[0;34m'max'\u001b[0m\u001b[0;34m]\u001b[0m\u001b[0;34m)\u001b[0m\u001b[0;34m\u001b[0m\u001b[0;34m\u001b[0m\u001b[0m\n\u001b[0;32m--> 230\u001b[0;31m         \u001b[0mhexagon_gene_range\u001b[0m\u001b[0;34m[\u001b[0m\u001b[0;34m\"range\"\u001b[0m\u001b[0;34m]\u001b[0m \u001b[0;34m=\u001b[0m \u001b[0mhexagon_gene_range\u001b[0m\u001b[0;34m[\u001b[0m\u001b[0;34m\"max\"\u001b[0m\u001b[0;34m]\u001b[0m \u001b[0;34m-\u001b[0m \u001b[0mhexagon_gene_range\u001b[0m\u001b[0;34m[\u001b[0m\u001b[0;34m\"min\"\u001b[0m\u001b[0;34m]\u001b[0m\u001b[0;34m\u001b[0m\u001b[0;34m\u001b[0m\u001b[0m\n\u001b[0m\u001b[1;32m    231\u001b[0m         \u001b[0mmedian_range\u001b[0m \u001b[0;34m=\u001b[0m \u001b[0mnp\u001b[0m\u001b[0;34m.\u001b[0m\u001b[0mmedian\u001b[0m\u001b[0;34m(\u001b[0m\u001b[0mhexagon_gene_range\u001b[0m\u001b[0;34m[\u001b[0m\u001b[0;34m\"range\"\u001b[0m\u001b[0;34m]\u001b[0m\u001b[0;34m)\u001b[0m\u001b[0;34m\u001b[0m\u001b[0;34m\u001b[0m\u001b[0m\n\u001b[1;32m    232\u001b[0m         \u001b[0mbetween_gene_dynamic_range\u001b[0m \u001b[0;34m=\u001b[0m \u001b[0mnp\u001b[0m\u001b[0;34m.\u001b[0m\u001b[0mlog10\u001b[0m\u001b[0;34m(\u001b[0m\u001b[0mmedian_range\u001b[0m\u001b[0;34m)\u001b[0m\u001b[0;34m\u001b[0m\u001b[0;34m\u001b[0m\u001b[0m\n",
            "\u001b[0;32m/usr/local/lib/python3.10/dist-packages/pandas/core/frame.py\u001b[0m in \u001b[0;36m__getitem__\u001b[0;34m(self, key)\u001b[0m\n\u001b[1;32m   4099\u001b[0m         \u001b[0;32mif\u001b[0m \u001b[0mis_single_key\u001b[0m\u001b[0;34m:\u001b[0m\u001b[0;34m\u001b[0m\u001b[0;34m\u001b[0m\u001b[0m\n\u001b[1;32m   4100\u001b[0m             \u001b[0;32mif\u001b[0m \u001b[0mself\u001b[0m\u001b[0;34m.\u001b[0m\u001b[0mcolumns\u001b[0m\u001b[0;34m.\u001b[0m\u001b[0mnlevels\u001b[0m \u001b[0;34m>\u001b[0m \u001b[0;36m1\u001b[0m\u001b[0;34m:\u001b[0m\u001b[0;34m\u001b[0m\u001b[0;34m\u001b[0m\u001b[0m\n\u001b[0;32m-> 4101\u001b[0;31m                 \u001b[0;32mreturn\u001b[0m \u001b[0mself\u001b[0m\u001b[0;34m.\u001b[0m\u001b[0m_getitem_multilevel\u001b[0m\u001b[0;34m(\u001b[0m\u001b[0mkey\u001b[0m\u001b[0;34m)\u001b[0m\u001b[0;34m\u001b[0m\u001b[0;34m\u001b[0m\u001b[0m\n\u001b[0m\u001b[1;32m   4102\u001b[0m             \u001b[0mindexer\u001b[0m \u001b[0;34m=\u001b[0m \u001b[0mself\u001b[0m\u001b[0;34m.\u001b[0m\u001b[0mcolumns\u001b[0m\u001b[0;34m.\u001b[0m\u001b[0mget_loc\u001b[0m\u001b[0;34m(\u001b[0m\u001b[0mkey\u001b[0m\u001b[0;34m)\u001b[0m\u001b[0;34m\u001b[0m\u001b[0;34m\u001b[0m\u001b[0m\n\u001b[1;32m   4103\u001b[0m             \u001b[0;32mif\u001b[0m \u001b[0mis_integer\u001b[0m\u001b[0;34m(\u001b[0m\u001b[0mindexer\u001b[0m\u001b[0;34m)\u001b[0m\u001b[0;34m:\u001b[0m\u001b[0;34m\u001b[0m\u001b[0;34m\u001b[0m\u001b[0m\n",
            "\u001b[0;32m/usr/local/lib/python3.10/dist-packages/pandas/core/frame.py\u001b[0m in \u001b[0;36m_getitem_multilevel\u001b[0;34m(self, key)\u001b[0m\n\u001b[1;32m   4157\u001b[0m     \u001b[0;32mdef\u001b[0m \u001b[0m_getitem_multilevel\u001b[0m\u001b[0;34m(\u001b[0m\u001b[0mself\u001b[0m\u001b[0;34m,\u001b[0m \u001b[0mkey\u001b[0m\u001b[0;34m)\u001b[0m\u001b[0;34m:\u001b[0m\u001b[0;34m\u001b[0m\u001b[0;34m\u001b[0m\u001b[0m\n\u001b[1;32m   4158\u001b[0m         \u001b[0;31m# self.columns is a MultiIndex\u001b[0m\u001b[0;34m\u001b[0m\u001b[0;34m\u001b[0m\u001b[0m\n\u001b[0;32m-> 4159\u001b[0;31m         \u001b[0mloc\u001b[0m \u001b[0;34m=\u001b[0m \u001b[0mself\u001b[0m\u001b[0;34m.\u001b[0m\u001b[0mcolumns\u001b[0m\u001b[0;34m.\u001b[0m\u001b[0mget_loc\u001b[0m\u001b[0;34m(\u001b[0m\u001b[0mkey\u001b[0m\u001b[0;34m)\u001b[0m\u001b[0;34m\u001b[0m\u001b[0;34m\u001b[0m\u001b[0m\n\u001b[0m\u001b[1;32m   4160\u001b[0m         \u001b[0;32mif\u001b[0m \u001b[0misinstance\u001b[0m\u001b[0;34m(\u001b[0m\u001b[0mloc\u001b[0m\u001b[0;34m,\u001b[0m \u001b[0;34m(\u001b[0m\u001b[0mslice\u001b[0m\u001b[0;34m,\u001b[0m \u001b[0mnp\u001b[0m\u001b[0;34m.\u001b[0m\u001b[0mndarray\u001b[0m\u001b[0;34m)\u001b[0m\u001b[0;34m)\u001b[0m\u001b[0;34m:\u001b[0m\u001b[0;34m\u001b[0m\u001b[0;34m\u001b[0m\u001b[0m\n\u001b[1;32m   4161\u001b[0m             \u001b[0mnew_columns\u001b[0m \u001b[0;34m=\u001b[0m \u001b[0mself\u001b[0m\u001b[0;34m.\u001b[0m\u001b[0mcolumns\u001b[0m\u001b[0;34m[\u001b[0m\u001b[0mloc\u001b[0m\u001b[0;34m]\u001b[0m\u001b[0;34m\u001b[0m\u001b[0;34m\u001b[0m\u001b[0m\n",
            "\u001b[0;32m/usr/local/lib/python3.10/dist-packages/pandas/core/indexes/multi.py\u001b[0m in \u001b[0;36mget_loc\u001b[0;34m(self, key)\u001b[0m\n\u001b[1;32m   3038\u001b[0m \u001b[0;34m\u001b[0m\u001b[0m\n\u001b[1;32m   3039\u001b[0m         \u001b[0;32mif\u001b[0m \u001b[0;32mnot\u001b[0m \u001b[0misinstance\u001b[0m\u001b[0;34m(\u001b[0m\u001b[0mkey\u001b[0m\u001b[0;34m,\u001b[0m \u001b[0mtuple\u001b[0m\u001b[0;34m)\u001b[0m\u001b[0;34m:\u001b[0m\u001b[0;34m\u001b[0m\u001b[0;34m\u001b[0m\u001b[0m\n\u001b[0;32m-> 3040\u001b[0;31m             \u001b[0mloc\u001b[0m \u001b[0;34m=\u001b[0m \u001b[0mself\u001b[0m\u001b[0;34m.\u001b[0m\u001b[0m_get_level_indexer\u001b[0m\u001b[0;34m(\u001b[0m\u001b[0mkey\u001b[0m\u001b[0;34m,\u001b[0m \u001b[0mlevel\u001b[0m\u001b[0;34m=\u001b[0m\u001b[0;36m0\u001b[0m\u001b[0;34m)\u001b[0m\u001b[0;34m\u001b[0m\u001b[0;34m\u001b[0m\u001b[0m\n\u001b[0m\u001b[1;32m   3041\u001b[0m             \u001b[0;32mreturn\u001b[0m \u001b[0m_maybe_to_slice\u001b[0m\u001b[0;34m(\u001b[0m\u001b[0mloc\u001b[0m\u001b[0;34m)\u001b[0m\u001b[0;34m\u001b[0m\u001b[0;34m\u001b[0m\u001b[0m\n\u001b[1;32m   3042\u001b[0m \u001b[0;34m\u001b[0m\u001b[0m\n",
            "\u001b[0;32m/usr/local/lib/python3.10/dist-packages/pandas/core/indexes/multi.py\u001b[0m in \u001b[0;36m_get_level_indexer\u001b[0;34m(self, key, level, indexer)\u001b[0m\n\u001b[1;32m   3389\u001b[0m \u001b[0;34m\u001b[0m\u001b[0m\n\u001b[1;32m   3390\u001b[0m         \u001b[0;32melse\u001b[0m\u001b[0;34m:\u001b[0m\u001b[0;34m\u001b[0m\u001b[0;34m\u001b[0m\u001b[0m\n\u001b[0;32m-> 3391\u001b[0;31m             \u001b[0midx\u001b[0m \u001b[0;34m=\u001b[0m \u001b[0mself\u001b[0m\u001b[0;34m.\u001b[0m\u001b[0m_get_loc_single_level_index\u001b[0m\u001b[0;34m(\u001b[0m\u001b[0mlevel_index\u001b[0m\u001b[0;34m,\u001b[0m \u001b[0mkey\u001b[0m\u001b[0;34m)\u001b[0m\u001b[0;34m\u001b[0m\u001b[0;34m\u001b[0m\u001b[0m\n\u001b[0m\u001b[1;32m   3392\u001b[0m \u001b[0;34m\u001b[0m\u001b[0m\n\u001b[1;32m   3393\u001b[0m             \u001b[0;32mif\u001b[0m \u001b[0mlevel\u001b[0m \u001b[0;34m>\u001b[0m \u001b[0;36m0\u001b[0m \u001b[0;32mor\u001b[0m \u001b[0mself\u001b[0m\u001b[0;34m.\u001b[0m\u001b[0m_lexsort_depth\u001b[0m \u001b[0;34m==\u001b[0m \u001b[0;36m0\u001b[0m\u001b[0;34m:\u001b[0m\u001b[0;34m\u001b[0m\u001b[0;34m\u001b[0m\u001b[0m\n",
            "\u001b[0;32m/usr/local/lib/python3.10/dist-packages/pandas/core/indexes/multi.py\u001b[0m in \u001b[0;36m_get_loc_single_level_index\u001b[0;34m(self, level_index, key)\u001b[0m\n\u001b[1;32m   2978\u001b[0m             \u001b[0;32mreturn\u001b[0m \u001b[0;34m-\u001b[0m\u001b[0;36m1\u001b[0m\u001b[0;34m\u001b[0m\u001b[0;34m\u001b[0m\u001b[0m\n\u001b[1;32m   2979\u001b[0m         \u001b[0;32melse\u001b[0m\u001b[0;34m:\u001b[0m\u001b[0;34m\u001b[0m\u001b[0;34m\u001b[0m\u001b[0m\n\u001b[0;32m-> 2980\u001b[0;31m             \u001b[0;32mreturn\u001b[0m \u001b[0mlevel_index\u001b[0m\u001b[0;34m.\u001b[0m\u001b[0mget_loc\u001b[0m\u001b[0;34m(\u001b[0m\u001b[0mkey\u001b[0m\u001b[0;34m)\u001b[0m\u001b[0;34m\u001b[0m\u001b[0;34m\u001b[0m\u001b[0m\n\u001b[0m\u001b[1;32m   2981\u001b[0m \u001b[0;34m\u001b[0m\u001b[0m\n\u001b[1;32m   2982\u001b[0m     \u001b[0;32mdef\u001b[0m \u001b[0mget_loc\u001b[0m\u001b[0;34m(\u001b[0m\u001b[0mself\u001b[0m\u001b[0;34m,\u001b[0m \u001b[0mkey\u001b[0m\u001b[0;34m)\u001b[0m\u001b[0;34m:\u001b[0m\u001b[0;34m\u001b[0m\u001b[0;34m\u001b[0m\u001b[0m\n",
            "\u001b[0;32m/usr/local/lib/python3.10/dist-packages/pandas/core/indexes/base.py\u001b[0m in \u001b[0;36mget_loc\u001b[0;34m(self, key)\u001b[0m\n\u001b[1;32m   3810\u001b[0m             ):\n\u001b[1;32m   3811\u001b[0m                 \u001b[0;32mraise\u001b[0m \u001b[0mInvalidIndexError\u001b[0m\u001b[0;34m(\u001b[0m\u001b[0mkey\u001b[0m\u001b[0;34m)\u001b[0m\u001b[0;34m\u001b[0m\u001b[0;34m\u001b[0m\u001b[0m\n\u001b[0;32m-> 3812\u001b[0;31m             \u001b[0;32mraise\u001b[0m \u001b[0mKeyError\u001b[0m\u001b[0;34m(\u001b[0m\u001b[0mkey\u001b[0m\u001b[0;34m)\u001b[0m \u001b[0;32mfrom\u001b[0m \u001b[0merr\u001b[0m\u001b[0;34m\u001b[0m\u001b[0;34m\u001b[0m\u001b[0m\n\u001b[0m\u001b[1;32m   3813\u001b[0m         \u001b[0;32mexcept\u001b[0m \u001b[0mTypeError\u001b[0m\u001b[0;34m:\u001b[0m\u001b[0;34m\u001b[0m\u001b[0;34m\u001b[0m\u001b[0m\n\u001b[1;32m   3814\u001b[0m             \u001b[0;31m# If we have a listlike key, _check_indexing_error will raise\u001b[0m\u001b[0;34m\u001b[0m\u001b[0;34m\u001b[0m\u001b[0m\n",
            "\u001b[0;31mKeyError\u001b[0m: 'max'"
          ]
        }
      ]
    },
    {
      "cell_type": "markdown",
      "source": [
        "## Find your QC report as a html in the /content folder"
      ],
      "metadata": {
        "id": "6_yG1PxlfwgR"
      }
    },
    {
      "cell_type": "markdown",
      "source": [
        "Here, we import the squidpy package for spatial analysis and numpy for numerical operations. We load the Pseudovisium output using sq.read.visium and calculate the sum of counts for each observation. We then visualize the spatial distribution of the sum of counts and the expression of the \"INS\" gene using sq.pl.spatial_scatter."
      ],
      "metadata": {
        "id": "2WF19oUoOPbb"
      }
    },
    {
      "cell_type": "code",
      "execution_count": null,
      "metadata": {
        "id": "bbwzRneb_CzW"
      },
      "outputs": [],
      "source": [
        "import squidpy as sq\n",
        "import numpy as np\n",
        "adata_pv = sq.read.visium(\"/content/pseudovisium/cosmx_pancreas/\", library_id=\"library_id\")\n",
        "adata_pv.obs[\"sum\"]= np.array(np.sum(adata_pv.X,axis=1)).flatten()\n",
        "sq.pl.spatial_scatter(\n",
        "    adata_pv,color=\"sum\",img=False\n",
        ")"
      ]
    },
    {
      "cell_type": "code",
      "source": [
        "sq.pl.spatial_scatter(\n",
        "    adata_pv,color=\"INS\",img=False\n",
        ")"
      ],
      "metadata": {
        "id": "awA6Z2DcFqlB"
      },
      "execution_count": null,
      "outputs": []
    },
    {
      "cell_type": "markdown",
      "source": [
        "\n",
        "This code block defines a function load_in_fullres that loads the full-resolution data using sq.read.nanostring. It handles different scenarios where the input file may have different formats. It also calculates quality control metrics using sc.pp.calculate_qc_metrics and computes the sum of counts for each observation."
      ],
      "metadata": {
        "id": "fpGfaPhnOV6B"
      }
    },
    {
      "cell_type": "code",
      "execution_count": null,
      "metadata": {
        "id": "zDlGPGLY_C6b"
      },
      "outputs": [],
      "source": [
        "import pandas as pd\n",
        "def load_in_fullres(folder,ctu=0.12028):\n",
        "      try:\n",
        "          adata_fullres = sq.read.nanostring(\n",
        "              path=folder,\n",
        "              counts_file=\"Pancreas_exprMat_file.csv\",\n",
        "              meta_file=\"Pancreas_metadata_file.csv\",\n",
        "              fov_file=\"Pancreas_fov_positions_file.csv\",\n",
        "          )\n",
        "\n",
        "\n",
        "      except:\n",
        "          #first command -> locate to folder folder\n",
        "          file= \"/Pancreas_fov_positions_file.csv\"\n",
        "          new_file = \"/Pancreas_fov_positions_new_file.csv\"\n",
        "          # extract the third column from the CSV file\n",
        "          df = pd.read_csv(folder + file)\n",
        "          #create a column fov which is same as FOV\n",
        "          df[\"fov\"]=df[\"FOV\"]\n",
        "          #make it the index\n",
        "          df.set_index(\"fov\", inplace=True)\n",
        "\n",
        "          df.to_csv(folder + new_file, index=True)\n",
        "\n",
        "          adata_fullres = sq.read.nanostring(\n",
        "                  path=folder,\n",
        "                  counts_file=\"Pancreas_exprMat_file.csv\",\n",
        "                  meta_file=\"Pancreas_metadata_file.csv\",\n",
        "                  fov_file=\"Pancreas_fov_positions_new_file.csv\",\n",
        "              )\n",
        "          adata_fullres.obsm[\"spatial\"] = adata_fullres.obs[[\"CenterX_global_px\",\"CenterY_global_px\"]].to_numpy()\n",
        "          adata_fullres.obsm[\"spatial\"]=adata_fullres.obsm[\"spatial\"]*ctu\n",
        "\n",
        "      sc.pp.calculate_qc_metrics(adata_fullres, percent_top=(50, 100, 200, 300), inplace=True)\n",
        "      adata_fullres.obs[\"sum\"]= np.array(np.sum(adata_fullres.X,axis=1)).flatten()\n",
        "      return adata_fullres"
      ]
    },
    {
      "cell_type": "markdown",
      "metadata": {
        "id": "qeoDeuwYUADm"
      },
      "source": [
        "Loading in the full-res data might take a while. (This is exactly why hexagonal-binning is advantageous)"
      ]
    },
    {
      "cell_type": "markdown",
      "source": [
        "Here, we import the scanpy package and load the full-resolution data using the load_in_fullres function defined earlier.\n"
      ],
      "metadata": {
        "id": "1hm6cOOVOcY_"
      }
    },
    {
      "cell_type": "code",
      "execution_count": null,
      "metadata": {
        "id": "PAbrB4eL_C9h"
      },
      "outputs": [],
      "source": [
        "import scanpy as sc\n",
        "adata_fullres = load_in_fullres(\"/content/pancreas\",ctu=0.12028)"
      ]
    },
    {
      "cell_type": "markdown",
      "source": [
        "This code block visualizes the spatial distribution of the sum of counts and the expression of the \"INS\" gene in the full-resolution data using plt.scatter. It sets the aspect ratio of the plot to be equal using plt.gca().set_aspect('equal', adjustable='box')."
      ],
      "metadata": {
        "id": "u8CQG1UvOmsg"
      }
    },
    {
      "cell_type": "code",
      "execution_count": null,
      "metadata": {
        "id": "mb1FBqGAXjyX"
      },
      "outputs": [],
      "source": [
        "import matplotlib.pyplot as plt\n",
        "plt.scatter(adata_fullres.obsm[\"spatial\"][:,0],adata_fullres.obsm[\"spatial\"][:,1],c=adata_fullres.obs[\"sum\"],s=0.5)\n",
        "plt.gca().set_aspect('equal', adjustable='box')\n",
        "plt.show()"
      ]
    },
    {
      "cell_type": "code",
      "source": [
        "#plot Insulin gene\n",
        "plt.scatter(adata_fullres.obsm[\"spatial\"][:,0],adata_fullres.obsm[\"spatial\"][:,1],c=adata_fullres[:,\"INS\"].X.toarray().flatten(),cmap=\"viridis\")\n",
        "plt.gca().set_aspect('equal', adjustable='box')\n",
        "plt.show()"
      ],
      "metadata": {
        "id": "ZILOGJqFExNC"
      },
      "execution_count": null,
      "outputs": []
    },
    {
      "cell_type": "markdown",
      "source": [
        "This section prints the size of the full-resolution dataset using the asizeof function from pympler."
      ],
      "metadata": {
        "id": "SWYi9dCsOr6B"
      }
    },
    {
      "cell_type": "markdown",
      "metadata": {
        "id": "xMiRTFU1HuuY"
      },
      "source": [
        "## Size of the full res dataset."
      ]
    },
    {
      "cell_type": "code",
      "execution_count": null,
      "metadata": {
        "id": "1LXKeg6mQlCI"
      },
      "outputs": [],
      "source": [
        "print(\"Total size of the object:\", asizeof.asizeof(adata_fullres)/ (1024 * 1024), \"Mb\")"
      ]
    },
    {
      "cell_type": "markdown",
      "source": [
        "This section prints the size of the Pseudovisium binned dataset using the asizeof function from pympler. It demonstrates the reduced size compared to the full-resolution dataset."
      ],
      "metadata": {
        "id": "noi2JfZdOvz_"
      }
    },
    {
      "cell_type": "markdown",
      "metadata": {
        "id": "cVp9aUNkHyJm"
      },
      "source": [
        "## Size of the Pseudovisium binned dataset (50um bins - 2*25)."
      ]
    },
    {
      "cell_type": "code",
      "execution_count": null,
      "metadata": {
        "id": "ABLy_MlxQtL6"
      },
      "outputs": [],
      "source": [
        "print(\"Total size of the object:\", asizeof.asizeof(adata_pv)/ (1024 * 1024), \"Mb\")"
      ]
    },
    {
      "cell_type": "markdown",
      "source": [
        "This final section prints a list of installed packages in the environment using the subprocess module and the pip freeze command."
      ],
      "metadata": {
        "id": "-c4ayW7kO1eX"
      }
    },
    {
      "cell_type": "code",
      "execution_count": null,
      "metadata": {
        "id": "dAyC8wkaUnif"
      },
      "outputs": [],
      "source": [
        "import subprocess\n",
        "\n",
        "# Run the pip freeze command to get a list of installed packages\n",
        "output = subprocess.check_output(['pip', 'freeze']).decode('utf-8').strip().split('\\n')\n",
        "\n",
        "print(\"Installed packages:\")\n",
        "for package in output:\n",
        "    print(package)"
      ]
    },
    {
      "cell_type": "code",
      "source": [],
      "metadata": {
        "id": "m_Rv61k2PpKI"
      },
      "execution_count": null,
      "outputs": []
    }
  ],
  "metadata": {
    "colab": {
      "machine_shape": "hm",
      "provenance": [],
      "include_colab_link": true
    },
    "kernelspec": {
      "display_name": "Python 3",
      "name": "python3"
    },
    "language_info": {
      "name": "python"
    }
  },
  "nbformat": 4,
  "nbformat_minor": 0
}