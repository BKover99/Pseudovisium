{
  "cells": [
    {
      "cell_type": "markdown",
      "metadata": {
        "id": "view-in-github",
        "colab_type": "text"
      },
      "source": [
        "<a href=\"https://colab.research.google.com/github/BKover99/Pseudovisium/blob/main/CosMx_example.ipynb\" target=\"_parent\"><img src=\"https://colab.research.google.com/assets/colab-badge.svg\" alt=\"Open In Colab\"/></a>"
      ]
    },
    {
      "cell_type": "code",
      "execution_count": null,
      "metadata": {
        "colab": {
          "base_uri": "https://localhost:8080/"
        },
        "id": "FoYMs0bdzunk",
        "outputId": "2fd82d26-6dd9-4521-9ce1-34b8aaa85001"
      },
      "outputs": [
        {
          "output_type": "stream",
          "name": "stdout",
          "text": [
            "--2024-05-02 07:21:59--  https://dg1oqa.bl.files.1drv.com/y4m2CulsqPOHi88uM3y4R3bpe_E0oV-5QWcibRtQAa6_OEwaeDJp2szwSfQLHeZ9hukrY97lU2Mzzghwvm77jm3jqzjsYHWWmwcn-_lRMn7e1R1tOBrFkHba5uaoOv2yQcDobXlqrpmChbiHihhY_4uT2L3ayWbLGj-OBQIIulTUqBSMDshOXZmZhfGQfa3i3GHgzgYf6-2z0sWlKjMlQhv-w\n",
            "Resolving dg1oqa.bl.files.1drv.com (dg1oqa.bl.files.1drv.com)... 13.107.43.12\n",
            "Connecting to dg1oqa.bl.files.1drv.com (dg1oqa.bl.files.1drv.com)|13.107.43.12|:443... connected.\n",
            "HTTP request sent, awaiting response... 200 OK\n",
            "Length: 2123307094 (2.0G) [application/zip]\n",
            "Saving to: ‘y4m2CulsqPOHi88uM3y4R3bpe_E0oV-5QWcibRtQAa6_OEwaeDJp2szwSfQLHeZ9hukrY97lU2Mzzghwvm77jm3jqzjsYHWWmwcn-_lRMn7e1R1tOBrFkHba5uaoOv2yQcDobXlqrpmChbiHihhY_4uT2L3ayWbLGj-OBQIIulTUqBSMDshOXZmZhfGQfa3i3GHgzgYf6-2z0sWlKjMlQhv-w’\n",
            "\n",
            "y4m2CulsqPOHi88uM3y 100%[===================>]   1.98G  17.5MB/s    in 2m 8s   \n",
            "\n",
            "2024-05-02 07:24:09 (15.8 MB/s) - ‘y4m2CulsqPOHi88uM3y4R3bpe_E0oV-5QWcibRtQAa6_OEwaeDJp2szwSfQLHeZ9hukrY97lU2Mzzghwvm77jm3jqzjsYHWWmwcn-_lRMn7e1R1tOBrFkHba5uaoOv2yQcDobXlqrpmChbiHihhY_4uT2L3ayWbLGj-OBQIIulTUqBSMDshOXZmZhfGQfa3i3GHgzgYf6-2z0sWlKjMlQhv-w’ saved [2123307094/2123307094]\n",
            "\n",
            "Archive:  /content/y4m2CulsqPOHi88uM3y4R3bpe_E0oV-5QWcibRtQAa6_OEwaeDJp2szwSfQLHeZ9hukrY97lU2Mzzghwvm77jm3jqzjsYHWWmwcn-_lRMn7e1R1tOBrFkHba5uaoOv2yQcDobXlqrpmChbiHihhY_4uT2L3ayWbLGj-OBQIIulTUqBSMDshOXZmZhfGQfa3i3GHgzgYf6-2z0sWlKjMlQhv-w\n",
            "   creating: pancreas/\n",
            "  inflating: pancreas/.DS_Store      \n",
            "  inflating: __MACOSX/pancreas/._.DS_Store  \n",
            "   creating: pancreas/CellLabels/\n",
            "  inflating: __MACOSX/pancreas/._CellLabels  \n",
            "  inflating: pancreas/Pancreas_metadata_file.csv  \n",
            "  inflating: __MACOSX/pancreas/._Pancreas_metadata_file.csv  \n",
            "   creating: pancreas/CompartmentLabels/\n",
            "  inflating: __MACOSX/pancreas/._CompartmentLabels  \n",
            "  inflating: pancreas/Pancreas_tx_file.csv  \n",
            "  inflating: __MACOSX/pancreas/._Pancreas_tx_file.csv  \n",
            "  inflating: pancreas/Pancreas_exprMat_file.csv  \n",
            "  inflating: __MACOSX/pancreas/._Pancreas_exprMat_file.csv  \n",
            "   creating: pancreas/CellOverlay/\n",
            "  inflating: __MACOSX/pancreas/._CellOverlay  \n",
            "  inflating: pancreas/Pancreas-CosMx-WTx-FlatFiles.zip  \n",
            "  inflating: __MACOSX/pancreas/._Pancreas-CosMx-WTx-FlatFiles.zip  \n",
            "  inflating: pancreas/Pancreas_fov_positions_file.csv  \n",
            "  inflating: __MACOSX/pancreas/._Pancreas_fov_positions_file.csv  \n",
            "  inflating: pancreas/Pancreas-CosMx-ReadMe.html  \n",
            "  inflating: __MACOSX/pancreas/._Pancreas-CosMx-ReadMe.html  \n",
            "   creating: pancreas/CellComposite/\n",
            "  inflating: __MACOSX/pancreas/._CellComposite  \n",
            "  inflating: pancreas/Pancreas-polygons.csv  \n",
            "  inflating: __MACOSX/pancreas/._Pancreas-polygons.csv  \n",
            "   creating: pancreas/CellType_Accessory_Data/\n",
            "  inflating: __MACOSX/pancreas/._CellType_Accessory_Data  \n",
            "  inflating: pancreas/CellLabels/CellLabels_F057.tif  \n",
            "  inflating: __MACOSX/pancreas/CellLabels/._CellLabels_F057.tif  \n",
            "  inflating: pancreas/CellLabels/CellLabels_F056.tif  \n",
            "  inflating: __MACOSX/pancreas/CellLabels/._CellLabels_F056.tif  \n",
            "  inflating: pancreas/CellLabels/CellLabels_F068.tif  \n",
            "  inflating: __MACOSX/pancreas/CellLabels/._CellLabels_F068.tif  \n",
            "  inflating: pancreas/CellLabels/CellLabels_F054.tif  \n",
            "  inflating: __MACOSX/pancreas/CellLabels/._CellLabels_F054.tif  \n",
            "  inflating: pancreas/CellLabels/CellLabels_F055.tif  \n",
            "  inflating: __MACOSX/pancreas/CellLabels/._CellLabels_F055.tif  \n",
            "  inflating: pancreas/CellLabels/CellLabels_F051.tif  \n",
            "  inflating: __MACOSX/pancreas/CellLabels/._CellLabels_F051.tif  \n",
            "  inflating: pancreas/CellLabels/CellLabels_F052.tif  \n",
            "  inflating: __MACOSX/pancreas/CellLabels/._CellLabels_F052.tif  \n",
            "  inflating: pancreas/CellLabels/CellLabels_F053.tif  \n",
            "  inflating: __MACOSX/pancreas/CellLabels/._CellLabels_F053.tif  \n",
            "  inflating: pancreas/CellLabels/CellLabels_F062.tif  \n",
            "  inflating: __MACOSX/pancreas/CellLabels/._CellLabels_F062.tif  \n",
            "  inflating: pancreas/CellLabels/CellLabels_F063.tif  \n",
            "  inflating: __MACOSX/pancreas/CellLabels/._CellLabels_F063.tif  \n",
            "  inflating: pancreas/CellLabels/CellLabels_F061.tif  \n",
            "  inflating: __MACOSX/pancreas/CellLabels/._CellLabels_F061.tif  \n",
            "  inflating: pancreas/CellLabels/CellLabels_F060.tif  \n",
            "  inflating: __MACOSX/pancreas/CellLabels/._CellLabels_F060.tif  \n",
            "  inflating: pancreas/CellLabels/CellLabels_F064.tif  \n",
            "  inflating: __MACOSX/pancreas/CellLabels/._CellLabels_F064.tif  \n",
            "  inflating: pancreas/CellLabels/CellLabels_F058.tif  \n",
            "  inflating: __MACOSX/pancreas/CellLabels/._CellLabels_F058.tif  \n",
            "  inflating: pancreas/CellLabels/CellLabels_F059.tif  \n",
            "  inflating: __MACOSX/pancreas/CellLabels/._CellLabels_F059.tif  \n",
            "  inflating: pancreas/CellLabels/CellLabels_F065.tif  \n",
            "  inflating: __MACOSX/pancreas/CellLabels/._CellLabels_F065.tif  \n",
            "  inflating: pancreas/CellLabels/CellLabels_F067.tif  \n",
            "  inflating: __MACOSX/pancreas/CellLabels/._CellLabels_F067.tif  \n",
            "  inflating: pancreas/CellLabels/CellLabels_F066.tif  \n",
            "  inflating: __MACOSX/pancreas/CellLabels/._CellLabels_F066.tif  \n",
            "  inflating: pancreas/CompartmentLabels/CompartmentLabels_F052.tif  \n",
            "  inflating: __MACOSX/pancreas/CompartmentLabels/._CompartmentLabels_F052.tif  \n",
            "  inflating: pancreas/CompartmentLabels/CompartmentLabels_F053.tif  \n",
            "  inflating: __MACOSX/pancreas/CompartmentLabels/._CompartmentLabels_F053.tif  \n",
            "  inflating: pancreas/CompartmentLabels/CompartmentLabels_F051.tif  \n",
            "  inflating: __MACOSX/pancreas/CompartmentLabels/._CompartmentLabels_F051.tif  \n",
            "  inflating: pancreas/CompartmentLabels/CompartmentLabels_F068.tif  \n",
            "  inflating: __MACOSX/pancreas/CompartmentLabels/._CompartmentLabels_F068.tif  \n",
            "  inflating: pancreas/CompartmentLabels/CompartmentLabels_F054.tif  \n",
            "  inflating: __MACOSX/pancreas/CompartmentLabels/._CompartmentLabels_F054.tif  \n",
            "  inflating: pancreas/CompartmentLabels/CompartmentLabels_F055.tif  \n",
            "  inflating: __MACOSX/pancreas/CompartmentLabels/._CompartmentLabels_F055.tif  \n",
            "  inflating: pancreas/CompartmentLabels/CompartmentLabels_F057.tif  \n",
            "  inflating: __MACOSX/pancreas/CompartmentLabels/._CompartmentLabels_F057.tif  \n",
            "  inflating: pancreas/CompartmentLabels/CompartmentLabels_F056.tif  \n",
            "  inflating: __MACOSX/pancreas/CompartmentLabels/._CompartmentLabels_F056.tif  \n",
            "  inflating: pancreas/CompartmentLabels/CompartmentLabels_F067.tif  \n",
            "  inflating: __MACOSX/pancreas/CompartmentLabels/._CompartmentLabels_F067.tif  \n",
            "  inflating: pancreas/CompartmentLabels/CompartmentLabels_F066.tif  \n",
            "  inflating: __MACOSX/pancreas/CompartmentLabels/._CompartmentLabels_F066.tif  \n",
            "  inflating: pancreas/CompartmentLabels/CompartmentLabels_F064.tif  \n",
            "  inflating: __MACOSX/pancreas/CompartmentLabels/._CompartmentLabels_F064.tif  \n",
            "  inflating: pancreas/CompartmentLabels/CompartmentLabels_F058.tif  \n",
            "  inflating: __MACOSX/pancreas/CompartmentLabels/._CompartmentLabels_F058.tif  \n",
            "  inflating: pancreas/CompartmentLabels/CompartmentLabels_F059.tif  \n",
            "  inflating: __MACOSX/pancreas/CompartmentLabels/._CompartmentLabels_F059.tif  \n",
            "  inflating: pancreas/CompartmentLabels/CompartmentLabels_F065.tif  \n",
            "  inflating: __MACOSX/pancreas/CompartmentLabels/._CompartmentLabels_F065.tif  \n",
            "  inflating: pancreas/CompartmentLabels/CompartmentLabels_F061.tif  \n",
            "  inflating: __MACOSX/pancreas/CompartmentLabels/._CompartmentLabels_F061.tif  \n",
            "  inflating: pancreas/CompartmentLabels/CompartmentLabels_F060.tif  \n",
            "  inflating: __MACOSX/pancreas/CompartmentLabels/._CompartmentLabels_F060.tif  \n",
            "  inflating: pancreas/CompartmentLabels/CompartmentLabels_F062.tif  \n",
            "  inflating: __MACOSX/pancreas/CompartmentLabels/._CompartmentLabels_F062.tif  \n",
            "  inflating: pancreas/CompartmentLabels/CompartmentLabels_F063.tif  \n",
            "  inflating: __MACOSX/pancreas/CompartmentLabels/._CompartmentLabels_F063.tif  \n",
            "  inflating: pancreas/CellOverlay/CellOverlay_F066.jpg  \n",
            "  inflating: __MACOSX/pancreas/CellOverlay/._CellOverlay_F066.jpg  \n",
            "  inflating: pancreas/CellOverlay/CellOverlay_F067.jpg  \n",
            "  inflating: __MACOSX/pancreas/CellOverlay/._CellOverlay_F067.jpg  \n",
            "  inflating: pancreas/CellOverlay/CellOverlay_F065.jpg  \n",
            "  inflating: __MACOSX/pancreas/CellOverlay/._CellOverlay_F065.jpg  \n",
            "  inflating: pancreas/CellOverlay/CellOverlay_F059.jpg  \n",
            "  inflating: __MACOSX/pancreas/CellOverlay/._CellOverlay_F059.jpg  \n",
            "  inflating: pancreas/CellOverlay/CellOverlay_F058.jpg  \n",
            "  inflating: __MACOSX/pancreas/CellOverlay/._CellOverlay_F058.jpg  \n",
            "  inflating: pancreas/CellOverlay/CellOverlay_F064.jpg  \n",
            "  inflating: __MACOSX/pancreas/CellOverlay/._CellOverlay_F064.jpg  \n",
            "  inflating: pancreas/CellOverlay/CellOverlay_F060.jpg  \n",
            "  inflating: __MACOSX/pancreas/CellOverlay/._CellOverlay_F060.jpg  \n",
            "  inflating: pancreas/CellOverlay/CellOverlay_F061.jpg  \n",
            "  inflating: __MACOSX/pancreas/CellOverlay/._CellOverlay_F061.jpg  \n",
            "  inflating: pancreas/CellOverlay/CellOverlay_F063.jpg  \n",
            "  inflating: __MACOSX/pancreas/CellOverlay/._CellOverlay_F063.jpg  \n",
            "  inflating: pancreas/CellOverlay/CellOverlay_F062.jpg  \n",
            "  inflating: __MACOSX/pancreas/CellOverlay/._CellOverlay_F062.jpg  \n",
            "  inflating: pancreas/CellOverlay/CellOverlay_F053.jpg  \n",
            "  inflating: __MACOSX/pancreas/CellOverlay/._CellOverlay_F053.jpg  \n",
            "  inflating: pancreas/CellOverlay/CellOverlay_F052.jpg  \n",
            "  inflating: __MACOSX/pancreas/CellOverlay/._CellOverlay_F052.jpg  \n",
            "  inflating: pancreas/CellOverlay/CellOverlay_F051.jpg  \n",
            "  inflating: __MACOSX/pancreas/CellOverlay/._CellOverlay_F051.jpg  \n",
            "  inflating: pancreas/CellOverlay/CellOverlay_F055.jpg  \n",
            "  inflating: __MACOSX/pancreas/CellOverlay/._CellOverlay_F055.jpg  \n",
            "  inflating: pancreas/CellOverlay/CellOverlay_F054.jpg  \n",
            "  inflating: __MACOSX/pancreas/CellOverlay/._CellOverlay_F054.jpg  \n",
            "  inflating: pancreas/CellOverlay/CellOverlay_F068.jpg  \n",
            "  inflating: __MACOSX/pancreas/CellOverlay/._CellOverlay_F068.jpg  \n",
            "  inflating: pancreas/CellOverlay/CellOverlay_F056.jpg  \n",
            "  inflating: __MACOSX/pancreas/CellOverlay/._CellOverlay_F056.jpg  \n",
            "  inflating: pancreas/CellOverlay/CellOverlay_F057.jpg  \n",
            "  inflating: __MACOSX/pancreas/CellOverlay/._CellOverlay_F057.jpg  \n",
            "  inflating: pancreas/CellComposite/CellComposite_F063.jpg  \n",
            "  inflating: __MACOSX/pancreas/CellComposite/._CellComposite_F063.jpg  \n",
            "  inflating: pancreas/CellComposite/CellComposite_F062.jpg  \n",
            "  inflating: __MACOSX/pancreas/CellComposite/._CellComposite_F062.jpg  \n",
            "  inflating: pancreas/CellComposite/CellComposite_F060.jpg  \n",
            "  inflating: __MACOSX/pancreas/CellComposite/._CellComposite_F060.jpg  \n",
            "  inflating: pancreas/CellComposite/CellComposite_F061.jpg  \n",
            "  inflating: __MACOSX/pancreas/CellComposite/._CellComposite_F061.jpg  \n",
            "  inflating: pancreas/CellComposite/CellComposite_F065.jpg  \n",
            "  inflating: __MACOSX/pancreas/CellComposite/._CellComposite_F065.jpg  \n",
            "  inflating: pancreas/CellComposite/CellComposite_F059.jpg  \n",
            "  inflating: __MACOSX/pancreas/CellComposite/._CellComposite_F059.jpg  \n",
            "  inflating: pancreas/CellComposite/CellComposite_F058.jpg  \n",
            "  inflating: __MACOSX/pancreas/CellComposite/._CellComposite_F058.jpg  \n",
            "  inflating: pancreas/CellComposite/CellComposite_F064.jpg  \n",
            "  inflating: __MACOSX/pancreas/CellComposite/._CellComposite_F064.jpg  \n",
            "  inflating: pancreas/CellComposite/CellComposite_F066.jpg  \n",
            "  inflating: __MACOSX/pancreas/CellComposite/._CellComposite_F066.jpg  \n",
            "  inflating: pancreas/CellComposite/CellComposite_F067.jpg  \n",
            "  inflating: __MACOSX/pancreas/CellComposite/._CellComposite_F067.jpg  \n",
            "  inflating: pancreas/CellComposite/CellComposite_F056.jpg  \n",
            "  inflating: __MACOSX/pancreas/CellComposite/._CellComposite_F056.jpg  \n",
            "  inflating: pancreas/CellComposite/CellComposite_F057.jpg  \n",
            "  inflating: __MACOSX/pancreas/CellComposite/._CellComposite_F057.jpg  \n",
            "  inflating: pancreas/CellComposite/CellComposite_F055.jpg  \n",
            "  inflating: __MACOSX/pancreas/CellComposite/._CellComposite_F055.jpg  \n",
            "  inflating: pancreas/CellComposite/CellComposite_F054.jpg  \n",
            "  inflating: __MACOSX/pancreas/CellComposite/._CellComposite_F054.jpg  \n",
            "  inflating: pancreas/CellComposite/CellComposite_F068.jpg  \n",
            "  inflating: __MACOSX/pancreas/CellComposite/._CellComposite_F068.jpg  \n",
            "  inflating: pancreas/CellComposite/CellComposite_F051.jpg  \n",
            "  inflating: __MACOSX/pancreas/CellComposite/._CellComposite_F051.jpg  \n",
            "  inflating: pancreas/CellComposite/CellComposite_F053.jpg  \n",
            "  inflating: __MACOSX/pancreas/CellComposite/._CellComposite_F053.jpg  \n",
            "  inflating: pancreas/CellComposite/CellComposite_F052.jpg  \n",
            "  inflating: __MACOSX/pancreas/CellComposite/._CellComposite_F052.jpg  \n",
            "  inflating: pancreas/CellType_Accessory_Data/Pancreas_celltype_InSituType.rds  \n",
            "  inflating: __MACOSX/pancreas/CellType_Accessory_Data/._Pancreas_celltype_InSituType.rds  \n"
          ]
        }
      ],
      "source": [
        "!wget https://dg1oqa.bl.files.1drv.com/y4m2CulsqPOHi88uM3y4R3bpe_E0oV-5QWcibRtQAa6_OEwaeDJp2szwSfQLHeZ9hukrY97lU2Mzzghwvm77jm3jqzjsYHWWmwcn-_lRMn7e1R1tOBrFkHba5uaoOv2yQcDobXlqrpmChbiHihhY_4uT2L3ayWbLGj-OBQIIulTUqBSMDshOXZmZhfGQfa3i3GHgzgYf6-2z0sWlKjMlQhv-w\n",
        "!unzip /content/y4m2CulsqPOHi88uM3y4R3bpe_E0oV-5QWcibRtQAa6_OEwaeDJp2szwSfQLHeZ9hukrY97lU2Mzzghwvm77jm3jqzjsYHWWmwcn-_lRMn7e1R1tOBrFkHba5uaoOv2yQcDobXlqrpmChbiHihhY_4uT2L3ayWbLGj-OBQIIulTUqBSMDshOXZmZhfGQfa3i3GHgzgYf6-2z0sWlKjMlQhv-w"
      ]
    },
    {
      "cell_type": "code",
      "execution_count": null,
      "metadata": {
        "colab": {
          "base_uri": "https://localhost:8080/"
        },
        "id": "7_3Z6b9L0G9V",
        "outputId": "b42c4b75-230f-4854-8241-e8eb74a0c391"
      },
      "outputs": [
        {
          "output_type": "stream",
          "name": "stdout",
          "text": [
            "Collecting pympler\n",
            "  Downloading Pympler-1.0.1-py3-none-any.whl (164 kB)\n",
            "\u001b[?25l     \u001b[90m━━━━━━━━━━━━━━━━━━━━━━━━━━━━━━━━━━━━━━━━\u001b[0m \u001b[32m0.0/164.8 kB\u001b[0m \u001b[31m?\u001b[0m eta \u001b[36m-:--:--\u001b[0m\r\u001b[2K     \u001b[91m━━━━━━━━━━━━━━━━━━━━━━━━━━━\u001b[0m\u001b[90m╺\u001b[0m\u001b[90m━━━━━━━━━━━━\u001b[0m \u001b[32m112.6/164.8 kB\u001b[0m \u001b[31m3.3 MB/s\u001b[0m eta \u001b[36m0:00:01\u001b[0m\r\u001b[2K     \u001b[90m━━━━━━━━━━━━━━━━━━━━━━━━━━━━━━━━━━━━━━━━\u001b[0m \u001b[32m164.8/164.8 kB\u001b[0m \u001b[31m3.4 MB/s\u001b[0m eta \u001b[36m0:00:00\u001b[0m\n",
            "\u001b[?25hInstalling collected packages: pympler\n",
            "Successfully installed pympler-1.0.1\n",
            "Collecting Pseudovisium\n",
            "  Downloading Pseudovisium-0.0.9.tar.gz (33 kB)\n",
            "  Preparing metadata (setup.py) ... \u001b[?25l\u001b[?25hdone\n",
            "Requirement already satisfied: numpy in /usr/local/lib/python3.10/dist-packages (from Pseudovisium) (1.25.2)\n",
            "Requirement already satisfied: pandas in /usr/local/lib/python3.10/dist-packages (from Pseudovisium) (2.0.3)\n",
            "Requirement already satisfied: scipy in /usr/local/lib/python3.10/dist-packages (from Pseudovisium) (1.11.4)\n",
            "Collecting scanpy (from Pseudovisium)\n",
            "  Downloading scanpy-1.10.1-py3-none-any.whl (2.1 MB)\n",
            "\u001b[2K     \u001b[90m━━━━━━━━━━━━━━━━━━━━━━━━━━━━━━━━━━━━━━━━\u001b[0m \u001b[32m2.1/2.1 MB\u001b[0m \u001b[31m8.4 MB/s\u001b[0m eta \u001b[36m0:00:00\u001b[0m\n",
            "\u001b[?25hCollecting squidpy (from Pseudovisium)\n",
            "  Downloading squidpy-1.4.1-py3-none-any.whl (145 kB)\n",
            "\u001b[2K     \u001b[90m━━━━━━━━━━━━━━━━━━━━━━━━━━━━━━━━━━━━━━━━\u001b[0m \u001b[32m145.8/145.8 kB\u001b[0m \u001b[31m7.4 MB/s\u001b[0m eta \u001b[36m0:00:00\u001b[0m\n",
            "\u001b[?25hRequirement already satisfied: matplotlib in /usr/local/lib/python3.10/dist-packages (from Pseudovisium) (3.7.1)\n",
            "Requirement already satisfied: opencv-python in /usr/local/lib/python3.10/dist-packages (from Pseudovisium) (4.8.0.76)\n",
            "Requirement already satisfied: h5py in /usr/local/lib/python3.10/dist-packages (from Pseudovisium) (3.9.0)\n",
            "Collecting anndata (from Pseudovisium)\n",
            "  Downloading anndata-0.10.7-py3-none-any.whl (122 kB)\n",
            "\u001b[2K     \u001b[90m━━━━━━━━━━━━━━━━━━━━━━━━━━━━━━━━━━━━━━━━\u001b[0m \u001b[32m122.4/122.4 kB\u001b[0m \u001b[31m9.5 MB/s\u001b[0m eta \u001b[36m0:00:00\u001b[0m\n",
            "\u001b[?25hRequirement already satisfied: tifffile in /usr/local/lib/python3.10/dist-packages (from Pseudovisium) (2024.4.24)\n",
            "Requirement already satisfied: tqdm in /usr/local/lib/python3.10/dist-packages (from Pseudovisium) (4.66.2)\n",
            "Collecting pysal (from Pseudovisium)\n",
            "  Downloading pysal-24.1-py3-none-any.whl (17 kB)\n",
            "Requirement already satisfied: geopandas in /usr/local/lib/python3.10/dist-packages (from Pseudovisium) (0.13.2)\n",
            "Requirement already satisfied: seaborn in /usr/local/lib/python3.10/dist-packages (from Pseudovisium) (0.13.1)\n",
            "Collecting adjustText (from Pseudovisium)\n",
            "  Downloading adjustText-1.1.1-py3-none-any.whl (11 kB)\n",
            "Requirement already satisfied: shapely in /usr/local/lib/python3.10/dist-packages (from Pseudovisium) (2.0.4)\n",
            "Collecting array-api-compat!=1.5,>1.4 (from anndata->Pseudovisium)\n",
            "  Downloading array_api_compat-1.6-py3-none-any.whl (36 kB)\n",
            "Requirement already satisfied: exceptiongroup in /usr/local/lib/python3.10/dist-packages (from anndata->Pseudovisium) (1.2.1)\n",
            "Requirement already satisfied: natsort in /usr/local/lib/python3.10/dist-packages (from anndata->Pseudovisium) (8.4.0)\n",
            "Requirement already satisfied: packaging>=20.0 in /usr/local/lib/python3.10/dist-packages (from anndata->Pseudovisium) (24.0)\n",
            "Requirement already satisfied: python-dateutil>=2.8.2 in /usr/local/lib/python3.10/dist-packages (from pandas->Pseudovisium) (2.8.2)\n",
            "Requirement already satisfied: pytz>=2020.1 in /usr/local/lib/python3.10/dist-packages (from pandas->Pseudovisium) (2023.4)\n",
            "Requirement already satisfied: tzdata>=2022.1 in /usr/local/lib/python3.10/dist-packages (from pandas->Pseudovisium) (2024.1)\n",
            "Requirement already satisfied: fiona>=1.8.19 in /usr/local/lib/python3.10/dist-packages (from geopandas->Pseudovisium) (1.9.6)\n",
            "Requirement already satisfied: pyproj>=3.0.1 in /usr/local/lib/python3.10/dist-packages (from geopandas->Pseudovisium) (3.6.1)\n",
            "Requirement already satisfied: contourpy>=1.0.1 in /usr/local/lib/python3.10/dist-packages (from matplotlib->Pseudovisium) (1.2.1)\n",
            "Requirement already satisfied: cycler>=0.10 in /usr/local/lib/python3.10/dist-packages (from matplotlib->Pseudovisium) (0.12.1)\n",
            "Requirement already satisfied: fonttools>=4.22.0 in /usr/local/lib/python3.10/dist-packages (from matplotlib->Pseudovisium) (4.51.0)\n",
            "Requirement already satisfied: kiwisolver>=1.0.1 in /usr/local/lib/python3.10/dist-packages (from matplotlib->Pseudovisium) (1.4.5)\n",
            "Requirement already satisfied: pillow>=6.2.0 in /usr/local/lib/python3.10/dist-packages (from matplotlib->Pseudovisium) (9.4.0)\n",
            "Requirement already satisfied: pyparsing>=2.3.1 in /usr/local/lib/python3.10/dist-packages (from matplotlib->Pseudovisium) (3.1.2)\n",
            "Collecting libpysal>=4.6.2 (from pysal->Pseudovisium)\n",
            "  Downloading libpysal-4.10-py3-none-any.whl (2.8 MB)\n",
            "\u001b[2K     \u001b[90m━━━━━━━━━━━━━━━━━━━━━━━━━━━━━━━━━━━━━━━━\u001b[0m \u001b[32m2.8/2.8 MB\u001b[0m \u001b[31m13.7 MB/s\u001b[0m eta \u001b[36m0:00:00\u001b[0m\n",
            "\u001b[?25hCollecting access>=1.1.8 (from pysal->Pseudovisium)\n",
            "  Downloading access-1.1.9-py3-none-any.whl (21 kB)\n",
            "Collecting esda>=2.4.1 (from pysal->Pseudovisium)\n",
            "  Downloading esda-2.5.1-py3-none-any.whl (132 kB)\n",
            "\u001b[2K     \u001b[90m━━━━━━━━━━━━━━━━━━━━━━━━━━━━━━━━━━━━━━━━\u001b[0m \u001b[32m132.4/132.4 kB\u001b[0m \u001b[31m8.6 MB/s\u001b[0m eta \u001b[36m0:00:00\u001b[0m\n",
            "\u001b[?25hCollecting giddy>=2.3.3 (from pysal->Pseudovisium)\n",
            "  Downloading giddy-2.3.5-py3-none-any.whl (61 kB)\n",
            "\u001b[2K     \u001b[90m━━━━━━━━━━━━━━━━━━━━━━━━━━━━━━━━━━━━━━━━\u001b[0m \u001b[32m61.1/61.1 kB\u001b[0m \u001b[31m4.6 MB/s\u001b[0m eta \u001b[36m0:00:00\u001b[0m\n",
            "\u001b[?25hCollecting inequality>=1.0.0 (from pysal->Pseudovisium)\n",
            "  Downloading inequality-1.0.1-py3-none-any.whl (15 kB)\n",
            "Collecting pointpats>=2.2.0 (from pysal->Pseudovisium)\n",
            "  Downloading pointpats-2.4.0-py3-none-any.whl (58 kB)\n",
            "\u001b[2K     \u001b[90m━━━━━━━━━━━━━━━━━━━━━━━━━━━━━━━━━━━━━━━━\u001b[0m \u001b[32m58.4/58.4 kB\u001b[0m \u001b[31m5.3 MB/s\u001b[0m eta \u001b[36m0:00:00\u001b[0m\n",
            "\u001b[?25hCollecting segregation>=2.3.1 (from pysal->Pseudovisium)\n",
            "  Downloading segregation-2.5-py3-none-any.whl (141 kB)\n",
            "\u001b[2K     \u001b[90m━━━━━━━━━━━━━━━━━━━━━━━━━━━━━━━━━━━━━━━━\u001b[0m \u001b[32m141.3/141.3 kB\u001b[0m \u001b[31m13.6 MB/s\u001b[0m eta \u001b[36m0:00:00\u001b[0m\n",
            "\u001b[?25hCollecting spaghetti>=1.6.6 (from pysal->Pseudovisium)\n",
            "  Downloading spaghetti-1.7.5.post1-py3-none-any.whl (54 kB)\n",
            "\u001b[2K     \u001b[90m━━━━━━━━━━━━━━━━━━━━━━━━━━━━━━━━━━━━━━━━\u001b[0m \u001b[32m54.1/54.1 kB\u001b[0m \u001b[31m4.4 MB/s\u001b[0m eta \u001b[36m0:00:00\u001b[0m\n",
            "\u001b[?25hCollecting mgwr>=2.1.2 (from pysal->Pseudovisium)\n",
            "  Downloading mgwr-2.2.1-py3-none-any.whl (47 kB)\n",
            "\u001b[2K     \u001b[90m━━━━━━━━━━━━━━━━━━━━━━━━━━━━━━━━━━━━━━━━\u001b[0m \u001b[32m47.9/47.9 kB\u001b[0m \u001b[31m4.0 MB/s\u001b[0m eta \u001b[36m0:00:00\u001b[0m\n",
            "\u001b[?25hCollecting momepy>=0.5.3 (from pysal->Pseudovisium)\n",
            "  Downloading momepy-0.7.0-py3-none-any.whl (277 kB)\n",
            "\u001b[2K     \u001b[90m━━━━━━━━━━━━━━━━━━━━━━━━━━━━━━━━━━━━━━━━\u001b[0m \u001b[32m277.8/277.8 kB\u001b[0m \u001b[31m15.3 MB/s\u001b[0m eta \u001b[36m0:00:00\u001b[0m\n",
            "\u001b[?25hCollecting spglm>=1.0.8 (from pysal->Pseudovisium)\n",
            "  Downloading spglm-1.1.0-py3-none-any.whl (41 kB)\n",
            "\u001b[2K     \u001b[90m━━━━━━━━━━━━━━━━━━━━━━━━━━━━━━━━━━━━━━━━\u001b[0m \u001b[32m41.4/41.4 kB\u001b[0m \u001b[31m3.2 MB/s\u001b[0m eta \u001b[36m0:00:00\u001b[0m\n",
            "\u001b[?25hCollecting spint>=1.0.7 (from pysal->Pseudovisium)\n",
            "  Downloading spint-1.0.7.tar.gz (28 kB)\n",
            "  Preparing metadata (setup.py) ... \u001b[?25l\u001b[?25hdone\n",
            "Collecting spreg>=1.2.4 (from pysal->Pseudovisium)\n",
            "  Downloading spreg-1.4.2-py3-none-any.whl (331 kB)\n",
            "\u001b[2K     \u001b[90m━━━━━━━━━━━━━━━━━━━━━━━━━━━━━━━━━━━━━━━━\u001b[0m \u001b[32m331.8/331.8 kB\u001b[0m \u001b[31m14.1 MB/s\u001b[0m eta \u001b[36m0:00:00\u001b[0m\n",
            "\u001b[?25hCollecting spvcm>=0.3.0 (from pysal->Pseudovisium)\n",
            "  Downloading spvcm-0.3.0.tar.gz (5.7 MB)\n",
            "\u001b[2K     \u001b[90m━━━━━━━━━━━━━━━━━━━━━━━━━━━━━━━━━━━━━━━━\u001b[0m \u001b[32m5.7/5.7 MB\u001b[0m \u001b[31m22.5 MB/s\u001b[0m eta \u001b[36m0:00:00\u001b[0m\n",
            "\u001b[?25h  Preparing metadata (setup.py) ... \u001b[?25l\u001b[?25hdone\n",
            "Collecting tobler>=0.8.2 (from pysal->Pseudovisium)\n",
            "  Downloading tobler-0.11.2-py3-none-any.whl (34 kB)\n",
            "Collecting mapclassify>=2.4.3 (from pysal->Pseudovisium)\n",
            "  Downloading mapclassify-2.6.1-py3-none-any.whl (38 kB)\n",
            "Collecting splot>=1.1.5.post1 (from pysal->Pseudovisium)\n",
            "  Downloading splot-1.1.5.post1-py3-none-any.whl (39 kB)\n",
            "Collecting spopt>=0.4.1 (from pysal->Pseudovisium)\n",
            "  Downloading spopt-0.6.0-py3-none-any.whl (244 kB)\n",
            "\u001b[2K     \u001b[90m━━━━━━━━━━━━━━━━━━━━━━━━━━━━━━━━━━━━━━━━\u001b[0m \u001b[32m244.5/244.5 kB\u001b[0m \u001b[31m15.0 MB/s\u001b[0m eta \u001b[36m0:00:00\u001b[0m\n",
            "\u001b[?25hRequirement already satisfied: joblib in /usr/local/lib/python3.10/dist-packages (from scanpy->Pseudovisium) (1.4.0)\n",
            "Collecting legacy-api-wrap>=1.4 (from scanpy->Pseudovisium)\n",
            "  Downloading legacy_api_wrap-1.4-py3-none-any.whl (15 kB)\n",
            "Requirement already satisfied: networkx>=2.7 in /usr/local/lib/python3.10/dist-packages (from scanpy->Pseudovisium) (3.3)\n",
            "Requirement already satisfied: numba>=0.56 in /usr/local/lib/python3.10/dist-packages (from scanpy->Pseudovisium) (0.58.1)\n",
            "Requirement already satisfied: patsy in /usr/local/lib/python3.10/dist-packages (from scanpy->Pseudovisium) (0.5.6)\n",
            "Collecting pynndescent>=0.5 (from scanpy->Pseudovisium)\n",
            "  Downloading pynndescent-0.5.12-py3-none-any.whl (56 kB)\n",
            "\u001b[2K     \u001b[90m━━━━━━━━━━━━━━━━━━━━━━━━━━━━━━━━━━━━━━━━\u001b[0m \u001b[32m56.8/56.8 kB\u001b[0m \u001b[31m1.8 MB/s\u001b[0m eta \u001b[36m0:00:00\u001b[0m\n",
            "\u001b[?25hRequirement already satisfied: scikit-learn>=0.24 in /usr/local/lib/python3.10/dist-packages (from scanpy->Pseudovisium) (1.2.2)\n",
            "Collecting session-info (from scanpy->Pseudovisium)\n",
            "  Downloading session_info-1.0.0.tar.gz (24 kB)\n",
            "  Preparing metadata (setup.py) ... \u001b[?25l\u001b[?25hdone\n",
            "Requirement already satisfied: statsmodels>=0.13 in /usr/local/lib/python3.10/dist-packages (from scanpy->Pseudovisium) (0.14.2)\n",
            "Collecting umap-learn!=0.5.0,>=0.5 (from scanpy->Pseudovisium)\n",
            "  Downloading umap_learn-0.5.6-py3-none-any.whl (85 kB)\n",
            "\u001b[2K     \u001b[90m━━━━━━━━━━━━━━━━━━━━━━━━━━━━━━━━━━━━━━━━\u001b[0m \u001b[32m85.7/85.7 kB\u001b[0m \u001b[31m7.6 MB/s\u001b[0m eta \u001b[36m0:00:00\u001b[0m\n",
            "\u001b[?25hRequirement already satisfied: aiohttp>=3.8.1 in /usr/local/lib/python3.10/dist-packages (from squidpy->Pseudovisium) (3.9.5)\n",
            "Collecting dask-image>=0.5.0 (from squidpy->Pseudovisium)\n",
            "  Downloading dask_image-2023.8.1-py2.py3-none-any.whl (42 kB)\n",
            "\u001b[2K     \u001b[90m━━━━━━━━━━━━━━━━━━━━━━━━━━━━━━━━━━━━━━━━\u001b[0m \u001b[32m42.8/42.8 kB\u001b[0m \u001b[31m3.8 MB/s\u001b[0m eta \u001b[36m0:00:00\u001b[0m\n",
            "\u001b[?25hRequirement already satisfied: dask[array]>=2021.02.0 in /usr/local/lib/python3.10/dist-packages (from squidpy->Pseudovisium) (2023.8.1)\n",
            "Collecting docrep>=0.3.1 (from squidpy->Pseudovisium)\n",
            "  Downloading docrep-0.3.2.tar.gz (33 kB)\n",
            "  Preparing metadata (setup.py) ... \u001b[?25l\u001b[?25hdone\n",
            "Requirement already satisfied: fsspec>=2021.11.0 in /usr/local/lib/python3.10/dist-packages (from squidpy->Pseudovisium) (2023.6.0)\n",
            "Collecting leidenalg>=0.8.2 (from squidpy->Pseudovisium)\n",
            "  Downloading leidenalg-0.10.2-cp38-abi3-manylinux_2_17_x86_64.manylinux2014_x86_64.whl (2.0 MB)\n",
            "\u001b[2K     \u001b[90m━━━━━━━━━━━━━━━━━━━━━━━━━━━━━━━━━━━━━━━━\u001b[0m \u001b[32m2.0/2.0 MB\u001b[0m \u001b[31m26.7 MB/s\u001b[0m eta \u001b[36m0:00:00\u001b[0m\n",
            "\u001b[?25hCollecting matplotlib-scalebar>=0.8.0 (from squidpy->Pseudovisium)\n",
            "  Downloading matplotlib_scalebar-0.8.1-py2.py3-none-any.whl (17 kB)\n",
            "Collecting omnipath>=1.0.7 (from squidpy->Pseudovisium)\n",
            "  Downloading omnipath-1.0.8-py3-none-any.whl (68 kB)\n",
            "\u001b[2K     \u001b[90m━━━━━━━━━━━━━━━━━━━━━━━━━━━━━━━━━━━━━━━━\u001b[0m \u001b[32m68.9/68.9 kB\u001b[0m \u001b[31m6.2 MB/s\u001b[0m eta \u001b[36m0:00:00\u001b[0m\n",
            "\u001b[?25hCollecting pandas (from Pseudovisium)\n",
            "  Downloading pandas-2.2.2-cp310-cp310-manylinux_2_17_x86_64.manylinux2014_x86_64.whl (13.0 MB)\n",
            "\u001b[2K     \u001b[90m━━━━━━━━━━━━━━━━━━━━━━━━━━━━━━━━━━━━━━━━\u001b[0m \u001b[32m13.0/13.0 MB\u001b[0m \u001b[31m36.8 MB/s\u001b[0m eta \u001b[36m0:00:00\u001b[0m\n",
            "\u001b[?25hCollecting scikit-image>=0.20 (from squidpy->Pseudovisium)\n",
            "  Downloading scikit_image-0.23.2-cp310-cp310-manylinux_2_17_x86_64.manylinux2014_x86_64.whl (14.7 MB)\n",
            "\u001b[2K     \u001b[90m━━━━━━━━━━━━━━━━━━━━━━━━━━━━━━━━━━━━━━━━\u001b[0m \u001b[32m14.7/14.7 MB\u001b[0m \u001b[31m42.5 MB/s\u001b[0m eta \u001b[36m0:00:00\u001b[0m\n",
            "\u001b[?25hCollecting spatialdata (from squidpy->Pseudovisium)\n",
            "  Downloading spatialdata-0.1.2-py3-none-any.whl (143 kB)\n",
            "\u001b[2K     \u001b[90m━━━━━━━━━━━━━━━━━━━━━━━━━━━━━━━━━━━━━━━━\u001b[0m \u001b[32m143.9/143.9 kB\u001b[0m \u001b[31m13.3 MB/s\u001b[0m eta \u001b[36m0:00:00\u001b[0m\n",
            "\u001b[?25hCollecting validators>=0.18.2 (from squidpy->Pseudovisium)\n",
            "  Downloading validators-0.28.1-py3-none-any.whl (39 kB)\n",
            "Requirement already satisfied: xarray>=0.16.1 in /usr/local/lib/python3.10/dist-packages (from squidpy->Pseudovisium) (2023.7.0)\n",
            "Collecting zarr>=2.6.1 (from squidpy->Pseudovisium)\n",
            "  Downloading zarr-2.17.2-py3-none-any.whl (208 kB)\n",
            "\u001b[2K     \u001b[90m━━━━━━━━━━━━━━━━━━━━━━━━━━━━━━━━━━━━━━━━\u001b[0m \u001b[32m208.5/208.5 kB\u001b[0m \u001b[31m17.2 MB/s\u001b[0m eta \u001b[36m0:00:00\u001b[0m\n",
            "\u001b[?25hRequirement already satisfied: requests>=2 in /usr/local/lib/python3.10/dist-packages (from access>=1.1.8->pysal->Pseudovisium) (2.31.0)\n",
            "Requirement already satisfied: aiosignal>=1.1.2 in /usr/local/lib/python3.10/dist-packages (from aiohttp>=3.8.1->squidpy->Pseudovisium) (1.3.1)\n",
            "Requirement already satisfied: attrs>=17.3.0 in /usr/local/lib/python3.10/dist-packages (from aiohttp>=3.8.1->squidpy->Pseudovisium) (23.2.0)\n",
            "Requirement already satisfied: frozenlist>=1.1.1 in /usr/local/lib/python3.10/dist-packages (from aiohttp>=3.8.1->squidpy->Pseudovisium) (1.4.1)\n",
            "Requirement already satisfied: multidict<7.0,>=4.5 in /usr/local/lib/python3.10/dist-packages (from aiohttp>=3.8.1->squidpy->Pseudovisium) (6.0.5)\n",
            "Requirement already satisfied: yarl<2.0,>=1.0 in /usr/local/lib/python3.10/dist-packages (from aiohttp>=3.8.1->squidpy->Pseudovisium) (1.9.4)\n",
            "Requirement already satisfied: async-timeout<5.0,>=4.0 in /usr/local/lib/python3.10/dist-packages (from aiohttp>=3.8.1->squidpy->Pseudovisium) (4.0.3)\n",
            "Collecting pims>=0.4.1 (from dask-image>=0.5.0->squidpy->Pseudovisium)\n",
            "  Downloading PIMS-0.6.1.tar.gz (86 kB)\n",
            "\u001b[2K     \u001b[90m━━━━━━━━━━━━━━━━━━━━━━━━━━━━━━━━━━━━━━━━\u001b[0m \u001b[32m86.0/86.0 kB\u001b[0m \u001b[31m7.3 MB/s\u001b[0m eta \u001b[36m0:00:00\u001b[0m\n",
            "\u001b[?25h  Preparing metadata (setup.py) ... \u001b[?25l\u001b[?25hdone\n",
            "Requirement already satisfied: click>=8.0 in /usr/local/lib/python3.10/dist-packages (from dask[array]>=2021.02.0->squidpy->Pseudovisium) (8.1.7)\n",
            "Requirement already satisfied: cloudpickle>=1.5.0 in /usr/local/lib/python3.10/dist-packages (from dask[array]>=2021.02.0->squidpy->Pseudovisium) (2.2.1)\n",
            "Requirement already satisfied: partd>=1.2.0 in /usr/local/lib/python3.10/dist-packages (from dask[array]>=2021.02.0->squidpy->Pseudovisium) (1.4.1)\n",
            "Requirement already satisfied: pyyaml>=5.3.1 in /usr/local/lib/python3.10/dist-packages (from dask[array]>=2021.02.0->squidpy->Pseudovisium) (6.0.1)\n",
            "Requirement already satisfied: toolz>=0.10.0 in /usr/local/lib/python3.10/dist-packages (from dask[array]>=2021.02.0->squidpy->Pseudovisium) (0.12.1)\n",
            "Requirement already satisfied: importlib-metadata>=4.13.0 in /usr/local/lib/python3.10/dist-packages (from dask[array]>=2021.02.0->squidpy->Pseudovisium) (7.1.0)\n",
            "Requirement already satisfied: six in /usr/local/lib/python3.10/dist-packages (from docrep>=0.3.1->squidpy->Pseudovisium) (1.16.0)\n",
            "Requirement already satisfied: certifi in /usr/local/lib/python3.10/dist-packages (from fiona>=1.8.19->geopandas->Pseudovisium) (2024.2.2)\n",
            "Requirement already satisfied: click-plugins>=1.0 in /usr/local/lib/python3.10/dist-packages (from fiona>=1.8.19->geopandas->Pseudovisium) (1.1.1)\n",
            "Requirement already satisfied: cligj>=0.5 in /usr/local/lib/python3.10/dist-packages (from fiona>=1.8.19->geopandas->Pseudovisium) (0.7.2)\n",
            "Collecting quantecon>=0.4.7 (from giddy>=2.3.3->pysal->Pseudovisium)\n",
            "  Downloading quantecon-0.7.2-py3-none-any.whl (215 kB)\n",
            "\u001b[2K     \u001b[90m━━━━━━━━━━━━━━━━━━━━━━━━━━━━━━━━━━━━━━━━\u001b[0m \u001b[32m215.4/215.4 kB\u001b[0m \u001b[31m13.8 MB/s\u001b[0m eta \u001b[36m0:00:00\u001b[0m\n",
            "\u001b[?25hCollecting igraph<0.12,>=0.10.0 (from leidenalg>=0.8.2->squidpy->Pseudovisium)\n",
            "  Downloading igraph-0.11.4-cp39-abi3-manylinux_2_17_x86_64.manylinux2014_x86_64.whl (3.3 MB)\n",
            "\u001b[2K     \u001b[90m━━━━━━━━━━━━━━━━━━━━━━━━━━━━━━━━━━━━━━━━\u001b[0m \u001b[32m3.3/3.3 MB\u001b[0m \u001b[31m34.2 MB/s\u001b[0m eta \u001b[36m0:00:00\u001b[0m\n",
            "\u001b[?25hRequirement already satisfied: beautifulsoup4>=4.10 in /usr/local/lib/python3.10/dist-packages (from libpysal>=4.6.2->pysal->Pseudovisium) (4.12.3)\n",
            "Requirement already satisfied: platformdirs>=2.0.2 in /usr/local/lib/python3.10/dist-packages (from libpysal>=4.6.2->pysal->Pseudovisium) (4.2.1)\n",
            "Requirement already satisfied: llvmlite<0.42,>=0.41.0dev0 in /usr/local/lib/python3.10/dist-packages (from numba>=0.56->scanpy->Pseudovisium) (0.41.1)\n",
            "Requirement already satisfied: inflect>=4.1.0 in /usr/local/lib/python3.10/dist-packages (from omnipath>=1.0.7->squidpy->Pseudovisium) (7.0.0)\n",
            "Requirement already satisfied: typing-extensions>=3.7.4.3 in /usr/local/lib/python3.10/dist-packages (from omnipath>=1.0.7->squidpy->Pseudovisium) (4.11.0)\n",
            "Requirement already satisfied: urllib3>=1.26.0 in /usr/local/lib/python3.10/dist-packages (from omnipath>=1.0.7->squidpy->Pseudovisium) (2.0.7)\n",
            "Requirement already satisfied: wrapt>=1.12.0 in /usr/local/lib/python3.10/dist-packages (from omnipath>=1.0.7->squidpy->Pseudovisium) (1.14.1)\n",
            "Collecting imageio>=2.33 (from scikit-image>=0.20->squidpy->Pseudovisium)\n",
            "  Downloading imageio-2.34.1-py3-none-any.whl (313 kB)\n",
            "\u001b[2K     \u001b[90m━━━━━━━━━━━━━━━━━━━━━━━━━━━━━━━━━━━━━━━━\u001b[0m \u001b[32m313.5/313.5 kB\u001b[0m \u001b[31m19.3 MB/s\u001b[0m eta \u001b[36m0:00:00\u001b[0m\n",
            "\u001b[?25hRequirement already satisfied: lazy-loader>=0.4 in /usr/local/lib/python3.10/dist-packages (from scikit-image>=0.20->squidpy->Pseudovisium) (0.4)\n",
            "Requirement already satisfied: threadpoolctl>=2.0.0 in /usr/local/lib/python3.10/dist-packages (from scikit-learn>=0.24->scanpy->Pseudovisium) (3.4.0)\n",
            "Collecting deprecation (from segregation>=2.3.1->pysal->Pseudovisium)\n",
            "  Downloading deprecation-2.1.0-py2.py3-none-any.whl (11 kB)\n",
            "Collecting rtree>=1.0 (from spaghetti>=1.6.6->pysal->Pseudovisium)\n",
            "  Downloading Rtree-1.2.0-py3-none-manylinux2014_x86_64.manylinux_2_17_x86_64.whl (535 kB)\n",
            "\u001b[2K     \u001b[90m━━━━━━━━━━━━━━━━━━━━━━━━━━━━━━━━━━━━━━━━\u001b[0m \u001b[32m535.2/535.2 kB\u001b[0m \u001b[31m34.8 MB/s\u001b[0m eta \u001b[36m0:00:00\u001b[0m\n",
            "\u001b[?25hCollecting pulp>=2.7 (from spopt>=0.4.1->pysal->Pseudovisium)\n",
            "  Downloading PuLP-2.8.0-py3-none-any.whl (17.7 MB)\n",
            "\u001b[2K     \u001b[90m━━━━━━━━━━━━━━━━━━━━━━━━━━━━━━━━━━━━━━━━\u001b[0m \u001b[32m17.7/17.7 MB\u001b[0m \u001b[31m32.4 MB/s\u001b[0m eta \u001b[36m0:00:00\u001b[0m\n",
            "\u001b[?25hCollecting rasterio (from tobler>=0.8.2->pysal->Pseudovisium)\n",
            "  Downloading rasterio-1.3.10-cp310-cp310-manylinux2014_x86_64.whl (21.5 MB)\n",
            "\u001b[2K     \u001b[90m━━━━━━━━━━━━━━━━━━━━━━━━━━━━━━━━━━━━━━━━\u001b[0m \u001b[32m21.5/21.5 MB\u001b[0m \u001b[31m33.6 MB/s\u001b[0m eta \u001b[36m0:00:00\u001b[0m\n",
            "\u001b[?25hCollecting rasterstats (from tobler>=0.8.2->pysal->Pseudovisium)\n",
            "  Downloading rasterstats-0.19.0-py3-none-any.whl (16 kB)\n",
            "Collecting asciitree (from zarr>=2.6.1->squidpy->Pseudovisium)\n",
            "  Downloading asciitree-0.3.3.tar.gz (4.0 kB)\n",
            "  Preparing metadata (setup.py) ... \u001b[?25l\u001b[?25hdone\n",
            "Collecting numcodecs>=0.10.0 (from zarr>=2.6.1->squidpy->Pseudovisium)\n",
            "  Downloading numcodecs-0.12.1-cp310-cp310-manylinux_2_17_x86_64.manylinux2014_x86_64.whl (7.7 MB)\n",
            "\u001b[2K     \u001b[90m━━━━━━━━━━━━━━━━━━━━━━━━━━━━━━━━━━━━━━━━\u001b[0m \u001b[32m7.7/7.7 MB\u001b[0m \u001b[31m48.2 MB/s\u001b[0m eta \u001b[36m0:00:00\u001b[0m\n",
            "\u001b[?25hCollecting fasteners (from zarr>=2.6.1->squidpy->Pseudovisium)\n",
            "  Downloading fasteners-0.19-py3-none-any.whl (18 kB)\n",
            "Collecting stdlib_list (from session-info->scanpy->Pseudovisium)\n",
            "  Downloading stdlib_list-0.10.0-py3-none-any.whl (79 kB)\n",
            "\u001b[2K     \u001b[90m━━━━━━━━━━━━━━━━━━━━━━━━━━━━━━━━━━━━━━━━\u001b[0m \u001b[32m79.8/79.8 kB\u001b[0m \u001b[31m7.0 MB/s\u001b[0m eta \u001b[36m0:00:00\u001b[0m\n",
            "\u001b[?25hCollecting multiscale-spatial-image==0.11.2 (from spatialdata->squidpy->Pseudovisium)\n",
            "  Downloading multiscale_spatial_image-0.11.2-py3-none-any.whl (24 kB)\n",
            "Collecting ome-zarr>=0.7.0 (from spatialdata->squidpy->Pseudovisium)\n",
            "  Downloading ome_zarr-0.8.3-py3-none-any.whl (36 kB)\n",
            "Requirement already satisfied: pooch in /usr/local/lib/python3.10/dist-packages (from spatialdata->squidpy->Pseudovisium) (1.8.1)\n",
            "Requirement already satisfied: pyarrow in /usr/local/lib/python3.10/dist-packages (from spatialdata->squidpy->Pseudovisium) (14.0.2)\n",
            "Collecting pygeos (from spatialdata->squidpy->Pseudovisium)\n",
            "  Downloading pygeos-0.14-cp310-cp310-manylinux_2_17_x86_64.manylinux2014_x86_64.whl (2.2 MB)\n",
            "\u001b[2K     \u001b[90m━━━━━━━━━━━━━━━━━━━━━━━━━━━━━━━━━━━━━━━━\u001b[0m \u001b[32m2.2/2.2 MB\u001b[0m \u001b[31m46.1 MB/s\u001b[0m eta \u001b[36m0:00:00\u001b[0m\n",
            "\u001b[?25hRequirement already satisfied: rich in /usr/local/lib/python3.10/dist-packages (from spatialdata->squidpy->Pseudovisium) (13.7.1)\n",
            "Collecting spatial-image==0.3.0 (from spatialdata->squidpy->Pseudovisium)\n",
            "  Downloading spatial_image-0.3.0-py3-none-any.whl (7.8 kB)\n",
            "Collecting xarray-schema (from spatialdata->squidpy->Pseudovisium)\n",
            "  Downloading xarray_schema-0.0.3-py3-none-any.whl (10 kB)\n",
            "Collecting xarray-spatial>=0.3.5 (from spatialdata->squidpy->Pseudovisium)\n",
            "  Downloading xarray_spatial-0.4.0-py3-none-any.whl (2.0 MB)\n",
            "\u001b[2K     \u001b[90m━━━━━━━━━━━━━━━━━━━━━━━━━━━━━━━━━━━━━━━━\u001b[0m \u001b[32m2.0/2.0 MB\u001b[0m \u001b[31m52.5 MB/s\u001b[0m eta \u001b[36m0:00:00\u001b[0m\n",
            "\u001b[?25hCollecting xarray-datatree>=0.0.5 (from multiscale-spatial-image==0.11.2->spatialdata->squidpy->Pseudovisium)\n",
            "  Downloading xarray_datatree-0.0.14-py3-none-any.whl (63 kB)\n",
            "\u001b[2K     \u001b[90m━━━━━━━━━━━━━━━━━━━━━━━━━━━━━━━━━━━━━━━━\u001b[0m \u001b[32m63.7/63.7 kB\u001b[0m \u001b[31m5.2 MB/s\u001b[0m eta \u001b[36m0:00:00\u001b[0m\n",
            "\u001b[?25hCollecting xarray-dataclasses>=1.1.0 (from spatial-image==0.3.0->spatialdata->squidpy->Pseudovisium)\n",
            "  Downloading xarray_dataclasses-1.7.0-py3-none-any.whl (14 kB)\n",
            "Requirement already satisfied: soupsieve>1.2 in /usr/local/lib/python3.10/dist-packages (from beautifulsoup4>=4.10->libpysal>=4.6.2->pysal->Pseudovisium) (2.5)\n",
            "Collecting texttable>=1.6.2 (from igraph<0.12,>=0.10.0->leidenalg>=0.8.2->squidpy->Pseudovisium)\n",
            "  Downloading texttable-1.7.0-py2.py3-none-any.whl (10 kB)\n",
            "Requirement already satisfied: zipp>=0.5 in /usr/local/lib/python3.10/dist-packages (from importlib-metadata>=4.13.0->dask[array]>=2021.02.0->squidpy->Pseudovisium) (3.18.1)\n",
            "Requirement already satisfied: pydantic>=1.9.1 in /usr/local/lib/python3.10/dist-packages (from inflect>=4.1.0->omnipath>=1.0.7->squidpy->Pseudovisium) (2.7.1)\n",
            "Requirement already satisfied: distributed in /usr/local/lib/python3.10/dist-packages (from ome-zarr>=0.7.0->spatialdata->squidpy->Pseudovisium) (2023.8.1)\n",
            "Requirement already satisfied: locket in /usr/local/lib/python3.10/dist-packages (from partd>=1.2.0->dask[array]>=2021.02.0->squidpy->Pseudovisium) (1.0.0)\n",
            "Collecting slicerator>=0.9.8 (from pims>=0.4.1->dask-image>=0.5.0->squidpy->Pseudovisium)\n",
            "  Downloading slicerator-1.1.0-py3-none-any.whl (10 kB)\n",
            "Requirement already satisfied: sympy in /usr/local/lib/python3.10/dist-packages (from quantecon>=0.4.7->giddy>=2.3.3->pysal->Pseudovisium) (1.12)\n",
            "Requirement already satisfied: charset-normalizer<4,>=2 in /usr/local/lib/python3.10/dist-packages (from requests>=2->access>=1.1.8->pysal->Pseudovisium) (3.3.2)\n",
            "Requirement already satisfied: idna<4,>=2.5 in /usr/local/lib/python3.10/dist-packages (from requests>=2->access>=1.1.8->pysal->Pseudovisium) (3.7)\n",
            "Collecting datashader>=0.15.0 (from xarray-spatial>=0.3.5->spatialdata->squidpy->Pseudovisium)\n",
            "  Downloading datashader-0.16.1-py2.py3-none-any.whl (18.3 MB)\n",
            "\u001b[2K     \u001b[90m━━━━━━━━━━━━━━━━━━━━━━━━━━━━━━━━━━━━━━━━\u001b[0m \u001b[32m18.3/18.3 MB\u001b[0m \u001b[31m36.1 MB/s\u001b[0m eta \u001b[36m0:00:00\u001b[0m\n",
            "\u001b[?25hCollecting affine (from rasterio->tobler>=0.8.2->pysal->Pseudovisium)\n",
            "  Downloading affine-2.4.0-py3-none-any.whl (15 kB)\n",
            "Collecting snuggs>=1.4.1 (from rasterio->tobler>=0.8.2->pysal->Pseudovisium)\n",
            "  Downloading snuggs-1.4.7-py3-none-any.whl (5.4 kB)\n",
            "Requirement already satisfied: setuptools in /usr/local/lib/python3.10/dist-packages (from rasterio->tobler>=0.8.2->pysal->Pseudovisium) (67.7.2)\n",
            "Collecting simplejson (from rasterstats->tobler>=0.8.2->pysal->Pseudovisium)\n",
            "  Downloading simplejson-3.19.2-cp310-cp310-manylinux_2_5_x86_64.manylinux1_x86_64.manylinux_2_17_x86_64.manylinux2014_x86_64.whl (137 kB)\n",
            "\u001b[2K     \u001b[90m━━━━━━━━━━━━━━━━━━━━━━━━━━━━━━━━━━━━━━━━\u001b[0m \u001b[32m137.9/137.9 kB\u001b[0m \u001b[31m12.5 MB/s\u001b[0m eta \u001b[36m0:00:00\u001b[0m\n",
            "\u001b[?25hRequirement already satisfied: markdown-it-py>=2.2.0 in /usr/local/lib/python3.10/dist-packages (from rich->spatialdata->squidpy->Pseudovisium) (3.0.0)\n",
            "Requirement already satisfied: pygments<3.0.0,>=2.13.0 in /usr/local/lib/python3.10/dist-packages (from rich->spatialdata->squidpy->Pseudovisium) (2.16.1)\n",
            "Requirement already satisfied: colorcet in /usr/local/lib/python3.10/dist-packages (from datashader>=0.15.0->xarray-spatial>=0.3.5->spatialdata->squidpy->Pseudovisium) (3.1.0)\n",
            "Requirement already satisfied: multipledispatch in /usr/local/lib/python3.10/dist-packages (from datashader>=0.15.0->xarray-spatial>=0.3.5->spatialdata->squidpy->Pseudovisium) (1.0.0)\n",
            "Requirement already satisfied: param in /usr/local/lib/python3.10/dist-packages (from datashader>=0.15.0->xarray-spatial>=0.3.5->spatialdata->squidpy->Pseudovisium) (2.1.0)\n",
            "Collecting pyct (from datashader>=0.15.0->xarray-spatial>=0.3.5->spatialdata->squidpy->Pseudovisium)\n",
            "  Downloading pyct-0.5.0-py2.py3-none-any.whl (15 kB)\n",
            "Collecting s3fs (from fsspec>=2021.11.0->squidpy->Pseudovisium)\n",
            "  Downloading s3fs-2024.3.1-py3-none-any.whl (29 kB)\n",
            "Requirement already satisfied: mdurl~=0.1 in /usr/local/lib/python3.10/dist-packages (from markdown-it-py>=2.2.0->rich->spatialdata->squidpy->Pseudovisium) (0.1.2)\n",
            "Requirement already satisfied: annotated-types>=0.4.0 in /usr/local/lib/python3.10/dist-packages (from pydantic>=1.9.1->inflect>=4.1.0->omnipath>=1.0.7->squidpy->Pseudovisium) (0.6.0)\n",
            "Requirement already satisfied: pydantic-core==2.18.2 in /usr/local/lib/python3.10/dist-packages (from pydantic>=1.9.1->inflect>=4.1.0->omnipath>=1.0.7->squidpy->Pseudovisium) (2.18.2)\n",
            "Collecting xarray>=0.16.1 (from squidpy->Pseudovisium)\n",
            "  Downloading xarray-2023.12.0-py3-none-any.whl (1.1 MB)\n",
            "\u001b[2K     \u001b[90m━━━━━━━━━━━━━━━━━━━━━━━━━━━━━━━━━━━━━━━━\u001b[0m \u001b[32m1.1/1.1 MB\u001b[0m \u001b[31m58.4 MB/s\u001b[0m eta \u001b[36m0:00:00\u001b[0m\n",
            "\u001b[?25hRequirement already satisfied: jinja2>=2.10.3 in /usr/local/lib/python3.10/dist-packages (from distributed->ome-zarr>=0.7.0->spatialdata->squidpy->Pseudovisium) (3.1.3)\n",
            "Requirement already satisfied: msgpack>=1.0.0 in /usr/local/lib/python3.10/dist-packages (from distributed->ome-zarr>=0.7.0->spatialdata->squidpy->Pseudovisium) (1.0.8)\n",
            "Requirement already satisfied: psutil>=5.7.2 in /usr/local/lib/python3.10/dist-packages (from distributed->ome-zarr>=0.7.0->spatialdata->squidpy->Pseudovisium) (5.9.5)\n",
            "Requirement already satisfied: sortedcontainers>=2.0.5 in /usr/local/lib/python3.10/dist-packages (from distributed->ome-zarr>=0.7.0->spatialdata->squidpy->Pseudovisium) (2.4.0)\n",
            "Requirement already satisfied: tblib>=1.6.0 in /usr/local/lib/python3.10/dist-packages (from distributed->ome-zarr>=0.7.0->spatialdata->squidpy->Pseudovisium) (3.0.0)\n",
            "Requirement already satisfied: tornado>=6.0.4 in /usr/local/lib/python3.10/dist-packages (from distributed->ome-zarr>=0.7.0->spatialdata->squidpy->Pseudovisium) (6.3.3)\n",
            "Requirement already satisfied: zict>=2.2.0 in /usr/local/lib/python3.10/dist-packages (from distributed->ome-zarr>=0.7.0->spatialdata->squidpy->Pseudovisium) (3.0.0)\n",
            "Requirement already satisfied: mpmath>=0.19 in /usr/local/lib/python3.10/dist-packages (from sympy->quantecon>=0.4.7->giddy>=2.3.3->pysal->Pseudovisium) (1.3.0)\n",
            "Requirement already satisfied: MarkupSafe>=2.0 in /usr/local/lib/python3.10/dist-packages (from jinja2>=2.10.3->distributed->ome-zarr>=0.7.0->spatialdata->squidpy->Pseudovisium) (2.1.5)\n",
            "Collecting aiobotocore<3.0.0,>=2.5.4 (from s3fs->fsspec>=2021.11.0->squidpy->Pseudovisium)\n",
            "  Downloading aiobotocore-2.12.3-py3-none-any.whl (76 kB)\n",
            "\u001b[2K     \u001b[90m━━━━━━━━━━━━━━━━━━━━━━━━━━━━━━━━━━━━━━━━\u001b[0m \u001b[32m76.5/76.5 kB\u001b[0m \u001b[31m9.0 MB/s\u001b[0m eta \u001b[36m0:00:00\u001b[0m\n",
            "\u001b[?25hINFO: pip is looking at multiple versions of s3fs to determine which version is compatible with other requirements. This could take a while.\n",
            "Collecting s3fs (from fsspec>=2021.11.0->squidpy->Pseudovisium)\n",
            "  Downloading s3fs-2024.3.0-py3-none-any.whl (29 kB)\n",
            "  Downloading s3fs-2024.2.0-py3-none-any.whl (28 kB)\n",
            "  Downloading s3fs-2023.12.2-py3-none-any.whl (28 kB)\n",
            "  Downloading s3fs-2023.12.1-py3-none-any.whl (28 kB)\n",
            "  Downloading s3fs-2023.10.0-py3-none-any.whl (28 kB)\n",
            "Collecting aiobotocore~=2.7.0 (from s3fs->fsspec>=2021.11.0->squidpy->Pseudovisium)\n",
            "  Downloading aiobotocore-2.7.0-py3-none-any.whl (73 kB)\n",
            "\u001b[2K     \u001b[90m━━━━━━━━━━━━━━━━━━━━━━━━━━━━━━━━━━━━━━━━\u001b[0m \u001b[32m73.5/73.5 kB\u001b[0m \u001b[31m7.7 MB/s\u001b[0m eta \u001b[36m0:00:00\u001b[0m\n",
            "\u001b[?25hCollecting s3fs (from fsspec>=2021.11.0->squidpy->Pseudovisium)\n",
            "  Downloading s3fs-2023.9.2-py3-none-any.whl (28 kB)\n",
            "Collecting aiobotocore~=2.5.4 (from s3fs->fsspec>=2021.11.0->squidpy->Pseudovisium)\n",
            "  Downloading aiobotocore-2.5.4-py3-none-any.whl (73 kB)\n",
            "\u001b[2K     \u001b[90m━━━━━━━━━━━━━━━━━━━━━━━━━━━━━━━━━━━━━━━━\u001b[0m \u001b[32m73.4/73.4 kB\u001b[0m \u001b[31m7.9 MB/s\u001b[0m eta \u001b[36m0:00:00\u001b[0m\n",
            "\u001b[?25hCollecting s3fs (from fsspec>=2021.11.0->squidpy->Pseudovisium)\n",
            "  Downloading s3fs-2023.9.1-py3-none-any.whl (28 kB)\n",
            "INFO: pip is looking at multiple versions of s3fs to determine which version is compatible with other requirements. This could take a while.\n",
            "  Downloading s3fs-2023.9.0-py3-none-any.whl (28 kB)\n",
            "  Downloading s3fs-2023.6.0-py3-none-any.whl (28 kB)\n",
            "Collecting botocore<1.31.18,>=1.31.17 (from aiobotocore~=2.5.4->s3fs->fsspec>=2021.11.0->squidpy->Pseudovisium)\n",
            "  Downloading botocore-1.31.17-py3-none-any.whl (11.1 MB)\n",
            "\u001b[2K     \u001b[90m━━━━━━━━━━━━━━━━━━━━━━━━━━━━━━━━━━━━━━━━\u001b[0m \u001b[32m11.1/11.1 MB\u001b[0m \u001b[31m57.9 MB/s\u001b[0m eta \u001b[36m0:00:00\u001b[0m\n",
            "\u001b[?25hCollecting aioitertools<1.0.0,>=0.5.1 (from aiobotocore~=2.5.4->s3fs->fsspec>=2021.11.0->squidpy->Pseudovisium)\n",
            "  Downloading aioitertools-0.11.0-py3-none-any.whl (23 kB)\n",
            "Collecting jmespath<2.0.0,>=0.7.1 (from botocore<1.31.18,>=1.31.17->aiobotocore~=2.5.4->s3fs->fsspec>=2021.11.0->squidpy->Pseudovisium)\n",
            "  Downloading jmespath-1.0.1-py3-none-any.whl (20 kB)\n",
            "Collecting urllib3>=1.26.0 (from omnipath>=1.0.7->squidpy->Pseudovisium)\n",
            "  Downloading urllib3-1.26.18-py2.py3-none-any.whl (143 kB)\n",
            "\u001b[2K     \u001b[90m━━━━━━━━━━━━━━━━━━━━━━━━━━━━━━━━━━━━━━━━\u001b[0m \u001b[32m143.8/143.8 kB\u001b[0m \u001b[31m12.9 MB/s\u001b[0m eta \u001b[36m0:00:00\u001b[0m\n",
            "\u001b[?25hBuilding wheels for collected packages: Pseudovisium, docrep, spint, spvcm, session-info, pims, asciitree\n",
            "  Building wheel for Pseudovisium (setup.py) ... \u001b[?25l\u001b[?25hdone\n",
            "  Created wheel for Pseudovisium: filename=Pseudovisium-0.0.9-py3-none-any.whl size=32031 sha256=5ce7a7e3bc6a71b235d06161c3a8d3ba7b172ba6c06158ea08cc7dc017be5a4c\n",
            "  Stored in directory: /root/.cache/pip/wheels/33/90/94/89ffdcdc0b5ae56284e68cccfa5504063290e52b6b114f1891\n",
            "  Building wheel for docrep (setup.py) ... \u001b[?25l\u001b[?25hdone\n",
            "  Created wheel for docrep: filename=docrep-0.3.2-py3-none-any.whl size=19878 sha256=833b05d15e2c8bd95ce4b29f416aa90e1aaf86afd967dfb320407b37745db6e3\n",
            "  Stored in directory: /root/.cache/pip/wheels/c3/64/48/03c38d8d906159eaa210b3c548fdb590eb3e2a4a5745ae2172\n",
            "  Building wheel for spint (setup.py) ... \u001b[?25l\u001b[?25hdone\n",
            "  Created wheel for spint: filename=spint-1.0.7-py3-none-any.whl size=31360 sha256=7c7469d9590576866f545717f4293a2a397d52907c53595685aec001e395f09d\n",
            "  Stored in directory: /root/.cache/pip/wheels/f6/1d/ab/81b0c9d17a778a97ec078147cb11901afdab420c4894dcfbc5\n",
            "  Building wheel for spvcm (setup.py) ... \u001b[?25l\u001b[?25hdone\n",
            "  Created wheel for spvcm: filename=spvcm-0.3.0-py3-none-any.whl size=5777184 sha256=e789ecac6b0fe24dac0c7032fed4e7c1dd73d364db8d4f04409585144417369f\n",
            "  Stored in directory: /root/.cache/pip/wheels/1c/58/6f/debcb62c0a142a6615a65f23217209b543b478d309edfa4e2b\n",
            "  Building wheel for session-info (setup.py) ... \u001b[?25l\u001b[?25hdone\n",
            "  Created wheel for session-info: filename=session_info-1.0.0-py3-none-any.whl size=8026 sha256=b529846ad0d1a6133bedab91700afbe660f3b12ecb8f01b77671da387d072091\n",
            "  Stored in directory: /root/.cache/pip/wheels/6a/aa/b9/eb5d4031476ec10802795b97ccf937b9bd998d68a9b268765a\n",
            "  Building wheel for pims (setup.py) ... \u001b[?25l\u001b[?25hdone\n",
            "  Created wheel for pims: filename=PIMS-0.6.1-py3-none-any.whl size=82613 sha256=72bb94d366045d77146982e5a5a64adefb3eb6a632c2e7de00c00f90cecbcf84\n",
            "  Stored in directory: /root/.cache/pip/wheels/cc/bf/3e/bfa77232d942f8244145f9c713b6b38f6ef04b6fb5c021c114\n",
            "  Building wheel for asciitree (setup.py) ... \u001b[?25l\u001b[?25hdone\n",
            "  Created wheel for asciitree: filename=asciitree-0.3.3-py3-none-any.whl size=5034 sha256=7f2cb253037a2769829a7dbdd68a6f28afb399f55bf1c533698d1b8a0650b561\n",
            "  Stored in directory: /root/.cache/pip/wheels/7f/4e/be/1171b40f43b918087657ec57cf3b81fa1a2e027d8755baa184\n",
            "Successfully built Pseudovisium docrep spint spvcm session-info pims asciitree\n",
            "Installing collected packages: texttable, slicerator, asciitree, array-api-compat, validators, urllib3, stdlib_list, snuggs, simplejson, rtree, pygeos, pyct, pulp, numcodecs, legacy-api-wrap, jmespath, imageio, igraph, fasteners, docrep, deprecation, aioitertools, affine, zarr, session-info, scikit-image, rasterio, pims, pandas, leidenalg, botocore, xarray, rasterstats, quantecon, pynndescent, matplotlib-scalebar, mapclassify, anndata, aiobotocore, adjustText, xarray-schema, xarray-datatree, xarray-dataclasses, umap-learn, s3fs, omnipath, libpysal, datashader, access, xarray-spatial, tobler, spreg, spatial-image, segregation, scanpy, pointpats, momepy, inequality, esda, dask-image, spvcm, spglm, spaghetti, ome-zarr, multiscale-spatial-image, giddy, spopt, splot, spint, spatialdata, mgwr, squidpy, pysal, Pseudovisium\n",
            "  Attempting uninstall: urllib3\n",
            "    Found existing installation: urllib3 2.0.7\n",
            "    Uninstalling urllib3-2.0.7:\n",
            "      Successfully uninstalled urllib3-2.0.7\n",
            "  Attempting uninstall: imageio\n",
            "    Found existing installation: imageio 2.31.6\n",
            "    Uninstalling imageio-2.31.6:\n",
            "      Successfully uninstalled imageio-2.31.6\n",
            "  Attempting uninstall: scikit-image\n",
            "    Found existing installation: scikit-image 0.19.3\n",
            "    Uninstalling scikit-image-0.19.3:\n",
            "      Successfully uninstalled scikit-image-0.19.3\n",
            "  Attempting uninstall: pandas\n",
            "    Found existing installation: pandas 2.0.3\n",
            "    Uninstalling pandas-2.0.3:\n",
            "      Successfully uninstalled pandas-2.0.3\n",
            "  Attempting uninstall: xarray\n",
            "    Found existing installation: xarray 2023.7.0\n",
            "    Uninstalling xarray-2023.7.0:\n",
            "      Successfully uninstalled xarray-2023.7.0\n",
            "\u001b[31mERROR: pip's dependency resolver does not currently take into account all the packages that are installed. This behaviour is the source of the following dependency conflicts.\n",
            "google-colab 1.0.0 requires pandas==2.0.3, but you have pandas 2.2.2 which is incompatible.\u001b[0m\u001b[31m\n",
            "\u001b[0mSuccessfully installed Pseudovisium-0.0.9 access-1.1.9 adjustText-1.1.1 affine-2.4.0 aiobotocore-2.5.4 aioitertools-0.11.0 anndata-0.10.7 array-api-compat-1.6 asciitree-0.3.3 botocore-1.31.17 dask-image-2023.8.1 datashader-0.16.1 deprecation-2.1.0 docrep-0.3.2 esda-2.5.1 fasteners-0.19 giddy-2.3.5 igraph-0.11.4 imageio-2.34.1 inequality-1.0.1 jmespath-1.0.1 legacy-api-wrap-1.4 leidenalg-0.10.2 libpysal-4.10 mapclassify-2.6.1 matplotlib-scalebar-0.8.1 mgwr-2.2.1 momepy-0.7.0 multiscale-spatial-image-0.11.2 numcodecs-0.12.1 ome-zarr-0.8.3 omnipath-1.0.8 pandas-2.2.2 pims-0.6.1 pointpats-2.4.0 pulp-2.8.0 pyct-0.5.0 pygeos-0.14 pynndescent-0.5.12 pysal-24.1 quantecon-0.7.2 rasterio-1.3.10 rasterstats-0.19.0 rtree-1.2.0 s3fs-2023.6.0 scanpy-1.10.1 scikit-image-0.23.2 segregation-2.5 session-info-1.0.0 simplejson-3.19.2 slicerator-1.1.0 snuggs-1.4.7 spaghetti-1.7.5.post1 spatial-image-0.3.0 spatialdata-0.1.2 spglm-1.1.0 spint-1.0.7 splot-1.1.5.post1 spopt-0.6.0 spreg-1.4.2 spvcm-0.3.0 squidpy-1.4.1 stdlib_list-0.10.0 texttable-1.7.0 tobler-0.11.2 umap-learn-0.5.6 urllib3-1.26.18 validators-0.28.1 xarray-2023.12.0 xarray-dataclasses-1.7.0 xarray-datatree-0.0.14 xarray-schema-0.0.3 xarray-spatial-0.4.0 zarr-2.17.2\n"
          ]
        }
      ],
      "source": [
        "!pip install pympler\n",
        "!pip install Pseudovisium"
      ]
    },
    {
      "cell_type": "code",
      "execution_count": null,
      "metadata": {
        "id": "9VRSGsO80JoZ"
      },
      "outputs": [],
      "source": [
        "import time\n",
        "from Pseudovisium.pseudovisium_generate import generate_pv\n",
        "from pympler import asizeof"
      ]
    },
    {
      "cell_type": "code",
      "execution_count": null,
      "metadata": {
        "colab": {
          "base_uri": "https://localhost:8080/"
        },
        "id": "vW3KYnjt2Fs7",
        "outputId": "7e5d8084-4908-4dbd-cc05-9a31bb1b0e0a"
      },
      "outputs": [
        {
          "output_type": "stream",
          "name": "stdout",
          "text": [
            "fov,cell_ID,cell,x_local_px,y_local_px,x_global_px,y_global_px,z,target,CellComp\n",
            "51,0,c_1_51_0,86,23,52525.0358181544,41902.4060461886,2,TRAPPC8,\n",
            "51,0,c_1_51_0,85,38,52524.036799034,41887.4088662988,2,APOL1,\n",
            "51,0,c_1_51_0,85,38,52524.036799034,41887.4088662988,3,APOL1,\n",
            "51,0,c_1_51_0,95,45,52534.0388833222,41880.4078037332,1,NCF4,\n",
            "51,0,c_1_51_0,83,56,52522.0387607934,41869.4067003248,3,MLN,\n",
            "51,0,c_1_51_0,84,56,52523.0377799137,41869.4067003248,4,MLN,\n",
            "51,0,c_1_51_0,40,59,52479.0373306414,41866.4056786022,7,DNAJC7,\n",
            "51,0,c_1_51_0,96,59,52535.0379024425,41866.4056786022,4,HNF1A,\n",
            "51,0,c_1_51_0,96,59,52535.0379024425,41866.4056786022,5,HNF1A,\n"
          ]
        }
      ],
      "source": [
        "!head \"/content/pancreas/Pancreas_tx_file.csv\""
      ]
    },
    {
      "cell_type": "code",
      "execution_count": null,
      "metadata": {
        "colab": {
          "base_uri": "https://localhost:8080/"
        },
        "id": "QJAs2fCl0Ly4",
        "outputId": "748c9d89-4e9b-4ec1-9c3d-7b38a29fa161"
      },
      "outputs": [
        {
          "metadata": {
            "tags": null
          },
          "name": "stdout",
          "output_type": "stream",
          "text": [
            "Quality filter is set to False\n",
            "Quality counting per hexagon is set to False\n",
            "Quality counting per probe is set to False\n",
            "Technology not recognized. Going forward with set column names.\n",
            "Created temporary directory /tmp/tmp_hexaxfuymykm\n",
            "Created batch 1\n",
            "Created batch 2\n",
            "Created batch 3\n",
            "Created batch 4\n",
            "Created batch 5\n",
            "Created batch 6\n",
            "Created batch 7\n",
            "Created batch 8\n",
            "Created batch 9\n",
            "Created batch 10\n",
            "Created batch 11\n",
            "Created batch 12\n",
            "Created batch 13\n",
            "Created batch 14\n",
            "Created batch 15\n",
            "Created batch 16\n",
            "Created batch 17\n",
            "Created batch 18\n",
            "Created batch 19\n",
            "Created batch 20\n",
            "Created batch 21\n",
            "Created batch 22\n",
            "Created batch 23\n",
            "Created batch 24\n",
            "Created batch 25\n",
            "Created batch 26\n",
            "Created batch 27\n",
            "Created batch 28\n",
            "Created batch 29\n",
            "Created batch 30\n",
            "Created batch 31\n",
            "Created batch 32\n",
            "Created batch 33\n",
            "Finished preprocessing. Total batches created: 33\n",
            "Processing batches using 8 processes\n"
          ]
        },
        {
          "metadata": {
            "tags": null
          },
          "name": "stderr",
          "output_type": "stream",
          "text": [
            "Processing batches: 100%|██████████| 33/33 [04:37<00:00,  8.41s/batch]\n"
          ]
        },
        {
          "metadata": {
            "tags": null
          },
          "name": "stdout",
          "output_type": "stream",
          "text": [
            "Creating pseudovisium folder in output path:/content/pseudovisium/cosmx_pancreas\n",
            "Creating scalefactors_json.json file in spatial folder.\n",
            "Creating barcodes.tsv.gz file in spatial folder.\n",
            "Creating tissue_positions_list.csv file in spatial folder.\n",
            "Creating pv_cell_hex.csv file in spatial folder.\n",
            "No quality information provided. Skipping quality information files.\n",
            "No quality information provided. Skipping quality information files.\n",
            "Creating features.tsv.gz file in spatial folder.\n",
            "Putting together the matrix.mtx file\n",
            "Using 8 processes\n",
            "Processing 4568 hexagons in batches of 142 hexagons\n"
          ]
        },
        {
          "metadata": {
            "tags": null
          },
          "name": "stderr",
          "output_type": "stream",
          "text": [
            "\rProcessing batches:   0%|          | 0/33 [00:00<?, ?it/s]"
          ]
        },
        {
          "metadata": {
            "tags": null
          },
          "name": "stdout",
          "output_type": "stream",
          "text": [
            "Batch total count: 2109208\n"
          ]
        },
        {
          "metadata": {
            "tags": null
          },
          "name": "stderr",
          "output_type": "stream",
          "text": [
            "\rProcessing batches:   3%|▎         | 1/33 [06:11<3:18:15, 371.74s/it]"
          ]
        },
        {
          "metadata": {
            "tags": null
          },
          "name": "stdout",
          "output_type": "stream",
          "text": [
            "Batch total count: 2205063\n",
            "Batch total count: 2567108\n"
          ]
        },
        {
          "metadata": {
            "tags": null
          },
          "name": "stderr",
          "output_type": "stream",
          "text": [
            "Processing batches:   9%|▉         | 3/33 [08:06<59:55, 119.86s/it]  "
          ]
        },
        {
          "metadata": {
            "tags": null
          },
          "name": "stdout",
          "output_type": "stream",
          "text": [
            "Batch total count: 1982194\n"
          ]
        },
        {
          "metadata": {
            "tags": null
          },
          "name": "stderr",
          "output_type": "stream",
          "text": [
            "\rProcessing batches:  12%|█▏        | 4/33 [08:53<44:06, 91.27s/it] "
          ]
        },
        {
          "metadata": {
            "tags": null
          },
          "name": "stdout",
          "output_type": "stream",
          "text": [
            "Batch total count: 1726315\n"
          ]
        },
        {
          "metadata": {
            "tags": null
          },
          "name": "stderr",
          "output_type": "stream",
          "text": [
            "\rProcessing batches:  15%|█▌        | 5/33 [09:11<30:11, 64.68s/it]"
          ]
        },
        {
          "metadata": {
            "tags": null
          },
          "name": "stdout",
          "output_type": "stream",
          "text": [
            "Batch total count: 2261586\n"
          ]
        },
        {
          "metadata": {
            "tags": null
          },
          "name": "stderr",
          "output_type": "stream",
          "text": [
            "\rProcessing batches:  18%|█▊        | 6/33 [10:09<28:02, 62.32s/it]"
          ]
        },
        {
          "metadata": {
            "tags": null
          },
          "name": "stdout",
          "output_type": "stream",
          "text": [
            "Batch total count: 1712850\n"
          ]
        },
        {
          "metadata": {
            "tags": null
          },
          "name": "stderr",
          "output_type": "stream",
          "text": [
            "\rProcessing batches:  21%|██        | 7/33 [10:54<24:34, 56.69s/it]"
          ]
        },
        {
          "metadata": {
            "tags": null
          },
          "name": "stdout",
          "output_type": "stream",
          "text": [
            "Batch total count: 2015717\n"
          ]
        },
        {
          "metadata": {
            "tags": null
          },
          "name": "stderr",
          "output_type": "stream",
          "text": [
            "\rProcessing batches:  24%|██▍       | 8/33 [11:35<21:30, 51.61s/it]"
          ]
        },
        {
          "metadata": {
            "tags": null
          },
          "name": "stdout",
          "output_type": "stream",
          "text": [
            "Batch total count: 1917035\n"
          ]
        },
        {
          "metadata": {
            "tags": null
          },
          "name": "stderr",
          "output_type": "stream",
          "text": [
            "\rProcessing batches:  27%|██▋       | 9/33 [16:29<51:00, 127.51s/it]"
          ]
        },
        {
          "metadata": {
            "tags": null
          },
          "name": "stdout",
          "output_type": "stream",
          "text": [
            "Batch total count: 2242353\n"
          ]
        },
        {
          "metadata": {
            "tags": null
          },
          "name": "stderr",
          "output_type": "stream",
          "text": [
            "\rProcessing batches:  30%|███       | 10/33 [17:34<41:32, 108.37s/it]"
          ]
        },
        {
          "metadata": {
            "tags": null
          },
          "name": "stdout",
          "output_type": "stream",
          "text": [
            "Batch total count: 1864175\n"
          ]
        },
        {
          "metadata": {
            "tags": null
          },
          "name": "stderr",
          "output_type": "stream",
          "text": [
            "\rProcessing batches:  33%|███▎      | 11/33 [19:58<43:40, 119.11s/it]"
          ]
        },
        {
          "metadata": {
            "tags": null
          },
          "name": "stdout",
          "output_type": "stream",
          "text": [
            "Batch total count: 2273914\n"
          ]
        },
        {
          "metadata": {
            "tags": null
          },
          "name": "stderr",
          "output_type": "stream",
          "text": [
            "\rProcessing batches:  36%|███▋      | 12/33 [20:28<32:11, 91.97s/it] "
          ]
        },
        {
          "metadata": {
            "tags": null
          },
          "name": "stdout",
          "output_type": "stream",
          "text": [
            "Batch total count: 1801726\n"
          ]
        },
        {
          "metadata": {
            "tags": null
          },
          "name": "stderr",
          "output_type": "stream",
          "text": [
            "\rProcessing batches:  39%|███▉      | 13/33 [21:14<26:02, 78.11s/it]"
          ]
        },
        {
          "metadata": {
            "tags": null
          },
          "name": "stdout",
          "output_type": "stream",
          "text": [
            "Batch total count: 2085812\n"
          ]
        },
        {
          "metadata": {
            "tags": null
          },
          "name": "stderr",
          "output_type": "stream",
          "text": [
            "\rProcessing batches:  42%|████▏     | 14/33 [21:53<21:00, 66.33s/it]"
          ]
        },
        {
          "metadata": {
            "tags": null
          },
          "name": "stdout",
          "output_type": "stream",
          "text": [
            "Batch total count: 1960814\n"
          ]
        },
        {
          "metadata": {
            "tags": null
          },
          "name": "stderr",
          "output_type": "stream",
          "text": [
            "\rProcessing batches:  45%|████▌     | 15/33 [24:26<27:41, 92.28s/it]"
          ]
        },
        {
          "metadata": {
            "tags": null
          },
          "name": "stdout",
          "output_type": "stream",
          "text": [
            "Batch total count: 1303415\n"
          ]
        },
        {
          "metadata": {
            "tags": null
          },
          "name": "stderr",
          "output_type": "stream",
          "text": [
            "\rProcessing batches:  48%|████▊     | 16/33 [26:04<26:40, 94.17s/it]"
          ]
        },
        {
          "metadata": {
            "tags": null
          },
          "name": "stdout",
          "output_type": "stream",
          "text": [
            "Batch total count: 2255957\n"
          ]
        },
        {
          "metadata": {
            "tags": null
          },
          "name": "stderr",
          "output_type": "stream",
          "text": [
            "\rProcessing batches:  52%|█████▏    | 17/33 [28:30<29:18, 109.88s/it]"
          ]
        },
        {
          "metadata": {
            "tags": null
          },
          "name": "stdout",
          "output_type": "stream",
          "text": [
            "Batch total count: 2236930\n"
          ]
        },
        {
          "metadata": {
            "tags": null
          },
          "name": "stderr",
          "output_type": "stream",
          "text": [
            "\rProcessing batches:  55%|█████▍    | 18/33 [33:39<42:25, 169.70s/it]"
          ]
        },
        {
          "metadata": {
            "tags": null
          },
          "name": "stdout",
          "output_type": "stream",
          "text": [
            "Batch total count: 1914012\n"
          ]
        },
        {
          "metadata": {
            "tags": null
          },
          "name": "stderr",
          "output_type": "stream",
          "text": [
            "\rProcessing batches:  58%|█████▊    | 19/33 [35:37<35:57, 154.12s/it]"
          ]
        },
        {
          "metadata": {
            "tags": null
          },
          "name": "stdout",
          "output_type": "stream",
          "text": [
            "Batch total count: 1695300\n"
          ]
        },
        {
          "metadata": {
            "tags": null
          },
          "name": "stderr",
          "output_type": "stream",
          "text": [
            "\rProcessing batches:  61%|██████    | 20/33 [36:49<28:03, 129.48s/it]"
          ]
        },
        {
          "metadata": {
            "tags": null
          },
          "name": "stdout",
          "output_type": "stream",
          "text": [
            "Batch total count: 2377910\n"
          ]
        },
        {
          "metadata": {
            "tags": null
          },
          "name": "stderr",
          "output_type": "stream",
          "text": [
            "\rProcessing batches:  64%|██████▎   | 21/33 [37:51<21:49, 109.15s/it]"
          ]
        },
        {
          "metadata": {
            "tags": null
          },
          "name": "stdout",
          "output_type": "stream",
          "text": [
            "Batch total count: 2320536\n"
          ]
        },
        {
          "metadata": {
            "tags": null
          },
          "name": "stderr",
          "output_type": "stream",
          "text": [
            "\rProcessing batches:  67%|██████▋   | 22/33 [39:57<20:56, 114.23s/it]"
          ]
        },
        {
          "metadata": {
            "tags": null
          },
          "name": "stdout",
          "output_type": "stream",
          "text": [
            "Batch total count: 1786246\n"
          ]
        },
        {
          "metadata": {
            "tags": null
          },
          "name": "stderr",
          "output_type": "stream",
          "text": [
            "\rProcessing batches:  70%|██████▉   | 23/33 [42:46<21:44, 130.50s/it]"
          ]
        },
        {
          "metadata": {
            "tags": null
          },
          "name": "stdout",
          "output_type": "stream",
          "text": [
            "Batch total count: 2197079\n"
          ]
        },
        {
          "metadata": {
            "tags": null
          },
          "name": "stderr",
          "output_type": "stream",
          "text": [
            "\rProcessing batches:  73%|███████▎  | 24/33 [43:28<15:37, 104.12s/it]"
          ]
        },
        {
          "metadata": {
            "tags": null
          },
          "name": "stdout",
          "output_type": "stream",
          "text": [
            "Batch total count: 2448699\n"
          ]
        },
        {
          "metadata": {
            "tags": null
          },
          "name": "stderr",
          "output_type": "stream",
          "text": [
            "\rProcessing batches:  76%|███████▌  | 25/33 [50:55<27:35, 206.97s/it]"
          ]
        },
        {
          "metadata": {
            "tags": null
          },
          "name": "stdout",
          "output_type": "stream",
          "text": [
            "Batch total count: 2148200\n"
          ]
        },
        {
          "metadata": {
            "tags": null
          },
          "name": "stderr",
          "output_type": "stream",
          "text": [
            "\rProcessing batches:  79%|███████▉  | 26/33 [54:17<23:58, 205.53s/it]"
          ]
        },
        {
          "metadata": {
            "tags": null
          },
          "name": "stdout",
          "output_type": "stream",
          "text": [
            "Batch total count: 239820\n"
          ]
        },
        {
          "metadata": {
            "tags": null
          },
          "name": "stderr",
          "output_type": "stream",
          "text": [
            "\rProcessing batches:  82%|████████▏ | 27/33 [54:27<14:40, 146.72s/it]"
          ]
        },
        {
          "output_type": "stream",
          "name": "stdout",
          "text": [
            "Batch total count: 1884833\n"
          ]
        },
        {
          "output_type": "stream",
          "name": "stderr",
          "text": [
            "\rProcessing batches:  85%|████████▍ | 28/33 [56:34<11:44, 140.94s/it]"
          ]
        },
        {
          "output_type": "stream",
          "name": "stdout",
          "text": [
            "Batch total count: 1901504\n"
          ]
        },
        {
          "output_type": "stream",
          "name": "stderr",
          "text": [
            "\rProcessing batches:  88%|████████▊ | 29/33 [56:39<06:40, 100.06s/it]"
          ]
        },
        {
          "output_type": "stream",
          "name": "stdout",
          "text": [
            "Batch total count: 2285721\n"
          ]
        },
        {
          "output_type": "stream",
          "name": "stderr",
          "text": [
            "\rProcessing batches:  91%|█████████ | 30/33 [57:07<03:55, 78.56s/it] "
          ]
        },
        {
          "output_type": "stream",
          "name": "stdout",
          "text": [
            "Batch total count: 2060592\n"
          ]
        },
        {
          "output_type": "stream",
          "name": "stderr",
          "text": [
            "\rProcessing batches:  94%|█████████▍| 31/33 [58:43<02:47, 83.58s/it]"
          ]
        },
        {
          "output_type": "stream",
          "name": "stdout",
          "text": [
            "Batch total count: 2026230\n"
          ]
        },
        {
          "output_type": "stream",
          "name": "stderr",
          "text": [
            "\rProcessing batches:  97%|█████████▋| 32/33 [1:00:10<01:24, 84.72s/it]"
          ]
        },
        {
          "output_type": "stream",
          "name": "stdout",
          "text": [
            "Batch total count: 1985382\n"
          ]
        },
        {
          "output_type": "stream",
          "name": "stderr",
          "text": [
            "Processing batches: 100%|██████████| 33/33 [1:00:24<00:00, 109.83s/it]\n"
          ]
        },
        {
          "output_type": "stream",
          "name": "stdout",
          "text": [
            "Total matrix count: 65794236\n",
            "Number of unique hexagons: 4568\n",
            "Number of hexagons in ordered_hexagon_counts: 4568\n",
            "Creating matrix.mtx.gz file in spatial folder.\n",
            "Putting together the filtered_feature_bc_matrix.h5 file\n",
            "No image file provided. Creating blank tissue_hires_image.png and tissue_lowres_image.png files in spatial folder.\n",
            "Creating arguments.json file in output path.\n",
            "Time taken: 4689.998818635941 seconds\n"
          ]
        }
      ],
      "source": [
        "csv_file=\"/content/pancreas/Pancreas_tx_file.csv\"\n",
        "output_path = \"/content\"\n",
        "hexagon_size = 25 #change to 50 for faster execution. Any higher would\n",
        "#be inappropriate for a very small tissue section like this\n",
        "start = time.time()\n",
        "pseudovisium_path = generate_pv(csv_file=csv_file,\n",
        "                                hexagon_size=hexagon_size,\n",
        "                                output_path=output_path,\n",
        "                                batch_size=2000000,\n",
        "                                technology=\"cosmx\",\n",
        "                                max_workers=10,\n",
        "                                project_name='cosmx_pancreas',\n",
        "                                feature_colname='target',\n",
        "                                x_colname=\"x_global_px\",\n",
        "                                y_colname=\"y_global_px\",\n",
        "                                cell_id_colname='cell_ID',\n",
        "                                coord_to_um_conversion=0.12028 #this is the\n",
        "                                #pxl to um conversion factor used\n",
        "                                #in this data,but may\n",
        "                                #differ for other cosmx dataset\n",
        "\n",
        "                                )\n",
        "end = time.time()"
      ]
    },
    {
      "cell_type": "code",
      "execution_count": null,
      "metadata": {
        "colab": {
          "base_uri": "https://localhost:8080/",
          "height": 508
        },
        "id": "bbwzRneb_CzW",
        "outputId": "62bec89d-05f5-441e-ea87-8d1cf1474842"
      },
      "outputs": [
        {
          "output_type": "display_data",
          "data": {
            "text/plain": [
              "<Figure size 640x480 with 2 Axes>"
            ],
            "image/png": "[encoded data removed]"
          },
          "metadata": {}
        }
      ],
      "source": [
        "import squidpy as sq\n",
        "import numpy as np\n",
        "adata_pv = sq.read.visium(\"/content/pseudovisium/cosmx_pancreas/\", library_id=\"library_id\")\n",
        "adata_pv.obs[\"sum\"]= np.array(np.sum(adata_pv.X,axis=1)).flatten()\n",
        "sq.pl.spatial_scatter(\n",
        "    adata_pv,color=\"sum\",img=False\n",
        ")"
      ]
    },
    {
      "cell_type": "code",
      "source": [
        "sq.pl.spatial_scatter(\n",
        "    adata_pv,color=\"INS\",img=False\n",
        ")"
      ],
      "metadata": {
        "colab": {
          "base_uri": "https://localhost:8080/",
          "height": 508
        },
        "id": "awA6Z2DcFqlB",
        "outputId": "56ddbd9f-15ba-4522-9486-e7c24f3e5048"
      },
      "execution_count": null,
      "outputs": [
        {
          "output_type": "display_data",
          "data": {
            "text/plain": [
              "<Figure size 640x480 with 2 Axes>"
            ],
            "image/png": "[encoded data removed]"
          },
          "metadata": {}
        }
      ]
    },
    {
      "cell_type": "code",
      "execution_count": null,
      "metadata": {
        "id": "XQsnnZLEOzlc"
      },
      "outputs": [],
      "source": [
        "import pandas as pd"
      ]
    },
    {
      "cell_type": "code",
      "execution_count": null,
      "metadata": {
        "id": "zDlGPGLY_C6b"
      },
      "outputs": [],
      "source": [
        "def load_in_fullres(folder,ctu=0.12028):\n",
        "      try:\n",
        "          adata_fullres = sq.read.nanostring(\n",
        "              path=folder,\n",
        "              counts_file=\"Pancreas_exprMat_file.csv\",\n",
        "              meta_file=\"Pancreas_metadata_file.csv\",\n",
        "              fov_file=\"Pancreas_fov_positions_file.csv\",\n",
        "          )\n",
        "\n",
        "\n",
        "      except:\n",
        "          #first command -> locate to folder folder\n",
        "          file= \"/Pancreas_fov_positions_file.csv\"\n",
        "          new_file = \"/Pancreas_fov_positions_new_file.csv\"\n",
        "          # extract the third column from the CSV file\n",
        "          df = pd.read_csv(folder + file)\n",
        "          #create a column fov which is same as FOV\n",
        "          df[\"fov\"]=df[\"FOV\"]\n",
        "          #make it the index\n",
        "          df.set_index(\"fov\", inplace=True)\n",
        "\n",
        "          df.to_csv(folder + new_file, index=True)\n",
        "\n",
        "          adata_fullres = sq.read.nanostring(\n",
        "                  path=folder,\n",
        "                  counts_file=\"Pancreas_exprMat_file.csv\",\n",
        "                  meta_file=\"Pancreas_metadata_file.csv\",\n",
        "                  fov_file=\"Pancreas_fov_positions_new_file.csv\",\n",
        "              )\n",
        "          adata_fullres.obsm[\"spatial\"] = adata_fullres.obs[[\"CenterX_global_px\",\"CenterY_global_px\"]].to_numpy()\n",
        "          adata_fullres.obsm[\"spatial\"]=adata_fullres.obsm[\"spatial\"]*ctu\n",
        "\n",
        "      sc.pp.calculate_qc_metrics(adata_fullres, percent_top=(50, 100, 200, 300), inplace=True)\n",
        "      adata_fullres.obs[\"sum\"]= np.array(np.sum(adata_fullres.X,axis=1)).flatten()\n",
        "      return adata_fullres"
      ]
    },
    {
      "cell_type": "markdown",
      "metadata": {
        "id": "qeoDeuwYUADm"
      },
      "source": [
        "Loading in the full-res data might take a while. (This is exactly why hexagonal-binning is advantageous)"
      ]
    },
    {
      "cell_type": "code",
      "source": [
        "import scanpy as sc"
      ],
      "metadata": {
        "id": "4A26qwqN65b8"
      },
      "execution_count": null,
      "outputs": []
    },
    {
      "cell_type": "code",
      "execution_count": 20,
      "metadata": {
        "colab": {
          "base_uri": "https://localhost:8080/"
        },
        "id": "PAbrB4eL_C9h",
        "outputId": "da1253e1-de17-47b4-9a7f-c07d7224ec94"
      },
      "outputs": [
        {
          "output_type": "stream",
          "name": "stderr",
          "text": [
            "/usr/local/lib/python3.10/dist-packages/anndata/_core/anndata.py:430: FutureWarning: The dtype argument is deprecated and will be removed in late 2024.\n",
            "  warnings.warn(\n",
            "/usr/local/lib/python3.10/dist-packages/anndata/_core/anndata.py:430: FutureWarning: The dtype argument is deprecated and will be removed in late 2024.\n",
            "  warnings.warn(\n"
          ]
        }
      ],
      "source": [
        "adata_fullres = load_in_fullres(\"/content/pancreas\",ctu=0.12028)"
      ]
    },
    {
      "cell_type": "code",
      "execution_count": 21,
      "metadata": {
        "id": "mb1FBqGAXjyX",
        "colab": {
          "base_uri": "https://localhost:8080/",
          "height": 430
        },
        "outputId": "d1bff0f1-92a4-439f-d832-0b83b1a39dc4"
      },
      "outputs": [
        {
          "output_type": "display_data",
          "data": {
            "text/plain": [
              "<Figure size 640x480 with 1 Axes>"
            ],
            "image/png": "[encoded data removed]"
          },
          "metadata": {}
        }
      ],
      "source": [
        "import matplotlib.pyplot as plt\n",
        "plt.scatter(adata_fullres.obsm[\"spatial\"][:,0],adata_fullres.obsm[\"spatial\"][:,1],c=adata_fullres.obs[\"sum\"],s=0.5)\n",
        "plt.gca().set_aspect('equal', adjustable='box')\n",
        "plt.show()"
      ]
    },
    {
      "cell_type": "code",
      "source": [
        "#plot Insulin gene\n",
        "plt.scatter(adata_fullres.obsm[\"spatial\"][:,0],adata_fullres.obsm[\"spatial\"][:,1],c=adata_fullres[:,\"INS\"].X.toarray().flatten(),cmap=\"viridis\")\n",
        "plt.gca().set_aspect('equal', adjustable='box')\n",
        "plt.show()"
      ],
      "metadata": {
        "id": "ZILOGJqFExNC",
        "colab": {
          "base_uri": "https://localhost:8080/",
          "height": 430
        },
        "outputId": "7e18fd41-f936-466d-85ec-48c96b564b2f"
      },
      "execution_count": 22,
      "outputs": [
        {
          "output_type": "display_data",
          "data": {
            "text/plain": [
              "<Figure size 640x480 with 1 Axes>"
            ],
            "image/png": "[encoded data removed]"
          },
          "metadata": {}
        }
      ]
    },
    {
      "cell_type": "markdown",
      "metadata": {
        "id": "xMiRTFU1HuuY"
      },
      "source": [
        "## Size of the full res dataset."
      ]
    },
    {
      "cell_type": "code",
      "execution_count": 23,
      "metadata": {
        "id": "1LXKeg6mQlCI",
        "colab": {
          "base_uri": "https://localhost:8080/"
        },
        "outputId": "08ab15bc-2bf2-40b6-9692-656106b30090"
      },
      "outputs": [
        {
          "output_type": "stream",
          "name": "stdout",
          "text": [
            "Total size of the object: 2433.253318786621 Mb\n"
          ]
        }
      ],
      "source": [
        "print(\"Total size of the object:\", asizeof.asizeof(adata_fullres)/ (1024 * 1024), \"Mb\")"
      ]
    },
    {
      "cell_type": "markdown",
      "metadata": {
        "id": "cVp9aUNkHyJm"
      },
      "source": [
        "## Size of the Pseudovisium binned dataset (50um bins - 2*25)."
      ]
    },
    {
      "cell_type": "code",
      "execution_count": 24,
      "metadata": {
        "id": "ABLy_MlxQtL6",
        "colab": {
          "base_uri": "https://localhost:8080/"
        },
        "outputId": "cb6e975f-e7fb-48a7-adf8-25e7f6496eeb"
      },
      "outputs": [
        {
          "output_type": "stream",
          "name": "stdout",
          "text": [
            "Total size of the object: 308.0759048461914 Mb\n"
          ]
        }
      ],
      "source": [
        "print(\"Total size of the object:\", asizeof.asizeof(adata_pv)/ (1024 * 1024), \"Mb\")"
      ]
    },
    {
      "cell_type": "markdown",
      "metadata": {
        "id": "TeeA9KU9Um4k"
      },
      "source": [
        "Installed packages in the environment"
      ]
    },
    {
      "cell_type": "code",
      "execution_count": null,
      "metadata": {
        "colab": {
          "base_uri": "https://localhost:8080/"
        },
        "id": "dAyC8wkaUnif",
        "outputId": "e0340901-e54c-4a35-e522-686a82320226"
      },
      "outputs": [
        {
          "output_type": "stream",
          "name": "stdout",
          "text": [
            "Installed packages:\n",
            "absl-py==1.4.0\n",
            "access==1.1.9\n",
            "adjustText==1.1.1\n",
            "affine==2.4.0\n",
            "aiobotocore==2.5.4\n",
            "aiohttp==3.9.5\n",
            "aioitertools==0.11.0\n",
            "aiosignal==1.3.1\n",
            "alabaster==0.7.16\n",
            "albumentations==1.3.1\n",
            "altair==4.2.2\n",
            "anndata==0.10.7\n",
            "annotated-types==0.6.0\n",
            "anyio==3.7.1\n",
            "appdirs==1.4.4\n",
            "argon2-cffi==23.1.0\n",
            "argon2-cffi-bindings==21.2.0\n",
            "array_api_compat==1.6\n",
            "array_record==0.5.1\n",
            "arviz==0.15.1\n",
            "asciitree==0.3.3\n",
            "astropy==5.3.4\n",
            "astunparse==1.6.3\n",
            "async-timeout==4.0.3\n",
            "atpublic==4.1.0\n",
            "attrs==23.2.0\n",
            "audioread==3.0.1\n",
            "autograd==1.6.2\n",
            "Babel==2.14.0\n",
            "backcall==0.2.0\n",
            "beautifulsoup4==4.12.3\n",
            "bidict==0.23.1\n",
            "bigframes==1.3.0\n",
            "bleach==6.1.0\n",
            "blinker==1.4\n",
            "blis==0.7.11\n",
            "blosc2==2.0.0\n",
            "bokeh==3.3.4\n",
            "botocore==1.31.17\n",
            "bqplot==0.12.43\n",
            "branca==0.7.2\n",
            "build==1.2.1\n",
            "CacheControl==0.14.0\n",
            "cachetools==5.3.3\n",
            "catalogue==2.0.10\n",
            "certifi==2024.2.2\n",
            "cffi==1.16.0\n",
            "chardet==5.2.0\n",
            "charset-normalizer==3.3.2\n",
            "chex==0.1.86\n",
            "click==8.1.7\n",
            "click-plugins==1.1.1\n",
            "cligj==0.7.2\n",
            "cloudpathlib==0.16.0\n",
            "cloudpickle==2.2.1\n",
            "cmake==3.27.9\n",
            "cmdstanpy==1.2.2\n",
            "colorcet==3.1.0\n",
            "colorlover==0.3.0\n",
            "colour==0.1.5\n",
            "community==1.0.0b1\n",
            "confection==0.1.4\n",
            "cons==0.4.6\n",
            "contextlib2==21.6.0\n",
            "contourpy==1.2.1\n",
            "cryptography==42.0.5\n",
            "cufflinks==0.17.3\n",
            "cupy-cuda12x==12.2.0\n",
            "cvxopt==1.3.2\n",
            "cvxpy==1.3.4\n",
            "cycler==0.12.1\n",
            "cymem==2.0.8\n",
            "Cython==3.0.10\n",
            "dask==2023.8.1\n",
            "dask-image==2023.8.1\n",
            "datascience==0.17.6\n",
            "datashader==0.16.1\n",
            "db-dtypes==1.2.0\n",
            "dbus-python==1.2.18\n",
            "debugpy==1.6.6\n",
            "decorator==4.4.2\n",
            "defusedxml==0.7.1\n",
            "deprecation==2.1.0\n",
            "distributed==2023.8.1\n",
            "distro==1.7.0\n",
            "dlib==19.24.4\n",
            "dm-tree==0.1.8\n",
            "docrep==0.3.2\n",
            "docstring_parser==0.16\n",
            "docutils==0.18.1\n",
            "dopamine-rl==4.0.6\n",
            "duckdb==0.10.2\n",
            "earthengine-api==0.1.400\n",
            "easydict==1.13\n",
            "ecos==2.0.13\n",
            "editdistance==0.6.2\n",
            "eerepr==0.0.4\n",
            "en-core-web-sm @ https://github.com/explosion/spacy-models/releases/download/en_core_web_sm-3.7.1/en_core_web_sm-3.7.1-py3-none-any.whl#sha256=86cc141f63942d4b2c5fcee06630fd6f904788d2f0ab005cce45aadb8fb73889\n",
            "entrypoints==0.4\n",
            "esda==2.5.1\n",
            "et-xmlfile==1.1.0\n",
            "etils==1.7.0\n",
            "etuples==0.3.9\n",
            "exceptiongroup==1.2.1\n",
            "fastai==2.7.14\n",
            "fastcore==1.5.32\n",
            "fastdownload==0.0.7\n",
            "fasteners==0.19\n",
            "fastjsonschema==2.19.1\n",
            "fastprogress==1.0.3\n",
            "fastrlock==0.8.2\n",
            "filelock==3.13.4\n",
            "fiona==1.9.6\n",
            "firebase-admin==5.3.0\n",
            "Flask==2.2.5\n",
            "flatbuffers==24.3.25\n",
            "flax==0.8.2\n",
            "folium==0.14.0\n",
            "fonttools==4.51.0\n",
            "frozendict==2.4.2\n",
            "frozenlist==1.4.1\n",
            "fsspec==2023.6.0\n",
            "future==0.18.3\n",
            "gast==0.5.4\n",
            "gcsfs==2023.6.0\n",
            "GDAL==3.6.4\n",
            "gdown==5.1.0\n",
            "geemap==0.32.0\n",
            "gensim==4.3.2\n",
            "geocoder==1.38.1\n",
            "geographiclib==2.0\n",
            "geopandas==0.13.2\n",
            "geopy==2.3.0\n",
            "giddy==2.3.5\n",
            "gin-config==0.5.0\n",
            "glob2==0.7\n",
            "google==2.0.3\n",
            "google-ai-generativelanguage==0.6.2\n",
            "google-api-core==2.11.1\n",
            "google-api-python-client==2.84.0\n",
            "google-auth==2.27.0\n",
            "google-auth-httplib2==0.1.1\n",
            "google-auth-oauthlib==1.2.0\n",
            "google-cloud-aiplatform==1.48.0\n",
            "google-cloud-bigquery==3.21.0\n",
            "google-cloud-bigquery-connection==1.12.1\n",
            "google-cloud-bigquery-storage==2.24.0\n",
            "google-cloud-core==2.3.3\n",
            "google-cloud-datastore==2.15.2\n",
            "google-cloud-firestore==2.11.1\n",
            "google-cloud-functions==1.13.3\n",
            "google-cloud-iam==2.15.0\n",
            "google-cloud-language==2.13.3\n",
            "google-cloud-resource-manager==1.12.3\n",
            "google-cloud-storage==2.8.0\n",
            "google-cloud-translate==3.11.3\n",
            "google-colab @ file:///colabtools/dist/google-colab-1.0.0.tar.gz#sha256=b339720039203114d396a4aff1fa5e863a95b945e6fbc25154bebdbc7f285ceb\n",
            "google-crc32c==1.5.0\n",
            "google-generativeai==0.5.2\n",
            "google-pasta==0.2.0\n",
            "google-resumable-media==2.7.0\n",
            "googleapis-common-protos==1.63.0\n",
            "googledrivedownloader==0.4\n",
            "graphviz==0.20.3\n",
            "greenlet==3.0.3\n",
            "grpc-google-iam-v1==0.13.0\n",
            "grpcio==1.62.2\n",
            "grpcio-status==1.48.2\n",
            "gspread==3.4.2\n",
            "gspread-dataframe==3.3.1\n",
            "gym==0.25.2\n",
            "gym-notices==0.0.8\n",
            "h5netcdf==1.3.0\n",
            "h5py==3.9.0\n",
            "holidays==0.47\n",
            "holoviews==1.17.1\n",
            "html5lib==1.1\n",
            "httpimport==1.3.1\n",
            "httplib2==0.22.0\n",
            "huggingface-hub==0.20.3\n",
            "humanize==4.7.0\n",
            "hyperopt==0.2.7\n",
            "ibis-framework==8.0.0\n",
            "idna==3.7\n",
            "igraph==0.11.4\n",
            "imageio==2.34.1\n",
            "imageio-ffmpeg==0.4.9\n",
            "imagesize==1.4.1\n",
            "imbalanced-learn==0.10.1\n",
            "imgaug==0.4.0\n",
            "importlib_metadata==7.1.0\n",
            "importlib_resources==6.4.0\n",
            "imutils==0.5.4\n",
            "inequality==1.0.1\n",
            "inflect==7.0.0\n",
            "iniconfig==2.0.0\n",
            "intel-openmp==2023.2.4\n",
            "ipyevents==2.0.2\n",
            "ipyfilechooser==0.6.0\n",
            "ipykernel==5.5.6\n",
            "ipyleaflet==0.19.0\n",
            "ipython==7.34.0\n",
            "ipython-genutils==0.2.0\n",
            "ipython-sql==0.5.0\n",
            "ipytree==0.2.2\n",
            "ipywidgets==7.7.1\n",
            "itsdangerous==2.2.0\n",
            "jax==0.4.26\n",
            "jaxlib @ https://storage.googleapis.com/jax-releases/cuda12/jaxlib-0.4.26+cuda12.cudnn89-cp310-cp310-manylinux2014_x86_64.whl#sha256=813cf1fe3e7ca4dbf5327d6e7b4fc8521e92d8bba073ee645ae0d5d036a25750\n",
            "jeepney==0.7.1\n",
            "jieba==0.42.1\n",
            "Jinja2==3.1.3\n",
            "jmespath==1.0.1\n",
            "joblib==1.4.0\n",
            "jsonpickle==3.0.4\n",
            "jsonschema==4.19.2\n",
            "jsonschema-specifications==2023.12.1\n",
            "jupyter-client==6.1.12\n",
            "jupyter-console==6.1.0\n",
            "jupyter-leaflet==0.19.0\n",
            "jupyter-server==1.24.0\n",
            "jupyter_core==5.7.2\n",
            "jupyterlab_pygments==0.3.0\n",
            "jupyterlab_widgets==3.0.10\n",
            "kaggle==1.6.12\n",
            "kagglehub==0.2.4\n",
            "keras==2.15.0\n",
            "keyring==23.5.0\n",
            "kiwisolver==1.4.5\n",
            "langcodes==3.4.0\n",
            "language_data==1.2.0\n",
            "launchpadlib==1.10.16\n",
            "lazr.restfulclient==0.14.4\n",
            "lazr.uri==1.0.6\n",
            "lazy_loader==0.4\n",
            "legacy-api-wrap==1.4\n",
            "leidenalg==0.10.2\n",
            "libclang==18.1.1\n",
            "libpysal==4.10\n",
            "librosa==0.10.1\n",
            "lightgbm==4.1.0\n",
            "linkify-it-py==2.0.3\n",
            "llvmlite==0.41.1\n",
            "locket==1.0.0\n",
            "logical-unification==0.4.6\n",
            "lxml==4.9.4\n",
            "malloy==2023.1067\n",
            "mapclassify==2.6.1\n",
            "marisa-trie==1.1.0\n",
            "Markdown==3.6\n",
            "markdown-it-py==3.0.0\n",
            "MarkupSafe==2.1.5\n",
            "matplotlib==3.7.1\n",
            "matplotlib-inline==0.1.7\n",
            "matplotlib-scalebar==0.8.1\n",
            "matplotlib-venn==0.11.10\n",
            "mdit-py-plugins==0.4.0\n",
            "mdurl==0.1.2\n",
            "mgwr==2.2.1\n",
            "miniKanren==1.0.3\n",
            "missingno==0.5.2\n",
            "mistune==0.8.4\n",
            "mizani==0.9.3\n",
            "mkl==2023.2.0\n",
            "ml-dtypes==0.2.0\n",
            "mlxtend==0.22.0\n",
            "momepy==0.7.0\n",
            "more-itertools==10.1.0\n",
            "moviepy==1.0.3\n",
            "mpmath==1.3.0\n",
            "msgpack==1.0.8\n",
            "multidict==6.0.5\n",
            "multipledispatch==1.0.0\n",
            "multiscale_spatial_image==0.11.2\n",
            "multitasking==0.0.11\n",
            "murmurhash==1.0.10\n",
            "music21==9.1.0\n",
            "natsort==8.4.0\n",
            "nbclassic==1.0.0\n",
            "nbclient==0.10.0\n",
            "nbconvert==6.5.4\n",
            "nbformat==5.10.4\n",
            "nest-asyncio==1.6.0\n",
            "networkx==3.3\n",
            "nibabel==4.0.2\n",
            "nltk==3.8.1\n",
            "notebook==6.5.5\n",
            "notebook_shim==0.2.4\n",
            "numba==0.58.1\n",
            "numcodecs==0.12.1\n",
            "numexpr==2.10.0\n",
            "numpy==1.25.2\n",
            "oauth2client==4.1.3\n",
            "oauthlib==3.2.2\n",
            "ome-zarr==0.8.3\n",
            "omnipath==1.0.8\n",
            "opencv-contrib-python==4.8.0.76\n",
            "opencv-python==4.8.0.76\n",
            "opencv-python-headless==4.9.0.80\n",
            "openpyxl==3.1.2\n",
            "opt-einsum==3.3.0\n",
            "optax==0.2.2\n",
            "orbax-checkpoint==0.4.4\n",
            "osqp==0.6.2.post8\n",
            "packaging==24.0\n",
            "pandas==2.2.2\n",
            "pandas-datareader==0.10.0\n",
            "pandas-gbq==0.19.2\n",
            "pandas-stubs==2.0.3.230814\n",
            "pandocfilters==1.5.1\n",
            "panel==1.3.8\n",
            "param==2.1.0\n",
            "parso==0.8.4\n",
            "parsy==2.1\n",
            "partd==1.4.1\n",
            "pathlib==1.0.1\n",
            "patsy==0.5.6\n",
            "peewee==3.17.3\n",
            "pexpect==4.9.0\n",
            "pickleshare==0.7.5\n",
            "Pillow==9.4.0\n",
            "PIMS==0.6.1\n",
            "pip-tools==6.13.0\n",
            "platformdirs==4.2.1\n",
            "plotly==5.15.0\n",
            "plotnine==0.12.4\n",
            "pluggy==1.5.0\n",
            "pointpats==2.4.0\n",
            "polars==0.20.2\n",
            "pooch==1.8.1\n",
            "portpicker==1.5.2\n",
            "prefetch-generator==1.0.3\n",
            "preshed==3.0.9\n",
            "prettytable==3.10.0\n",
            "proglog==0.1.10\n",
            "progressbar2==4.2.0\n",
            "prometheus_client==0.20.0\n",
            "promise==2.3\n",
            "prompt-toolkit==3.0.43\n",
            "prophet==1.1.5\n",
            "proto-plus==1.23.0\n",
            "protobuf==3.20.3\n",
            "Pseudovisium==0.0.9\n",
            "psutil==5.9.5\n",
            "psycopg2==2.9.9\n",
            "ptyprocess==0.7.0\n",
            "PuLP==2.8.0\n",
            "py-cpuinfo==9.0.0\n",
            "py4j==0.10.9.7\n",
            "pyarrow==14.0.2\n",
            "pyarrow-hotfix==0.6\n",
            "pyasn1==0.6.0\n",
            "pyasn1_modules==0.4.0\n",
            "pycocotools==2.0.7\n",
            "pycparser==2.22\n",
            "pyct==0.5.0\n",
            "pydantic==2.7.1\n",
            "pydantic_core==2.18.2\n",
            "pydata-google-auth==1.8.2\n",
            "pydot==1.4.2\n",
            "pydot-ng==2.0.0\n",
            "pydotplus==2.0.2\n",
            "PyDrive==1.3.1\n",
            "PyDrive2==1.6.3\n",
            "pyerfa==2.0.1.4\n",
            "pygame==2.5.2\n",
            "pygeos==0.14\n",
            "Pygments==2.16.1\n",
            "PyGObject==3.42.1\n",
            "PyJWT==2.3.0\n",
            "pymc==5.10.4\n",
            "Pympler==1.0.1\n",
            "pymystem3==0.2.0\n",
            "pynndescent==0.5.12\n",
            "PyOpenGL==3.1.7\n",
            "pyOpenSSL==24.1.0\n",
            "pyparsing==3.1.2\n",
            "pyperclip==1.8.2\n",
            "pyproj==3.6.1\n",
            "pyproject_hooks==1.1.0\n",
            "pysal==24.1\n",
            "pyshp==2.3.1\n",
            "PySocks==1.7.1\n",
            "pytensor==2.18.6\n",
            "pytest==7.4.4\n",
            "python-apt @ file:///backend-container/containers/python_apt-0.0.0-cp310-cp310-linux_x86_64.whl#sha256=b209c7165d6061963abe611492f8c91c3bcef4b7a6600f966bab58900c63fefa\n",
            "python-box==7.1.1\n",
            "python-dateutil==2.8.2\n",
            "python-louvain==0.16\n",
            "python-slugify==8.0.4\n",
            "python-utils==3.8.2\n",
            "pytz==2023.4\n",
            "pyviz_comms==3.0.2\n",
            "PyWavelets==1.6.0\n",
            "PyYAML==6.0.1\n",
            "pyzmq==24.0.1\n",
            "qdldl==0.1.7.post2\n",
            "quantecon==0.7.2\n",
            "qudida==0.0.4\n",
            "rasterio==1.3.10\n",
            "rasterstats==0.19.0\n",
            "ratelim==0.1.6\n",
            "referencing==0.35.0\n",
            "regex==2023.12.25\n",
            "requests==2.31.0\n",
            "requests-oauthlib==1.3.1\n",
            "requirements-parser==0.9.0\n",
            "rich==13.7.1\n",
            "rpds-py==0.18.0\n",
            "rpy2==3.4.2\n",
            "rsa==4.9\n",
            "Rtree==1.2.0\n",
            "s3fs==2023.6.0\n",
            "safetensors==0.4.3\n",
            "scanpy==1.10.1\n",
            "scikit-image==0.23.2\n",
            "scikit-learn==1.2.2\n",
            "scipy==1.11.4\n",
            "scooby==0.9.2\n",
            "scs==3.2.4.post1\n",
            "seaborn==0.13.1\n",
            "SecretStorage==3.3.1\n",
            "segregation==2.5\n",
            "Send2Trash==1.8.3\n",
            "sentencepiece==0.1.99\n",
            "session-info==1.0.0\n",
            "shapely==2.0.4\n",
            "simplejson==3.19.2\n",
            "six==1.16.0\n",
            "sklearn-pandas==2.2.0\n",
            "slicerator==1.1.0\n",
            "smart-open==6.4.0\n",
            "sniffio==1.3.1\n",
            "snowballstemmer==2.2.0\n",
            "snuggs==1.4.7\n",
            "sortedcontainers==2.4.0\n",
            "soundfile==0.12.1\n",
            "soupsieve==2.5\n",
            "soxr==0.3.7\n",
            "spacy==3.7.4\n",
            "spacy-legacy==3.0.12\n",
            "spacy-loggers==1.0.5\n",
            "spaghetti==1.7.5.post1\n",
            "spatial_image==0.3.0\n",
            "spatialdata==0.1.2\n",
            "spglm==1.1.0\n",
            "Sphinx==5.0.2\n",
            "sphinxcontrib-applehelp==1.0.8\n",
            "sphinxcontrib-devhelp==1.0.6\n",
            "sphinxcontrib-htmlhelp==2.0.5\n",
            "sphinxcontrib-jsmath==1.0.1\n",
            "sphinxcontrib-qthelp==1.0.7\n",
            "sphinxcontrib-serializinghtml==1.1.10\n",
            "spint==1.0.7\n",
            "splot==1.1.5.post1\n",
            "spopt==0.6.0\n",
            "spreg==1.4.2\n",
            "spvcm==0.3.0\n",
            "SQLAlchemy==2.0.29\n",
            "sqlglot==20.11.0\n",
            "sqlparse==0.5.0\n",
            "squidpy==1.4.1\n",
            "srsly==2.4.8\n",
            "stanio==0.5.0\n",
            "statsmodels==0.14.2\n",
            "stdlib-list==0.10.0\n",
            "sympy==1.12\n",
            "tables==3.8.0\n",
            "tabulate==0.9.0\n",
            "tbb==2021.12.0\n",
            "tblib==3.0.0\n",
            "tenacity==8.2.3\n",
            "tensorboard==2.15.2\n",
            "tensorboard-data-server==0.7.2\n",
            "tensorflow @ https://storage.googleapis.com/colab-tf-builds-public-09h6ksrfwbb9g9xv/tensorflow-2.15.0-cp310-cp310-manylinux_2_17_x86_64.manylinux2014_x86_64.whl#sha256=a2ec79931350b378c1ef300ca836b52a55751acb71a433582508a07f0de57c42\n",
            "tensorflow-datasets==4.9.4\n",
            "tensorflow-estimator==2.15.0\n",
            "tensorflow-gcs-config==2.15.0\n",
            "tensorflow-hub==0.16.1\n",
            "tensorflow-io-gcs-filesystem==0.36.0\n",
            "tensorflow-metadata==1.15.0\n",
            "tensorflow-probability==0.23.0\n",
            "tensorstore==0.1.45\n",
            "termcolor==2.4.0\n",
            "terminado==0.18.1\n",
            "text-unidecode==1.3\n",
            "textblob==0.17.1\n",
            "texttable==1.7.0\n",
            "tf-slim==1.1.0\n",
            "tf_keras==2.15.1\n",
            "thinc==8.2.3\n",
            "threadpoolctl==3.4.0\n",
            "tifffile==2024.4.24\n",
            "tinycss2==1.3.0\n",
            "tobler==0.11.2\n",
            "tokenizers==0.19.1\n",
            "toml==0.10.2\n",
            "tomli==2.0.1\n",
            "toolz==0.12.1\n",
            "torch @ https://download.pytorch.org/whl/cu121/torch-2.2.1%2Bcu121-cp310-cp310-linux_x86_64.whl#sha256=1adf430f01ff649c848ac021785e18007b0714fdde68e4e65bd0c640bf3fb8e1\n",
            "torchaudio @ https://download.pytorch.org/whl/cu121/torchaudio-2.2.1%2Bcu121-cp310-cp310-linux_x86_64.whl#sha256=23f6236429e2bf676b820e8e7221a1d58aaf908bff2ba2665aa852df71a97961\n",
            "torchdata==0.7.1\n",
            "torchsummary==1.5.1\n",
            "torchtext==0.17.1\n",
            "torchvision @ https://download.pytorch.org/whl/cu121/torchvision-0.17.1%2Bcu121-cp310-cp310-linux_x86_64.whl#sha256=27af47915f6e762c1d44e58e8088d22ac97445668f9f793524032b2baf4f34bd\n",
            "tornado==6.3.3\n",
            "tqdm==4.66.2\n",
            "traitlets==5.7.1\n",
            "traittypes==0.2.1\n",
            "transformers==4.40.1\n",
            "triton==2.2.0\n",
            "tweepy==4.14.0\n",
            "typer==0.9.4\n",
            "types-pytz==2024.1.0.20240417\n",
            "types-setuptools==69.5.0.20240423\n",
            "typing_extensions==4.11.0\n",
            "tzdata==2024.1\n",
            "tzlocal==5.2\n",
            "uc-micro-py==1.0.3\n",
            "umap-learn==0.5.6\n",
            "uritemplate==4.1.1\n",
            "urllib3==1.26.18\n",
            "validators==0.28.1\n",
            "vega-datasets==0.9.0\n",
            "wadllib==1.3.6\n",
            "wasabi==1.1.2\n",
            "wcwidth==0.2.13\n",
            "weasel==0.3.4\n",
            "webcolors==1.13\n",
            "webencodings==0.5.1\n",
            "websocket-client==1.8.0\n",
            "Werkzeug==3.0.2\n",
            "widgetsnbextension==3.6.6\n",
            "wordcloud==1.9.3\n",
            "wrapt==1.14.1\n",
            "xarray==2023.12.0\n",
            "xarray-dataclasses==1.7.0\n",
            "xarray-datatree==0.0.14\n",
            "xarray-einstats==0.7.0\n",
            "xarray-schema==0.0.3\n",
            "xarray-spatial==0.4.0\n",
            "xgboost==2.0.3\n",
            "xlrd==2.0.1\n",
            "xyzservices==2024.4.0\n",
            "yarl==1.9.4\n",
            "yellowbrick==1.5\n",
            "yfinance==0.2.38\n",
            "zarr==2.17.2\n",
            "zict==3.0.0\n",
            "zipp==3.18.1\n"
          ]
        }
      ],
      "source": [
        "import subprocess\n",
        "\n",
        "# Run the pip freeze command to get a list of installed packages\n",
        "output = subprocess.check_output(['pip', 'freeze']).decode('utf-8').strip().split('\\n')\n",
        "\n",
        "print(\"Installed packages:\")\n",
        "for package in output:\n",
        "    print(package)"
      ]
    },
    {
      "cell_type": "code",
      "execution_count": null,
      "metadata": {
        "id": "XiHsSl75UoBb"
      },
      "outputs": [],
      "source": []
    }
  ],
  "metadata": {
    "colab": {
      "machine_shape": "hm",
      "provenance": [],
      "authorship_tag": "ABX9TyNe74PgjA1QcBP0/ZM7dBov",
      "include_colab_link": true
    },
    "kernelspec": {
      "display_name": "Python 3",
      "name": "python3"
    },
    "language_info": {
      "name": "python"
    }
  },
  "nbformat": 4,
  "nbformat_minor": 0
}
