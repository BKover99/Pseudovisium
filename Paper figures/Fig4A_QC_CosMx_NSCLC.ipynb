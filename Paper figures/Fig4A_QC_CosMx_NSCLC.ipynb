{
  "cells": [
    {
      "cell_type": "markdown",
      "metadata": {
        "id": "view-in-github",
        "colab_type": "text"
      },
      "source": [
        "<a href=\"https://colab.research.google.com/github/BKover99/Pseudovisium/blob/main/Paper%20figures/Fig4A_QC_CosMx_NSCLC.ipynb\" target=\"_parent\"><img src=\"https://colab.research.google.com/assets/colab-badge.svg\" alt=\"Open In Colab\"/></a>"
      ]
    },
    {
      "cell_type": "markdown",
      "source": [
        "Downloading dataset information and installing packages"
      ],
      "metadata": {
        "id": "jtA3SIJp7Jkz"
      }
    },
    {
      "cell_type": "code",
      "execution_count": 1,
      "metadata": {
        "colab": {
          "base_uri": "https://localhost:8080/"
        },
        "id": "IgSl9-pKmKOC",
        "outputId": "6d96f9e9-5fbd-4deb-d640-e5b6b6148f2d"
      },
      "outputs": [
        {
          "output_type": "stream",
          "name": "stdout",
          "text": [
            "--2024-06-17 19:02:03--  https://github.com/BKover99/Pseudovisium/raw/main/Datasets_all.xlsx\n",
            "Resolving github.com (github.com)... 20.27.177.113\n",
            "Connecting to github.com (github.com)|20.27.177.113|:443... connected.\n",
            "HTTP request sent, awaiting response... 302 Found\n",
            "Location: https://raw.githubusercontent.com/BKover99/Pseudovisium/main/Datasets_all.xlsx [following]\n",
            "--2024-06-17 19:02:03--  https://raw.githubusercontent.com/BKover99/Pseudovisium/main/Datasets_all.xlsx\n",
            "Resolving raw.githubusercontent.com (raw.githubusercontent.com)... 185.199.111.133, 185.199.108.133, 185.199.109.133, ...\n",
            "Connecting to raw.githubusercontent.com (raw.githubusercontent.com)|185.199.111.133|:443... connected.\n",
            "HTTP request sent, awaiting response... 200 OK\n",
            "Length: 42301 (41K) [application/octet-stream]\n",
            "Saving to: ‘Datasets_all.xlsx’\n",
            "\n",
            "Datasets_all.xlsx   100%[===================>]  41.31K  --.-KB/s    in 0.04s   \n",
            "\n",
            "2024-06-17 19:02:04 (1019 KB/s) - ‘Datasets_all.xlsx’ saved [42301/42301]\n",
            "\n",
            "\u001b[2K     \u001b[90m━━━━━━━━━━━━━━━━━━━━━━━━━━━━━━━━━━━━━━━━\u001b[0m \u001b[32m40.3/40.3 kB\u001b[0m \u001b[31m974.9 kB/s\u001b[0m eta \u001b[36m0:00:00\u001b[0m\n",
            "\u001b[?25h  Preparing metadata (setup.py) ... \u001b[?25l\u001b[?25hdone\n",
            "\u001b[2K     \u001b[90m━━━━━━━━━━━━━━━━━━━━━━━━━━━━━━━━━━━━━━━━\u001b[0m \u001b[32m2.1/2.1 MB\u001b[0m \u001b[31m23.9 MB/s\u001b[0m eta \u001b[36m0:00:00\u001b[0m\n",
            "\u001b[2K     \u001b[90m━━━━━━━━━━━━━━━━━━━━━━━━━━━━━━━━━━━━━━━━\u001b[0m \u001b[32m146.2/146.2 kB\u001b[0m \u001b[31m2.2 MB/s\u001b[0m eta \u001b[36m0:00:00\u001b[0m\n",
            "\u001b[2K     \u001b[90m━━━━━━━━━━━━━━━━━━━━━━━━━━━━━━━━━━━━━━━━\u001b[0m \u001b[32m122.4/122.4 kB\u001b[0m \u001b[31m9.4 MB/s\u001b[0m eta \u001b[36m0:00:00\u001b[0m\n",
            "\u001b[2K     \u001b[90m━━━━━━━━━━━━━━━━━━━━━━━━━━━━━━━━━━━━━━━━\u001b[0m \u001b[32m2.8/2.8 MB\u001b[0m \u001b[31m51.4 MB/s\u001b[0m eta \u001b[36m0:00:00\u001b[0m\n",
            "\u001b[2K     \u001b[90m━━━━━━━━━━━━━━━━━━━━━━━━━━━━━━━━━━━━━━━━\u001b[0m \u001b[32m132.4/132.4 kB\u001b[0m \u001b[31m11.5 MB/s\u001b[0m eta \u001b[36m0:00:00\u001b[0m\n",
            "\u001b[2K     \u001b[90m━━━━━━━━━━━━━━━━━━━━━━━━━━━━━━━━━━━━━━━━\u001b[0m \u001b[32m61.1/61.1 kB\u001b[0m \u001b[31m4.6 MB/s\u001b[0m eta \u001b[36m0:00:00\u001b[0m\n",
            "\u001b[2K     \u001b[90m━━━━━━━━━━━━━━━━━━━━━━━━━━━━━━━━━━━━━━━━\u001b[0m \u001b[32m58.4/58.4 kB\u001b[0m \u001b[31m5.5 MB/s\u001b[0m eta \u001b[36m0:00:00\u001b[0m\n",
            "\u001b[2K     \u001b[90m━━━━━━━━━━━━━━━━━━━━━━━━━━━━━━━━━━━━━━━━\u001b[0m \u001b[32m141.3/141.3 kB\u001b[0m \u001b[31m14.3 MB/s\u001b[0m eta \u001b[36m0:00:00\u001b[0m\n",
            "\u001b[2K     \u001b[90m━━━━━━━━━━━━━━━━━━━━━━━━━━━━━━━━━━━━━━━━\u001b[0m \u001b[32m54.1/54.1 kB\u001b[0m \u001b[31m5.8 MB/s\u001b[0m eta \u001b[36m0:00:00\u001b[0m\n",
            "\u001b[2K     \u001b[90m━━━━━━━━━━━━━━━━━━━━━━━━━━━━━━━━━━━━━━━━\u001b[0m \u001b[32m47.9/47.9 kB\u001b[0m \u001b[31m6.0 MB/s\u001b[0m eta \u001b[36m0:00:00\u001b[0m\n",
            "\u001b[2K     \u001b[90m━━━━━━━━━━━━━━━━━━━━━━━━━━━━━━━━━━━━━━━━\u001b[0m \u001b[32m277.8/277.8 kB\u001b[0m \u001b[31m29.4 MB/s\u001b[0m eta \u001b[36m0:00:00\u001b[0m\n",
            "\u001b[2K     \u001b[90m━━━━━━━━━━━━━━━━━━━━━━━━━━━━━━━━━━━━━━━━\u001b[0m \u001b[32m41.4/41.4 kB\u001b[0m \u001b[31m2.3 MB/s\u001b[0m eta \u001b[36m0:00:00\u001b[0m\n",
            "\u001b[?25h  Preparing metadata (setup.py) ... \u001b[?25l\u001b[?25hdone\n",
            "\u001b[2K     \u001b[90m━━━━━━━━━━━━━━━━━━━━━━━━━━━━━━━━━━━━━━━━\u001b[0m \u001b[32m331.8/331.8 kB\u001b[0m \u001b[31m29.6 MB/s\u001b[0m eta \u001b[36m0:00:00\u001b[0m\n",
            "\u001b[2K     \u001b[90m━━━━━━━━━━━━━━━━━━━━━━━━━━━━━━━━━━━━━━━━\u001b[0m \u001b[32m5.7/5.7 MB\u001b[0m \u001b[31m72.7 MB/s\u001b[0m eta \u001b[36m0:00:00\u001b[0m\n",
            "\u001b[?25h  Preparing metadata (setup.py) ... \u001b[?25l\u001b[?25hdone\n",
            "\u001b[2K     \u001b[90m━━━━━━━━━━━━━━━━━━━━━━━━━━━━━━━━━━━━━━━━\u001b[0m \u001b[32m244.5/244.5 kB\u001b[0m \u001b[31m24.1 MB/s\u001b[0m eta \u001b[36m0:00:00\u001b[0m\n",
            "\u001b[2K     \u001b[90m━━━━━━━━━━━━━━━━━━━━━━━━━━━━━━━━━━━━━━━━\u001b[0m \u001b[32m56.9/56.9 kB\u001b[0m \u001b[31m5.1 MB/s\u001b[0m eta \u001b[36m0:00:00\u001b[0m\n",
            "\u001b[?25h  Preparing metadata (setup.py) ... \u001b[?25l\u001b[?25hdone\n",
            "\u001b[2K     \u001b[90m━━━━━━━━━━━━━━━━━━━━━━━━━━━━━━━━━━━━━━━━\u001b[0m \u001b[32m85.7/85.7 kB\u001b[0m \u001b[31m9.6 MB/s\u001b[0m eta \u001b[36m0:00:00\u001b[0m\n",
            "\u001b[2K     \u001b[90m━━━━━━━━━━━━━━━━━━━━━━━━━━━━━━━━━━━━━━━━\u001b[0m \u001b[32m59.5/59.5 kB\u001b[0m \u001b[31m8.1 MB/s\u001b[0m eta \u001b[36m0:00:00\u001b[0m\n",
            "\u001b[?25h  Preparing metadata (setup.py) ... \u001b[?25l\u001b[?25hdone\n",
            "\u001b[2K     \u001b[90m━━━━━━━━━━━━━━━━━━━━━━━━━━━━━━━━━━━━━━━━\u001b[0m \u001b[32m2.0/2.0 MB\u001b[0m \u001b[31m77.5 MB/s\u001b[0m eta \u001b[36m0:00:00\u001b[0m\n",
            "\u001b[2K     \u001b[90m━━━━━━━━━━━━━━━━━━━━━━━━━━━━━━━━━━━━━━━━\u001b[0m \u001b[32m68.9/68.9 kB\u001b[0m \u001b[31m8.4 MB/s\u001b[0m eta \u001b[36m0:00:00\u001b[0m\n",
            "\u001b[2K     \u001b[90m━━━━━━━━━━━━━━━━━━━━━━━━━━━━━━━━━━━━━━━━\u001b[0m \u001b[32m13.0/13.0 MB\u001b[0m \u001b[31m78.8 MB/s\u001b[0m eta \u001b[36m0:00:00\u001b[0m\n",
            "\u001b[2K     \u001b[90m━━━━━━━━━━━━━━━━━━━━━━━━━━━━━━━━━━━━━━━━\u001b[0m \u001b[32m14.7/14.7 MB\u001b[0m \u001b[31m62.1 MB/s\u001b[0m eta \u001b[36m0:00:00\u001b[0m\n",
            "\u001b[2K     \u001b[90m━━━━━━━━━━━━━━━━━━━━━━━━━━━━━━━━━━━━━━━━\u001b[0m \u001b[32m143.9/143.9 kB\u001b[0m \u001b[31m16.8 MB/s\u001b[0m eta \u001b[36m0:00:00\u001b[0m\n",
            "\u001b[2K     \u001b[90m━━━━━━━━━━━━━━━━━━━━━━━━━━━━━━━━━━━━━━━━\u001b[0m \u001b[32m40.0/40.0 kB\u001b[0m \u001b[31m4.6 MB/s\u001b[0m eta \u001b[36m0:00:00\u001b[0m\n",
            "\u001b[2K     \u001b[90m━━━━━━━━━━━━━━━━━━━━━━━━━━━━━━━━━━━━━━━━\u001b[0m \u001b[32m210.2/210.2 kB\u001b[0m \u001b[31m26.8 MB/s\u001b[0m eta \u001b[36m0:00:00\u001b[0m\n",
            "\u001b[2K     \u001b[90m━━━━━━━━━━━━━━━━━━━━━━━━━━━━━━━━━━━━━━━━\u001b[0m \u001b[32m1.2/1.2 MB\u001b[0m \u001b[31m71.5 MB/s\u001b[0m eta \u001b[36m0:00:00\u001b[0m\n",
            "\u001b[2K     \u001b[90m━━━━━━━━━━━━━━━━━━━━━━━━━━━━━━━━━━━━━━━━\u001b[0m \u001b[32m87.8/87.8 kB\u001b[0m \u001b[31m11.6 MB/s\u001b[0m eta \u001b[36m0:00:00\u001b[0m\n",
            "\u001b[?25h  Preparing metadata (setup.py) ... \u001b[?25l\u001b[?25hdone\n",
            "\u001b[2K     \u001b[90m━━━━━━━━━━━━━━━━━━━━━━━━━━━━━━━━━━━━━━━━\u001b[0m \u001b[32m215.4/215.4 kB\u001b[0m \u001b[31m24.4 MB/s\u001b[0m eta \u001b[36m0:00:00\u001b[0m\n",
            "\u001b[2K     \u001b[90m━━━━━━━━━━━━━━━━━━━━━━━━━━━━━━━━━━━━━━━━\u001b[0m \u001b[32m3.3/3.3 MB\u001b[0m \u001b[31m83.5 MB/s\u001b[0m eta \u001b[36m0:00:00\u001b[0m\n",
            "\u001b[2K     \u001b[90m━━━━━━━━━━━━━━━━━━━━━━━━━━━━━━━━━━━━━━━━\u001b[0m \u001b[32m313.5/313.5 kB\u001b[0m \u001b[31m33.5 MB/s\u001b[0m eta \u001b[36m0:00:00\u001b[0m\n",
            "\u001b[2K     \u001b[90m━━━━━━━━━━━━━━━━━━━━━━━━━━━━━━━━━━━━━━━━\u001b[0m \u001b[32m535.2/535.2 kB\u001b[0m \u001b[31m45.5 MB/s\u001b[0m eta \u001b[36m0:00:00\u001b[0m\n",
            "\u001b[2K     \u001b[90m━━━━━━━━━━━━━━━━━━━━━━━━━━━━━━━━━━━━━━━━\u001b[0m \u001b[32m17.7/17.7 MB\u001b[0m \u001b[31m30.7 MB/s\u001b[0m eta \u001b[36m0:00:00\u001b[0m\n",
            "\u001b[2K     \u001b[90m━━━━━━━━━━━━━━━━━━━━━━━━━━━━━━━━━━━━━━━━\u001b[0m \u001b[32m21.5/21.5 MB\u001b[0m \u001b[31m18.4 MB/s\u001b[0m eta \u001b[36m0:00:00\u001b[0m\n",
            "\u001b[?25h  Preparing metadata (setup.py) ... \u001b[?25l\u001b[?25hdone\n",
            "\u001b[2K     \u001b[90m━━━━━━━━━━━━━━━━━━━━━━━━━━━━━━━━━━━━━━━━\u001b[0m \u001b[32m7.7/7.7 MB\u001b[0m \u001b[31m19.6 MB/s\u001b[0m eta \u001b[36m0:00:00\u001b[0m\n",
            "\u001b[2K     \u001b[90m━━━━━━━━━━━━━━━━━━━━━━━━━━━━━━━━━━━━━━━━\u001b[0m \u001b[32m79.8/79.8 kB\u001b[0m \u001b[31m10.4 MB/s\u001b[0m eta \u001b[36m0:00:00\u001b[0m\n",
            "\u001b[2K     \u001b[90m━━━━━━━━━━━━━━━━━━━━━━━━━━━━━━━━━━━━━━━━\u001b[0m \u001b[32m2.2/2.2 MB\u001b[0m \u001b[31m83.3 MB/s\u001b[0m eta \u001b[36m0:00:00\u001b[0m\n",
            "\u001b[2K     \u001b[90m━━━━━━━━━━━━━━━━━━━━━━━━━━━━━━━━━━━━━━━━\u001b[0m \u001b[32m2.0/2.0 MB\u001b[0m \u001b[31m81.4 MB/s\u001b[0m eta \u001b[36m0:00:00\u001b[0m\n",
            "\u001b[2K     \u001b[90m━━━━━━━━━━━━━━━━━━━━━━━━━━━━━━━━━━━━━━━━\u001b[0m \u001b[32m63.7/63.7 kB\u001b[0m \u001b[31m8.7 MB/s\u001b[0m eta \u001b[36m0:00:00\u001b[0m\n",
            "\u001b[2K     \u001b[90m━━━━━━━━━━━━━━━━━━━━━━━━━━━━━━━━━━━━━━━━\u001b[0m \u001b[32m1.2/1.2 MB\u001b[0m \u001b[31m69.7 MB/s\u001b[0m eta \u001b[36m0:00:00\u001b[0m\n",
            "\u001b[2K     \u001b[90m━━━━━━━━━━━━━━━━━━━━━━━━━━━━━━━━━━━━━━━━\u001b[0m \u001b[32m1.2/1.2 MB\u001b[0m \u001b[31m43.2 MB/s\u001b[0m eta \u001b[36m0:00:00\u001b[0m\n",
            "\u001b[2K     \u001b[90m━━━━━━━━━━━━━━━━━━━━━━━━━━━━━━━━━━━━━━━━\u001b[0m \u001b[32m1.2/1.2 MB\u001b[0m \u001b[31m63.9 MB/s\u001b[0m eta \u001b[36m0:00:00\u001b[0m\n",
            "\u001b[2K     \u001b[90m━━━━━━━━━━━━━━━━━━━━━━━━━━━━━━━━━━━━━━━━\u001b[0m \u001b[32m1.2/1.2 MB\u001b[0m \u001b[31m22.9 MB/s\u001b[0m eta \u001b[36m0:00:00\u001b[0m\n",
            "\u001b[2K     \u001b[90m━━━━━━━━━━━━━━━━━━━━━━━━━━━━━━━━━━━━━━━━\u001b[0m \u001b[32m1.2/1.2 MB\u001b[0m \u001b[31m56.3 MB/s\u001b[0m eta \u001b[36m0:00:00\u001b[0m\n",
            "\u001b[2K     \u001b[90m━━━━━━━━━━━━━━━━━━━━━━━━━━━━━━━━━━━━━━━━\u001b[0m \u001b[32m142.9/142.9 kB\u001b[0m \u001b[31m17.2 MB/s\u001b[0m eta \u001b[36m0:00:00\u001b[0m\n",
            "\u001b[2K     \u001b[90m━━━━━━━━━━━━━━━━━━━━━━━━━━━━━━━━━━━━━━━━\u001b[0m \u001b[32m141.8/141.8 kB\u001b[0m \u001b[31m17.4 MB/s\u001b[0m eta \u001b[36m0:00:00\u001b[0m\n",
            "\u001b[2K     \u001b[90m━━━━━━━━━━━━━━━━━━━━━━━━━━━━━━━━━━━━━━━━\u001b[0m \u001b[32m110.3/110.3 kB\u001b[0m \u001b[31m13.6 MB/s\u001b[0m eta \u001b[36m0:00:00\u001b[0m\n",
            "\u001b[2K     \u001b[90m━━━━━━━━━━━━━━━━━━━━━━━━━━━━━━━━━━━━━━━━\u001b[0m \u001b[32m110.3/110.3 kB\u001b[0m \u001b[31m15.4 MB/s\u001b[0m eta \u001b[36m0:00:00\u001b[0m\n",
            "\u001b[2K     \u001b[90m━━━━━━━━━━━━━━━━━━━━━━━━━━━━━━━━━━━━━━━━\u001b[0m \u001b[32m110.3/110.3 kB\u001b[0m \u001b[31m14.2 MB/s\u001b[0m eta \u001b[36m0:00:00\u001b[0m\n",
            "\u001b[2K     \u001b[90m━━━━━━━━━━━━━━━━━━━━━━━━━━━━━━━━━━━━━━━━\u001b[0m \u001b[32m205.7/205.7 kB\u001b[0m \u001b[31m23.4 MB/s\u001b[0m eta \u001b[36m0:00:00\u001b[0m\n",
            "\u001b[2K     \u001b[90m━━━━━━━━━━━━━━━━━━━━━━━━━━━━━━━━━━━━━━━━\u001b[0m \u001b[32m18.3/18.3 MB\u001b[0m \u001b[31m72.9 MB/s\u001b[0m eta \u001b[36m0:00:00\u001b[0m\n",
            "\u001b[2K     \u001b[90m━━━━━━━━━━━━━━━━━━━━━━━━━━━━━━━━━━━━━━━━\u001b[0m \u001b[32m137.9/137.9 kB\u001b[0m \u001b[31m18.8 MB/s\u001b[0m eta \u001b[36m0:00:00\u001b[0m\n",
            "\u001b[2K     \u001b[90m━━━━━━━━━━━━━━━━━━━━━━━━━━━━━━━━━━━━━━━━\u001b[0m \u001b[32m1.2/1.2 MB\u001b[0m \u001b[31m66.2 MB/s\u001b[0m eta \u001b[36m0:00:00\u001b[0m\n",
            "\u001b[2K     \u001b[90m━━━━━━━━━━━━━━━━━━━━━━━━━━━━━━━━━━━━━━━━\u001b[0m \u001b[32m1.0/1.0 MB\u001b[0m \u001b[31m8.6 MB/s\u001b[0m eta \u001b[36m0:00:00\u001b[0m\n",
            "\u001b[2K     \u001b[90m━━━━━━━━━━━━━━━━━━━━━━━━━━━━━━━━━━━━━━━━\u001b[0m \u001b[32m76.6/76.6 kB\u001b[0m \u001b[31m10.6 MB/s\u001b[0m eta \u001b[36m0:00:00\u001b[0m\n",
            "\u001b[2K     \u001b[90m━━━━━━━━━━━━━━━━━━━━━━━━━━━━━━━━━━━━━━━━\u001b[0m \u001b[32m73.5/73.5 kB\u001b[0m \u001b[31m9.3 MB/s\u001b[0m eta \u001b[36m0:00:00\u001b[0m\n",
            "\u001b[2K     \u001b[90m━━━━━━━━━━━━━━━━━━━━━━━━━━━━━━━━━━━━━━━━\u001b[0m \u001b[32m73.4/73.4 kB\u001b[0m \u001b[31m9.0 MB/s\u001b[0m eta \u001b[36m0:00:00\u001b[0m\n",
            "\u001b[2K     \u001b[90m━━━━━━━━━━━━━━━━━━━━━━━━━━━━━━━━━━━━━━━━\u001b[0m \u001b[32m11.1/11.1 MB\u001b[0m \u001b[31m94.8 MB/s\u001b[0m eta \u001b[36m0:00:00\u001b[0m\n",
            "\u001b[2K     \u001b[90m━━━━━━━━━━━━━━━━━━━━━━━━━━━━━━━━━━━━━━━━\u001b[0m \u001b[32m143.9/143.9 kB\u001b[0m \u001b[31m17.0 MB/s\u001b[0m eta \u001b[36m0:00:00\u001b[0m\n",
            "\u001b[?25h  Building wheel for Pseudovisium (setup.py) ... \u001b[?25l\u001b[?25hdone\n",
            "  Building wheel for docrep (setup.py) ... \u001b[?25l\u001b[?25hdone\n",
            "  Building wheel for spint (setup.py) ... \u001b[?25l\u001b[?25hdone\n",
            "  Building wheel for spvcm (setup.py) ... \u001b[?25l\u001b[?25hdone\n",
            "  Building wheel for session-info (setup.py) ... \u001b[?25l\u001b[?25hdone\n",
            "  Building wheel for pims (setup.py) ... \u001b[?25l\u001b[?25hdone\n",
            "  Building wheel for asciitree (setup.py) ... \u001b[?25l\u001b[?25hdone\n",
            "\u001b[31mERROR: pip's dependency resolver does not currently take into account all the packages that are installed. This behaviour is the source of the following dependency conflicts.\n",
            "cudf-cu12 24.4.1 requires pandas<2.2.2dev0,>=2.0, but you have pandas 2.2.2 which is incompatible.\n",
            "google-colab 1.0.0 requires pandas==2.0.3, but you have pandas 2.2.2 which is incompatible.\u001b[0m\u001b[31m\n",
            "\u001b[2K     \u001b[90m━━━━━━━━━━━━━━━━━━━━━━━━━━━━━━━━━━━━━━━━\u001b[0m \u001b[32m164.8/164.8 kB\u001b[0m \u001b[31m3.4 MB/s\u001b[0m eta \u001b[36m0:00:00\u001b[0m\n",
            "\u001b[?25h"
          ]
        }
      ],
      "source": [
        "!wget https://github.com/BKover99/Pseudovisium/raw/main/Datasets_all.xlsx\n",
        "!pip install Pseudovisium -q\n",
        "!pip install pympler -q\n"
      ]
    },
    {
      "cell_type": "markdown",
      "source": [
        "Loading packages and defining convenient function to locate .csv file of interest."
      ],
      "metadata": {
        "id": "CpVL_KtPlr7a"
      }
    },
    {
      "cell_type": "code",
      "execution_count": 11,
      "metadata": {
        "id": "rMbEtqbPm0QC"
      },
      "outputs": [],
      "source": [
        "import pandas as pd\n",
        "from os import system\n",
        "from Pseudovisium.pseudovisium_generate import generate_pv\n",
        "import os\n",
        "import time\n",
        "import squidpy as sq\n",
        "import scanpy as sc\n",
        "import numpy as np\n",
        "import matplotlib.pyplot as plt\n",
        "from pympler import asizeof\n",
        "import seaborn as sns\n",
        "import scipy.stats as stats\n",
        "import sklearn.metrics as metrics\n",
        "import shutil\n",
        "import subprocess\n",
        "import concurrent.futures\n",
        "\n",
        "\n",
        "def find_csv_with_transcript(folder_path):\n",
        "    for root, dirs, files in os.walk(folder_path):\n",
        "        for file in files:\n",
        "            if ((file.endswith('.csv') or file.endswith('.csv.gz')) and (('transcript' in file.lower() or 'tx' in file.lower()))) and 'macosx' not in root.lower() and '._' not in file.lower():\n",
        "                return os.path.join(root, file)\n",
        "    return None\n"
      ]
    },
    {
      "cell_type": "markdown",
      "source": [
        "Getting the dataset download links."
      ],
      "metadata": {
        "id": "dxuyDMWGl9Cu"
      }
    },
    {
      "cell_type": "code",
      "execution_count": 4,
      "metadata": {
        "colab": {
          "base_uri": "https://localhost:8080/",
          "height": 494
        },
        "id": "DL7wiLlxc8yT",
        "outputId": "abf458ed-2720-4d1d-e36e-d9e4fa537261"
      },
      "outputs": [
        {
          "output_type": "execute_result",
          "data": {
            "text/plain": [
              "       Author  Year                        Paper_DOI  \\\n",
              "0  Nanostring  2022  DOI: 10.1038/s41587-022-01483-z   \n",
              "1  Nanostring  2022  DOI: 10.1038/s41587-022-01483-z   \n",
              "2  Nanostring  2022  DOI: 10.1038/s41587-022-01483-z   \n",
              "3  Nanostring  2022  DOI: 10.1038/s41587-022-01483-z   \n",
              "4  Nanostring  2022  DOI: 10.1038/s41587-022-01483-z   \n",
              "5  Nanostring  2022  DOI: 10.1038/s41587-022-01483-z   \n",
              "6  Nanostring  2022  DOI: 10.1038/s41587-022-01483-z   \n",
              "7  Nanostring  2022  DOI: 10.1038/s41587-022-01483-z   \n",
              "\n",
              "                                     Link_to_dataset  \\\n",
              "0  https://nanostring.com/products/cosmx-spatial-...   \n",
              "1  https://nanostring.com/products/cosmx-spatial-...   \n",
              "2  https://nanostring.com/products/cosmx-spatial-...   \n",
              "3  https://nanostring.com/products/cosmx-spatial-...   \n",
              "4  https://nanostring.com/products/cosmx-spatial-...   \n",
              "5  https://nanostring.com/products/cosmx-spatial-...   \n",
              "6  https://nanostring.com/products/cosmx-spatial-...   \n",
              "7  https://nanostring.com/products/cosmx-spatial-...   \n",
              "\n",
              "                                       Onedrive_link             Name  \\\n",
              "0  https://vgocqw.bl.files.1drv.com/y4mNw37uF9wd_...  CosMx_nsclc_5_1   \n",
              "1  https://ifz0xa.bl.files.1drv.com/y4mTHM4bk8Ttk...  CosMx_nsclc_5_2   \n",
              "2  https://8lnrra.bl.files.1drv.com/y4mhDToinyLHH...  CosMx_nsclc_5_3   \n",
              "3  https://hohnuq.bl.files.1drv.com/y4mKWx0U7VEEx...    CosMx_nsclc_6   \n",
              "4  https://kd26iq.bl.files.1drv.com/y4mtWoQzs3BK6...  CosMx_nsclc_9_1   \n",
              "5  https://6wwmfw.bl.files.1drv.com/y4mtFdh7st4RO...  CosMx_nsclc_9_2   \n",
              "6  https://zw1oqa.bl.files.1drv.com/y4mfFbvWw0PFh...   CosMx_nsclc_12   \n",
              "7  https://v9qdoq.bl.files.1drv.com/y4mFR6AegFeiI...   CosMx_nsclc_13   \n",
              "\n",
              "        Technology      Tissue Species  Visium_xenium_notebook  \\\n",
              "0  CosMx_prototype  Lung_NSCLC   Human                       0   \n",
              "1  CosMx_prototype  Lung_NSCLC   Human                       0   \n",
              "2  CosMx_prototype  Lung_NSCLC   Human                       0   \n",
              "3  CosMx_prototype  Lung_NSCLC   Human                       0   \n",
              "4  CosMx_prototype  Lung_NSCLC   Human                       0   \n",
              "5  CosMx_prototype  Lung_NSCLC   Human                       0   \n",
              "6  CosMx_prototype  Lung_NSCLC   Human                       0   \n",
              "7  CosMx_prototype  Lung_NSCLC   Human                       0   \n",
              "\n",
              "   PV_workflow_comparison  Comparing_all_tech  Pulmonary Xenium  Cosmx_lung  \\\n",
              "0                       1                   1                 0           1   \n",
              "1                       0                   0                 0           1   \n",
              "2                       0                   0                 0           1   \n",
              "3                       0                   0                 0           1   \n",
              "4                       1                   1                 0           1   \n",
              "5                       0                   0                 0           1   \n",
              "6                       0                   0                 0           1   \n",
              "7                       1                   1                 0           1   \n",
              "\n",
              "   Dataset_merge_visium  Brain case study  Just Visium example  \n",
              "0                     0                 0                    0  \n",
              "1                     0                 0                    0  \n",
              "2                     0                 0                    0  \n",
              "3                     0                 0                    0  \n",
              "4                     0                 0                    0  \n",
              "5                     0                 0                    0  \n",
              "6                     0                 0                    0  \n",
              "7                     0                 0                    0  "
            ],
            "text/html": [
              "\n",
              "  <div id=\"df-97b4b6dc-8ba4-4223-b926-5ab35f7fd3fc\" class=\"colab-df-container\">\n",
              "    <div>\n",
              "<style scoped>\n",
              "    .dataframe tbody tr th:only-of-type {\n",
              "        vertical-align: middle;\n",
              "    }\n",
              "\n",
              "    .dataframe tbody tr th {\n",
              "        vertical-align: top;\n",
              "    }\n",
              "\n",
              "    .dataframe thead th {\n",
              "        text-align: right;\n",
              "    }\n",
              "</style>\n",
              "<table border=\"1\" class=\"dataframe\">\n",
              "  <thead>\n",
              "    <tr style=\"text-align: right;\">\n",
              "      <th></th>\n",
              "      <th>Author</th>\n",
              "      <th>Year</th>\n",
              "      <th>Paper_DOI</th>\n",
              "      <th>Link_to_dataset</th>\n",
              "      <th>Onedrive_link</th>\n",
              "      <th>Name</th>\n",
              "      <th>Technology</th>\n",
              "      <th>Tissue</th>\n",
              "      <th>Species</th>\n",
              "      <th>Visium_xenium_notebook</th>\n",
              "      <th>PV_workflow_comparison</th>\n",
              "      <th>Comparing_all_tech</th>\n",
              "      <th>Pulmonary Xenium</th>\n",
              "      <th>Cosmx_lung</th>\n",
              "      <th>Dataset_merge_visium</th>\n",
              "      <th>Brain case study</th>\n",
              "      <th>Just Visium example</th>\n",
              "    </tr>\n",
              "  </thead>\n",
              "  <tbody>\n",
              "    <tr>\n",
              "      <th>0</th>\n",
              "      <td>Nanostring</td>\n",
              "      <td>2022</td>\n",
              "      <td>DOI: 10.1038/s41587-022-01483-z</td>\n",
              "      <td>https://nanostring.com/products/cosmx-spatial-...</td>\n",
              "      <td>https://vgocqw.bl.files.1drv.com/y4mNw37uF9wd_...</td>\n",
              "      <td>CosMx_nsclc_5_1</td>\n",
              "      <td>CosMx_prototype</td>\n",
              "      <td>Lung_NSCLC</td>\n",
              "      <td>Human</td>\n",
              "      <td>0</td>\n",
              "      <td>1</td>\n",
              "      <td>1</td>\n",
              "      <td>0</td>\n",
              "      <td>1</td>\n",
              "      <td>0</td>\n",
              "      <td>0</td>\n",
              "      <td>0</td>\n",
              "    </tr>\n",
              "    <tr>\n",
              "      <th>1</th>\n",
              "      <td>Nanostring</td>\n",
              "      <td>2022</td>\n",
              "      <td>DOI: 10.1038/s41587-022-01483-z</td>\n",
              "      <td>https://nanostring.com/products/cosmx-spatial-...</td>\n",
              "      <td>https://ifz0xa.bl.files.1drv.com/y4mTHM4bk8Ttk...</td>\n",
              "      <td>CosMx_nsclc_5_2</td>\n",
              "      <td>CosMx_prototype</td>\n",
              "      <td>Lung_NSCLC</td>\n",
              "      <td>Human</td>\n",
              "      <td>0</td>\n",
              "      <td>0</td>\n",
              "      <td>0</td>\n",
              "      <td>0</td>\n",
              "      <td>1</td>\n",
              "      <td>0</td>\n",
              "      <td>0</td>\n",
              "      <td>0</td>\n",
              "    </tr>\n",
              "    <tr>\n",
              "      <th>2</th>\n",
              "      <td>Nanostring</td>\n",
              "      <td>2022</td>\n",
              "      <td>DOI: 10.1038/s41587-022-01483-z</td>\n",
              "      <td>https://nanostring.com/products/cosmx-spatial-...</td>\n",
              "      <td>https://8lnrra.bl.files.1drv.com/y4mhDToinyLHH...</td>\n",
              "      <td>CosMx_nsclc_5_3</td>\n",
              "      <td>CosMx_prototype</td>\n",
              "      <td>Lung_NSCLC</td>\n",
              "      <td>Human</td>\n",
              "      <td>0</td>\n",
              "      <td>0</td>\n",
              "      <td>0</td>\n",
              "      <td>0</td>\n",
              "      <td>1</td>\n",
              "      <td>0</td>\n",
              "      <td>0</td>\n",
              "      <td>0</td>\n",
              "    </tr>\n",
              "    <tr>\n",
              "      <th>3</th>\n",
              "      <td>Nanostring</td>\n",
              "      <td>2022</td>\n",
              "      <td>DOI: 10.1038/s41587-022-01483-z</td>\n",
              "      <td>https://nanostring.com/products/cosmx-spatial-...</td>\n",
              "      <td>https://hohnuq.bl.files.1drv.com/y4mKWx0U7VEEx...</td>\n",
              "      <td>CosMx_nsclc_6</td>\n",
              "      <td>CosMx_prototype</td>\n",
              "      <td>Lung_NSCLC</td>\n",
              "      <td>Human</td>\n",
              "      <td>0</td>\n",
              "      <td>0</td>\n",
              "      <td>0</td>\n",
              "      <td>0</td>\n",
              "      <td>1</td>\n",
              "      <td>0</td>\n",
              "      <td>0</td>\n",
              "      <td>0</td>\n",
              "    </tr>\n",
              "    <tr>\n",
              "      <th>4</th>\n",
              "      <td>Nanostring</td>\n",
              "      <td>2022</td>\n",
              "      <td>DOI: 10.1038/s41587-022-01483-z</td>\n",
              "      <td>https://nanostring.com/products/cosmx-spatial-...</td>\n",
              "      <td>https://kd26iq.bl.files.1drv.com/y4mtWoQzs3BK6...</td>\n",
              "      <td>CosMx_nsclc_9_1</td>\n",
              "      <td>CosMx_prototype</td>\n",
              "      <td>Lung_NSCLC</td>\n",
              "      <td>Human</td>\n",
              "      <td>0</td>\n",
              "      <td>1</td>\n",
              "      <td>1</td>\n",
              "      <td>0</td>\n",
              "      <td>1</td>\n",
              "      <td>0</td>\n",
              "      <td>0</td>\n",
              "      <td>0</td>\n",
              "    </tr>\n",
              "    <tr>\n",
              "      <th>5</th>\n",
              "      <td>Nanostring</td>\n",
              "      <td>2022</td>\n",
              "      <td>DOI: 10.1038/s41587-022-01483-z</td>\n",
              "      <td>https://nanostring.com/products/cosmx-spatial-...</td>\n",
              "      <td>https://6wwmfw.bl.files.1drv.com/y4mtFdh7st4RO...</td>\n",
              "      <td>CosMx_nsclc_9_2</td>\n",
              "      <td>CosMx_prototype</td>\n",
              "      <td>Lung_NSCLC</td>\n",
              "      <td>Human</td>\n",
              "      <td>0</td>\n",
              "      <td>0</td>\n",
              "      <td>0</td>\n",
              "      <td>0</td>\n",
              "      <td>1</td>\n",
              "      <td>0</td>\n",
              "      <td>0</td>\n",
              "      <td>0</td>\n",
              "    </tr>\n",
              "    <tr>\n",
              "      <th>6</th>\n",
              "      <td>Nanostring</td>\n",
              "      <td>2022</td>\n",
              "      <td>DOI: 10.1038/s41587-022-01483-z</td>\n",
              "      <td>https://nanostring.com/products/cosmx-spatial-...</td>\n",
              "      <td>https://zw1oqa.bl.files.1drv.com/y4mfFbvWw0PFh...</td>\n",
              "      <td>CosMx_nsclc_12</td>\n",
              "      <td>CosMx_prototype</td>\n",
              "      <td>Lung_NSCLC</td>\n",
              "      <td>Human</td>\n",
              "      <td>0</td>\n",
              "      <td>0</td>\n",
              "      <td>0</td>\n",
              "      <td>0</td>\n",
              "      <td>1</td>\n",
              "      <td>0</td>\n",
              "      <td>0</td>\n",
              "      <td>0</td>\n",
              "    </tr>\n",
              "    <tr>\n",
              "      <th>7</th>\n",
              "      <td>Nanostring</td>\n",
              "      <td>2022</td>\n",
              "      <td>DOI: 10.1038/s41587-022-01483-z</td>\n",
              "      <td>https://nanostring.com/products/cosmx-spatial-...</td>\n",
              "      <td>https://v9qdoq.bl.files.1drv.com/y4mFR6AegFeiI...</td>\n",
              "      <td>CosMx_nsclc_13</td>\n",
              "      <td>CosMx_prototype</td>\n",
              "      <td>Lung_NSCLC</td>\n",
              "      <td>Human</td>\n",
              "      <td>0</td>\n",
              "      <td>1</td>\n",
              "      <td>1</td>\n",
              "      <td>0</td>\n",
              "      <td>1</td>\n",
              "      <td>0</td>\n",
              "      <td>0</td>\n",
              "      <td>0</td>\n",
              "    </tr>\n",
              "  </tbody>\n",
              "</table>\n",
              "</div>\n",
              "    <div class=\"colab-df-buttons\">\n",
              "\n",
              "  <div class=\"colab-df-container\">\n",
              "    <button class=\"colab-df-convert\" onclick=\"convertToInteractive('df-97b4b6dc-8ba4-4223-b926-5ab35f7fd3fc')\"\n",
              "            title=\"Convert this dataframe to an interactive table.\"\n",
              "            style=\"display:none;\">\n",
              "\n",
              "  <svg xmlns=\"http://www.w3.org/2000/svg\" height=\"24px\" viewBox=\"0 -960 960 960\">\n",
              "    <path d=\"M120-120v-720h720v720H120Zm60-500h600v-160H180v160Zm220 220h160v-160H400v160Zm0 220h160v-160H400v160ZM180-400h160v-160H180v160Zm440 0h160v-160H620v160ZM180-180h160v-160H180v160Zm440 0h160v-160H620v160Z\"/>\n",
              "  </svg>\n",
              "    </button>\n",
              "\n",
              "  <style>\n",
              "    .colab-df-container {\n",
              "      display:flex;\n",
              "      gap: 12px;\n",
              "    }\n",
              "\n",
              "    .colab-df-convert {\n",
              "      background-color: #E8F0FE;\n",
              "      border: none;\n",
              "      border-radius: 50%;\n",
              "      cursor: pointer;\n",
              "      display: none;\n",
              "      fill: #1967D2;\n",
              "      height: 32px;\n",
              "      padding: 0 0 0 0;\n",
              "      width: 32px;\n",
              "    }\n",
              "\n",
              "    .colab-df-convert:hover {\n",
              "      background-color: #E2EBFA;\n",
              "      box-shadow: 0px 1px 2px rgba(60, 64, 67, 0.3), 0px 1px 3px 1px rgba(60, 64, 67, 0.15);\n",
              "      fill: #174EA6;\n",
              "    }\n",
              "\n",
              "    .colab-df-buttons div {\n",
              "      margin-bottom: 4px;\n",
              "    }\n",
              "\n",
              "    [theme=dark] .colab-df-convert {\n",
              "      background-color: #3B4455;\n",
              "      fill: #D2E3FC;\n",
              "    }\n",
              "\n",
              "    [theme=dark] .colab-df-convert:hover {\n",
              "      background-color: #434B5C;\n",
              "      box-shadow: 0px 1px 3px 1px rgba(0, 0, 0, 0.15);\n",
              "      filter: drop-shadow(0px 1px 2px rgba(0, 0, 0, 0.3));\n",
              "      fill: #FFFFFF;\n",
              "    }\n",
              "  </style>\n",
              "\n",
              "    <script>\n",
              "      const buttonEl =\n",
              "        document.querySelector('#df-97b4b6dc-8ba4-4223-b926-5ab35f7fd3fc button.colab-df-convert');\n",
              "      buttonEl.style.display =\n",
              "        google.colab.kernel.accessAllowed ? 'block' : 'none';\n",
              "\n",
              "      async function convertToInteractive(key) {\n",
              "        const element = document.querySelector('#df-97b4b6dc-8ba4-4223-b926-5ab35f7fd3fc');\n",
              "        const dataTable =\n",
              "          await google.colab.kernel.invokeFunction('convertToInteractive',\n",
              "                                                    [key], {});\n",
              "        if (!dataTable) return;\n",
              "\n",
              "        const docLinkHtml = 'Like what you see? Visit the ' +\n",
              "          '<a target=\"_blank\" href=https://colab.research.google.com/notebooks/data_table.ipynb>data table notebook</a>'\n",
              "          + ' to learn more about interactive tables.';\n",
              "        element.innerHTML = '';\n",
              "        dataTable['output_type'] = 'display_data';\n",
              "        await google.colab.output.renderOutput(dataTable, element);\n",
              "        const docLink = document.createElement('div');\n",
              "        docLink.innerHTML = docLinkHtml;\n",
              "        element.appendChild(docLink);\n",
              "      }\n",
              "    </script>\n",
              "  </div>\n",
              "\n",
              "\n",
              "<div id=\"df-9b8f3599-e71f-4032-86e9-dc6398bba77b\">\n",
              "  <button class=\"colab-df-quickchart\" onclick=\"quickchart('df-9b8f3599-e71f-4032-86e9-dc6398bba77b')\"\n",
              "            title=\"Suggest charts\"\n",
              "            style=\"display:none;\">\n",
              "\n",
              "<svg xmlns=\"http://www.w3.org/2000/svg\" height=\"24px\"viewBox=\"0 0 24 24\"\n",
              "     width=\"24px\">\n",
              "    <g>\n",
              "        <path d=\"M19 3H5c-1.1 0-2 .9-2 2v14c0 1.1.9 2 2 2h14c1.1 0 2-.9 2-2V5c0-1.1-.9-2-2-2zM9 17H7v-7h2v7zm4 0h-2V7h2v10zm4 0h-2v-4h2v4z\"/>\n",
              "    </g>\n",
              "</svg>\n",
              "  </button>\n",
              "\n",
              "<style>\n",
              "  .colab-df-quickchart {\n",
              "      --bg-color: #E8F0FE;\n",
              "      --fill-color: #1967D2;\n",
              "      --hover-bg-color: #E2EBFA;\n",
              "      --hover-fill-color: #174EA6;\n",
              "      --disabled-fill-color: #AAA;\n",
              "      --disabled-bg-color: #DDD;\n",
              "  }\n",
              "\n",
              "  [theme=dark] .colab-df-quickchart {\n",
              "      --bg-color: #3B4455;\n",
              "      --fill-color: #D2E3FC;\n",
              "      --hover-bg-color: #434B5C;\n",
              "      --hover-fill-color: #FFFFFF;\n",
              "      --disabled-bg-color: #3B4455;\n",
              "      --disabled-fill-color: #666;\n",
              "  }\n",
              "\n",
              "  .colab-df-quickchart {\n",
              "    background-color: var(--bg-color);\n",
              "    border: none;\n",
              "    border-radius: 50%;\n",
              "    cursor: pointer;\n",
              "    display: none;\n",
              "    fill: var(--fill-color);\n",
              "    height: 32px;\n",
              "    padding: 0;\n",
              "    width: 32px;\n",
              "  }\n",
              "\n",
              "  .colab-df-quickchart:hover {\n",
              "    background-color: var(--hover-bg-color);\n",
              "    box-shadow: 0 1px 2px rgba(60, 64, 67, 0.3), 0 1px 3px 1px rgba(60, 64, 67, 0.15);\n",
              "    fill: var(--button-hover-fill-color);\n",
              "  }\n",
              "\n",
              "  .colab-df-quickchart-complete:disabled,\n",
              "  .colab-df-quickchart-complete:disabled:hover {\n",
              "    background-color: var(--disabled-bg-color);\n",
              "    fill: var(--disabled-fill-color);\n",
              "    box-shadow: none;\n",
              "  }\n",
              "\n",
              "  .colab-df-spinner {\n",
              "    border: 2px solid var(--fill-color);\n",
              "    border-color: transparent;\n",
              "    border-bottom-color: var(--fill-color);\n",
              "    animation:\n",
              "      spin 1s steps(1) infinite;\n",
              "  }\n",
              "\n",
              "  @keyframes spin {\n",
              "    0% {\n",
              "      border-color: transparent;\n",
              "      border-bottom-color: var(--fill-color);\n",
              "      border-left-color: var(--fill-color);\n",
              "    }\n",
              "    20% {\n",
              "      border-color: transparent;\n",
              "      border-left-color: var(--fill-color);\n",
              "      border-top-color: var(--fill-color);\n",
              "    }\n",
              "    30% {\n",
              "      border-color: transparent;\n",
              "      border-left-color: var(--fill-color);\n",
              "      border-top-color: var(--fill-color);\n",
              "      border-right-color: var(--fill-color);\n",
              "    }\n",
              "    40% {\n",
              "      border-color: transparent;\n",
              "      border-right-color: var(--fill-color);\n",
              "      border-top-color: var(--fill-color);\n",
              "    }\n",
              "    60% {\n",
              "      border-color: transparent;\n",
              "      border-right-color: var(--fill-color);\n",
              "    }\n",
              "    80% {\n",
              "      border-color: transparent;\n",
              "      border-right-color: var(--fill-color);\n",
              "      border-bottom-color: var(--fill-color);\n",
              "    }\n",
              "    90% {\n",
              "      border-color: transparent;\n",
              "      border-bottom-color: var(--fill-color);\n",
              "    }\n",
              "  }\n",
              "</style>\n",
              "\n",
              "  <script>\n",
              "    async function quickchart(key) {\n",
              "      const quickchartButtonEl =\n",
              "        document.querySelector('#' + key + ' button');\n",
              "      quickchartButtonEl.disabled = true;  // To prevent multiple clicks.\n",
              "      quickchartButtonEl.classList.add('colab-df-spinner');\n",
              "      try {\n",
              "        const charts = await google.colab.kernel.invokeFunction(\n",
              "            'suggestCharts', [key], {});\n",
              "      } catch (error) {\n",
              "        console.error('Error during call to suggestCharts:', error);\n",
              "      }\n",
              "      quickchartButtonEl.classList.remove('colab-df-spinner');\n",
              "      quickchartButtonEl.classList.add('colab-df-quickchart-complete');\n",
              "    }\n",
              "    (() => {\n",
              "      let quickchartButtonEl =\n",
              "        document.querySelector('#df-9b8f3599-e71f-4032-86e9-dc6398bba77b button');\n",
              "      quickchartButtonEl.style.display =\n",
              "        google.colab.kernel.accessAllowed ? 'block' : 'none';\n",
              "    })();\n",
              "  </script>\n",
              "</div>\n",
              "    </div>\n",
              "  </div>\n"
            ],
            "application/vnd.google.colaboratory.intrinsic+json": {
              "type": "dataframe",
              "variable_name": "datasets_to_use",
              "summary": "{\n  \"name\": \"datasets_to_use\",\n  \"rows\": 8,\n  \"fields\": [\n    {\n      \"column\": \"Author\",\n      \"properties\": {\n        \"dtype\": \"category\",\n        \"num_unique_values\": 1,\n        \"samples\": [\n          \"Nanostring\"\n        ],\n        \"semantic_type\": \"\",\n        \"description\": \"\"\n      }\n    },\n    {\n      \"column\": \"Year\",\n      \"properties\": {\n        \"dtype\": \"number\",\n        \"std\": 0,\n        \"min\": 2022,\n        \"max\": 2022,\n        \"num_unique_values\": 1,\n        \"samples\": [\n          2022\n        ],\n        \"semantic_type\": \"\",\n        \"description\": \"\"\n      }\n    },\n    {\n      \"column\": \"Paper_DOI\",\n      \"properties\": {\n        \"dtype\": \"category\",\n        \"num_unique_values\": 1,\n        \"samples\": [\n          \"DOI:\\u00a010.1038/s41587-022-01483-z\"\n        ],\n        \"semantic_type\": \"\",\n        \"description\": \"\"\n      }\n    },\n    {\n      \"column\": \"Link_to_dataset\",\n      \"properties\": {\n        \"dtype\": \"category\",\n        \"num_unique_values\": 1,\n        \"samples\": [\n          \"https://nanostring.com/products/cosmx-spatial-molecular-imager/ffpe-dataset/\"\n        ],\n        \"semantic_type\": \"\",\n        \"description\": \"\"\n      }\n    },\n    {\n      \"column\": \"Onedrive_link\",\n      \"properties\": {\n        \"dtype\": \"string\",\n        \"num_unique_values\": 8,\n        \"samples\": [\n          \"https://ifz0xa.bl.files.1drv.com/y4mTHM4bk8TtkZQkaJggGTC1iGPJQoPP0iZfdXVkKL2L7bzq9jgh2_amWkruy40nKOH_lcP8Y2A_Fek3J7XzALfPlkkJ8LI2FCkArLKtSeLjSLGwgqnVEtLEzfaKPl9Kxn2WcMMfFbzAF8WQ61Zcu9QIiSS_Vm9UODov2ixriNRQp9x_MKzyb3CiDZIl7aA0-IhR2fVXzZR32PfqxeN4oLY2g\"\n        ],\n        \"semantic_type\": \"\",\n        \"description\": \"\"\n      }\n    },\n    {\n      \"column\": \"Name\",\n      \"properties\": {\n        \"dtype\": \"string\",\n        \"num_unique_values\": 8,\n        \"samples\": [\n          \"CosMx_nsclc_5_2\"\n        ],\n        \"semantic_type\": \"\",\n        \"description\": \"\"\n      }\n    },\n    {\n      \"column\": \"Technology\",\n      \"properties\": {\n        \"dtype\": \"category\",\n        \"num_unique_values\": 1,\n        \"samples\": [\n          \"CosMx_prototype\"\n        ],\n        \"semantic_type\": \"\",\n        \"description\": \"\"\n      }\n    },\n    {\n      \"column\": \"Tissue\",\n      \"properties\": {\n        \"dtype\": \"category\",\n        \"num_unique_values\": 1,\n        \"samples\": [\n          \"Lung_NSCLC\"\n        ],\n        \"semantic_type\": \"\",\n        \"description\": \"\"\n      }\n    },\n    {\n      \"column\": \"Species\",\n      \"properties\": {\n        \"dtype\": \"category\",\n        \"num_unique_values\": 1,\n        \"samples\": [\n          \"Human\"\n        ],\n        \"semantic_type\": \"\",\n        \"description\": \"\"\n      }\n    },\n    {\n      \"column\": \"Visium_xenium_notebook\",\n      \"properties\": {\n        \"dtype\": \"number\",\n        \"std\": 0,\n        \"min\": 0,\n        \"max\": 0,\n        \"num_unique_values\": 1,\n        \"samples\": [\n          0\n        ],\n        \"semantic_type\": \"\",\n        \"description\": \"\"\n      }\n    },\n    {\n      \"column\": \"PV_workflow_comparison\",\n      \"properties\": {\n        \"dtype\": \"number\",\n        \"std\": 0,\n        \"min\": 0,\n        \"max\": 1,\n        \"num_unique_values\": 2,\n        \"samples\": [\n          0\n        ],\n        \"semantic_type\": \"\",\n        \"description\": \"\"\n      }\n    },\n    {\n      \"column\": \"Comparing_all_tech\",\n      \"properties\": {\n        \"dtype\": \"number\",\n        \"std\": 0,\n        \"min\": 0,\n        \"max\": 1,\n        \"num_unique_values\": 2,\n        \"samples\": [\n          0\n        ],\n        \"semantic_type\": \"\",\n        \"description\": \"\"\n      }\n    },\n    {\n      \"column\": \"Pulmonary Xenium\",\n      \"properties\": {\n        \"dtype\": \"number\",\n        \"std\": 0,\n        \"min\": 0,\n        \"max\": 0,\n        \"num_unique_values\": 1,\n        \"samples\": [\n          0\n        ],\n        \"semantic_type\": \"\",\n        \"description\": \"\"\n      }\n    },\n    {\n      \"column\": \"Cosmx_lung\",\n      \"properties\": {\n        \"dtype\": \"number\",\n        \"std\": 0,\n        \"min\": 1,\n        \"max\": 1,\n        \"num_unique_values\": 1,\n        \"samples\": [\n          1\n        ],\n        \"semantic_type\": \"\",\n        \"description\": \"\"\n      }\n    },\n    {\n      \"column\": \"Dataset_merge_visium\",\n      \"properties\": {\n        \"dtype\": \"number\",\n        \"std\": 0,\n        \"min\": 0,\n        \"max\": 0,\n        \"num_unique_values\": 1,\n        \"samples\": [\n          0\n        ],\n        \"semantic_type\": \"\",\n        \"description\": \"\"\n      }\n    },\n    {\n      \"column\": \"Brain case study\",\n      \"properties\": {\n        \"dtype\": \"number\",\n        \"std\": 0,\n        \"min\": 0,\n        \"max\": 0,\n        \"num_unique_values\": 1,\n        \"samples\": [\n          0\n        ],\n        \"semantic_type\": \"\",\n        \"description\": \"\"\n      }\n    },\n    {\n      \"column\": \"Just Visium example\",\n      \"properties\": {\n        \"dtype\": \"number\",\n        \"std\": 0,\n        \"min\": 0,\n        \"max\": 0,\n        \"num_unique_values\": 1,\n        \"samples\": [\n          0\n        ],\n        \"semantic_type\": \"\",\n        \"description\": \"\"\n      }\n    }\n  ]\n}"
            }
          },
          "metadata": {},
          "execution_count": 4
        }
      ],
      "source": [
        "datasets = pd.read_excel(\"/content/Datasets_all.xlsx\")\n",
        "datasets_to_use = datasets[datasets[\"Cosmx_lung\"]==1]\n",
        "#remove those without link\n",
        "datasets_to_use = datasets_to_use[~datasets_to_use[\"Onedrive_link\"].isna()]\n",
        "datasets_to_use.reset_index(drop=True,inplace=True)\n",
        "datasets_to_use"
      ]
    },
    {
      "cell_type": "markdown",
      "source": [
        "Downloading and decompressing the datasets"
      ],
      "metadata": {
        "id": "rUYNsxODl_1q"
      }
    },
    {
      "cell_type": "code",
      "execution_count": 5,
      "metadata": {
        "colab": {
          "base_uri": "https://localhost:8080/"
        },
        "id": "zeMFg0XKe4n9",
        "outputId": "02d4ab9e-62f2-4e5d-efeb-34b200f4d16c"
      },
      "outputs": [
        {
          "output_type": "stream",
          "name": "stdout",
          "text": [
            "Processing dataset: CosMx_nsclc_5_1\n",
            "Download link: https://vgocqw.bl.files.1drv.com/y4mNw37uF9wd_xK0Q59qYpEtYmWsdnQT6OAmtNEiVvX-luZR6SbFmvplO7jD30dW1Uq9JLkMpA0qC9R5TvHgXRxeRXj5arXB0BSospaTgDzbdff_IoMuL3htinmILGBH0NYl74T6SqQq_JLOzkY1GcyIsan5E5tfZP5Y300CfL-PcdF-iIiz8-QtQxCxwtE8BzHfPnUPKjiXWpOxuLmB5FRTA\n",
            "Processing dataset: CosMx_nsclc_5_2\n",
            "Download link: https://ifz0xa.bl.files.1drv.com/y4mTHM4bk8TtkZQkaJggGTC1iGPJQoPP0iZfdXVkKL2L7bzq9jgh2_amWkruy40nKOH_lcP8Y2A_Fek3J7XzALfPlkkJ8LI2FCkArLKtSeLjSLGwgqnVEtLEzfaKPl9Kxn2WcMMfFbzAF8WQ61Zcu9QIiSS_Vm9UODov2ixriNRQp9x_MKzyb3CiDZIl7aA0-IhR2fVXzZR32PfqxeN4oLY2g\n",
            "Processing dataset: CosMx_nsclc_5_3\n",
            "Download link: https://8lnrra.bl.files.1drv.com/y4mhDToinyLHHx81QMnwp-79dC1YF5v-Vuwq4N7qkmtf6hHwuy_9ISUtZjBOvS55FRmMKGYz8-pKL05Oure7pZO9XCXV9Rqo7ptfRSwvTIGRuXGmqnq4todD1qvw1J-I8KZjiJxb13WCK2Zhrl1AegU5ASMABht1LKRkXQs-SVSQPbZnjiE9JB_kdpL_H_BQfWfhe0jEmbS8hpZSnOq_CVPow\n",
            "Processing dataset: CosMx_nsclc_6\n",
            "Download link: https://hohnuq.bl.files.1drv.com/y4mKWx0U7VEExp1o3VrmlwAQELKMLf3aMSd8qHASSuSiuZgSl1ZxZZRH2RcLSlfihUhrR8BPq5Hr88ykOTt191KUjQD0Tl9_7o0ae4gI1OHiO2kW1YZ1inxlOLC7khOHUrlyhvYWFklAwzUVhxOooqf-wfJ3zJ715Sftb9BZ0nVtBJETqqXI-1GhWdujJIuz16yjjL3DvnkoH1VQ9qIJ7gi9A\n",
            "Processing dataset: CosMx_nsclc_9_1\n",
            "Download link: https://kd26iq.bl.files.1drv.com/y4mtWoQzs3BK60ssvEP6GPYWbT7V4LqbqXjaS5E_tW_Q9pPhLZmkiSUKQ4amv2gG2yW2tx-Jduv4rGnhcHii1wS37li6fPh8u4S8sQp3FsnOSN8x8AoR-47QJTbGAe1BAm577OskS-omdDFuErJTaUnof4Cba33hkEhtfxMrXh3tG2DQTRT74G9Dzt_QVZHFJCKy9HlS0che6H-Z8hNWxKvpw\n",
            "Processing dataset: CosMx_nsclc_9_2Processing dataset: CosMx_nsclc_12\n",
            "Download link: https://zw1oqa.bl.files.1drv.com/y4mfFbvWw0PFhAAHx4QZZT1Z03ONHWTxk87yzM_hEs-cM78YgY1gUgKpGimwJqw89rx5LlNGRGe5Fp1uTcVKiq-6KPlNzd_ohcGfPSprfq-cW3AEWyTtZyZKJDtOP9JRee-4NZqHb4crj7cHHltPhAyiq40ogNQenhf2Hj-NBPW5VGDQZI_CLnXrJO_cdbNHHUVbKikY9r1JPD_G1kaHF9Gxg\n",
            "\n",
            "Processing dataset: CosMx_nsclc_13\n",
            "Download link: https://v9qdoq.bl.files.1drv.com/y4mFR6AegFeiI9bU-0uO3bJPQ_xNSSVT4HARrAoLgJwzHiOeMJ1U36p4Pi3oyMtvOL4002GTyKtdUjaXTr_NBiq9KeccWLT7Dg6vzdWa6ggwQ2AYngYGPswvqW-P4Jiz0z-Leqgp0aKglqrWUXDZg6V7gi_xfadw5ymIyJ0YyBVagMnSbA6wSrvPaM-MYs49qCweGfkc4Nz6dwe4LYm2NPvCw\n",
            "Download link: https://6wwmfw.bl.files.1drv.com/y4mtFdh7st4ROLi8ttKLd0RIRc09_5WSsqLivbKIOo-jUlcmRhlSMnpq4JSzQ1PebQuzKiEnGhmqcPATk2-kGQOk-ifvHy7UomUtS8HamIfRPWOcGd2N2VV7qX-AwwHmpAVkTYNgb3l1k0iO8y-KJCg6l5Liay75CjftQgFa3Dh7AOH7Aa0reYGAiNbIu19ATsDO_4TM4cUgYNdrfGDTkccgQ\n",
            "unzip -d /content/CosMx_nsclc_13 /content/y4mFR6AegFeiI9bU-0uO3bJPQ_xNSSVT4HARrAoLgJwzHiOeMJ1U36p4Pi3oyMtvOL4002GTyKtdUjaXTr_NBiq9KeccWLT7Dg6vzdWa6ggwQ2AYngYGPswvqW-P4Jiz0z-Leqgp0aKglqrWUXDZg6V7gi_xfadw5ymIyJ0YyBVagMnSbA6wSrvPaM-MYs49qCweGfkc4Nz6dwe4LYm2NPvCw\n",
            "unzip -d /content/CosMx_nsclc_9_1 /content/y4mtWoQzs3BK60ssvEP6GPYWbT7V4LqbqXjaS5E_tW_Q9pPhLZmkiSUKQ4amv2gG2yW2tx-Jduv4rGnhcHii1wS37li6fPh8u4S8sQp3FsnOSN8x8AoR-47QJTbGAe1BAm577OskS-omdDFuErJTaUnof4Cba33hkEhtfxMrXh3tG2DQTRT74G9Dzt_QVZHFJCKy9HlS0che6H-Z8hNWxKvpw\n",
            "Successfully unzipped y4mFR6AegFeiI9bU-0uO3bJPQ_xNSSVT4HARrAoLgJwzHiOeMJ1U36p4Pi3oyMtvOL4002GTyKtdUjaXTr_NBiq9KeccWLT7Dg6vzdWa6ggwQ2AYngYGPswvqW-P4Jiz0z-Leqgp0aKglqrWUXDZg6V7gi_xfadw5ymIyJ0YyBVagMnSbA6wSrvPaM-MYs49qCweGfkc4Nz6dwe4LYm2NPvCw.\n",
            "unzip -d /content/CosMx_nsclc_5_2 /content/y4mTHM4bk8TtkZQkaJggGTC1iGPJQoPP0iZfdXVkKL2L7bzq9jgh2_amWkruy40nKOH_lcP8Y2A_Fek3J7XzALfPlkkJ8LI2FCkArLKtSeLjSLGwgqnVEtLEzfaKPl9Kxn2WcMMfFbzAF8WQ61Zcu9QIiSS_Vm9UODov2ixriNRQp9x_MKzyb3CiDZIl7aA0-IhR2fVXzZR32PfqxeN4oLY2g\n",
            "unzip -d /content/CosMx_nsclc_9_2 /content/y4mtFdh7st4ROLi8ttKLd0RIRc09_5WSsqLivbKIOo-jUlcmRhlSMnpq4JSzQ1PebQuzKiEnGhmqcPATk2-kGQOk-ifvHy7UomUtS8HamIfRPWOcGd2N2VV7qX-AwwHmpAVkTYNgb3l1k0iO8y-KJCg6l5Liay75CjftQgFa3Dh7AOH7Aa0reYGAiNbIu19ATsDO_4TM4cUgYNdrfGDTkccgQ\n",
            "Successfully unzipped y4mtWoQzs3BK60ssvEP6GPYWbT7V4LqbqXjaS5E_tW_Q9pPhLZmkiSUKQ4amv2gG2yW2tx-Jduv4rGnhcHii1wS37li6fPh8u4S8sQp3FsnOSN8x8AoR-47QJTbGAe1BAm577OskS-omdDFuErJTaUnof4Cba33hkEhtfxMrXh3tG2DQTRT74G9Dzt_QVZHFJCKy9HlS0che6H-Z8hNWxKvpw.\n",
            "unzip -d /content/CosMx_nsclc_5_1 /content/y4mNw37uF9wd_xK0Q59qYpEtYmWsdnQT6OAmtNEiVvX-luZR6SbFmvplO7jD30dW1Uq9JLkMpA0qC9R5TvHgXRxeRXj5arXB0BSospaTgDzbdff_IoMuL3htinmILGBH0NYl74T6SqQq_JLOzkY1GcyIsan5E5tfZP5Y300CfL-PcdF-iIiz8-QtQxCxwtE8BzHfPnUPKjiXWpOxuLmB5FRTA\n",
            "unzip -d /content/CosMx_nsclc_5_3 /content/y4mhDToinyLHHx81QMnwp-79dC1YF5v-Vuwq4N7qkmtf6hHwuy_9ISUtZjBOvS55FRmMKGYz8-pKL05Oure7pZO9XCXV9Rqo7ptfRSwvTIGRuXGmqnq4todD1qvw1J-I8KZjiJxb13WCK2Zhrl1AegU5ASMABht1LKRkXQs-SVSQPbZnjiE9JB_kdpL_H_BQfWfhe0jEmbS8hpZSnOq_CVPow\n",
            "unzip -d /content/CosMx_nsclc_6 /content/y4mKWx0U7VEExp1o3VrmlwAQELKMLf3aMSd8qHASSuSiuZgSl1ZxZZRH2RcLSlfihUhrR8BPq5Hr88ykOTt191KUjQD0Tl9_7o0ae4gI1OHiO2kW1YZ1inxlOLC7khOHUrlyhvYWFklAwzUVhxOooqf-wfJ3zJ715Sftb9BZ0nVtBJETqqXI-1GhWdujJIuz16yjjL3DvnkoH1VQ9qIJ7gi9A\n",
            "Successfully unzipped y4mTHM4bk8TtkZQkaJggGTC1iGPJQoPP0iZfdXVkKL2L7bzq9jgh2_amWkruy40nKOH_lcP8Y2A_Fek3J7XzALfPlkkJ8LI2FCkArLKtSeLjSLGwgqnVEtLEzfaKPl9Kxn2WcMMfFbzAF8WQ61Zcu9QIiSS_Vm9UODov2ixriNRQp9x_MKzyb3CiDZIl7aA0-IhR2fVXzZR32PfqxeN4oLY2g.\n",
            "Successfully unzipped y4mhDToinyLHHx81QMnwp-79dC1YF5v-Vuwq4N7qkmtf6hHwuy_9ISUtZjBOvS55FRmMKGYz8-pKL05Oure7pZO9XCXV9Rqo7ptfRSwvTIGRuXGmqnq4todD1qvw1J-I8KZjiJxb13WCK2Zhrl1AegU5ASMABht1LKRkXQs-SVSQPbZnjiE9JB_kdpL_H_BQfWfhe0jEmbS8hpZSnOq_CVPow.\n",
            "Successfully unzipped y4mtFdh7st4ROLi8ttKLd0RIRc09_5WSsqLivbKIOo-jUlcmRhlSMnpq4JSzQ1PebQuzKiEnGhmqcPATk2-kGQOk-ifvHy7UomUtS8HamIfRPWOcGd2N2VV7qX-AwwHmpAVkTYNgb3l1k0iO8y-KJCg6l5Liay75CjftQgFa3Dh7AOH7Aa0reYGAiNbIu19ATsDO_4TM4cUgYNdrfGDTkccgQ.\n",
            "Successfully unzipped y4mNw37uF9wd_xK0Q59qYpEtYmWsdnQT6OAmtNEiVvX-luZR6SbFmvplO7jD30dW1Uq9JLkMpA0qC9R5TvHgXRxeRXj5arXB0BSospaTgDzbdff_IoMuL3htinmILGBH0NYl74T6SqQq_JLOzkY1GcyIsan5E5tfZP5Y300CfL-PcdF-iIiz8-QtQxCxwtE8BzHfPnUPKjiXWpOxuLmB5FRTA.\n",
            "Successfully unzipped y4mKWx0U7VEExp1o3VrmlwAQELKMLf3aMSd8qHASSuSiuZgSl1ZxZZRH2RcLSlfihUhrR8BPq5Hr88ykOTt191KUjQD0Tl9_7o0ae4gI1OHiO2kW1YZ1inxlOLC7khOHUrlyhvYWFklAwzUVhxOooqf-wfJ3zJ715Sftb9BZ0nVtBJETqqXI-1GhWdujJIuz16yjjL3DvnkoH1VQ9qIJ7gi9A.\n",
            "unzip -d /content/CosMx_nsclc_12 /content/y4mfFbvWw0PFhAAHx4QZZT1Z03ONHWTxk87yzM_hEs-cM78YgY1gUgKpGimwJqw89rx5LlNGRGe5Fp1uTcVKiq-6KPlNzd_ohcGfPSprfq-cW3AEWyTtZyZKJDtOP9JRee-4NZqHb4crj7cHHltPhAyiq40ogNQenhf2Hj-NBPW5VGDQZI_CLnXrJO_cdbNHHUVbKikY9r1JPD_G1kaHF9Gxg\n",
            "Successfully unzipped y4mfFbvWw0PFhAAHx4QZZT1Z03ONHWTxk87yzM_hEs-cM78YgY1gUgKpGimwJqw89rx5LlNGRGe5Fp1uTcVKiq-6KPlNzd_ohcGfPSprfq-cW3AEWyTtZyZKJDtOP9JRee-4NZqHb4crj7cHHltPhAyiq40ogNQenhf2Hj-NBPW5VGDQZI_CLnXrJO_cdbNHHUVbKikY9r1JPD_G1kaHF9Gxg.\n"
          ]
        }
      ],
      "source": [
        "import os\n",
        "def download_and_unzip(dataset):\n",
        "    try:\n",
        "        download_link = dataset[\"Onedrive_link\"]\n",
        "        name = dataset[\"Name\"]\n",
        "        print(f\"Processing dataset: {name}\")\n",
        "        print(f\"Download link: {download_link}\")\n",
        "\n",
        "        command = \"wget {}\".format(download_link)\n",
        "        subprocess.run(command, shell=True, check=True)\n",
        "\n",
        "        filename = download_link.split(\"com/\")[-1]\n",
        "        archive_name = filename.split(\"/\")[-1]\n",
        "\n",
        "        try:\n",
        "            command_unzip = \"unzip -d /content/{} /content/{}\".format(name, filename)\n",
        "            print(command_unzip)\n",
        "            subprocess.run(command_unzip, shell=True, check=True)\n",
        "            print(\"Successfully unzipped {}.\".format(archive_name))\n",
        "            os.remove(\"/content/{}\".format(filename))  # Remove the zip file\n",
        "        except subprocess.CalledProcessError:\n",
        "            print(\"Failed to unzip {}. Attempting other methods.\".format(archive_name))\n",
        "\n",
        "            try:\n",
        "                command_gunzip = \"gunzip -d /content/{} /content/{}\".format(name, filename)\n",
        "                subprocess.run(command_gunzip, shell=True, check=True)\n",
        "                print(\"Successfully gunzipped {}.\".format(archive_name))\n",
        "                os.remove(\"/content/{}\".format(filename))   # Remove the zip file\n",
        "            except subprocess.CalledProcessError:\n",
        "                print(\"Failed to gunzip {}. Attempting other methods.\".format(archive_name))\n",
        "\n",
        "                try:\n",
        "                    os.makedirs(\"/content/{}\".format(name), exist_ok=True)\n",
        "                    command_untar = \"tar -xvf /content/{} -C /content/{}\".format(filename, name)\n",
        "                    subprocess.run(command_untar, shell=True, check=True)\n",
        "                    print(\"Successfully untarred {}.\".format(archive_name))\n",
        "                    os.remove(\"/content/{}\".format(filename))   # Remove the zip file\n",
        "                except subprocess.CalledProcessError:\n",
        "                    try:\n",
        "\n",
        "                      command_untar = \"tar -xvzf /content/{} -C /content/{}\".format(filename, name)\n",
        "                      subprocess.run(command_untar, shell=True, check=True)\n",
        "                      print(\"Successfully untarred {}.\".format(archive_name))\n",
        "                      os.remove(\"/content/{}\".format(filename))   # Remove the zip file\n",
        "                    except:\n",
        "                      print(\"All methods failed to extract {}.\".format(archive_name))\n",
        "\n",
        "    except KeyError as e:\n",
        "        print(f\"Error: Missing required column in dataset: {str(e)}\")\n",
        "    except subprocess.CalledProcessError as e:\n",
        "        print(f\"Error: Command failed: {str(e)}\")\n",
        "    except Exception as e:\n",
        "        print(f\"Error: An unexpected error occurred: {str(e)}\")\n",
        "\n",
        "# Create a thread pool with a maximum of 10 threads\n",
        "with concurrent.futures.ThreadPoolExecutor(max_workers=10) as executor:\n",
        "    # Submit download and unzip tasks to the thread pool\n",
        "    futures = [executor.submit(download_and_unzip, row.to_dict()) for _, row in datasets_to_use.reset_index(drop=True).iterrows()]\n",
        "\n",
        "    # Wait for all tasks to complete\n",
        "    concurrent.futures.wait(futures)"
      ]
    },
    {
      "cell_type": "markdown",
      "source": [
        "Running the hexagonal binning via pseudovisium_generate."
      ],
      "metadata": {
        "id": "8Z4PeexCmDzX"
      }
    },
    {
      "cell_type": "code",
      "execution_count": 6,
      "metadata": {
        "colab": {
          "base_uri": "https://localhost:8080/"
        },
        "id": "jkMeqIN-pqri",
        "outputId": "ad96c48e-6748-43c9-c27b-47ebf3db24e3"
      },
      "outputs": [
        {
          "metadata": {
            "tags": null
          },
          "name": "stdout",
          "output_type": "stream",
          "text": [
            "/content/CosMx_nsclc_5_1/Lung5_Rep1/Lung5_Rep1-Flat_files_and_images/Lung5_Rep1_tx_file.csv\n",
            "You are using version:  ['Pseudovisium==0.0.42']\n",
            "Date:  2024-06-17\n",
            "Technology is Nanostring. Going forward with default column names.\n",
            "Quality filter is set to False\n",
            "Quality counting per hexagon is set to False\n",
            "Quality counting per probe is set to False\n",
            "Created temporary directory /tmp/tmp_hexajr2vu0l_\n",
            "Now creating batches\n",
            "Created batch 1\n",
            "Created batch 2\n",
            "Created batch 3\n",
            "Created batch 4\n",
            "Created batch 5\n",
            "Created batch 6\n",
            "Created batch 7\n",
            "Created batch 8\n",
            "Finished preprocessing. Total batches created: 8\n",
            "Processing batches using 8 processes\n"
          ]
        },
        {
          "metadata": {
            "tags": null
          },
          "name": "stderr",
          "output_type": "stream",
          "text": [
            "Processing batches: 100%|██████████| 8/8 [02:06<00:00, 15.80s/batch]\n"
          ]
        },
        {
          "metadata": {
            "tags": null
          },
          "name": "stdout",
          "output_type": "stream",
          "text": [
            "Creating pseudovisium folder in output path:/content//pseudovisium/CosMx_nsclc_5_1\n",
            "Creating scalefactors_json.json file in spatial folder.\n",
            "Creating barcodes.tsv.gz file in spatial folder.\n",
            "Creating tissue_positions_list.csv file in spatial folder.\n",
            "Creating pv_cell_hex.csv file in spatial folder.\n",
            "No quality information provided. Skipping quality information files.\n",
            "No quality information provided. Skipping quality information files.\n",
            "Creating features.tsv.gz file in spatial folder.\n",
            "Putting together the matrix.mtx file\n",
            "Total matrix count: 37226610.0\n",
            "Number of unique hexagons: 1087\n",
            "Creating matrix.mtx.gz file in spatial folder.\n"
          ]
        },
        {
          "metadata": {
            "tags": null
          },
          "name": "stderr",
          "output_type": "stream",
          "text": [
            "/usr/local/lib/python3.10/dist-packages/Pseudovisium/pseudovisium_generate.py:795: SettingWithCopyWarning: \n",
            "A value is trying to be set on a copy of a slice from a DataFrame.\n",
            "Try using .loc[row_indexer,col_indexer] = value instead\n",
            "\n",
            "See the caveats in the documentation: https://pandas.pydata.org/pandas-docs/stable/user_guide/indexing.html#returning-a-view-versus-a-copy\n",
            "  hexagon_cell_counts[\"hexagon_id\"] = hexagon_cell_counts[\"hexagon_id\"] + 1\n"
          ]
        },
        {
          "metadata": {
            "tags": null
          },
          "name": "stdout",
          "output_type": "stream",
          "text": [
            "Putting together the filtered_feature_bc_matrix.h5 file\n",
            "No image file provided. Drawing tissue positions on a white background.\n",
            "Creating arguments.json file in output path.\n",
            "Time taken: 454.45068860054016 seconds\n",
            "Searching for temporary batch files in: /tmp\n",
            "No remaining temporary batch files found.\n",
            "/content/CosMx_nsclc_5_2/Lung5_Rep2/Lung5_Rep2-Flat_files_and_images/Lung5_Rep2_tx_file.csv\n",
            "You are using version:  ['Pseudovisium==0.0.42']\n",
            "Date:  2024-06-17\n",
            "Technology is Nanostring. Going forward with default column names.\n",
            "Quality filter is set to False\n",
            "Quality counting per hexagon is set to False\n",
            "Quality counting per probe is set to False\n",
            "Created temporary directory /tmp/tmp_hexa4gbvn3nb\n",
            "Now creating batches\n",
            "Created batch 1\n",
            "Created batch 2\n",
            "Created batch 3\n",
            "Created batch 4\n",
            "Created batch 5\n",
            "Created batch 6\n",
            "Created batch 7\n",
            "Created batch 8\n",
            "Created batch 9\n",
            "Finished preprocessing. Total batches created: 9\n",
            "Processing batches using 8 processes\n"
          ]
        },
        {
          "metadata": {
            "tags": null
          },
          "name": "stderr",
          "output_type": "stream",
          "text": [
            "Processing batches: 100%|██████████| 9/9 [02:50<00:00, 18.98s/batch]\n"
          ]
        },
        {
          "metadata": {
            "tags": null
          },
          "name": "stdout",
          "output_type": "stream",
          "text": [
            "Creating pseudovisium folder in output path:/content//pseudovisium/CosMx_nsclc_5_2\n",
            "Using already existing folder: /content//pseudovisium/\n",
            "Creating scalefactors_json.json file in spatial folder.\n",
            "Creating barcodes.tsv.gz file in spatial folder.\n",
            "Creating tissue_positions_list.csv file in spatial folder.\n",
            "Creating pv_cell_hex.csv file in spatial folder.\n",
            "No quality information provided. Skipping quality information files.\n",
            "No quality information provided. Skipping quality information files.\n",
            "Creating features.tsv.gz file in spatial folder.\n",
            "Putting together the matrix.mtx file\n",
            "Total matrix count: 40286575.0\n",
            "Number of unique hexagons: 1061\n",
            "Creating matrix.mtx.gz file in spatial folder.\n"
          ]
        },
        {
          "metadata": {
            "tags": null
          },
          "name": "stderr",
          "output_type": "stream",
          "text": [
            "/usr/local/lib/python3.10/dist-packages/Pseudovisium/pseudovisium_generate.py:795: SettingWithCopyWarning: \n",
            "A value is trying to be set on a copy of a slice from a DataFrame.\n",
            "Try using .loc[row_indexer,col_indexer] = value instead\n",
            "\n",
            "See the caveats in the documentation: https://pandas.pydata.org/pandas-docs/stable/user_guide/indexing.html#returning-a-view-versus-a-copy\n",
            "  hexagon_cell_counts[\"hexagon_id\"] = hexagon_cell_counts[\"hexagon_id\"] + 1\n"
          ]
        },
        {
          "metadata": {
            "tags": null
          },
          "name": "stdout",
          "output_type": "stream",
          "text": [
            "Putting together the filtered_feature_bc_matrix.h5 file\n",
            "No image file provided. Drawing tissue positions on a white background.\n",
            "Creating arguments.json file in output path.\n",
            "Time taken: 510.87267327308655 seconds\n",
            "Searching for temporary batch files in: /tmp\n",
            "No remaining temporary batch files found.\n",
            "/content/CosMx_nsclc_5_3/Lung5_Rep3/Lung5_Rep3-Flat_files_and_images/Lung5_Rep3_tx_file.csv\n",
            "You are using version:  ['Pseudovisium==0.0.42']\n",
            "Date:  2024-06-17\n",
            "Technology is Nanostring. Going forward with default column names.\n",
            "Quality filter is set to False\n",
            "Quality counting per hexagon is set to False\n",
            "Quality counting per probe is set to False\n",
            "Created temporary directory /tmp/tmp_hexa8kimc86v\n",
            "Now creating batches\n",
            "Created batch 1\n",
            "Created batch 2\n",
            "Created batch 3\n",
            "Created batch 4\n",
            "Created batch 5\n",
            "Created batch 6\n",
            "Created batch 7\n",
            "Finished preprocessing. Total batches created: 7\n",
            "Processing batches using 8 processes\n"
          ]
        },
        {
          "metadata": {
            "tags": null
          },
          "name": "stderr",
          "output_type": "stream",
          "text": [
            "Processing batches: 100%|██████████| 7/7 [01:42<00:00, 14.69s/batch]\n"
          ]
        },
        {
          "metadata": {
            "tags": null
          },
          "name": "stdout",
          "output_type": "stream",
          "text": [
            "Creating pseudovisium folder in output path:/content//pseudovisium/CosMx_nsclc_5_3\n",
            "Using already existing folder: /content//pseudovisium/\n",
            "Creating scalefactors_json.json file in spatial folder.\n",
            "Creating barcodes.tsv.gz file in spatial folder.\n",
            "Creating tissue_positions_list.csv file in spatial folder.\n",
            "Creating pv_cell_hex.csv file in spatial folder.\n",
            "No quality information provided. Skipping quality information files.\n",
            "No quality information provided. Skipping quality information files.\n",
            "Creating features.tsv.gz file in spatial folder.\n",
            "Putting together the matrix.mtx file\n",
            "Total matrix count: 31481632.0\n",
            "Number of unique hexagons: 1087\n",
            "Creating matrix.mtx.gz file in spatial folder.\n"
          ]
        },
        {
          "metadata": {
            "tags": null
          },
          "name": "stderr",
          "output_type": "stream",
          "text": [
            "/usr/local/lib/python3.10/dist-packages/Pseudovisium/pseudovisium_generate.py:795: SettingWithCopyWarning: \n",
            "A value is trying to be set on a copy of a slice from a DataFrame.\n",
            "Try using .loc[row_indexer,col_indexer] = value instead\n",
            "\n",
            "See the caveats in the documentation: https://pandas.pydata.org/pandas-docs/stable/user_guide/indexing.html#returning-a-view-versus-a-copy\n",
            "  hexagon_cell_counts[\"hexagon_id\"] = hexagon_cell_counts[\"hexagon_id\"] + 1\n"
          ]
        },
        {
          "metadata": {
            "tags": null
          },
          "name": "stdout",
          "output_type": "stream",
          "text": [
            "Putting together the filtered_feature_bc_matrix.h5 file\n",
            "No image file provided. Drawing tissue positions on a white background.\n",
            "Creating arguments.json file in output path.\n",
            "Time taken: 386.15721344947815 seconds\n",
            "Searching for temporary batch files in: /tmp\n",
            "No remaining temporary batch files found.\n",
            "/content/CosMx_nsclc_6/Lung6/Lung6-Flat_files_and_images/Lung6_tx_file.csv\n",
            "You are using version:  ['Pseudovisium==0.0.42']\n",
            "Date:  2024-06-17\n",
            "Technology is Nanostring. Going forward with default column names.\n",
            "Quality filter is set to False\n",
            "Quality counting per hexagon is set to False\n",
            "Quality counting per probe is set to False\n",
            "Created temporary directory /tmp/tmp_hexazvb8r5f_\n",
            "Now creating batches\n",
            "Created batch 1\n",
            "Created batch 2\n",
            "Created batch 3\n",
            "Created batch 4\n",
            "Created batch 5\n",
            "Created batch 6\n",
            "Created batch 7\n",
            "Created batch 8\n",
            "Finished preprocessing. Total batches created: 8\n",
            "Processing batches using 8 processes\n"
          ]
        },
        {
          "metadata": {
            "tags": null
          },
          "name": "stderr",
          "output_type": "stream",
          "text": [
            "Processing batches: 100%|██████████| 8/8 [01:59<00:00, 14.95s/batch]\n"
          ]
        },
        {
          "metadata": {
            "tags": null
          },
          "name": "stdout",
          "output_type": "stream",
          "text": [
            "Creating pseudovisium folder in output path:/content//pseudovisium/CosMx_nsclc_6\n",
            "Using already existing folder: /content//pseudovisium/\n",
            "Creating scalefactors_json.json file in spatial folder.\n",
            "Creating barcodes.tsv.gz file in spatial folder.\n",
            "Creating tissue_positions_list.csv file in spatial folder.\n",
            "Creating pv_cell_hex.csv file in spatial folder.\n",
            "No quality information provided. Skipping quality information files.\n",
            "No quality information provided. Skipping quality information files.\n",
            "Creating features.tsv.gz file in spatial folder.\n",
            "Putting together the matrix.mtx file\n",
            "Total matrix count: 35777062.0\n",
            "Number of unique hexagons: 1072\n",
            "Creating matrix.mtx.gz file in spatial folder.\n"
          ]
        },
        {
          "metadata": {
            "tags": null
          },
          "name": "stderr",
          "output_type": "stream",
          "text": [
            "/usr/local/lib/python3.10/dist-packages/Pseudovisium/pseudovisium_generate.py:795: SettingWithCopyWarning: \n",
            "A value is trying to be set on a copy of a slice from a DataFrame.\n",
            "Try using .loc[row_indexer,col_indexer] = value instead\n",
            "\n",
            "See the caveats in the documentation: https://pandas.pydata.org/pandas-docs/stable/user_guide/indexing.html#returning-a-view-versus-a-copy\n",
            "  hexagon_cell_counts[\"hexagon_id\"] = hexagon_cell_counts[\"hexagon_id\"] + 1\n"
          ]
        },
        {
          "metadata": {
            "tags": null
          },
          "name": "stdout",
          "output_type": "stream",
          "text": [
            "Putting together the filtered_feature_bc_matrix.h5 file\n",
            "No image file provided. Drawing tissue positions on a white background.\n",
            "Creating arguments.json file in output path.\n",
            "Time taken: 450.5401873588562 seconds\n",
            "Searching for temporary batch files in: /tmp\n",
            "No remaining temporary batch files found.\n",
            "/content/CosMx_nsclc_9_1/Lung9_Rep1/Lung9_Rep1-Flat_files_and_images/Lung9_Rep1_tx_file.csv\n",
            "You are using version:  ['Pseudovisium==0.0.42']\n",
            "Date:  2024-06-17\n",
            "Technology is Nanostring. Going forward with default column names.\n",
            "Quality filter is set to False\n",
            "Quality counting per hexagon is set to False\n",
            "Quality counting per probe is set to False\n",
            "Created temporary directory /tmp/tmp_hexae9trt45a\n",
            "Now creating batches\n",
            "Created batch 1\n",
            "Created batch 2\n",
            "Created batch 3\n",
            "Created batch 4\n",
            "Created batch 5\n",
            "Created batch 6\n",
            "Finished preprocessing. Total batches created: 6\n",
            "Processing batches using 8 processes\n"
          ]
        },
        {
          "metadata": {
            "tags": null
          },
          "name": "stderr",
          "output_type": "stream",
          "text": [
            "Processing batches: 100%|██████████| 6/6 [01:33<00:00, 15.65s/batch]\n"
          ]
        },
        {
          "metadata": {
            "tags": null
          },
          "name": "stdout",
          "output_type": "stream",
          "text": [
            "Creating pseudovisium folder in output path:/content//pseudovisium/CosMx_nsclc_9_1\n",
            "Using already existing folder: /content//pseudovisium/\n",
            "Creating scalefactors_json.json file in spatial folder.\n",
            "Creating barcodes.tsv.gz file in spatial folder.\n",
            "Creating tissue_positions_list.csv file in spatial folder.\n",
            "Creating pv_cell_hex.csv file in spatial folder.\n"
          ]
        },
        {
          "metadata": {
            "tags": null
          },
          "name": "stderr",
          "output_type": "stream",
          "text": [
            "/usr/local/lib/python3.10/dist-packages/Pseudovisium/pseudovisium_generate.py:795: SettingWithCopyWarning: \n",
            "A value is trying to be set on a copy of a slice from a DataFrame.\n",
            "Try using .loc[row_indexer,col_indexer] = value instead\n",
            "\n",
            "See the caveats in the documentation: https://pandas.pydata.org/pandas-docs/stable/user_guide/indexing.html#returning-a-view-versus-a-copy\n",
            "  hexagon_cell_counts[\"hexagon_id\"] = hexagon_cell_counts[\"hexagon_id\"] + 1\n"
          ]
        },
        {
          "metadata": {
            "tags": null
          },
          "name": "stdout",
          "output_type": "stream",
          "text": [
            "No quality information provided. Skipping quality information files.\n",
            "No quality information provided. Skipping quality information files.\n",
            "Creating features.tsv.gz file in spatial folder.\n",
            "Putting together the matrix.mtx file\n",
            "Total matrix count: 26275891.0\n",
            "Number of unique hexagons: 702\n",
            "Creating matrix.mtx.gz file in spatial folder.\n",
            "Putting together the filtered_feature_bc_matrix.h5 file\n",
            "No image file provided. Drawing tissue positions on a white background.\n",
            "Creating arguments.json file in output path.\n",
            "Time taken: 354.63734459877014 seconds\n",
            "Searching for temporary batch files in: /tmp\n",
            "No remaining temporary batch files found.\n",
            "/content/CosMx_nsclc_9_2/Lung9_Rep2/Lung9_Rep2-Flat_files_and_images/Lung9_Rep2_tx_file.csv\n",
            "You are using version:  ['Pseudovisium==0.0.42']\n",
            "Date:  2024-06-17\n",
            "Technology is Nanostring. Going forward with default column names.\n",
            "Quality filter is set to False\n",
            "Quality counting per hexagon is set to False\n",
            "Quality counting per probe is set to False\n",
            "Created temporary directory /tmp/tmp_hexaqsy_25tq\n",
            "Now creating batches\n",
            "Created batch 1\n",
            "Created batch 2\n",
            "Created batch 3\n",
            "Created batch 4\n",
            "Created batch 5\n",
            "Created batch 6\n",
            "Created batch 7\n",
            "Finished preprocessing. Total batches created: 7\n",
            "Processing batches using 8 processes\n"
          ]
        },
        {
          "metadata": {
            "tags": null
          },
          "name": "stderr",
          "output_type": "stream",
          "text": [
            "Processing batches: 100%|██████████| 7/7 [01:50<00:00, 15.84s/batch]\n"
          ]
        },
        {
          "metadata": {
            "tags": null
          },
          "name": "stdout",
          "output_type": "stream",
          "text": [
            "Creating pseudovisium folder in output path:/content//pseudovisium/CosMx_nsclc_9_2\n",
            "Using already existing folder: /content//pseudovisium/\n",
            "Creating scalefactors_json.json file in spatial folder.\n",
            "Creating barcodes.tsv.gz file in spatial folder.\n",
            "Creating tissue_positions_list.csv file in spatial folder.\n",
            "Creating pv_cell_hex.csv file in spatial folder.\n"
          ]
        },
        {
          "metadata": {
            "tags": null
          },
          "name": "stderr",
          "output_type": "stream",
          "text": [
            "/usr/local/lib/python3.10/dist-packages/Pseudovisium/pseudovisium_generate.py:795: SettingWithCopyWarning: \n",
            "A value is trying to be set on a copy of a slice from a DataFrame.\n",
            "Try using .loc[row_indexer,col_indexer] = value instead\n",
            "\n",
            "See the caveats in the documentation: https://pandas.pydata.org/pandas-docs/stable/user_guide/indexing.html#returning-a-view-versus-a-copy\n",
            "  hexagon_cell_counts[\"hexagon_id\"] = hexagon_cell_counts[\"hexagon_id\"] + 1\n"
          ]
        },
        {
          "metadata": {
            "tags": null
          },
          "name": "stdout",
          "output_type": "stream",
          "text": [
            "No quality information provided. Skipping quality information files.\n",
            "No quality information provided. Skipping quality information files.\n",
            "Creating features.tsv.gz file in spatial folder.\n",
            "Putting together the matrix.mtx file\n",
            "Total matrix count: 33443058.0\n",
            "Number of unique hexagons: 1596\n",
            "Creating matrix.mtx.gz file in spatial folder.\n",
            "Putting together the filtered_feature_bc_matrix.h5 file\n",
            "No image file provided. Drawing tissue positions on a white background.\n",
            "Creating arguments.json file in output path.\n",
            "Time taken: 405.74452900886536 seconds\n",
            "Searching for temporary batch files in: /tmp\n",
            "No remaining temporary batch files found.\n",
            "/content/CosMx_nsclc_12/Lung12/Lung12-Flat_files_and_images/Lung12_tx_file.csv\n",
            "You are using version:  ['Pseudovisium==0.0.42']\n",
            "Date:  2024-06-17\n",
            "Technology is Nanostring. Going forward with default column names.\n",
            "Quality filter is set to False\n",
            "Quality counting per hexagon is set to False\n",
            "Quality counting per probe is set to False\n",
            "Created temporary directory /tmp/tmp_hexajyiwbmjk\n",
            "Now creating batches\n",
            "Created batch 1\n",
            "Created batch 2\n",
            "Created batch 3\n",
            "Created batch 4\n",
            "Created batch 5\n",
            "Created batch 6\n",
            "Finished preprocessing. Total batches created: 6\n",
            "Processing batches using 8 processes\n"
          ]
        },
        {
          "metadata": {
            "tags": null
          },
          "name": "stderr",
          "output_type": "stream",
          "text": [
            "Processing batches: 100%|██████████| 6/6 [01:34<00:00, 15.70s/batch]\n"
          ]
        },
        {
          "metadata": {
            "tags": null
          },
          "name": "stdout",
          "output_type": "stream",
          "text": [
            "Creating pseudovisium folder in output path:/content//pseudovisium/CosMx_nsclc_12\n",
            "Using already existing folder: /content//pseudovisium/\n",
            "Creating scalefactors_json.json file in spatial folder.\n",
            "Creating barcodes.tsv.gz file in spatial folder.\n",
            "Creating tissue_positions_list.csv file in spatial folder.\n",
            "Creating pv_cell_hex.csv file in spatial folder.\n"
          ]
        },
        {
          "metadata": {
            "tags": null
          },
          "name": "stderr",
          "output_type": "stream",
          "text": [
            "/usr/local/lib/python3.10/dist-packages/Pseudovisium/pseudovisium_generate.py:795: SettingWithCopyWarning: \n",
            "A value is trying to be set on a copy of a slice from a DataFrame.\n",
            "Try using .loc[row_indexer,col_indexer] = value instead\n",
            "\n",
            "See the caveats in the documentation: https://pandas.pydata.org/pandas-docs/stable/user_guide/indexing.html#returning-a-view-versus-a-copy\n",
            "  hexagon_cell_counts[\"hexagon_id\"] = hexagon_cell_counts[\"hexagon_id\"] + 1\n"
          ]
        },
        {
          "metadata": {
            "tags": null
          },
          "name": "stdout",
          "output_type": "stream",
          "text": [
            "No quality information provided. Skipping quality information files.\n",
            "No quality information provided. Skipping quality information files.\n",
            "Creating features.tsv.gz file in spatial folder.\n",
            "Putting together the matrix.mtx file\n",
            "Total matrix count: 26058382.0\n",
            "Number of unique hexagons: 999\n",
            "Creating matrix.mtx.gz file in spatial folder.\n",
            "Putting together the filtered_feature_bc_matrix.h5 file\n",
            "No image file provided. Drawing tissue positions on a white background.\n",
            "Creating arguments.json file in output path.\n",
            "Time taken: 322.2542197704315 seconds\n",
            "Searching for temporary batch files in: /tmp\n",
            "No remaining temporary batch files found.\n",
            "/content/CosMx_nsclc_13/Lung13/Lung13-Flat_files_and_images/Lung13_tx_file.csv\n",
            "You are using version:  ['Pseudovisium==0.0.42']\n",
            "Date:  2024-06-17\n",
            "Technology is Nanostring. Going forward with default column names.\n",
            "Quality filter is set to False\n",
            "Quality counting per hexagon is set to False\n",
            "Quality counting per probe is set to False\n",
            "Created temporary directory /tmp/tmp_hexani0ydgqt\n",
            "Now creating batches\n",
            "Created batch 1\n",
            "Created batch 2\n",
            "Created batch 3\n",
            "Created batch 4\n",
            "Created batch 5\n",
            "Created batch 6\n",
            "Finished preprocessing. Total batches created: 6\n",
            "Processing batches using 8 processes\n"
          ]
        },
        {
          "metadata": {
            "tags": null
          },
          "name": "stderr",
          "output_type": "stream",
          "text": [
            "Processing batches: 100%|██████████| 6/6 [01:42<00:00, 17.01s/batch]\n"
          ]
        },
        {
          "metadata": {
            "tags": null
          },
          "name": "stdout",
          "output_type": "stream",
          "text": [
            "Creating pseudovisium folder in output path:/content//pseudovisium/CosMx_nsclc_13\n",
            "Using already existing folder: /content//pseudovisium/\n",
            "Creating scalefactors_json.json file in spatial folder.\n",
            "Creating barcodes.tsv.gz file in spatial folder.\n",
            "Creating tissue_positions_list.csv file in spatial folder.\n",
            "Creating pv_cell_hex.csv file in spatial folder.\n"
          ]
        },
        {
          "metadata": {
            "tags": null
          },
          "name": "stderr",
          "output_type": "stream",
          "text": [
            "/usr/local/lib/python3.10/dist-packages/Pseudovisium/pseudovisium_generate.py:795: SettingWithCopyWarning: \n",
            "A value is trying to be set on a copy of a slice from a DataFrame.\n",
            "Try using .loc[row_indexer,col_indexer] = value instead\n",
            "\n",
            "See the caveats in the documentation: https://pandas.pydata.org/pandas-docs/stable/user_guide/indexing.html#returning-a-view-versus-a-copy\n",
            "  hexagon_cell_counts[\"hexagon_id\"] = hexagon_cell_counts[\"hexagon_id\"] + 1\n"
          ]
        },
        {
          "metadata": {
            "tags": null
          },
          "name": "stdout",
          "output_type": "stream",
          "text": [
            "No quality information provided. Skipping quality information files.\n",
            "No quality information provided. Skipping quality information files.\n",
            "Creating features.tsv.gz file in spatial folder.\n",
            "Putting together the matrix.mtx file\n",
            "Total matrix count: 29995458.0\n",
            "Number of unique hexagons: 702\n",
            "Creating matrix.mtx.gz file in spatial folder.\n",
            "Putting together the filtered_feature_bc_matrix.h5 file\n",
            "No image file provided. Drawing tissue positions on a white background.\n",
            "Creating arguments.json file in output path.\n",
            "Time taken: 359.30151987075806 seconds\n",
            "Searching for temporary batch files in: /tmp\n",
            "No remaining temporary batch files found.\n"
          ]
        }
      ],
      "source": [
        "from Pseudovisium.pseudovisium_generate import generate_pv\n",
        "output_path=\"/content/\"\n",
        "hexagon_size=50\n",
        "max_workers=10\n",
        "\n",
        "for i in range(len(datasets_to_use)):\n",
        "    name = datasets_to_use[\"Name\"].values[i]\n",
        "    csv_file = find_csv_with_transcript(\"/content/\"+name+\"/\")\n",
        "    print(csv_file)\n",
        "\n",
        "    #getting unique cell names for old SMI data\n",
        "    df = pd.read_csv(csv_file)\n",
        "\n",
        "    # Create a new column called 'cell' by concatenating 'fov' and 'cell_ID' columns\n",
        "    df['cell'] = df['fov'].astype(str) + '_' + df['cell_ID'].astype(str)\n",
        "\n",
        "    # Save the updated DataFrame back to the original CSV file\n",
        "    df.to_csv(csv_file, index=False)\n",
        "\n",
        "    generate_pv(csv_file=csv_file,\n",
        "                hexagon_size=hexagon_size,\n",
        "                output_path=output_path,\n",
        "                batch_size=5000000,\n",
        "                technology=\"Nanostring\",\n",
        "                max_workers=max_workers,\n",
        "                project_name=name,\n",
        "                coord_to_um_conversion=0.18,\n",
        "                shift_to_positive=True)\n"
      ]
    },
    {
      "cell_type": "markdown",
      "source": [
        "Getting a list of pseudovisium folders to input into the QC."
      ],
      "metadata": {
        "id": "VGrX6yHcmHJ-"
      }
    },
    {
      "cell_type": "code",
      "execution_count": 7,
      "metadata": {
        "colab": {
          "base_uri": "https://localhost:8080/"
        },
        "id": "WJ62ulL_CbGC",
        "outputId": "c45523fc-92fa-4533-c58f-faaad24a3398"
      },
      "outputs": [
        {
          "data": {
            "text/plain": [
              "['/content/pseudovisium/CosMx_nsclc_5_2',\n",
              " '/content/pseudovisium/CosMx_nsclc_5_3',\n",
              " '/content/pseudovisium/CosMx_nsclc_5_1',\n",
              " '/content/pseudovisium/CosMx_nsclc_9_2',\n",
              " '/content/pseudovisium/CosMx_nsclc_12',\n",
              " '/content/pseudovisium/CosMx_nsclc_13',\n",
              " '/content/pseudovisium/CosMx_nsclc_9_1',\n",
              " '/content/pseudovisium/CosMx_nsclc_6']"
            ]
          },
          "execution_count": 7,
          "metadata": {},
          "output_type": "execute_result"
        }
      ],
      "source": [
        "import os\n",
        "directory = \"/content/pseudovisium/\"\n",
        "# Get a list of all subfolders in the directory with their full paths\n",
        "folders = [os.path.join(directory, f) for f in os.listdir(directory) if os.path.isdir(os.path.join(directory, f))]\n",
        "folders"
      ]
    },
    {
      "cell_type": "markdown",
      "source": [
        "Running the QC via pseudovisium_qc"
      ],
      "metadata": {
        "id": "1gAiAB5bmJvg"
      }
    },
    {
      "cell_type": "code",
      "execution_count": 8,
      "metadata": {
        "colab": {
          "base_uri": "https://localhost:8080/",
          "height": 1000,
          "referenced_widgets": [
            "7c86413dcacb41e8a4ac954cbe87a0a2",
            "c34b98402d2840ac911f7a2710b7ab08",
            "e4b51de084464f1b87af6cd294c168ae",
            "5fe163954ac64ca6b93aa4e0463dc260",
            "f40bc3d131e14257a03c5914158ff083",
            "65cf6a6cd4944d5fb99cf913516e2112",
            "aff8c525b4ba4dfda2960a2345509ffb",
            "d4aad36c98d64aa59f746bfd69ef493e"
          ]
        },
        "id": "p8TSF-zEQBxO",
        "outputId": "ab666bd6-f522-433c-94a5-249a0d7c4b0d"
      },
      "outputs": [
        {
          "metadata": {
            "tags": null
          },
          "name": "stderr",
          "output_type": "stream",
          "text": [
            "/usr/local/lib/python3.10/dist-packages/spaghetti/network.py:42: FutureWarning: The next major release of pysal/spaghetti (2.0.0) will drop support for all ``libpysal.cg`` geometries. This change is a first step in refactoring ``spaghetti`` that is expected to result in dramatically reduced runtimes for network instantiation and operations. Users currently requiring network and point pattern input as ``libpysal.cg`` geometries should prepare for this simply by converting to ``shapely`` geometries.\n",
            "  warnings.warn(dep_msg, FutureWarning, stacklevel=1)\n"
          ]
        },
        {
          "metadata": {
            "tags": null
          },
          "name": "stdout",
          "output_type": "stream",
          "text": [
            "Plots will be saved\n",
            "Going ahead with the squidpy implementation. Only worth doing for large datasets.\n",
            "Loading squidpy and scanpy\n"
          ]
        },
        {
          "metadata": {
            "tags": null
          },
          "name": "stderr",
          "output_type": "stream",
          "text": [
            "\rProcessing folders:   0%|          | 0/8 [00:00<?, ?it/s]"
          ]
        },
        {
          "metadata": {
            "tags": null
          },
          "name": "stdout",
          "output_type": "stream",
          "text": [
            "folder /content/pseudovisium/CosMx_nsclc_5_2/\n",
            "Filtering genes and cells\n",
            "Normalizing and logging data\n",
            "Calculating spatial neighbors\n",
            "Calculating Moran's I\n"
          ]
        },
        {
          "data": {
            "application/vnd.jupyter.widget-view+json": {
              "model_id": "7c86413dcacb41e8a4ac954cbe87a0a2",
              "version_major": 2,
              "version_minor": 0
            },
            "text/plain": [
              "  0%|          | 0/1 [00:00<?, ?/s]"
            ]
          },
          "metadata": {},
          "output_type": "display_data"
        },
        {
          "metadata": {
            "tags": null
          },
          "name": "stderr",
          "output_type": "stream",
          "text": [
            "\rProcessing folders:  12%|█▎        | 1/8 [00:37<04:20, 37.22s/it]"
          ]
        },
        {
          "metadata": {
            "tags": null
          },
          "name": "stdout",
          "output_type": "stream",
          "text": [
            "folder /content/pseudovisium/CosMx_nsclc_5_3/\n",
            "Filtering genes and cells\n",
            "Normalizing and logging data\n",
            "Calculating spatial neighbors\n",
            "Calculating Moran's I\n"
          ]
        },
        {
          "data": {
            "application/vnd.jupyter.widget-view+json": {
              "model_id": "c34b98402d2840ac911f7a2710b7ab08",
              "version_major": 2,
              "version_minor": 0
            },
            "text/plain": [
              "  0%|          | 0/1 [00:00<?, ?/s]"
            ]
          },
          "metadata": {},
          "output_type": "display_data"
        },
        {
          "metadata": {
            "tags": null
          },
          "name": "stderr",
          "output_type": "stream",
          "text": [
            "\rProcessing folders:  25%|██▌       | 2/8 [01:04<03:08, 31.44s/it]"
          ]
        },
        {
          "metadata": {
            "tags": null
          },
          "name": "stdout",
          "output_type": "stream",
          "text": [
            "folder /content/pseudovisium/CosMx_nsclc_5_1/\n",
            "Filtering genes and cells\n",
            "Normalizing and logging data\n",
            "Calculating spatial neighbors\n",
            "Calculating Moran's I\n"
          ]
        },
        {
          "data": {
            "application/vnd.jupyter.widget-view+json": {
              "model_id": "e4b51de084464f1b87af6cd294c168ae",
              "version_major": 2,
              "version_minor": 0
            },
            "text/plain": [
              "  0%|          | 0/1 [00:00<?, ?/s]"
            ]
          },
          "metadata": {},
          "output_type": "display_data"
        },
        {
          "metadata": {
            "tags": null
          },
          "name": "stderr",
          "output_type": "stream",
          "text": [
            "\rProcessing folders:  38%|███▊      | 3/8 [01:32<02:28, 29.74s/it]"
          ]
        },
        {
          "metadata": {
            "tags": null
          },
          "name": "stdout",
          "output_type": "stream",
          "text": [
            "folder /content/pseudovisium/CosMx_nsclc_9_2/\n",
            "Filtering genes and cells\n",
            "Normalizing and logging data\n",
            "Calculating spatial neighbors\n",
            "Calculating Moran's I\n"
          ]
        },
        {
          "data": {
            "application/vnd.jupyter.widget-view+json": {
              "model_id": "5fe163954ac64ca6b93aa4e0463dc260",
              "version_major": 2,
              "version_minor": 0
            },
            "text/plain": [
              "  0%|          | 0/1 [00:00<?, ?/s]"
            ]
          },
          "metadata": {},
          "output_type": "display_data"
        },
        {
          "metadata": {
            "tags": null
          },
          "name": "stderr",
          "output_type": "stream",
          "text": [
            "\rProcessing folders:  50%|█████     | 4/8 [02:07<02:06, 31.73s/it]"
          ]
        },
        {
          "metadata": {
            "tags": null
          },
          "name": "stdout",
          "output_type": "stream",
          "text": [
            "folder /content/pseudovisium/CosMx_nsclc_12/\n",
            "Filtering genes and cells\n",
            "Normalizing and logging data\n",
            "Calculating spatial neighbors\n",
            "Calculating Moran's I\n"
          ]
        },
        {
          "data": {
            "application/vnd.jupyter.widget-view+json": {
              "model_id": "f40bc3d131e14257a03c5914158ff083",
              "version_major": 2,
              "version_minor": 0
            },
            "text/plain": [
              "  0%|          | 0/1 [00:00<?, ?/s]"
            ]
          },
          "metadata": {},
          "output_type": "display_data"
        },
        {
          "metadata": {
            "tags": null
          },
          "name": "stderr",
          "output_type": "stream",
          "text": [
            "\rProcessing folders:  62%|██████▎   | 5/8 [02:32<01:28, 29.49s/it]"
          ]
        },
        {
          "metadata": {
            "tags": null
          },
          "name": "stdout",
          "output_type": "stream",
          "text": [
            "folder /content/pseudovisium/CosMx_nsclc_13/\n",
            "Filtering genes and cells\n",
            "Normalizing and logging data\n",
            "Calculating spatial neighbors\n",
            "Calculating Moran's I\n"
          ]
        },
        {
          "data": {
            "application/vnd.jupyter.widget-view+json": {
              "model_id": "65cf6a6cd4944d5fb99cf913516e2112",
              "version_major": 2,
              "version_minor": 0
            },
            "text/plain": [
              "  0%|          | 0/1 [00:00<?, ?/s]"
            ]
          },
          "metadata": {},
          "output_type": "display_data"
        },
        {
          "metadata": {
            "tags": null
          },
          "name": "stderr",
          "output_type": "stream",
          "text": [
            "\rProcessing folders:  75%|███████▌  | 6/8 [02:55<00:54, 27.18s/it]"
          ]
        },
        {
          "metadata": {
            "tags": null
          },
          "name": "stdout",
          "output_type": "stream",
          "text": [
            "folder /content/pseudovisium/CosMx_nsclc_9_1/\n",
            "Filtering genes and cells\n",
            "Normalizing and logging data\n",
            "Calculating spatial neighbors\n",
            "Calculating Moran's I\n"
          ]
        },
        {
          "data": {
            "application/vnd.jupyter.widget-view+json": {
              "model_id": "aff8c525b4ba4dfda2960a2345509ffb",
              "version_major": 2,
              "version_minor": 0
            },
            "text/plain": [
              "  0%|          | 0/1 [00:00<?, ?/s]"
            ]
          },
          "metadata": {},
          "output_type": "display_data"
        },
        {
          "metadata": {
            "tags": null
          },
          "name": "stderr",
          "output_type": "stream",
          "text": [
            "\rProcessing folders:  88%|████████▊ | 7/8 [03:28<00:29, 29.22s/it]"
          ]
        },
        {
          "metadata": {
            "tags": null
          },
          "name": "stdout",
          "output_type": "stream",
          "text": [
            "folder /content/pseudovisium/CosMx_nsclc_6/\n",
            "Filtering genes and cells\n",
            "Normalizing and logging data\n",
            "Calculating spatial neighbors\n",
            "Calculating Moran's I\n"
          ]
        },
        {
          "data": {
            "application/vnd.jupyter.widget-view+json": {
              "model_id": "d4aad36c98d64aa59f746bfd69ef493e",
              "version_major": 2,
              "version_minor": 0
            },
            "text/plain": [
              "  0%|          | 0/1 [00:00<?, ?/s]"
            ]
          },
          "metadata": {},
          "output_type": "display_data"
        },
        {
          "metadata": {
            "tags": null
          },
          "name": "stderr",
          "output_type": "stream",
          "text": [
            "Processing folders: 100%|██████████| 8/8 [04:09<00:00, 31.25s/it]\n"
          ]
        },
        {
          "metadata": {
            "tags": null
          },
          "name": "stdout",
          "output_type": "stream",
          "text": [
            "Warning: Some datasets lack quality per hexagon.\n",
            "        Consider removing these datasets from analysis: ['CosMx_nsclc_5_2', 'CosMx_nsclc_5_3', 'CosMx_nsclc_5_1', 'CosMx_nsclc_9_2', 'CosMx_nsclc_12', 'CosMx_nsclc_13', 'CosMx_nsclc_9_1', 'CosMx_nsclc_6']\n",
            "Warning: Some datasets lack quality per probe.\n",
            "        Consider removing these datasets from analysis: ['CosMx_nsclc_5_2', 'CosMx_nsclc_5_3', 'CosMx_nsclc_5_1', 'CosMx_nsclc_9_2', 'CosMx_nsclc_12', 'CosMx_nsclc_13', 'CosMx_nsclc_9_1', 'CosMx_nsclc_6']\n",
            "include_morans_i:  True\n",
            "quality_per_hexagon:  False\n",
            "quality_per_probe:  False\n",
            "cell_info:  True\n",
            "You are using version:  ['Pseudovisium==0.0.42']\n",
            "Date:  2024-06-17\n",
            "HTML file generated successfully!\n"
          ]
        }
      ],
      "source": [
        "from Pseudovisium.pseudovisium_qc import generate_qc_report\n",
        "output_folder=\"/content/\"\n",
        "gene_names=[\"Kitl\",\"Fstl5\",\"Slit2\"]\n",
        "generate_qc_report(folders,\n",
        "                   output_folder,\n",
        "                   gene_names,\n",
        "                   include_morans_i=True,\n",
        "                   max_workers=10,\n",
        "                   normalisation=True,\n",
        "                   save_plots=True,\n",
        "                   squidpy=True)"
      ]
    },
    {
      "cell_type": "markdown",
      "source": [
        "Generating the plot from the paper."
      ],
      "metadata": {
        "id": "ljx9ZqRBmOYy"
      }
    },
    {
      "cell_type": "code",
      "execution_count": 9,
      "metadata": {
        "colab": {
          "base_uri": "https://localhost:8080/",
          "height": 593
        },
        "id": "VOmRN95GeGAR",
        "outputId": "0991d8d1-f76f-43a0-feea-b330879b2cf3"
      },
      "outputs": [
        {
          "metadata": {
            "tags": null
          },
          "name": "stderr",
          "output_type": "stream",
          "text": [
            "<ipython-input-9-d63501fa2fd1>:42: UserWarning: FixedFormatter should only be used together with FixedLocator\n",
            "  axes[-1].set_xticklabels(axes[-1].get_xticklabels(), rotation=90, fontsize=10)\n"
          ]
        },
        {
          "data": {
            "image/png": "[encoded data removed]",
            "text/plain": [
              "<Figure size 500x550 with 5 Axes>"
            ]
          },
          "metadata": {},
          "output_type": "display_data"
        }
      ],
      "source": [
        "import pandas as pd\n",
        "import seaborn as sns\n",
        "import matplotlib.pyplot as plt\n",
        "\n",
        "data = pd.read_csv(\"/content/pv_qc_2024-06-17/metrics_table.csv\")\n",
        "\n",
        "# Sort the DataFrame by 'Dataset' column alphabetically\n",
        "data = data.sort_values('Dataset')\n",
        "\n",
        "fig, axes = plt.subplots(5, 1, figsize=(5, 5.5), sharex=True)\n",
        "\n",
        "# Define a color palette with four distinct colors\n",
        "colors = sns.color_palette(\"Blues\", 8)[3:]\n",
        "\n",
        "# Bar chart 1: Median counts per hexagon\n",
        "sns.barplot(x='Dataset', y='Median counts per hexagon', data=data, ax=axes[0], color=colors[0])\n",
        "axes[0].tick_params(axis='y', labelsize=10)\n",
        "axes[0].set_ylabel('Median counts', fontsize=10, labelpad=10)\n",
        "\n",
        "# Bar chart 2: Median density (cells per hexagon)\n",
        "sns.barplot(x='Dataset', y='Median density (cells per hexagon)', data=data, ax=axes[1], color=colors[1])\n",
        "axes[1].tick_params(axis='y', labelsize=10, left=False, right=True, labelleft=False, labelright=True)\n",
        "axes[1].set_ylabel('Median density', fontsize=10, labelpad=10)\n",
        "axes[1].yaxis.set_label_position(\"right\")\n",
        "\n",
        "# Bar chart 3: Number of bad probes (Sum)\n",
        "sns.barplot(x='Dataset', y='Number of bad probes (Sum)', data=data, ax=axes[2], color=colors[2])\n",
        "axes[2].tick_params(axis='y', labelsize=10)\n",
        "axes[2].set_ylabel('Bad probes (Sum)', fontsize=10, labelpad=10)\n",
        "\n",
        "# Bar chart 4: Number of bad probes (Morans I)\n",
        "sns.barplot(x='Dataset', y='Number of bad probes (Morans I)', data=data, ax=axes[3], color=colors[3])\n",
        "axes[3].tick_params(axis='y', labelsize=10, left=False, right=True, labelleft=False, labelright=True)\n",
        "axes[3].set_ylabel(\"Bad probes (M's I)\", fontsize=10, labelpad=10)\n",
        "axes[3].yaxis.set_label_position(\"right\")\n",
        "\n",
        "sns.barplot(x='Dataset', y='Median pct unassigned', data=data, ax=axes[4], color=colors[4])\n",
        "axes[4].tick_params(axis='y', labelsize=10)\n",
        "axes[4].set_ylabel(\"Unassigned\", fontsize=10, labelpad=10)\n",
        "\n",
        "# Set x-tick labels and rotate them\n",
        "axes[-1].set_xticklabels(axes[-1].get_xticklabels(), rotation=90, fontsize=10)\n",
        "axes[-1].set_xlabel('')\n",
        "\n",
        "plt.tight_layout()\n",
        "plt.savefig(\"barplot_cosmx.svg\")\n",
        "plt.show()"
      ]
    },
    {
      "cell_type": "markdown",
      "source": [
        "Outputting the package versions."
      ],
      "metadata": {
        "id": "PqIf0QEmmRGF"
      }
    },
    {
      "cell_type": "code",
      "execution_count": 10,
      "metadata": {
        "colab": {
          "base_uri": "https://localhost:8080/"
        },
        "id": "ZUJQNY_Wve-y",
        "outputId": "1d6b892e-a932-4721-84e5-1a45c886925a"
      },
      "outputs": [
        {
          "metadata": {
            "tags": null
          },
          "name": "stdout",
          "output_type": "stream",
          "text": [
            "Installed packages:\n",
            "absl-py==1.4.0\n",
            "access==1.1.9\n",
            "adjustText==1.1.1\n",
            "affine==2.4.0\n",
            "aiobotocore==2.5.4\n",
            "aiohttp==3.9.5\n",
            "aioitertools==0.11.0\n",
            "aiosignal==1.3.1\n",
            "alabaster==0.7.16\n",
            "albumentations==1.3.1\n",
            "altair==4.2.2\n",
            "anndata==0.10.7\n",
            "annotated-types==0.7.0\n",
            "anyio==3.7.1\n",
            "argon2-cffi==23.1.0\n",
            "argon2-cffi-bindings==21.2.0\n",
            "array_api_compat==1.7.1\n",
            "array_record==0.5.1\n",
            "arviz==0.15.1\n",
            "asciitree==0.3.3\n",
            "astropy==5.3.4\n",
            "astunparse==1.6.3\n",
            "async-timeout==4.0.3\n",
            "atpublic==4.1.0\n",
            "attrs==23.2.0\n",
            "audioread==3.0.1\n",
            "autograd==1.6.2\n",
            "Babel==2.15.0\n",
            "backcall==0.2.0\n",
            "beautifulsoup4==4.12.3\n",
            "bidict==0.23.1\n",
            "bigframes==1.8.0\n",
            "bleach==6.1.0\n",
            "blinker==1.4\n",
            "blis==0.7.11\n",
            "blosc2==2.0.0\n",
            "bokeh==3.3.4\n",
            "botocore==1.31.17\n",
            "bqplot==0.12.43\n",
            "branca==0.7.2\n",
            "build==1.2.1\n",
            "CacheControl==0.14.0\n",
            "cachetools==5.3.3\n",
            "catalogue==2.0.10\n",
            "certifi==2024.6.2\n",
            "cffi==1.16.0\n",
            "chardet==5.2.0\n",
            "charset-normalizer==3.3.2\n",
            "chex==0.1.86\n",
            "click==8.1.7\n",
            "click-plugins==1.1.1\n",
            "cligj==0.7.2\n",
            "cloudpathlib==0.18.1\n",
            "cloudpickle==2.2.1\n",
            "cmake==3.27.9\n",
            "cmdstanpy==1.2.3\n",
            "colorcet==3.1.0\n",
            "colorlover==0.3.0\n",
            "colour==0.1.5\n",
            "community==1.0.0b1\n",
            "confection==0.1.5\n",
            "cons==0.4.6\n",
            "contextlib2==21.6.0\n",
            "contourpy==1.2.1\n",
            "cryptography==42.0.8\n",
            "cuda-python==12.2.1\n",
            "cudf-cu12 @ https://pypi.nvidia.com/cudf-cu12/cudf_cu12-24.4.1-cp310-cp310-manylinux_2_28_x86_64.whl#sha256=57366e7ef09dc63e0b389aff20df6c37d91e2790065861ee31a4720149f5b694\n",
            "cufflinks==0.17.3\n",
            "cupy-cuda12x==12.2.0\n",
            "cvxopt==1.3.2\n",
            "cvxpy==1.3.4\n",
            "cycler==0.12.1\n",
            "cymem==2.0.8\n",
            "Cython==3.0.10\n",
            "dask==2024.6.0\n",
            "dask-expr==1.1.3\n",
            "dask-image==2024.5.3\n",
            "datascience==0.17.6\n",
            "datashader==0.16.2\n",
            "db-dtypes==1.2.0\n",
            "dbus-python==1.2.18\n",
            "debugpy==1.6.6\n",
            "decorator==4.4.2\n",
            "defusedxml==0.7.1\n",
            "deprecation==2.1.0\n",
            "distributed==2024.6.0\n",
            "distro==1.7.0\n",
            "dlib==19.24.4\n",
            "dm-tree==0.1.8\n",
            "docrep==0.3.2\n",
            "docstring_parser==0.16\n",
            "docutils==0.18.1\n",
            "dopamine_rl==4.0.9\n",
            "duckdb==0.10.3\n",
            "earthengine-api==0.1.406\n",
            "easydict==1.13\n",
            "ecos==2.0.13\n",
            "editdistance==0.6.2\n",
            "eerepr==0.0.4\n",
            "en-core-web-sm @ https://github.com/explosion/spacy-models/releases/download/en_core_web_sm-3.7.1/en_core_web_sm-3.7.1-py3-none-any.whl#sha256=86cc141f63942d4b2c5fcee06630fd6f904788d2f0ab005cce45aadb8fb73889\n",
            "entrypoints==0.4\n",
            "esda==2.5.1\n",
            "et-xmlfile==1.1.0\n",
            "etils==1.7.0\n",
            "etuples==0.3.9\n",
            "exceptiongroup==1.2.1\n",
            "fastai==2.7.15\n",
            "fastcore==1.5.45\n",
            "fastdownload==0.0.7\n",
            "fasteners==0.19\n",
            "fastjsonschema==2.19.1\n",
            "fastprogress==1.0.3\n",
            "fastrlock==0.8.2\n",
            "filelock==3.14.0\n",
            "fiona==1.9.6\n",
            "firebase-admin==5.3.0\n",
            "Flask==2.2.5\n",
            "flatbuffers==24.3.25\n",
            "flax==0.8.4\n",
            "folium==0.14.0\n",
            "fonttools==4.53.0\n",
            "frozendict==2.4.4\n",
            "frozenlist==1.4.1\n",
            "fsspec==2023.6.0\n",
            "future==0.18.3\n",
            "gast==0.5.4\n",
            "gcsfs==2023.6.0\n",
            "GDAL==3.6.4\n",
            "gdown==5.1.0\n",
            "geemap==0.32.1\n",
            "gensim==4.3.2\n",
            "geocoder==1.38.1\n",
            "geographiclib==2.0\n",
            "geopandas==0.13.2\n",
            "geopy==2.3.0\n",
            "giddy==2.3.5\n",
            "gin-config==0.5.0\n",
            "glob2==0.7\n",
            "google==2.0.3\n",
            "google-ai-generativelanguage==0.6.4\n",
            "google-api-core==2.11.1\n",
            "google-api-python-client==2.84.0\n",
            "google-auth==2.27.0\n",
            "google-auth-httplib2==0.1.1\n",
            "google-auth-oauthlib==1.2.0\n",
            "google-cloud-aiplatform==1.54.1\n",
            "google-cloud-bigquery==3.21.0\n",
            "google-cloud-bigquery-connection==1.12.1\n",
            "google-cloud-bigquery-storage==2.25.0\n",
            "google-cloud-core==2.3.3\n",
            "google-cloud-datastore==2.15.2\n",
            "google-cloud-firestore==2.11.1\n",
            "google-cloud-functions==1.13.3\n",
            "google-cloud-iam==2.15.0\n",
            "google-cloud-language==2.13.3\n",
            "google-cloud-resource-manager==1.12.3\n",
            "google-cloud-storage==2.8.0\n",
            "google-cloud-translate==3.11.3\n",
            "google-colab @ file:///colabtools/dist/google-colab-1.0.0.tar.gz#sha256=f064c937ed4e3644f84c6a354d173888ec263351bd0ef24e86f8768672164670\n",
            "google-crc32c==1.5.0\n",
            "google-generativeai==0.5.4\n",
            "google-pasta==0.2.0\n",
            "google-resumable-media==2.7.0\n",
            "googleapis-common-protos==1.63.1\n",
            "googledrivedownloader==0.4\n",
            "graphviz==0.20.3\n",
            "greenlet==3.0.3\n",
            "grpc-google-iam-v1==0.13.0\n",
            "grpcio==1.64.1\n",
            "grpcio-status==1.48.2\n",
            "gspread==6.0.2\n",
            "gspread-dataframe==3.3.1\n",
            "gym==0.25.2\n",
            "gym-notices==0.0.8\n",
            "h5netcdf==1.3.0\n",
            "h5py==3.9.0\n",
            "holidays==0.50\n",
            "holoviews==1.17.1\n",
            "html5lib==1.1\n",
            "httpimport==1.3.1\n",
            "httplib2==0.22.0\n",
            "huggingface-hub==0.23.3\n",
            "humanize==4.7.0\n",
            "hyperopt==0.2.7\n",
            "ibis-framework==8.0.0\n",
            "idna==3.7\n",
            "igraph==0.11.5\n",
            "imageio==2.34.1\n",
            "imageio-ffmpeg==0.5.1\n",
            "imagesize==1.4.1\n",
            "imbalanced-learn==0.10.1\n",
            "imgaug==0.4.0\n",
            "immutabledict==4.2.0\n",
            "importlib_metadata==7.1.0\n",
            "importlib_resources==6.4.0\n",
            "imutils==0.5.4\n",
            "inequality==1.0.1\n",
            "inflect==7.0.0\n",
            "iniconfig==2.0.0\n",
            "intel-openmp==2023.2.4\n",
            "ipyevents==2.0.2\n",
            "ipyfilechooser==0.6.0\n",
            "ipykernel==5.5.6\n",
            "ipyleaflet==0.18.2\n",
            "ipython==7.34.0\n",
            "ipython-genutils==0.2.0\n",
            "ipython-sql==0.5.0\n",
            "ipytree==0.2.2\n",
            "ipywidgets==7.7.1\n",
            "itsdangerous==2.2.0\n",
            "jax==0.4.26\n",
            "jaxlib @ https://storage.googleapis.com/jax-releases/cuda12/jaxlib-0.4.26+cuda12.cudnn89-cp310-cp310-manylinux2014_x86_64.whl#sha256=813cf1fe3e7ca4dbf5327d6e7b4fc8521e92d8bba073ee645ae0d5d036a25750\n",
            "jeepney==0.7.1\n",
            "jellyfish==1.0.4\n",
            "jieba==0.42.1\n",
            "Jinja2==3.1.4\n",
            "jmespath==1.0.1\n",
            "joblib==1.4.2\n",
            "jsonpickle==3.2.1\n",
            "jsonschema==4.19.2\n",
            "jsonschema-specifications==2023.12.1\n",
            "jupyter-client==6.1.12\n",
            "jupyter-console==6.1.0\n",
            "jupyter-server==1.24.0\n",
            "jupyter_core==5.7.2\n",
            "jupyterlab_pygments==0.3.0\n",
            "jupyterlab_widgets==3.0.11\n",
            "kaggle==1.6.14\n",
            "kagglehub==0.2.6\n",
            "keras==2.15.0\n",
            "keyring==23.5.0\n",
            "kiwisolver==1.4.5\n",
            "langcodes==3.4.0\n",
            "language_data==1.2.0\n",
            "launchpadlib==1.10.16\n",
            "lazr.restfulclient==0.14.4\n",
            "lazr.uri==1.0.6\n",
            "lazy_loader==0.4\n",
            "legacy-api-wrap==1.4\n",
            "leidenalg==0.10.2\n",
            "libclang==18.1.1\n",
            "libpysal==4.11.0\n",
            "librosa==0.10.2.post1\n",
            "lightgbm==4.1.0\n",
            "linkify-it-py==2.0.3\n",
            "llvmlite==0.41.1\n",
            "locket==1.0.0\n",
            "logical-unification==0.4.6\n",
            "lxml==4.9.4\n",
            "malloy==2023.1067\n",
            "mapclassify==2.6.1\n",
            "marisa-trie==1.2.0\n",
            "Markdown==3.6\n",
            "markdown-it-py==3.0.0\n",
            "MarkupSafe==2.1.5\n",
            "matplotlib==3.7.1\n",
            "matplotlib-inline==0.1.7\n",
            "matplotlib-scalebar==0.8.1\n",
            "matplotlib-venn==0.11.10\n",
            "mdit-py-plugins==0.4.1\n",
            "mdurl==0.1.2\n",
            "mgwr==2.2.1\n",
            "miniKanren==1.0.3\n",
            "missingno==0.5.2\n",
            "mistune==0.8.4\n",
            "mizani==0.9.3\n",
            "mkl==2023.2.0\n",
            "ml-dtypes==0.2.0\n",
            "mlxtend==0.22.0\n",
            "momepy==0.7.0\n",
            "more-itertools==10.1.0\n",
            "moviepy==1.0.3\n",
            "mpmath==1.3.0\n",
            "msgpack==1.0.8\n",
            "multidict==6.0.5\n",
            "multipledispatch==1.0.0\n",
            "multiscale_spatial_image==0.11.2\n",
            "multitasking==0.0.11\n",
            "murmurhash==1.0.10\n",
            "music21==9.1.0\n",
            "natsort==8.4.0\n",
            "nbclassic==1.1.0\n",
            "nbclient==0.10.0\n",
            "nbconvert==6.5.4\n",
            "nbformat==5.10.4\n",
            "nest-asyncio==1.6.0\n",
            "networkx==3.3\n",
            "nibabel==4.0.2\n",
            "nltk==3.8.1\n",
            "notebook==6.5.5\n",
            "notebook_shim==0.2.4\n",
            "numba==0.58.1\n",
            "numcodecs==0.12.1\n",
            "numexpr==2.10.0\n",
            "numpy==1.25.2\n",
            "nvtx==0.2.10\n",
            "oauth2client==4.1.3\n",
            "oauthlib==3.2.2\n",
            "ome-zarr==0.9.0\n",
            "omnipath==1.0.8\n",
            "opencv-contrib-python==4.8.0.76\n",
            "opencv-python==4.8.0.76\n",
            "opencv-python-headless==4.10.0.82\n",
            "openpyxl==3.1.3\n",
            "opt-einsum==3.3.0\n",
            "optax==0.2.2\n",
            "orbax-checkpoint==0.4.4\n",
            "osqp==0.6.2.post8\n",
            "packaging==24.1\n",
            "pandas==2.2.2\n",
            "pandas-datareader==0.10.0\n",
            "pandas-gbq==0.19.2\n",
            "pandas-stubs==2.0.3.230814\n",
            "pandocfilters==1.5.1\n",
            "panel==1.3.8\n",
            "param==2.1.0\n",
            "parso==0.8.4\n",
            "parsy==2.1\n",
            "partd==1.4.2\n",
            "pathlib==1.0.1\n",
            "patsy==0.5.6\n",
            "peewee==3.17.5\n",
            "pexpect==4.9.0\n",
            "pickleshare==0.7.5\n",
            "Pillow==9.4.0\n",
            "PIMS==0.7\n",
            "pip-tools==6.13.0\n",
            "platformdirs==4.2.2\n",
            "plotly==5.15.0\n",
            "plotnine==0.12.4\n",
            "pluggy==1.5.0\n",
            "pointpats==2.4.0\n",
            "polars==0.20.2\n",
            "pooch==1.8.2\n",
            "portpicker==1.5.2\n",
            "prefetch-generator==1.0.3\n",
            "preshed==3.0.9\n",
            "prettytable==3.10.0\n",
            "proglog==0.1.10\n",
            "progressbar2==4.2.0\n",
            "prometheus_client==0.20.0\n",
            "promise==2.3\n",
            "prompt_toolkit==3.0.47\n",
            "prophet==1.1.5\n",
            "proto-plus==1.23.0\n",
            "protobuf==3.20.3\n",
            "Pseudovisium==0.0.42\n",
            "psutil==5.9.5\n",
            "psycopg2==2.9.9\n",
            "ptyprocess==0.7.0\n",
            "PuLP==2.8.0\n",
            "py-cpuinfo==9.0.0\n",
            "py4j==0.10.9.7\n",
            "pyarrow==14.0.2\n",
            "pyarrow-hotfix==0.6\n",
            "pyasn1==0.6.0\n",
            "pyasn1_modules==0.4.0\n",
            "pycocotools==2.0.7\n",
            "pycparser==2.22\n",
            "pyct==0.5.0\n",
            "pydantic==2.7.3\n",
            "pydantic_core==2.18.4\n",
            "pydata-google-auth==1.8.2\n",
            "pydot==1.4.2\n",
            "pydot-ng==2.0.0\n",
            "pydotplus==2.0.2\n",
            "PyDrive==1.3.1\n",
            "PyDrive2==1.6.3\n",
            "pyerfa==2.0.1.4\n",
            "pygame==2.5.2\n",
            "pygeos==0.14\n",
            "Pygments==2.16.1\n",
            "PyGObject==3.42.1\n",
            "PyJWT==2.3.0\n",
            "pymc==5.10.4\n",
            "Pympler==1.0.1\n",
            "pymystem3==0.2.0\n",
            "pynndescent==0.5.13\n",
            "pynvjitlink-cu12==0.2.3\n",
            "PyOpenGL==3.1.7\n",
            "pyOpenSSL==24.1.0\n",
            "pyparsing==3.1.2\n",
            "pyperclip==1.8.2\n",
            "pyproj==3.6.1\n",
            "pyproject_hooks==1.1.0\n",
            "pysal==24.1\n",
            "pyshp==2.3.1\n",
            "PySocks==1.7.1\n",
            "pytensor==2.18.6\n",
            "pytest==7.4.4\n",
            "python-apt @ file:///backend-container/containers/python_apt-0.0.0-cp310-cp310-linux_x86_64.whl#sha256=b209c7165d6061963abe611492f8c91c3bcef4b7a6600f966bab58900c63fefa\n",
            "python-box==7.1.1\n",
            "python-dateutil==2.8.2\n",
            "python-louvain==0.16\n",
            "python-slugify==8.0.4\n",
            "python-utils==3.8.2\n",
            "pytz==2023.4\n",
            "pyviz_comms==3.0.2\n",
            "PyWavelets==1.6.0\n",
            "PyYAML==6.0.1\n",
            "pyzmq==24.0.1\n",
            "qdldl==0.1.7.post2\n",
            "quantecon==0.7.2\n",
            "qudida==0.0.4\n",
            "rasterio==1.3.10\n",
            "rasterstats==0.19.0\n",
            "ratelim==0.1.6\n",
            "referencing==0.35.1\n",
            "regex==2024.5.15\n",
            "requests==2.31.0\n",
            "requests-oauthlib==1.3.1\n",
            "requirements-parser==0.9.0\n",
            "rich==13.7.1\n",
            "rmm-cu12==24.4.0\n",
            "rpds-py==0.18.1\n",
            "rpy2==3.4.2\n",
            "rsa==4.9\n",
            "Rtree==1.2.0\n",
            "s3fs==2023.6.0\n",
            "safetensors==0.4.3\n",
            "scanpy==1.10.1\n",
            "scikit-image==0.23.2\n",
            "scikit-learn==1.2.2\n",
            "scipy==1.11.4\n",
            "scooby==0.10.0\n",
            "scs==3.2.4.post2\n",
            "seaborn==0.13.1\n",
            "SecretStorage==3.3.1\n",
            "segregation==2.5\n",
            "Send2Trash==1.8.3\n",
            "sentencepiece==0.1.99\n",
            "session-info==1.0.0\n",
            "shapely==2.0.4\n",
            "shellingham==1.5.4\n",
            "simple_parsing==0.1.5\n",
            "simplejson==3.19.2\n",
            "six==1.16.0\n",
            "sklearn-pandas==2.2.0\n",
            "slicerator==1.1.0\n",
            "smart-open==7.0.4\n",
            "sniffio==1.3.1\n",
            "snowballstemmer==2.2.0\n",
            "snuggs==1.4.7\n",
            "sortedcontainers==2.4.0\n",
            "soundfile==0.12.1\n",
            "soupsieve==2.5\n",
            "soxr==0.3.7\n",
            "spacy==3.7.5\n",
            "spacy-legacy==3.0.12\n",
            "spacy-loggers==1.0.5\n",
            "spaghetti==1.7.5.post1\n",
            "spatial_image==0.3.0\n",
            "spatialdata==0.0.15\n",
            "spglm==1.1.0\n",
            "Sphinx==5.0.2\n",
            "sphinxcontrib-applehelp==1.0.8\n",
            "sphinxcontrib-devhelp==1.0.6\n",
            "sphinxcontrib-htmlhelp==2.0.5\n",
            "sphinxcontrib-jsmath==1.0.1\n",
            "sphinxcontrib-qthelp==1.0.7\n",
            "sphinxcontrib-serializinghtml==1.1.10\n",
            "spint==1.0.7\n",
            "splot==1.1.5.post1\n",
            "spopt==0.6.0\n",
            "spreg==1.4.2\n",
            "spvcm==0.3.0\n",
            "SQLAlchemy==2.0.30\n",
            "sqlglot==20.11.0\n",
            "sqlparse==0.5.0\n",
            "squidpy==1.5.0\n",
            "srsly==2.4.8\n",
            "stanio==0.5.0\n",
            "statsmodels==0.14.2\n",
            "stdlib-list==0.10.0\n",
            "StrEnum==0.4.15\n",
            "sympy==1.12.1\n",
            "tables==3.8.0\n",
            "tabulate==0.9.0\n",
            "tbb==2021.12.0\n",
            "tblib==3.0.0\n",
            "tenacity==8.3.0\n",
            "tensorboard==2.15.2\n",
            "tensorboard-data-server==0.7.2\n",
            "tensorflow @ https://storage.googleapis.com/colab-tf-builds-public-09h6ksrfwbb9g9xv/tensorflow-2.15.0-cp310-cp310-manylinux_2_17_x86_64.manylinux2014_x86_64.whl#sha256=a2ec79931350b378c1ef300ca836b52a55751acb71a433582508a07f0de57c42\n",
            "tensorflow-datasets==4.9.6\n",
            "tensorflow-estimator==2.15.0\n",
            "tensorflow-gcs-config==2.15.0\n",
            "tensorflow-hub==0.16.1\n",
            "tensorflow-io-gcs-filesystem==0.37.0\n",
            "tensorflow-metadata==1.15.0\n",
            "tensorflow-probability==0.23.0\n",
            "tensorstore==0.1.45\n",
            "termcolor==2.4.0\n",
            "terminado==0.18.1\n",
            "text-unidecode==1.3\n",
            "textblob==0.17.1\n",
            "texttable==1.7.0\n",
            "tf-slim==1.1.0\n",
            "tf_keras==2.15.1\n",
            "thinc==8.2.4\n",
            "threadpoolctl==3.5.0\n",
            "tifffile==2024.5.22\n",
            "tinycss2==1.3.0\n",
            "tobler==0.11.2\n",
            "tokenizers==0.19.1\n",
            "toml==0.10.2\n",
            "tomli==2.0.1\n",
            "toolz==0.12.1\n",
            "torch @ https://download.pytorch.org/whl/cu121/torch-2.3.0%2Bcu121-cp310-cp310-linux_x86_64.whl#sha256=0a12aa9aa6bc442dff8823ac8b48d991fd0771562eaa38593f9c8196d65f7007\n",
            "torchaudio @ https://download.pytorch.org/whl/cu121/torchaudio-2.3.0%2Bcu121-cp310-cp310-linux_x86_64.whl#sha256=38b49393f8c322dcaa29d19e5acbf5a0b1978cf1b719445ab670f1fb486e3aa6\n",
            "torchsummary==1.5.1\n",
            "torchtext==0.18.0\n",
            "torchvision @ https://download.pytorch.org/whl/cu121/torchvision-0.18.0%2Bcu121-cp310-cp310-linux_x86_64.whl#sha256=13e1b48dc5ce41ccb8100ab3dd26fdf31d8f1e904ecf2865ac524493013d0df5\n",
            "tornado==6.3.3\n",
            "tqdm==4.66.4\n",
            "traitlets==5.7.1\n",
            "traittypes==0.2.1\n",
            "transformers==4.41.2\n",
            "triton==2.3.0\n",
            "tweepy==4.14.0\n",
            "typer==0.12.3\n",
            "types-pytz==2024.1.0.20240417\n",
            "types-setuptools==70.0.0.20240524\n",
            "typing_extensions==4.12.2\n",
            "tzdata==2024.1\n",
            "tzlocal==5.2\n",
            "uc-micro-py==1.0.3\n",
            "umap-learn==0.5.6\n",
            "uritemplate==4.1.1\n",
            "urllib3==1.26.19\n",
            "validators==0.28.3\n",
            "vega-datasets==0.9.0\n",
            "wadllib==1.3.6\n",
            "wasabi==1.1.3\n",
            "wcwidth==0.2.13\n",
            "weasel==0.4.1\n",
            "webcolors==24.6.0\n",
            "webencodings==0.5.1\n",
            "websocket-client==1.8.0\n",
            "Werkzeug==3.0.3\n",
            "widgetsnbextension==3.6.6\n",
            "wordcloud==1.9.3\n",
            "wrapt==1.14.1\n",
            "xarray==2024.6.0\n",
            "xarray-dataclasses==1.8.0\n",
            "xarray-datatree==0.0.14\n",
            "xarray-einstats==0.7.0\n",
            "xarray-schema==0.0.3\n",
            "xarray-spatial==0.4.0\n",
            "xgboost==2.0.3\n",
            "xlrd==2.0.1\n",
            "xyzservices==2024.6.0\n",
            "yarl==1.9.4\n",
            "yellowbrick==1.5\n",
            "yfinance==0.2.40\n",
            "zarr==2.18.2\n",
            "zict==3.0.0\n",
            "zipp==3.19.2\n"
          ]
        }
      ],
      "source": [
        "import subprocess\n",
        "\n",
        "# Run the pip freeze command to get a list of installed packages\n",
        "output = subprocess.check_output(['pip', 'freeze']).decode('utf-8').strip().split('\\n')\n",
        "\n",
        "print(\"Installed packages:\")\n",
        "for package in output:\n",
        "    print(package)"
      ]
    },
    {
      "cell_type": "code",
      "execution_count": null,
      "metadata": {
        "id": "Vgpch6dvkMhd"
      },
      "outputs": [],
      "source": []
    }
  ],
  "metadata": {
    "colab": {
      "machine_shape": "hm",
      "provenance": [],
      "include_colab_link": true
    },
    "kernelspec": {
      "display_name": "Python 3",
      "name": "python3"
    },
    "language_info": {
      "name": "python"
    },
    "widgets": {
      "application/vnd.jupyter.widget-state+json": {}
    }
  },
  "nbformat": 4,
  "nbformat_minor": 0
}