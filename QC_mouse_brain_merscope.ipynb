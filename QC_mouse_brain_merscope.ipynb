{
  "cells": [
    {
      "cell_type": "markdown",
      "metadata": {
        "id": "view-in-github",
        "colab_type": "text"
      },
      "source": [
        "<a href=\"https://colab.research.google.com/github/BKover99/Pseudovisium/blob/main/QC_mouse_brain_merscope.ipynb\" target=\"_parent\"><img src=\"https://colab.research.google.com/assets/colab-badge.svg\" alt=\"Open In Colab\"/></a>"
      ]
    },
    {
      "cell_type": "code",
      "execution_count": null,
      "metadata": {
        "colab": {
          "base_uri": "https://localhost:8080/"
        },
        "id": "-AJXd4oSG6bg",
        "outputId": "cdc7b636-b65b-4c85-b8bb-adc1b71c7834"
      },
      "outputs": [
        {
          "output_type": "stream",
          "name": "stdout",
          "text": [
            "  Preparing metadata (setup.py) ... \u001b[?25l\u001b[?25hdone\n",
            "\u001b[2K     \u001b[90m━━━━━━━━━━━━━━━━━━━━━━━━━━━━━━━━━━━━━━━━\u001b[0m \u001b[32m2.1/2.1 MB\u001b[0m \u001b[31m22.9 MB/s\u001b[0m eta \u001b[36m0:00:00\u001b[0m\n",
            "\u001b[2K     \u001b[90m━━━━━━━━━━━━━━━━━━━━━━━━━━━━━━━━━━━━━━━━\u001b[0m \u001b[32m146.2/146.2 kB\u001b[0m \u001b[31m18.1 MB/s\u001b[0m eta \u001b[36m0:00:00\u001b[0m\n",
            "\u001b[2K     \u001b[90m━━━━━━━━━━━━━━━━━━━━━━━━━━━━━━━━━━━━━━━━\u001b[0m \u001b[32m122.4/122.4 kB\u001b[0m \u001b[31m11.2 MB/s\u001b[0m eta \u001b[36m0:00:00\u001b[0m\n",
            "\u001b[2K     \u001b[90m━━━━━━━━━━━━━━━━━━━━━━━━━━━━━━━━━━━━━━━━\u001b[0m \u001b[32m2.8/2.8 MB\u001b[0m \u001b[31m74.8 MB/s\u001b[0m eta \u001b[36m0:00:00\u001b[0m\n",
            "\u001b[2K     \u001b[90m━━━━━━━━━━━━━━━━━━━━━━━━━━━━━━━━━━━━━━━━\u001b[0m \u001b[32m132.4/132.4 kB\u001b[0m \u001b[31m13.6 MB/s\u001b[0m eta \u001b[36m0:00:00\u001b[0m\n",
            "\u001b[2K     \u001b[90m━━━━━━━━━━━━━━━━━━━━━━━━━━━━━━━━━━━━━━━━\u001b[0m \u001b[32m61.1/61.1 kB\u001b[0m \u001b[31m6.5 MB/s\u001b[0m eta \u001b[36m0:00:00\u001b[0m\n",
            "\u001b[2K     \u001b[90m━━━━━━━━━━━━━━━━━━━━━━━━━━━━━━━━━━━━━━━━\u001b[0m \u001b[32m58.4/58.4 kB\u001b[0m \u001b[31m5.3 MB/s\u001b[0m eta \u001b[36m0:00:00\u001b[0m\n",
            "\u001b[2K     \u001b[90m━━━━━━━━━━━━━━━━━━━━━━━━━━━━━━━━━━━━━━━━\u001b[0m \u001b[32m141.3/141.3 kB\u001b[0m \u001b[31m14.8 MB/s\u001b[0m eta \u001b[36m0:00:00\u001b[0m\n",
            "\u001b[2K     \u001b[90m━━━━━━━━━━━━━━━━━━━━━━━━━━━━━━━━━━━━━━━━\u001b[0m \u001b[32m54.1/54.1 kB\u001b[0m \u001b[31m6.2 MB/s\u001b[0m eta \u001b[36m0:00:00\u001b[0m\n",
            "\u001b[2K     \u001b[90m━━━━━━━━━━━━━━━━━━━━━━━━━━━━━━━━━━━━━━━━\u001b[0m \u001b[32m47.9/47.9 kB\u001b[0m \u001b[31m4.9 MB/s\u001b[0m eta \u001b[36m0:00:00\u001b[0m\n",
            "\u001b[2K     \u001b[90m━━━━━━━━━━━━━━━━━━━━━━━━━━━━━━━━━━━━━━━━\u001b[0m \u001b[32m277.8/277.8 kB\u001b[0m \u001b[31m28.8 MB/s\u001b[0m eta \u001b[36m0:00:00\u001b[0m\n",
            "\u001b[2K     \u001b[90m━━━━━━━━━━━━━━━━━━━━━━━━━━━━━━━━━━━━━━━━\u001b[0m \u001b[32m41.4/41.4 kB\u001b[0m \u001b[31m4.0 MB/s\u001b[0m eta \u001b[36m0:00:00\u001b[0m\n",
            "\u001b[?25h  Preparing metadata (setup.py) ... \u001b[?25l\u001b[?25hdone\n",
            "\u001b[2K     \u001b[90m━━━━━━━━━━━━━━━━━━━━━━━━━━━━━━━━━━━━━━━━\u001b[0m \u001b[32m331.8/331.8 kB\u001b[0m \u001b[31m26.6 MB/s\u001b[0m eta \u001b[36m0:00:00\u001b[0m\n",
            "\u001b[2K     \u001b[90m━━━━━━━━━━━━━━━━━━━━━━━━━━━━━━━━━━━━━━━━\u001b[0m \u001b[32m5.7/5.7 MB\u001b[0m \u001b[31m50.6 MB/s\u001b[0m eta \u001b[36m0:00:00\u001b[0m\n",
            "\u001b[?25h  Preparing metadata (setup.py) ... \u001b[?25l\u001b[?25hdone\n",
            "\u001b[2K     \u001b[90m━━━━━━━━━━━━━━━━━━━━━━━━━━━━━━━━━━━━━━━━\u001b[0m \u001b[32m244.5/244.5 kB\u001b[0m \u001b[31m20.9 MB/s\u001b[0m eta \u001b[36m0:00:00\u001b[0m\n",
            "\u001b[2K     \u001b[90m━━━━━━━━━━━━━━━━━━━━━━━━━━━━━━━━━━━━━━━━\u001b[0m \u001b[32m56.8/56.8 kB\u001b[0m \u001b[31m1.3 MB/s\u001b[0m eta \u001b[36m0:00:00\u001b[0m\n",
            "\u001b[?25h  Preparing metadata (setup.py) ... \u001b[?25l\u001b[?25hdone\n",
            "\u001b[2K     \u001b[90m━━━━━━━━━━━━━━━━━━━━━━━━━━━━━━━━━━━━━━━━\u001b[0m \u001b[32m85.7/85.7 kB\u001b[0m \u001b[31m11.7 MB/s\u001b[0m eta \u001b[36m0:00:00\u001b[0m\n",
            "\u001b[2K     \u001b[90m━━━━━━━━━━━━━━━━━━━━━━━━━━━━━━━━━━━━━━━━\u001b[0m \u001b[32m59.5/59.5 kB\u001b[0m \u001b[31m6.6 MB/s\u001b[0m eta \u001b[36m0:00:00\u001b[0m\n",
            "\u001b[?25h  Preparing metadata (setup.py) ... \u001b[?25l\u001b[?25hdone\n",
            "\u001b[2K     \u001b[90m━━━━━━━━━━━━━━━━━━━━━━━━━━━━━━━━━━━━━━━━\u001b[0m \u001b[32m2.0/2.0 MB\u001b[0m \u001b[31m82.6 MB/s\u001b[0m eta \u001b[36m0:00:00\u001b[0m\n",
            "\u001b[2K     \u001b[90m━━━━━━━━━━━━━━━━━━━━━━━━━━━━━━━━━━━━━━━━\u001b[0m \u001b[32m68.9/68.9 kB\u001b[0m \u001b[31m8.5 MB/s\u001b[0m eta \u001b[36m0:00:00\u001b[0m\n",
            "\u001b[2K     \u001b[90m━━━━━━━━━━━━━━━━━━━━━━━━━━━━━━━━━━━━━━━━\u001b[0m \u001b[32m13.0/13.0 MB\u001b[0m \u001b[31m112.8 MB/s\u001b[0m eta \u001b[36m0:00:00\u001b[0m\n",
            "\u001b[2K     \u001b[90m━━━━━━━━━━━━━━━━━━━━━━━━━━━━━━━━━━━━━━━━\u001b[0m \u001b[32m14.7/14.7 MB\u001b[0m \u001b[31m115.7 MB/s\u001b[0m eta \u001b[36m0:00:00\u001b[0m\n",
            "\u001b[2K     \u001b[90m━━━━━━━━━━━━━━━━━━━━━━━━━━━━━━━━━━━━━━━━\u001b[0m \u001b[32m143.9/143.9 kB\u001b[0m \u001b[31m18.2 MB/s\u001b[0m eta \u001b[36m0:00:00\u001b[0m\n",
            "\u001b[2K     \u001b[90m━━━━━━━━━━━━━━━━━━━━━━━━━━━━━━━━━━━━━━━━\u001b[0m \u001b[32m40.0/40.0 kB\u001b[0m \u001b[31m4.8 MB/s\u001b[0m eta \u001b[36m0:00:00\u001b[0m\n",
            "\u001b[2K     \u001b[90m━━━━━━━━━━━━━━━━━━━━━━━━━━━━━━━━━━━━━━━━\u001b[0m \u001b[32m210.2/210.2 kB\u001b[0m \u001b[31m25.4 MB/s\u001b[0m eta \u001b[36m0:00:00\u001b[0m\n",
            "\u001b[2K     \u001b[90m━━━━━━━━━━━━━━━━━━━━━━━━━━━━━━━━━━━━━━━━\u001b[0m \u001b[32m1.2/1.2 MB\u001b[0m \u001b[31m79.2 MB/s\u001b[0m eta \u001b[36m0:00:00\u001b[0m\n",
            "\u001b[2K     \u001b[90m━━━━━━━━━━━━━━━━━━━━━━━━━━━━━━━━━━━━━━━━\u001b[0m \u001b[32m86.0/86.0 kB\u001b[0m \u001b[31m10.9 MB/s\u001b[0m eta \u001b[36m0:00:00\u001b[0m\n",
            "\u001b[?25h  Preparing metadata (setup.py) ... \u001b[?25l\u001b[?25hdone\n",
            "\u001b[2K     \u001b[90m━━━━━━━━━━━━━━━━━━━━━━━━━━━━━━━━━━━━━━━━\u001b[0m \u001b[32m215.4/215.4 kB\u001b[0m \u001b[31m24.1 MB/s\u001b[0m eta \u001b[36m0:00:00\u001b[0m\n",
            "\u001b[2K     \u001b[90m━━━━━━━━━━━━━━━━━━━━━━━━━━━━━━━━━━━━━━━━\u001b[0m \u001b[32m3.3/3.3 MB\u001b[0m \u001b[31m91.1 MB/s\u001b[0m eta \u001b[36m0:00:00\u001b[0m\n",
            "\u001b[2K     \u001b[90m━━━━━━━━━━━━━━━━━━━━━━━━━━━━━━━━━━━━━━━━\u001b[0m \u001b[32m313.5/313.5 kB\u001b[0m \u001b[31m30.3 MB/s\u001b[0m eta \u001b[36m0:00:00\u001b[0m\n",
            "\u001b[2K     \u001b[90m━━━━━━━━━━━━━━━━━━━━━━━━━━━━━━━━━━━━━━━━\u001b[0m \u001b[32m535.2/535.2 kB\u001b[0m \u001b[31m47.5 MB/s\u001b[0m eta \u001b[36m0:00:00\u001b[0m\n",
            "\u001b[2K     \u001b[90m━━━━━━━━━━━━━━━━━━━━━━━━━━━━━━━━━━━━━━━━\u001b[0m \u001b[32m17.7/17.7 MB\u001b[0m \u001b[31m94.4 MB/s\u001b[0m eta \u001b[36m0:00:00\u001b[0m\n",
            "\u001b[2K     \u001b[90m━━━━━━━━━━━━━━━━━━━━━━━━━━━━━━━━━━━━━━━━\u001b[0m \u001b[32m21.5/21.5 MB\u001b[0m \u001b[31m86.8 MB/s\u001b[0m eta \u001b[36m0:00:00\u001b[0m\n",
            "\u001b[?25h  Preparing metadata (setup.py) ... \u001b[?25l\u001b[?25hdone\n",
            "\u001b[2K     \u001b[90m━━━━━━━━━━━━━━━━━━━━━━━━━━━━━━━━━━━━━━━━\u001b[0m \u001b[32m7.7/7.7 MB\u001b[0m \u001b[31m134.9 MB/s\u001b[0m eta \u001b[36m0:00:00\u001b[0m\n",
            "\u001b[2K     \u001b[90m━━━━━━━━━━━━━━━━━━━━━━━━━━━━━━━━━━━━━━━━\u001b[0m \u001b[32m79.8/79.8 kB\u001b[0m \u001b[31m9.3 MB/s\u001b[0m eta \u001b[36m0:00:00\u001b[0m\n",
            "\u001b[2K     \u001b[90m━━━━━━━━━━━━━━━━━━━━━━━━━━━━━━━━━━━━━━━━\u001b[0m \u001b[32m2.2/2.2 MB\u001b[0m \u001b[31m3.6 MB/s\u001b[0m eta \u001b[36m0:00:00\u001b[0m\n",
            "\u001b[2K     \u001b[90m━━━━━━━━━━━━━━━━━━━━━━━━━━━━━━━━━━━━━━━━\u001b[0m \u001b[32m2.0/2.0 MB\u001b[0m \u001b[31m98.3 MB/s\u001b[0m eta \u001b[36m0:00:00\u001b[0m\n",
            "\u001b[2K     \u001b[90m━━━━━━━━━━━━━━━━━━━━━━━━━━━━━━━━━━━━━━━━\u001b[0m \u001b[32m63.7/63.7 kB\u001b[0m \u001b[31m7.2 MB/s\u001b[0m eta \u001b[36m0:00:00\u001b[0m\n",
            "\u001b[2K     \u001b[90m━━━━━━━━━━━━━━━━━━━━━━━━━━━━━━━━━━━━━━━━\u001b[0m \u001b[32m1.2/1.2 MB\u001b[0m \u001b[31m73.8 MB/s\u001b[0m eta \u001b[36m0:00:00\u001b[0m\n",
            "\u001b[2K     \u001b[90m━━━━━━━━━━━━━━━━━━━━━━━━━━━━━━━━━━━━━━━━\u001b[0m \u001b[32m1.2/1.2 MB\u001b[0m \u001b[31m70.0 MB/s\u001b[0m eta \u001b[36m0:00:00\u001b[0m\n",
            "\u001b[2K     \u001b[90m━━━━━━━━━━━━━━━━━━━━━━━━━━━━━━━━━━━━━━━━\u001b[0m \u001b[32m1.2/1.2 MB\u001b[0m \u001b[31m73.5 MB/s\u001b[0m eta \u001b[36m0:00:00\u001b[0m\n",
            "\u001b[2K     \u001b[90m━━━━━━━━━━━━━━━━━━━━━━━━━━━━━━━━━━━━━━━━\u001b[0m \u001b[32m1.2/1.2 MB\u001b[0m \u001b[31m80.5 MB/s\u001b[0m eta \u001b[36m0:00:00\u001b[0m\n",
            "\u001b[2K     \u001b[90m━━━━━━━━━━━━━━━━━━━━━━━━━━━━━━━━━━━━━━━━\u001b[0m \u001b[32m142.9/142.9 kB\u001b[0m \u001b[31m16.5 MB/s\u001b[0m eta \u001b[36m0:00:00\u001b[0m\n",
            "\u001b[2K     \u001b[90m━━━━━━━━━━━━━━━━━━━━━━━━━━━━━━━━━━━━━━━━\u001b[0m \u001b[32m141.8/141.8 kB\u001b[0m \u001b[31m13.3 MB/s\u001b[0m eta \u001b[36m0:00:00\u001b[0m\n",
            "\u001b[2K     \u001b[90m━━━━━━━━━━━━━━━━━━━━━━━━━━━━━━━━━━━━━━━━\u001b[0m \u001b[32m110.3/110.3 kB\u001b[0m \u001b[31m12.6 MB/s\u001b[0m eta \u001b[36m0:00:00\u001b[0m\n",
            "\u001b[2K     \u001b[90m━━━━━━━━━━━━━━━━━━━━━━━━━━━━━━━━━━━━━━━━\u001b[0m \u001b[32m110.3/110.3 kB\u001b[0m \u001b[31m10.8 MB/s\u001b[0m eta \u001b[36m0:00:00\u001b[0m\n",
            "\u001b[2K     \u001b[90m━━━━━━━━━━━━━━━━━━━━━━━━━━━━━━━━━━━━━━━━\u001b[0m \u001b[32m110.3/110.3 kB\u001b[0m \u001b[31m11.4 MB/s\u001b[0m eta \u001b[36m0:00:00\u001b[0m\n",
            "\u001b[2K     \u001b[90m━━━━━━━━━━━━━━━━━━━━━━━━━━━━━━━━━━━━━━━━\u001b[0m \u001b[32m205.5/205.5 kB\u001b[0m \u001b[31m18.9 MB/s\u001b[0m eta \u001b[36m0:00:00\u001b[0m\n",
            "\u001b[2K     \u001b[90m━━━━━━━━━━━━━━━━━━━━━━━━━━━━━━━━━━━━━━━━\u001b[0m \u001b[32m18.3/18.3 MB\u001b[0m \u001b[31m28.9 MB/s\u001b[0m eta \u001b[36m0:00:00\u001b[0m\n",
            "\u001b[2K     \u001b[90m━━━━━━━━━━━━━━━━━━━━━━━━━━━━━━━━━━━━━━━━\u001b[0m \u001b[32m137.9/137.9 kB\u001b[0m \u001b[31m15.2 MB/s\u001b[0m eta \u001b[36m0:00:00\u001b[0m\n",
            "\u001b[2K     \u001b[90m━━━━━━━━━━━━━━━━━━━━━━━━━━━━━━━━━━━━━━━━\u001b[0m \u001b[32m1.1/1.1 MB\u001b[0m \u001b[31m72.6 MB/s\u001b[0m eta \u001b[36m0:00:00\u001b[0m\n",
            "\u001b[2K     \u001b[90m━━━━━━━━━━━━━━━━━━━━━━━━━━━━━━━━━━━━━━━━\u001b[0m \u001b[32m1.0/1.0 MB\u001b[0m \u001b[31m67.4 MB/s\u001b[0m eta \u001b[36m0:00:00\u001b[0m\n",
            "\u001b[2K     \u001b[90m━━━━━━━━━━━━━━━━━━━━━━━━━━━━━━━━━━━━━━━━\u001b[0m \u001b[32m76.6/76.6 kB\u001b[0m \u001b[31m10.2 MB/s\u001b[0m eta \u001b[36m0:00:00\u001b[0m\n",
            "\u001b[2K     \u001b[90m━━━━━━━━━━━━━━━━━━━━━━━━━━━━━━━━━━━━━━━━\u001b[0m \u001b[32m73.5/73.5 kB\u001b[0m \u001b[31m9.3 MB/s\u001b[0m eta \u001b[36m0:00:00\u001b[0m\n",
            "\u001b[2K     \u001b[90m━━━━━━━━━━━━━━━━━━━━━━━━━━━━━━━━━━━━━━━━\u001b[0m \u001b[32m73.4/73.4 kB\u001b[0m \u001b[31m9.6 MB/s\u001b[0m eta \u001b[36m0:00:00\u001b[0m\n",
            "\u001b[2K     \u001b[90m━━━━━━━━━━━━━━━━━━━━━━━━━━━━━━━━━━━━━━━━\u001b[0m \u001b[32m11.1/11.1 MB\u001b[0m \u001b[31m106.5 MB/s\u001b[0m eta \u001b[36m0:00:00\u001b[0m\n",
            "\u001b[2K     \u001b[90m━━━━━━━━━━━━━━━━━━━━━━━━━━━━━━━━━━━━━━━━\u001b[0m \u001b[32m143.8/143.8 kB\u001b[0m \u001b[31m18.6 MB/s\u001b[0m eta \u001b[36m0:00:00\u001b[0m\n",
            "\u001b[?25h  Building wheel for Pseudovisium (setup.py) ... \u001b[?25l\u001b[?25hdone\n",
            "  Building wheel for docrep (setup.py) ... \u001b[?25l\u001b[?25hdone\n",
            "  Building wheel for spint (setup.py) ... \u001b[?25l\u001b[?25hdone\n",
            "  Building wheel for spvcm (setup.py) ... \u001b[?25l\u001b[?25hdone\n",
            "  Building wheel for session-info (setup.py) ... \u001b[?25l\u001b[?25hdone\n",
            "  Building wheel for pims (setup.py) ... \u001b[?25l\u001b[?25hdone\n",
            "  Building wheel for asciitree (setup.py) ... \u001b[?25l\u001b[?25hdone\n",
            "\u001b[31mERROR: pip's dependency resolver does not currently take into account all the packages that are installed. This behaviour is the source of the following dependency conflicts.\n",
            "cudf-cu12 24.4.1 requires pandas<2.2.2dev0,>=2.0, but you have pandas 2.2.2 which is incompatible.\n",
            "google-colab 1.0.0 requires pandas==2.0.3, but you have pandas 2.2.2 which is incompatible.\u001b[0m\u001b[31m\n",
            "\u001b[0m"
          ]
        }
      ],
      "source": [
        "!pip install Pseudovisium -q\n"
      ]
    },
    {
      "cell_type": "code",
      "execution_count": null,
      "metadata": {
        "colab": {
          "base_uri": "https://localhost:8080/"
        },
        "id": "H_IiBc7jFlG7",
        "outputId": "4f537b93-1295-491d-e889-44bff693b575"
      },
      "outputs": [
        {
          "output_type": "stream",
          "name": "stderr",
          "text": [
            "/usr/local/lib/python3.10/dist-packages/geopandas/_compat.py:124: UserWarning: The Shapely GEOS version (3.11.3-CAPI-1.17.3) is incompatible with the GEOS version PyGEOS was compiled with (3.10.4-CAPI-1.16.2). Conversions between both will be slow.\n",
            "  warnings.warn(\n",
            "/usr/local/lib/python3.10/dist-packages/spaghetti/network.py:42: FutureWarning: The next major release of pysal/spaghetti (2.0.0) will drop support for all ``libpysal.cg`` geometries. This change is a first step in refactoring ``spaghetti`` that is expected to result in dramatically reduced runtimes for network instantiation and operations. Users currently requiring network and point pattern input as ``libpysal.cg`` geometries should prepare for this simply by converting to ``shapely`` geometries.\n",
            "  warnings.warn(dep_msg, FutureWarning, stacklevel=1)\n"
          ]
        }
      ],
      "source": [
        "import requests\n",
        "import subprocess\n",
        "import shutil\n",
        "import os\n",
        "from bs4 import BeautifulSoup\n",
        "from Pseudovisium.pseudovisium_generate import generate_pv\n",
        "from Pseudovisium.pseudovisium_qc import generate_qc_report\n",
        "\n"
      ]
    },
    {
      "cell_type": "code",
      "execution_count": null,
      "metadata": {
        "colab": {
          "base_uri": "https://localhost:8080/"
        },
        "id": "ucrOGXhnAJMb",
        "outputId": "ac2e6693-9e27-483d-bc8c-4cf51596ee4b"
      },
      "outputs": [
        {
          "metadata": {
            "tags": null
          },
          "name": "stdout",
          "output_type": "stream",
          "text": [
            "Downloaded 1199650929_cellpose-detected_transcripts.csv\n",
            "Downloaded 1199650929_cellpose-detected_transcripts.csv\n",
            "You are using version:  ['Pseudovisium==0.0.40']\n",
            "Date:  2024-06-10\n",
            "Technology not recognized. Going forward with set column names.\n",
            "Quality filter is set to False\n",
            "Quality counting per hexagon is set to False\n",
            "Quality counting per probe is set to False\n",
            "Created temporary directory /tmp/tmp_hexaz2lxw156\n",
            "Now creating batches\n",
            "Created batch 1\n",
            "Created batch 2\n",
            "Created batch 3\n",
            "Created batch 4\n",
            "Finished preprocessing. Total batches created: 4\n",
            "Processing batches using 8 processes\n"
          ]
        },
        {
          "metadata": {
            "tags": null
          },
          "name": "stderr",
          "output_type": "stream",
          "text": [
            "Processing batches: 100%|██████████| 4/4 [01:04<00:00, 16.21s/batch]\n"
          ]
        },
        {
          "metadata": {
            "tags": null
          },
          "name": "stdout",
          "output_type": "stream",
          "text": [
            "Creating pseudovisium folder in output path:/content/pseudovisium/section0\n",
            "Creating scalefactors_json.json file in spatial folder.\n",
            "Creating barcodes.tsv.gz file in spatial folder.\n",
            "Creating tissue_positions_list.csv file in spatial folder.\n",
            "Creating pv_cell_hex.csv file in spatial folder.\n",
            "No quality information provided. Skipping quality information files.\n",
            "No quality information provided. Skipping quality information files.\n",
            "Creating features.tsv.gz file in spatial folder.\n",
            "Putting together the matrix.mtx file\n",
            "Total matrix count: 29762163.0\n",
            "Number of unique hexagons: 2707\n",
            "Creating matrix.mtx.gz file in spatial folder.\n"
          ]
        },
        {
          "metadata": {
            "tags": null
          },
          "name": "stderr",
          "output_type": "stream",
          "text": [
            "/usr/local/lib/python3.10/dist-packages/Pseudovisium/pseudovisium_generate.py:786: SettingWithCopyWarning: \n",
            "A value is trying to be set on a copy of a slice from a DataFrame.\n",
            "Try using .loc[row_indexer,col_indexer] = value instead\n",
            "\n",
            "See the caveats in the documentation: https://pandas.pydata.org/pandas-docs/stable/user_guide/indexing.html#returning-a-view-versus-a-copy\n",
            "  hexagon_cell_counts[\"hexagon_id\"] = hexagon_cell_counts[\"hexagon_id\"] + 1\n"
          ]
        },
        {
          "metadata": {
            "tags": null
          },
          "name": "stdout",
          "output_type": "stream",
          "text": [
            "Putting together the filtered_feature_bc_matrix.h5 file\n",
            "No image file provided. Drawing tissue positions on a white background.\n",
            "Creating arguments.json file in output path.\n",
            "Time taken: 292.244038105011 seconds\n",
            "Searching for temporary batch files in: /tmp\n",
            "No remaining temporary batch files found.\n",
            "Downloaded 1199650932_cellpose-detected_transcripts.csv\n",
            "Downloaded 1199650932_cellpose-detected_transcripts.csv\n",
            "You are using version:  ['Pseudovisium==0.0.40']\n",
            "Date:  2024-06-10\n",
            "Technology not recognized. Going forward with set column names.\n",
            "Quality filter is set to False\n",
            "Quality counting per hexagon is set to False\n",
            "Quality counting per probe is set to False\n",
            "Created temporary directory /tmp/tmp_hexa4e40oc5w\n",
            "Now creating batches\n",
            "Created batch 1\n",
            "Created batch 2\n",
            "Created batch 3\n",
            "Created batch 4\n",
            "Finished preprocessing. Total batches created: 4\n",
            "Processing batches using 8 processes\n"
          ]
        },
        {
          "metadata": {
            "tags": null
          },
          "name": "stderr",
          "output_type": "stream",
          "text": [
            "Processing batches: 100%|██████████| 4/4 [00:59<00:00, 14.89s/batch]\n"
          ]
        },
        {
          "metadata": {
            "tags": null
          },
          "name": "stdout",
          "output_type": "stream",
          "text": [
            "Creating pseudovisium folder in output path:/content/pseudovisium/section1\n",
            "Using already existing folder: /content/pseudovisium/\n",
            "Creating scalefactors_json.json file in spatial folder.\n",
            "Creating barcodes.tsv.gz file in spatial folder.\n",
            "Creating tissue_positions_list.csv file in spatial folder.\n",
            "Creating pv_cell_hex.csv file in spatial folder.\n",
            "No quality information provided. Skipping quality information files.\n",
            "No quality information provided. Skipping quality information files.\n",
            "Creating features.tsv.gz file in spatial folder.\n",
            "Putting together the matrix.mtx file\n",
            "Total matrix count: 27355653.0\n",
            "Number of unique hexagons: 2410\n",
            "Creating matrix.mtx.gz file in spatial folder.\n"
          ]
        },
        {
          "metadata": {
            "tags": null
          },
          "name": "stderr",
          "output_type": "stream",
          "text": [
            "/usr/local/lib/python3.10/dist-packages/Pseudovisium/pseudovisium_generate.py:786: SettingWithCopyWarning: \n",
            "A value is trying to be set on a copy of a slice from a DataFrame.\n",
            "Try using .loc[row_indexer,col_indexer] = value instead\n",
            "\n",
            "See the caveats in the documentation: https://pandas.pydata.org/pandas-docs/stable/user_guide/indexing.html#returning-a-view-versus-a-copy\n",
            "  hexagon_cell_counts[\"hexagon_id\"] = hexagon_cell_counts[\"hexagon_id\"] + 1\n"
          ]
        },
        {
          "metadata": {
            "tags": null
          },
          "name": "stdout",
          "output_type": "stream",
          "text": [
            "Putting together the filtered_feature_bc_matrix.h5 file\n",
            "No image file provided. Drawing tissue positions on a white background.\n",
            "Creating arguments.json file in output path.\n",
            "Time taken: 272.3212811946869 seconds\n",
            "Searching for temporary batch files in: /tmp\n",
            "No remaining temporary batch files found.\n",
            "Downloaded 1199650935_cellpose-detected_transcripts.csv\n",
            "Downloaded 1199650935_cellpose-detected_transcripts.csv\n",
            "You are using version:  ['Pseudovisium==0.0.40']\n",
            "Date:  2024-06-10\n",
            "Technology not recognized. Going forward with set column names.\n",
            "Quality filter is set to False\n",
            "Quality counting per hexagon is set to False\n",
            "Quality counting per probe is set to False\n",
            "Created temporary directory /tmp/tmp_hexau1eyns26\n",
            "Now creating batches\n",
            "Created batch 1\n",
            "Created batch 2\n",
            "Created batch 3\n",
            "Created batch 4\n",
            "Created batch 5\n",
            "Created batch 6\n",
            "Finished preprocessing. Total batches created: 6\n",
            "Processing batches using 8 processes\n"
          ]
        },
        {
          "metadata": {
            "tags": null
          },
          "name": "stderr",
          "output_type": "stream",
          "text": [
            "Processing batches: 100%|██████████| 6/6 [01:30<00:00, 15.10s/batch]\n"
          ]
        },
        {
          "metadata": {
            "tags": null
          },
          "name": "stdout",
          "output_type": "stream",
          "text": [
            "Creating pseudovisium folder in output path:/content/pseudovisium/section2\n",
            "Using already existing folder: /content/pseudovisium/\n",
            "Creating scalefactors_json.json file in spatial folder.\n",
            "Creating barcodes.tsv.gz file in spatial folder.\n",
            "Creating tissue_positions_list.csv file in spatial folder.\n",
            "Creating pv_cell_hex.csv file in spatial folder.\n",
            "No quality information provided. Skipping quality information files.\n",
            "No quality information provided. Skipping quality information files.\n",
            "Creating features.tsv.gz file in spatial folder.\n",
            "Putting together the matrix.mtx file\n",
            "Total matrix count: 44893391.0\n",
            "Number of unique hexagons: 3098\n",
            "Creating matrix.mtx.gz file in spatial folder.\n"
          ]
        },
        {
          "metadata": {
            "tags": null
          },
          "name": "stderr",
          "output_type": "stream",
          "text": [
            "/usr/local/lib/python3.10/dist-packages/Pseudovisium/pseudovisium_generate.py:786: SettingWithCopyWarning: \n",
            "A value is trying to be set on a copy of a slice from a DataFrame.\n",
            "Try using .loc[row_indexer,col_indexer] = value instead\n",
            "\n",
            "See the caveats in the documentation: https://pandas.pydata.org/pandas-docs/stable/user_guide/indexing.html#returning-a-view-versus-a-copy\n",
            "  hexagon_cell_counts[\"hexagon_id\"] = hexagon_cell_counts[\"hexagon_id\"] + 1\n"
          ]
        },
        {
          "metadata": {
            "tags": null
          },
          "name": "stdout",
          "output_type": "stream",
          "text": [
            "Putting together the filtered_feature_bc_matrix.h5 file\n",
            "No image file provided. Drawing tissue positions on a white background.\n",
            "Creating arguments.json file in output path.\n",
            "Time taken: 425.2659418582916 seconds\n",
            "Searching for temporary batch files in: /tmp\n",
            "No remaining temporary batch files found.\n",
            "Downloaded 1199650938_cellpose-detected_transcripts.csv\n",
            "Downloaded 1199650938_cellpose-detected_transcripts.csv\n",
            "You are using version:  ['Pseudovisium==0.0.40']\n",
            "Date:  2024-06-10\n",
            "Technology not recognized. Going forward with set column names.\n",
            "Quality filter is set to False\n",
            "Quality counting per hexagon is set to False\n",
            "Quality counting per probe is set to False\n",
            "Created temporary directory /tmp/tmp_hexagml87h87\n",
            "Now creating batches\n",
            "Created batch 1\n",
            "Created batch 2\n",
            "Created batch 3\n",
            "Created batch 4\n",
            "Created batch 5\n",
            "Created batch 6\n",
            "Created batch 7\n",
            "Finished preprocessing. Total batches created: 7\n",
            "Processing batches using 8 processes\n"
          ]
        },
        {
          "metadata": {
            "tags": null
          },
          "name": "stderr",
          "output_type": "stream",
          "text": [
            "Processing batches: 100%|██████████| 7/7 [02:05<00:00, 17.98s/batch]\n"
          ]
        },
        {
          "metadata": {
            "tags": null
          },
          "name": "stdout",
          "output_type": "stream",
          "text": [
            "Creating pseudovisium folder in output path:/content/pseudovisium/section3\n",
            "Using already existing folder: /content/pseudovisium/\n",
            "Creating scalefactors_json.json file in spatial folder.\n",
            "Creating barcodes.tsv.gz file in spatial folder.\n",
            "Creating tissue_positions_list.csv file in spatial folder.\n",
            "Creating pv_cell_hex.csv file in spatial folder.\n",
            "No quality information provided. Skipping quality information files.\n",
            "No quality information provided. Skipping quality information files.\n",
            "Creating features.tsv.gz file in spatial folder.\n",
            "Putting together the matrix.mtx file\n",
            "Total matrix count: 55435872.0\n",
            "Number of unique hexagons: 3792\n",
            "Creating matrix.mtx.gz file in spatial folder.\n"
          ]
        },
        {
          "metadata": {
            "tags": null
          },
          "name": "stderr",
          "output_type": "stream",
          "text": [
            "/usr/local/lib/python3.10/dist-packages/Pseudovisium/pseudovisium_generate.py:786: SettingWithCopyWarning: \n",
            "A value is trying to be set on a copy of a slice from a DataFrame.\n",
            "Try using .loc[row_indexer,col_indexer] = value instead\n",
            "\n",
            "See the caveats in the documentation: https://pandas.pydata.org/pandas-docs/stable/user_guide/indexing.html#returning-a-view-versus-a-copy\n",
            "  hexagon_cell_counts[\"hexagon_id\"] = hexagon_cell_counts[\"hexagon_id\"] + 1\n"
          ]
        },
        {
          "metadata": {
            "tags": null
          },
          "name": "stdout",
          "output_type": "stream",
          "text": [
            "Putting together the filtered_feature_bc_matrix.h5 file\n",
            "No image file provided. Drawing tissue positions on a white background.\n",
            "Creating arguments.json file in output path.\n",
            "Time taken: 553.2650079727173 seconds\n",
            "Searching for temporary batch files in: /tmp\n",
            "No remaining temporary batch files found.\n",
            "Downloaded 1199650941_cellpose-detected_transcripts.csv\n",
            "Downloaded 1199650941_cellpose-detected_transcripts.csv\n",
            "You are using version:  ['Pseudovisium==0.0.40']\n",
            "Date:  2024-06-10\n",
            "Technology not recognized. Going forward with set column names.\n",
            "Quality filter is set to False\n",
            "Quality counting per hexagon is set to False\n",
            "Quality counting per probe is set to False\n",
            "Created temporary directory /tmp/tmp_hexaug0_9tvz\n",
            "Now creating batches\n",
            "Created batch 1\n",
            "Created batch 2\n",
            "Created batch 3\n",
            "Created batch 4\n",
            "Created batch 5\n",
            "Created batch 6\n",
            "Created batch 7\n",
            "Created batch 8\n",
            "Finished preprocessing. Total batches created: 8\n",
            "Processing batches using 8 processes\n"
          ]
        },
        {
          "metadata": {
            "tags": null
          },
          "name": "stderr",
          "output_type": "stream",
          "text": [
            "Processing batches: 100%|██████████| 8/8 [01:47<00:00, 13.40s/batch]\n"
          ]
        },
        {
          "metadata": {
            "tags": null
          },
          "name": "stdout",
          "output_type": "stream",
          "text": [
            "Creating pseudovisium folder in output path:/content/pseudovisium/section4\n",
            "Using already existing folder: /content/pseudovisium/\n",
            "Creating scalefactors_json.json file in spatial folder.\n",
            "Creating barcodes.tsv.gz file in spatial folder.\n",
            "Creating tissue_positions_list.csv file in spatial folder.\n",
            "Creating pv_cell_hex.csv file in spatial folder.\n",
            "No quality information provided. Skipping quality information files.\n",
            "No quality information provided. Skipping quality information files.\n",
            "Creating features.tsv.gz file in spatial folder.\n",
            "Putting together the matrix.mtx file\n",
            "Total matrix count: 56143906.0\n",
            "Number of unique hexagons: 4087\n",
            "Creating matrix.mtx.gz file in spatial folder.\n"
          ]
        },
        {
          "metadata": {
            "tags": null
          },
          "name": "stderr",
          "output_type": "stream",
          "text": [
            "/usr/local/lib/python3.10/dist-packages/Pseudovisium/pseudovisium_generate.py:786: SettingWithCopyWarning: \n",
            "A value is trying to be set on a copy of a slice from a DataFrame.\n",
            "Try using .loc[row_indexer,col_indexer] = value instead\n",
            "\n",
            "See the caveats in the documentation: https://pandas.pydata.org/pandas-docs/stable/user_guide/indexing.html#returning-a-view-versus-a-copy\n",
            "  hexagon_cell_counts[\"hexagon_id\"] = hexagon_cell_counts[\"hexagon_id\"] + 1\n"
          ]
        },
        {
          "metadata": {
            "tags": null
          },
          "name": "stdout",
          "output_type": "stream",
          "text": [
            "Putting together the filtered_feature_bc_matrix.h5 file\n",
            "No image file provided. Drawing tissue positions on a white background.\n",
            "Creating arguments.json file in output path.\n",
            "Time taken: 527.9023866653442 seconds\n",
            "Searching for temporary batch files in: /tmp\n",
            "No remaining temporary batch files found.\n",
            "Downloaded 1199650944_cellpose-detected_transcripts.csv\n",
            "Downloaded 1199650944_cellpose-detected_transcripts.csv\n",
            "You are using version:  ['Pseudovisium==0.0.40']\n",
            "Date:  2024-06-10\n",
            "Technology not recognized. Going forward with set column names.\n",
            "Quality filter is set to False\n",
            "Quality counting per hexagon is set to False\n",
            "Quality counting per probe is set to False\n",
            "Created temporary directory /tmp/tmp_hexafyclvd8o\n",
            "Now creating batches\n",
            "Created batch 1\n",
            "Created batch 2\n",
            "Created batch 3\n",
            "Created batch 4\n",
            "Created batch 5\n",
            "Created batch 6\n",
            "Created batch 7\n",
            "Created batch 8\n",
            "Finished preprocessing. Total batches created: 8\n",
            "Processing batches using 8 processes\n"
          ]
        },
        {
          "metadata": {
            "tags": null
          },
          "name": "stderr",
          "output_type": "stream",
          "text": [
            "Processing batches: 100%|██████████| 8/8 [02:05<00:00, 15.65s/batch]\n"
          ]
        },
        {
          "metadata": {
            "tags": null
          },
          "name": "stdout",
          "output_type": "stream",
          "text": [
            "Creating pseudovisium folder in output path:/content/pseudovisium/section5\n",
            "Using already existing folder: /content/pseudovisium/\n",
            "Creating scalefactors_json.json file in spatial folder.\n",
            "Creating barcodes.tsv.gz file in spatial folder.\n",
            "Creating tissue_positions_list.csv file in spatial folder.\n",
            "Creating pv_cell_hex.csv file in spatial folder.\n",
            "No quality information provided. Skipping quality information files.\n",
            "No quality information provided. Skipping quality information files.\n",
            "Creating features.tsv.gz file in spatial folder.\n",
            "Putting together the matrix.mtx file\n",
            "Total matrix count: 63720688.0\n",
            "Number of unique hexagons: 4327\n",
            "Creating matrix.mtx.gz file in spatial folder.\n"
          ]
        },
        {
          "metadata": {
            "tags": null
          },
          "name": "stderr",
          "output_type": "stream",
          "text": [
            "/usr/local/lib/python3.10/dist-packages/Pseudovisium/pseudovisium_generate.py:786: SettingWithCopyWarning: \n",
            "A value is trying to be set on a copy of a slice from a DataFrame.\n",
            "Try using .loc[row_indexer,col_indexer] = value instead\n",
            "\n",
            "See the caveats in the documentation: https://pandas.pydata.org/pandas-docs/stable/user_guide/indexing.html#returning-a-view-versus-a-copy\n",
            "  hexagon_cell_counts[\"hexagon_id\"] = hexagon_cell_counts[\"hexagon_id\"] + 1\n"
          ]
        },
        {
          "metadata": {
            "tags": null
          },
          "name": "stdout",
          "output_type": "stream",
          "text": [
            "Putting together the filtered_feature_bc_matrix.h5 file\n",
            "No image file provided. Drawing tissue positions on a white background.\n",
            "Creating arguments.json file in output path.\n",
            "Time taken: 597.1107075214386 seconds\n",
            "Searching for temporary batch files in: /tmp\n",
            "No remaining temporary batch files found.\n",
            "Downloaded 1199650950_cellpose-detected_transcripts.csv\n",
            "Downloaded 1199650950_cellpose-detected_transcripts.csv\n",
            "You are using version:  ['Pseudovisium==0.0.40']\n",
            "Date:  2024-06-10\n",
            "Technology not recognized. Going forward with set column names.\n",
            "Quality filter is set to False\n",
            "Quality counting per hexagon is set to False\n",
            "Quality counting per probe is set to False\n",
            "Created temporary directory /tmp/tmp_hexa3atok34n\n",
            "Now creating batches\n",
            "Created batch 1\n",
            "Created batch 2\n",
            "Created batch 3\n",
            "Created batch 4\n",
            "Created batch 5\n",
            "Created batch 6\n",
            "Created batch 7\n",
            "Created batch 8\n",
            "Finished preprocessing. Total batches created: 8\n",
            "Processing batches using 8 processes\n"
          ]
        },
        {
          "metadata": {
            "tags": null
          },
          "name": "stderr",
          "output_type": "stream",
          "text": [
            "Processing batches: 100%|██████████| 8/8 [02:13<00:00, 16.70s/batch]\n"
          ]
        },
        {
          "metadata": {
            "tags": null
          },
          "name": "stdout",
          "output_type": "stream",
          "text": [
            "Creating pseudovisium folder in output path:/content/pseudovisium/section6\n",
            "Using already existing folder: /content/pseudovisium/\n",
            "Creating scalefactors_json.json file in spatial folder.\n",
            "Creating barcodes.tsv.gz file in spatial folder.\n",
            "Creating tissue_positions_list.csv file in spatial folder.\n",
            "Creating pv_cell_hex.csv file in spatial folder.\n"
          ]
        },
        {
          "metadata": {
            "tags": null
          },
          "name": "stderr",
          "output_type": "stream",
          "text": [
            "/usr/local/lib/python3.10/dist-packages/Pseudovisium/pseudovisium_generate.py:786: SettingWithCopyWarning: \n",
            "A value is trying to be set on a copy of a slice from a DataFrame.\n",
            "Try using .loc[row_indexer,col_indexer] = value instead\n",
            "\n",
            "See the caveats in the documentation: https://pandas.pydata.org/pandas-docs/stable/user_guide/indexing.html#returning-a-view-versus-a-copy\n",
            "  hexagon_cell_counts[\"hexagon_id\"] = hexagon_cell_counts[\"hexagon_id\"] + 1\n"
          ]
        },
        {
          "metadata": {
            "tags": null
          },
          "name": "stdout",
          "output_type": "stream",
          "text": [
            "No quality information provided. Skipping quality information files.\n",
            "No quality information provided. Skipping quality information files.\n",
            "Creating features.tsv.gz file in spatial folder.\n",
            "Putting together the matrix.mtx file\n",
            "Total matrix count: 56680519.0\n",
            "Number of unique hexagons: 4444\n",
            "Creating matrix.mtx.gz file in spatial folder.\n",
            "Putting together the filtered_feature_bc_matrix.h5 file\n",
            "No image file provided. Drawing tissue positions on a white background.\n",
            "Creating arguments.json file in output path.\n",
            "Time taken: 560.1623859405518 seconds\n",
            "Searching for temporary batch files in: /tmp\n",
            "No remaining temporary batch files found.\n",
            "Downloaded 1199650953_cellpose-detected_transcripts.csv\n",
            "Downloaded 1199650953_cellpose-detected_transcripts.csv\n",
            "You are using version:  ['Pseudovisium==0.0.40']\n",
            "Date:  2024-06-10\n",
            "Technology not recognized. Going forward with set column names.\n",
            "Quality filter is set to False\n",
            "Quality counting per hexagon is set to False\n",
            "Quality counting per probe is set to False\n",
            "Created temporary directory /tmp/tmp_hexa3mc0pcy9\n",
            "Now creating batches\n",
            "Created batch 1\n",
            "Created batch 2\n",
            "Created batch 3\n",
            "Created batch 4\n",
            "Created batch 5\n",
            "Created batch 6\n",
            "Created batch 7\n",
            "Created batch 8\n",
            "Finished preprocessing. Total batches created: 8\n",
            "Processing batches using 8 processes\n"
          ]
        },
        {
          "metadata": {
            "tags": null
          },
          "name": "stderr",
          "output_type": "stream",
          "text": [
            "Processing batches: 100%|██████████| 8/8 [01:52<00:00, 14.11s/batch]\n"
          ]
        },
        {
          "metadata": {
            "tags": null
          },
          "name": "stdout",
          "output_type": "stream",
          "text": [
            "Creating pseudovisium folder in output path:/content/pseudovisium/section7\n",
            "Using already existing folder: /content/pseudovisium/\n",
            "Creating scalefactors_json.json file in spatial folder.\n",
            "Creating barcodes.tsv.gz file in spatial folder.\n",
            "Creating tissue_positions_list.csv file in spatial folder.\n",
            "Creating pv_cell_hex.csv file in spatial folder.\n"
          ]
        },
        {
          "metadata": {
            "tags": null
          },
          "name": "stderr",
          "output_type": "stream",
          "text": [
            "/usr/local/lib/python3.10/dist-packages/Pseudovisium/pseudovisium_generate.py:786: SettingWithCopyWarning: \n",
            "A value is trying to be set on a copy of a slice from a DataFrame.\n",
            "Try using .loc[row_indexer,col_indexer] = value instead\n",
            "\n",
            "See the caveats in the documentation: https://pandas.pydata.org/pandas-docs/stable/user_guide/indexing.html#returning-a-view-versus-a-copy\n",
            "  hexagon_cell_counts[\"hexagon_id\"] = hexagon_cell_counts[\"hexagon_id\"] + 1\n"
          ]
        },
        {
          "metadata": {
            "tags": null
          },
          "name": "stdout",
          "output_type": "stream",
          "text": [
            "No quality information provided. Skipping quality information files.\n",
            "No quality information provided. Skipping quality information files.\n",
            "Creating features.tsv.gz file in spatial folder.\n",
            "Putting together the matrix.mtx file\n",
            "Total matrix count: 58199340.0\n",
            "Number of unique hexagons: 6180\n",
            "Creating matrix.mtx.gz file in spatial folder.\n",
            "Putting together the filtered_feature_bc_matrix.h5 file\n",
            "No image file provided. Drawing tissue positions on a white background.\n",
            "Creating arguments.json file in output path.\n",
            "Time taken: 575.4494607448578 seconds\n",
            "Searching for temporary batch files in: /tmp\n",
            "No remaining temporary batch files found.\n",
            "Downloaded 1199650956_cellpose-detected_transcripts.csv\n",
            "Downloaded 1199650956_cellpose-detected_transcripts.csv\n",
            "You are using version:  ['Pseudovisium==0.0.40']\n",
            "Date:  2024-06-10\n",
            "Technology not recognized. Going forward with set column names.\n",
            "Quality filter is set to False\n",
            "Quality counting per hexagon is set to False\n",
            "Quality counting per probe is set to False\n",
            "Created temporary directory /tmp/tmp_hexan0gdf_tm\n",
            "Now creating batches\n",
            "Created batch 1\n",
            "Created batch 2\n",
            "Created batch 3\n",
            "Created batch 4\n",
            "Created batch 5\n",
            "Created batch 6\n",
            "Finished preprocessing. Total batches created: 6\n",
            "Processing batches using 8 processes\n"
          ]
        },
        {
          "metadata": {
            "tags": null
          },
          "name": "stderr",
          "output_type": "stream",
          "text": [
            "Processing batches: 100%|██████████| 6/6 [01:24<00:00, 14.13s/batch]\n"
          ]
        },
        {
          "metadata": {
            "tags": null
          },
          "name": "stdout",
          "output_type": "stream",
          "text": [
            "Creating pseudovisium folder in output path:/content/pseudovisium/section8\n",
            "Using already existing folder: /content/pseudovisium/\n",
            "Creating scalefactors_json.json file in spatial folder.\n",
            "Creating barcodes.tsv.gz file in spatial folder.\n",
            "Creating tissue_positions_list.csv file in spatial folder.\n",
            "Creating pv_cell_hex.csv file in spatial folder.\n"
          ]
        },
        {
          "metadata": {
            "tags": null
          },
          "name": "stderr",
          "output_type": "stream",
          "text": [
            "/usr/local/lib/python3.10/dist-packages/Pseudovisium/pseudovisium_generate.py:786: SettingWithCopyWarning: \n",
            "A value is trying to be set on a copy of a slice from a DataFrame.\n",
            "Try using .loc[row_indexer,col_indexer] = value instead\n",
            "\n",
            "See the caveats in the documentation: https://pandas.pydata.org/pandas-docs/stable/user_guide/indexing.html#returning-a-view-versus-a-copy\n",
            "  hexagon_cell_counts[\"hexagon_id\"] = hexagon_cell_counts[\"hexagon_id\"] + 1\n"
          ]
        },
        {
          "metadata": {
            "tags": null
          },
          "name": "stdout",
          "output_type": "stream",
          "text": [
            "No quality information provided. Skipping quality information files.\n",
            "No quality information provided. Skipping quality information files.\n",
            "Creating features.tsv.gz file in spatial folder.\n",
            "Putting together the matrix.mtx file\n",
            "Total matrix count: 40580030.0\n",
            "Number of unique hexagons: 5470\n",
            "Creating matrix.mtx.gz file in spatial folder.\n",
            "Putting together the filtered_feature_bc_matrix.h5 file\n",
            "No image file provided. Drawing tissue positions on a white background.\n",
            "Creating arguments.json file in output path.\n",
            "Time taken: 418.3633985519409 seconds\n",
            "Searching for temporary batch files in: /tmp\n",
            "No remaining temporary batch files found.\n",
            "Downloaded 1199650959_cellpose-detected_transcripts.csv\n",
            "Downloaded 1199650959_cellpose-detected_transcripts.csv\n",
            "You are using version:  ['Pseudovisium==0.0.40']\n",
            "Date:  2024-06-10\n",
            "Technology not recognized. Going forward with set column names.\n",
            "Quality filter is set to False\n",
            "Quality counting per hexagon is set to False\n",
            "Quality counting per probe is set to False\n",
            "Created temporary directory /tmp/tmp_hexaxovo45zj\n",
            "Now creating batches\n",
            "Created batch 1\n",
            "Created batch 2\n",
            "Created batch 3\n",
            "Created batch 4\n",
            "Created batch 5\n",
            "Created batch 6\n",
            "Finished preprocessing. Total batches created: 6\n",
            "Processing batches using 8 processes\n"
          ]
        },
        {
          "metadata": {
            "tags": null
          },
          "name": "stderr",
          "output_type": "stream",
          "text": [
            "Processing batches: 100%|██████████| 6/6 [01:40<00:00, 16.71s/batch]\n"
          ]
        },
        {
          "metadata": {
            "tags": null
          },
          "name": "stdout",
          "output_type": "stream",
          "text": [
            "Creating pseudovisium folder in output path:/content/pseudovisium/section9\n",
            "Using already existing folder: /content/pseudovisium/\n",
            "Creating scalefactors_json.json file in spatial folder.\n",
            "Creating barcodes.tsv.gz file in spatial folder.\n",
            "Creating tissue_positions_list.csv file in spatial folder.\n",
            "Creating pv_cell_hex.csv file in spatial folder.\n",
            "No quality information provided. Skipping quality information files.\n",
            "No quality information provided. Skipping quality information files.\n",
            "Creating features.tsv.gz file in spatial folder.\n",
            "Putting together the matrix.mtx file\n",
            "Total matrix count: 47677230.0\n",
            "Number of unique hexagons: 5321\n",
            "Creating matrix.mtx.gz file in spatial folder.\n"
          ]
        },
        {
          "metadata": {
            "tags": null
          },
          "name": "stderr",
          "output_type": "stream",
          "text": [
            "/usr/local/lib/python3.10/dist-packages/Pseudovisium/pseudovisium_generate.py:786: SettingWithCopyWarning: \n",
            "A value is trying to be set on a copy of a slice from a DataFrame.\n",
            "Try using .loc[row_indexer,col_indexer] = value instead\n",
            "\n",
            "See the caveats in the documentation: https://pandas.pydata.org/pandas-docs/stable/user_guide/indexing.html#returning-a-view-versus-a-copy\n",
            "  hexagon_cell_counts[\"hexagon_id\"] = hexagon_cell_counts[\"hexagon_id\"] + 1\n"
          ]
        },
        {
          "metadata": {
            "tags": null
          },
          "name": "stdout",
          "output_type": "stream",
          "text": [
            "Putting together the filtered_feature_bc_matrix.h5 file\n",
            "No image file provided. Drawing tissue positions on a white background.\n",
            "Creating arguments.json file in output path.\n",
            "Time taken: 476.0425491333008 seconds\n",
            "Searching for temporary batch files in: /tmp\n",
            "No remaining temporary batch files found.\n",
            "Downloaded 1199650962_cellpose-detected_transcripts.csv\n",
            "Downloaded 1199650962_cellpose-detected_transcripts.csv\n",
            "You are using version:  ['Pseudovisium==0.0.40']\n",
            "Date:  2024-06-10\n",
            "Technology not recognized. Going forward with set column names.\n",
            "Quality filter is set to False\n",
            "Quality counting per hexagon is set to False\n",
            "Quality counting per probe is set to False\n",
            "Created temporary directory /tmp/tmp_hexaxq9htbv4\n",
            "Now creating batches\n",
            "Created batch 1\n",
            "Created batch 2\n",
            "Created batch 3\n",
            "Created batch 4\n",
            "Created batch 5\n",
            "Created batch 6\n",
            "Created batch 7\n",
            "Finished preprocessing. Total batches created: 7\n",
            "Processing batches using 8 processes\n"
          ]
        },
        {
          "metadata": {
            "tags": null
          },
          "name": "stderr",
          "output_type": "stream",
          "text": [
            "Processing batches: 100%|██████████| 7/7 [02:08<00:00, 18.42s/batch]\n"
          ]
        },
        {
          "metadata": {
            "tags": null
          },
          "name": "stdout",
          "output_type": "stream",
          "text": [
            "Creating pseudovisium folder in output path:/content/pseudovisium/section10\n",
            "Using already existing folder: /content/pseudovisium/\n",
            "Creating scalefactors_json.json file in spatial folder.\n",
            "Creating barcodes.tsv.gz file in spatial folder.\n",
            "Creating tissue_positions_list.csv file in spatial folder.\n",
            "Creating pv_cell_hex.csv file in spatial folder.\n",
            "No quality information provided. Skipping quality information files.\n",
            "No quality information provided. Skipping quality information files.\n",
            "Creating features.tsv.gz file in spatial folder.\n",
            "Putting together the matrix.mtx file\n",
            "Total matrix count: 55161199.0\n",
            "Number of unique hexagons: 5924\n",
            "Creating matrix.mtx.gz file in spatial folder.\n"
          ]
        },
        {
          "metadata": {
            "tags": null
          },
          "name": "stderr",
          "output_type": "stream",
          "text": [
            "/usr/local/lib/python3.10/dist-packages/Pseudovisium/pseudovisium_generate.py:786: SettingWithCopyWarning: \n",
            "A value is trying to be set on a copy of a slice from a DataFrame.\n",
            "Try using .loc[row_indexer,col_indexer] = value instead\n",
            "\n",
            "See the caveats in the documentation: https://pandas.pydata.org/pandas-docs/stable/user_guide/indexing.html#returning-a-view-versus-a-copy\n",
            "  hexagon_cell_counts[\"hexagon_id\"] = hexagon_cell_counts[\"hexagon_id\"] + 1\n"
          ]
        },
        {
          "metadata": {
            "tags": null
          },
          "name": "stdout",
          "output_type": "stream",
          "text": [
            "Putting together the filtered_feature_bc_matrix.h5 file\n",
            "No image file provided. Drawing tissue positions on a white background.\n",
            "Creating arguments.json file in output path.\n",
            "Time taken: 556.1927514076233 seconds\n",
            "Searching for temporary batch files in: /tmp\n",
            "No remaining temporary batch files found.\n",
            "Downloaded 1199650965_cellpose-detected_transcripts.csv\n",
            "Downloaded 1199650965_cellpose-detected_transcripts.csv\n",
            "You are using version:  ['Pseudovisium==0.0.40']\n",
            "Date:  2024-06-10\n",
            "Technology not recognized. Going forward with set column names.\n",
            "Quality filter is set to False\n",
            "Quality counting per hexagon is set to False\n",
            "Quality counting per probe is set to False\n",
            "Created temporary directory /tmp/tmp_hexapysc5dxn\n",
            "Now creating batches\n",
            "Created batch 1\n",
            "Created batch 2\n",
            "Created batch 3\n",
            "Created batch 4\n",
            "Created batch 5\n",
            "Created batch 6\n",
            "Created batch 7\n",
            "Created batch 8\n",
            "Created batch 9\n",
            "Finished preprocessing. Total batches created: 9\n",
            "Processing batches using 8 processes\n"
          ]
        },
        {
          "metadata": {
            "tags": null
          },
          "name": "stderr",
          "output_type": "stream",
          "text": [
            "Processing batches: 100%|██████████| 9/9 [02:39<00:00, 17.75s/batch]\n"
          ]
        },
        {
          "metadata": {
            "tags": null
          },
          "name": "stdout",
          "output_type": "stream",
          "text": [
            "Creating pseudovisium folder in output path:/content/pseudovisium/section11\n",
            "Using already existing folder: /content/pseudovisium/\n",
            "Creating scalefactors_json.json file in spatial folder.\n",
            "Creating barcodes.tsv.gz file in spatial folder.\n",
            "Creating tissue_positions_list.csv file in spatial folder.\n",
            "Creating pv_cell_hex.csv file in spatial folder.\n"
          ]
        },
        {
          "metadata": {
            "tags": null
          },
          "name": "stderr",
          "output_type": "stream",
          "text": [
            "/usr/local/lib/python3.10/dist-packages/Pseudovisium/pseudovisium_generate.py:786: SettingWithCopyWarning: \n",
            "A value is trying to be set on a copy of a slice from a DataFrame.\n",
            "Try using .loc[row_indexer,col_indexer] = value instead\n",
            "\n",
            "See the caveats in the documentation: https://pandas.pydata.org/pandas-docs/stable/user_guide/indexing.html#returning-a-view-versus-a-copy\n",
            "  hexagon_cell_counts[\"hexagon_id\"] = hexagon_cell_counts[\"hexagon_id\"] + 1\n"
          ]
        },
        {
          "metadata": {
            "tags": null
          },
          "name": "stdout",
          "output_type": "stream",
          "text": [
            "No quality information provided. Skipping quality information files.\n",
            "No quality information provided. Skipping quality information files.\n",
            "Creating features.tsv.gz file in spatial folder.\n",
            "Putting together the matrix.mtx file\n",
            "Total matrix count: 64284710.0\n",
            "Number of unique hexagons: 6347\n",
            "Creating matrix.mtx.gz file in spatial folder.\n",
            "Putting together the filtered_feature_bc_matrix.h5 file\n",
            "No image file provided. Drawing tissue positions on a white background.\n",
            "Creating arguments.json file in output path.\n",
            "Time taken: 631.530256986618 seconds\n",
            "Searching for temporary batch files in: /tmp\n",
            "No remaining temporary batch files found.\n",
            "Downloaded 1199650968_cellpose-detected_transcripts.csv\n",
            "Downloaded 1199650968_cellpose-detected_transcripts.csv\n",
            "You are using version:  ['Pseudovisium==0.0.40']\n",
            "Date:  2024-06-10\n",
            "Technology not recognized. Going forward with set column names.\n",
            "Quality filter is set to False\n",
            "Quality counting per hexagon is set to False\n",
            "Quality counting per probe is set to False\n",
            "Created temporary directory /tmp/tmp_hexaj3i8pthw\n",
            "Now creating batches\n",
            "Created batch 1\n",
            "Created batch 2\n",
            "Created batch 3\n",
            "Created batch 4\n",
            "Created batch 5\n",
            "Created batch 6\n",
            "Created batch 7\n",
            "Created batch 8\n",
            "Created batch 9\n",
            "Created batch 10\n",
            "Finished preprocessing. Total batches created: 10\n",
            "Processing batches using 8 processes\n"
          ]
        },
        {
          "metadata": {
            "tags": null
          },
          "name": "stderr",
          "output_type": "stream",
          "text": [
            "Processing batches: 100%|██████████| 10/10 [02:59<00:00, 17.99s/batch]\n"
          ]
        },
        {
          "metadata": {
            "tags": null
          },
          "name": "stdout",
          "output_type": "stream",
          "text": [
            "Creating pseudovisium folder in output path:/content/pseudovisium/section12\n",
            "Using already existing folder: /content/pseudovisium/\n",
            "Creating scalefactors_json.json file in spatial folder.\n",
            "Creating barcodes.tsv.gz file in spatial folder.\n",
            "Creating tissue_positions_list.csv file in spatial folder.\n",
            "Creating pv_cell_hex.csv file in spatial folder.\n"
          ]
        },
        {
          "metadata": {
            "tags": null
          },
          "name": "stderr",
          "output_type": "stream",
          "text": [
            "/usr/local/lib/python3.10/dist-packages/Pseudovisium/pseudovisium_generate.py:786: SettingWithCopyWarning: \n",
            "A value is trying to be set on a copy of a slice from a DataFrame.\n",
            "Try using .loc[row_indexer,col_indexer] = value instead\n",
            "\n",
            "See the caveats in the documentation: https://pandas.pydata.org/pandas-docs/stable/user_guide/indexing.html#returning-a-view-versus-a-copy\n",
            "  hexagon_cell_counts[\"hexagon_id\"] = hexagon_cell_counts[\"hexagon_id\"] + 1\n"
          ]
        },
        {
          "metadata": {
            "tags": null
          },
          "name": "stdout",
          "output_type": "stream",
          "text": [
            "No quality information provided. Skipping quality information files.\n",
            "No quality information provided. Skipping quality information files.\n",
            "Creating features.tsv.gz file in spatial folder.\n",
            "Putting together the matrix.mtx file\n",
            "Total matrix count: 79579322.0\n",
            "Number of unique hexagons: 5813\n",
            "Creating matrix.mtx.gz file in spatial folder.\n",
            "Putting together the filtered_feature_bc_matrix.h5 file\n",
            "No image file provided. Drawing tissue positions on a white background.\n",
            "Creating arguments.json file in output path.\n",
            "Time taken: 758.7537641525269 seconds\n",
            "Searching for temporary batch files in: /tmp\n",
            "No remaining temporary batch files found.\n",
            "Downloaded 1199650972_cellpose-detected_transcripts.csv\n",
            "Downloaded 1199650972_cellpose-detected_transcripts.csv\n",
            "You are using version:  ['Pseudovisium==0.0.40']\n",
            "Date:  2024-06-10\n",
            "Technology not recognized. Going forward with set column names.\n",
            "Quality filter is set to False\n",
            "Quality counting per hexagon is set to False\n",
            "Quality counting per probe is set to False\n",
            "Created temporary directory /tmp/tmp_hexa99tcurd9\n",
            "Now creating batches\n",
            "Created batch 1\n",
            "Created batch 2\n",
            "Created batch 3\n",
            "Created batch 4\n",
            "Created batch 5\n",
            "Created batch 6\n",
            "Created batch 7\n",
            "Created batch 8\n",
            "Created batch 9\n",
            "Created batch 10\n",
            "Created batch 11\n",
            "Created batch 12\n",
            "Finished preprocessing. Total batches created: 12\n",
            "Processing batches using 8 processes\n"
          ]
        },
        {
          "metadata": {
            "tags": null
          },
          "name": "stderr",
          "output_type": "stream",
          "text": [
            "Processing batches: 100%|██████████| 12/12 [03:28<00:00, 17.38s/batch]\n"
          ]
        },
        {
          "metadata": {
            "tags": null
          },
          "name": "stdout",
          "output_type": "stream",
          "text": [
            "Creating pseudovisium folder in output path:/content/pseudovisium/section13\n",
            "Using already existing folder: /content/pseudovisium/\n",
            "Creating scalefactors_json.json file in spatial folder.\n",
            "Creating barcodes.tsv.gz file in spatial folder.\n",
            "Creating tissue_positions_list.csv file in spatial folder.\n",
            "Creating pv_cell_hex.csv file in spatial folder.\n",
            "No quality information provided. Skipping quality information files.\n",
            "No quality information provided. Skipping quality information files.\n",
            "Creating features.tsv.gz file in spatial folder.\n",
            "Putting together the matrix.mtx file\n",
            "Total matrix count: 92745942.0\n",
            "Number of unique hexagons: 6215\n",
            "Creating matrix.mtx.gz file in spatial folder.\n"
          ]
        },
        {
          "metadata": {
            "tags": null
          },
          "name": "stderr",
          "output_type": "stream",
          "text": [
            "/usr/local/lib/python3.10/dist-packages/Pseudovisium/pseudovisium_generate.py:786: SettingWithCopyWarning: \n",
            "A value is trying to be set on a copy of a slice from a DataFrame.\n",
            "Try using .loc[row_indexer,col_indexer] = value instead\n",
            "\n",
            "See the caveats in the documentation: https://pandas.pydata.org/pandas-docs/stable/user_guide/indexing.html#returning-a-view-versus-a-copy\n",
            "  hexagon_cell_counts[\"hexagon_id\"] = hexagon_cell_counts[\"hexagon_id\"] + 1\n"
          ]
        },
        {
          "metadata": {
            "tags": null
          },
          "name": "stdout",
          "output_type": "stream",
          "text": [
            "Putting together the filtered_feature_bc_matrix.h5 file\n",
            "No image file provided. Drawing tissue positions on a white background.\n",
            "Creating arguments.json file in output path.\n",
            "Time taken: 893.8146164417267 seconds\n",
            "Searching for temporary batch files in: /tmp\n",
            "No remaining temporary batch files found.\n",
            "Downloaded 1199650975_cellpose-detected_transcripts.csv\n",
            "Downloaded 1199650975_cellpose-detected_transcripts.csv\n",
            "You are using version:  ['Pseudovisium==0.0.40']\n",
            "Date:  2024-06-10\n",
            "Technology not recognized. Going forward with set column names.\n",
            "Quality filter is set to False\n",
            "Quality counting per hexagon is set to False\n",
            "Quality counting per probe is set to False\n",
            "Created temporary directory /tmp/tmp_hexaqrg5_yv8\n",
            "Now creating batches\n",
            "Created batch 1\n",
            "Created batch 2\n",
            "Created batch 3\n",
            "Created batch 4\n",
            "Created batch 5\n",
            "Created batch 6\n",
            "Created batch 7\n",
            "Created batch 8\n",
            "Created batch 9\n",
            "Created batch 10\n",
            "Created batch 11\n",
            "Created batch 12\n",
            "Finished preprocessing. Total batches created: 12\n",
            "Processing batches using 8 processes\n"
          ]
        },
        {
          "metadata": {
            "tags": null
          },
          "name": "stderr",
          "output_type": "stream",
          "text": [
            "Processing batches: 100%|██████████| 12/12 [03:08<00:00, 15.72s/batch]\n"
          ]
        },
        {
          "metadata": {
            "tags": null
          },
          "name": "stdout",
          "output_type": "stream",
          "text": [
            "Creating pseudovisium folder in output path:/content/pseudovisium/section14\n",
            "Using already existing folder: /content/pseudovisium/\n",
            "Creating scalefactors_json.json file in spatial folder.\n",
            "Creating barcodes.tsv.gz file in spatial folder.\n",
            "Creating tissue_positions_list.csv file in spatial folder.\n",
            "Creating pv_cell_hex.csv file in spatial folder.\n"
          ]
        },
        {
          "metadata": {
            "tags": null
          },
          "name": "stderr",
          "output_type": "stream",
          "text": [
            "/usr/local/lib/python3.10/dist-packages/Pseudovisium/pseudovisium_generate.py:786: SettingWithCopyWarning: \n",
            "A value is trying to be set on a copy of a slice from a DataFrame.\n",
            "Try using .loc[row_indexer,col_indexer] = value instead\n",
            "\n",
            "See the caveats in the documentation: https://pandas.pydata.org/pandas-docs/stable/user_guide/indexing.html#returning-a-view-versus-a-copy\n",
            "  hexagon_cell_counts[\"hexagon_id\"] = hexagon_cell_counts[\"hexagon_id\"] + 1\n"
          ]
        },
        {
          "metadata": {
            "tags": null
          },
          "name": "stdout",
          "output_type": "stream",
          "text": [
            "No quality information provided. Skipping quality information files.\n",
            "No quality information provided. Skipping quality information files.\n",
            "Creating features.tsv.gz file in spatial folder.\n",
            "Putting together the matrix.mtx file\n",
            "Total matrix count: 93022479.0\n",
            "Number of unique hexagons: 6566\n",
            "Creating matrix.mtx.gz file in spatial folder.\n",
            "Putting together the filtered_feature_bc_matrix.h5 file\n",
            "No image file provided. Drawing tissue positions on a white background.\n",
            "Creating arguments.json file in output path.\n",
            "Time taken: 877.5256569385529 seconds\n",
            "Searching for temporary batch files in: /tmp\n",
            "No remaining temporary batch files found.\n",
            "Downloaded 1199650978_cellpose-detected_transcripts.csv\n",
            "Downloaded 1199650978_cellpose-detected_transcripts.csv\n",
            "You are using version:  ['Pseudovisium==0.0.40']\n",
            "Date:  2024-06-10\n",
            "Technology not recognized. Going forward with set column names.\n",
            "Quality filter is set to False\n",
            "Quality counting per hexagon is set to False\n",
            "Quality counting per probe is set to False\n",
            "Created temporary directory /tmp/tmp_hexay4eddiaf\n",
            "Now creating batches\n",
            "Created batch 1\n",
            "Created batch 2\n",
            "Created batch 3\n",
            "Created batch 4\n",
            "Created batch 5\n",
            "Created batch 6\n",
            "Created batch 7\n",
            "Created batch 8\n",
            "Created batch 9\n",
            "Finished preprocessing. Total batches created: 9\n",
            "Processing batches using 8 processes\n"
          ]
        },
        {
          "metadata": {
            "tags": null
          },
          "name": "stderr",
          "output_type": "stream",
          "text": [
            "Processing batches: 100%|██████████| 9/9 [02:30<00:00, 16.75s/batch]\n"
          ]
        },
        {
          "metadata": {
            "tags": null
          },
          "name": "stdout",
          "output_type": "stream",
          "text": [
            "Creating pseudovisium folder in output path:/content/pseudovisium/section15\n",
            "Using already existing folder: /content/pseudovisium/\n",
            "Creating scalefactors_json.json file in spatial folder.\n",
            "Creating barcodes.tsv.gz file in spatial folder.\n",
            "Creating tissue_positions_list.csv file in spatial folder.\n",
            "Creating pv_cell_hex.csv file in spatial folder.\n",
            "No quality information provided. Skipping quality information files.\n",
            "No quality information provided. Skipping quality information files.\n",
            "Creating features.tsv.gz file in spatial folder.\n",
            "Putting together the matrix.mtx file\n",
            "Total matrix count: 68984567.0\n",
            "Number of unique hexagons: 5488\n",
            "Creating matrix.mtx.gz file in spatial folder.\n"
          ]
        },
        {
          "metadata": {
            "tags": null
          },
          "name": "stderr",
          "output_type": "stream",
          "text": [
            "/usr/local/lib/python3.10/dist-packages/Pseudovisium/pseudovisium_generate.py:786: SettingWithCopyWarning: \n",
            "A value is trying to be set on a copy of a slice from a DataFrame.\n",
            "Try using .loc[row_indexer,col_indexer] = value instead\n",
            "\n",
            "See the caveats in the documentation: https://pandas.pydata.org/pandas-docs/stable/user_guide/indexing.html#returning-a-view-versus-a-copy\n",
            "  hexagon_cell_counts[\"hexagon_id\"] = hexagon_cell_counts[\"hexagon_id\"] + 1\n"
          ]
        },
        {
          "metadata": {
            "tags": null
          },
          "name": "stdout",
          "output_type": "stream",
          "text": [
            "Putting together the filtered_feature_bc_matrix.h5 file\n",
            "No image file provided. Drawing tissue positions on a white background.\n",
            "Creating arguments.json file in output path.\n",
            "Time taken: 646.5807509422302 seconds\n",
            "Searching for temporary batch files in: /tmp\n",
            "No remaining temporary batch files found.\n",
            "Downloaded 1199650981_cellpose-detected_transcripts.csv\n",
            "Downloaded 1199650981_cellpose-detected_transcripts.csv\n",
            "You are using version:  ['Pseudovisium==0.0.40']\n",
            "Date:  2024-06-10\n",
            "Technology not recognized. Going forward with set column names.\n",
            "Quality filter is set to False\n",
            "Quality counting per hexagon is set to False\n",
            "Quality counting per probe is set to False\n",
            "Created temporary directory /tmp/tmp_hexav51_9ddz\n",
            "Now creating batches\n",
            "Created batch 1\n",
            "Created batch 2\n",
            "Created batch 3\n",
            "Created batch 4\n",
            "Created batch 5\n",
            "Finished preprocessing. Total batches created: 5\n",
            "Processing batches using 8 processes\n"
          ]
        },
        {
          "metadata": {
            "tags": null
          },
          "name": "stderr",
          "output_type": "stream",
          "text": [
            "Processing batches: 100%|██████████| 5/5 [01:27<00:00, 17.49s/batch]\n"
          ]
        },
        {
          "metadata": {
            "tags": null
          },
          "name": "stdout",
          "output_type": "stream",
          "text": [
            "Creating pseudovisium folder in output path:/content/pseudovisium/section16\n",
            "Using already existing folder: /content/pseudovisium/\n",
            "Creating scalefactors_json.json file in spatial folder.\n",
            "Creating barcodes.tsv.gz file in spatial folder.\n",
            "Creating tissue_positions_list.csv file in spatial folder.\n",
            "Creating pv_cell_hex.csv file in spatial folder.\n",
            "No quality information provided. Skipping quality information files.\n",
            "No quality information provided. Skipping quality information files.\n",
            "Creating features.tsv.gz file in spatial folder.\n",
            "Putting together the matrix.mtx file\n",
            "Total matrix count: 39533483.0\n",
            "Number of unique hexagons: 4542\n",
            "Creating matrix.mtx.gz file in spatial folder.\n"
          ]
        },
        {
          "metadata": {
            "tags": null
          },
          "name": "stderr",
          "output_type": "stream",
          "text": [
            "/usr/local/lib/python3.10/dist-packages/Pseudovisium/pseudovisium_generate.py:786: SettingWithCopyWarning: \n",
            "A value is trying to be set on a copy of a slice from a DataFrame.\n",
            "Try using .loc[row_indexer,col_indexer] = value instead\n",
            "\n",
            "See the caveats in the documentation: https://pandas.pydata.org/pandas-docs/stable/user_guide/indexing.html#returning-a-view-versus-a-copy\n",
            "  hexagon_cell_counts[\"hexagon_id\"] = hexagon_cell_counts[\"hexagon_id\"] + 1\n"
          ]
        },
        {
          "metadata": {
            "tags": null
          },
          "name": "stdout",
          "output_type": "stream",
          "text": [
            "Putting together the filtered_feature_bc_matrix.h5 file\n",
            "No image file provided. Drawing tissue positions on a white background.\n",
            "Creating arguments.json file in output path.\n",
            "Time taken: 395.4439218044281 seconds\n",
            "Searching for temporary batch files in: /tmp\n",
            "No remaining temporary batch files found.\n",
            "Downloaded 1199650984_cellpose-detected_transcripts.csv\n",
            "Downloaded 1199650984_cellpose-detected_transcripts.csv\n",
            "You are using version:  ['Pseudovisium==0.0.40']\n",
            "Date:  2024-06-10\n",
            "Technology not recognized. Going forward with set column names.\n",
            "Quality filter is set to False\n",
            "Quality counting per hexagon is set to False\n",
            "Quality counting per probe is set to False\n",
            "Created temporary directory /tmp/tmp_hexadlp7h1m6\n",
            "Now creating batches\n",
            "Created batch 1\n",
            "Created batch 2\n",
            "Created batch 3\n",
            "Created batch 4\n",
            "Created batch 5\n",
            "Created batch 6\n",
            "Created batch 7\n",
            "Created batch 8\n",
            "Created batch 9\n",
            "Finished preprocessing. Total batches created: 9\n",
            "Processing batches using 8 processes\n"
          ]
        },
        {
          "metadata": {
            "tags": null
          },
          "name": "stderr",
          "output_type": "stream",
          "text": [
            "Processing batches: 100%|██████████| 9/9 [02:43<00:00, 18.11s/batch]\n"
          ]
        },
        {
          "metadata": {
            "tags": null
          },
          "name": "stdout",
          "output_type": "stream",
          "text": [
            "Creating pseudovisium folder in output path:/content/pseudovisium/section17\n",
            "Using already existing folder: /content/pseudovisium/\n",
            "Creating scalefactors_json.json file in spatial folder.\n",
            "Creating barcodes.tsv.gz file in spatial folder.\n",
            "Creating tissue_positions_list.csv file in spatial folder.\n",
            "Creating pv_cell_hex.csv file in spatial folder.\n",
            "No quality information provided. Skipping quality information files.\n",
            "No quality information provided. Skipping quality information files.\n",
            "Creating features.tsv.gz file in spatial folder.\n",
            "Putting together the matrix.mtx file\n",
            "Total matrix count: 67912813.0\n",
            "Number of unique hexagons: 5601\n",
            "Creating matrix.mtx.gz file in spatial folder.\n"
          ]
        },
        {
          "metadata": {
            "tags": null
          },
          "name": "stderr",
          "output_type": "stream",
          "text": [
            "/usr/local/lib/python3.10/dist-packages/Pseudovisium/pseudovisium_generate.py:786: SettingWithCopyWarning: \n",
            "A value is trying to be set on a copy of a slice from a DataFrame.\n",
            "Try using .loc[row_indexer,col_indexer] = value instead\n",
            "\n",
            "See the caveats in the documentation: https://pandas.pydata.org/pandas-docs/stable/user_guide/indexing.html#returning-a-view-versus-a-copy\n",
            "  hexagon_cell_counts[\"hexagon_id\"] = hexagon_cell_counts[\"hexagon_id\"] + 1\n"
          ]
        },
        {
          "metadata": {
            "tags": null
          },
          "name": "stdout",
          "output_type": "stream",
          "text": [
            "Putting together the filtered_feature_bc_matrix.h5 file\n",
            "No image file provided. Drawing tissue positions on a white background.\n",
            "Creating arguments.json file in output path.\n",
            "Time taken: 620.8957302570343 seconds\n",
            "Searching for temporary batch files in: /tmp\n",
            "No remaining temporary batch files found.\n",
            "Downloaded 1199650987_cellpose-detected_transcripts.csv\n",
            "Downloaded 1199650987_cellpose-detected_transcripts.csv\n",
            "You are using version:  ['Pseudovisium==0.0.40']\n",
            "Date:  2024-06-10\n",
            "Technology not recognized. Going forward with set column names.\n",
            "Quality filter is set to False\n",
            "Quality counting per hexagon is set to False\n",
            "Quality counting per probe is set to False\n",
            "Created temporary directory /tmp/tmp_hexaqcgm1pwy\n",
            "Now creating batches\n",
            "Created batch 1\n",
            "Created batch 2\n",
            "Created batch 3\n",
            "Created batch 4\n",
            "Finished preprocessing. Total batches created: 4\n",
            "Processing batches using 8 processes\n"
          ]
        },
        {
          "metadata": {
            "tags": null
          },
          "name": "stderr",
          "output_type": "stream",
          "text": [
            "Processing batches: 100%|██████████| 4/4 [01:00<00:00, 15.25s/batch]\n"
          ]
        },
        {
          "metadata": {
            "tags": null
          },
          "name": "stdout",
          "output_type": "stream",
          "text": [
            "Creating pseudovisium folder in output path:/content/pseudovisium/section18\n",
            "Using already existing folder: /content/pseudovisium/\n",
            "Creating scalefactors_json.json file in spatial folder.\n",
            "Creating barcodes.tsv.gz file in spatial folder.\n",
            "Creating tissue_positions_list.csv file in spatial folder.\n",
            "Creating pv_cell_hex.csv file in spatial folder.\n",
            "No quality information provided. Skipping quality information files.\n",
            "No quality information provided. Skipping quality information files.\n",
            "Creating features.tsv.gz file in spatial folder.\n",
            "Putting together the matrix.mtx file\n",
            "Total matrix count: 28753686.0\n",
            "Number of unique hexagons: 2433\n",
            "Creating matrix.mtx.gz file in spatial folder.\n"
          ]
        },
        {
          "metadata": {
            "tags": null
          },
          "name": "stderr",
          "output_type": "stream",
          "text": [
            "/usr/local/lib/python3.10/dist-packages/Pseudovisium/pseudovisium_generate.py:786: SettingWithCopyWarning: \n",
            "A value is trying to be set on a copy of a slice from a DataFrame.\n",
            "Try using .loc[row_indexer,col_indexer] = value instead\n",
            "\n",
            "See the caveats in the documentation: https://pandas.pydata.org/pandas-docs/stable/user_guide/indexing.html#returning-a-view-versus-a-copy\n",
            "  hexagon_cell_counts[\"hexagon_id\"] = hexagon_cell_counts[\"hexagon_id\"] + 1\n"
          ]
        },
        {
          "metadata": {
            "tags": null
          },
          "name": "stdout",
          "output_type": "stream",
          "text": [
            "Putting together the filtered_feature_bc_matrix.h5 file\n",
            "No image file provided. Drawing tissue positions on a white background.\n",
            "Creating arguments.json file in output path.\n",
            "Time taken: 260.00649070739746 seconds\n",
            "Searching for temporary batch files in: /tmp\n",
            "No remaining temporary batch files found.\n",
            "Downloaded 1199650999_cellpose-detected_transcripts.csv\n",
            "Downloaded 1199650999_cellpose-detected_transcripts.csv\n",
            "You are using version:  ['Pseudovisium==0.0.40']\n",
            "Date:  2024-06-10\n",
            "Technology not recognized. Going forward with set column names.\n",
            "Quality filter is set to False\n",
            "Quality counting per hexagon is set to False\n",
            "Quality counting per probe is set to False\n",
            "Created temporary directory /tmp/tmp_hexa97r2gms2\n",
            "Now creating batches\n",
            "Created batch 1\n",
            "Created batch 2\n",
            "Created batch 3\n",
            "Created batch 4\n",
            "Created batch 5\n",
            "Created batch 6\n",
            "Created batch 7\n",
            "Finished preprocessing. Total batches created: 7\n",
            "Processing batches using 8 processes\n"
          ]
        },
        {
          "metadata": {
            "tags": null
          },
          "name": "stderr",
          "output_type": "stream",
          "text": [
            "Processing batches: 100%|██████████| 7/7 [01:58<00:00, 16.97s/batch]\n"
          ]
        },
        {
          "metadata": {
            "tags": null
          },
          "name": "stdout",
          "output_type": "stream",
          "text": [
            "Creating pseudovisium folder in output path:/content/pseudovisium/section19\n",
            "Using already existing folder: /content/pseudovisium/\n",
            "Creating scalefactors_json.json file in spatial folder.\n",
            "Creating barcodes.tsv.gz file in spatial folder.\n",
            "Creating tissue_positions_list.csv file in spatial folder.\n",
            "Creating pv_cell_hex.csv file in spatial folder.\n",
            "No quality information provided. Skipping quality information files.\n",
            "No quality information provided. Skipping quality information files.\n",
            "Creating features.tsv.gz file in spatial folder.\n",
            "Putting together the matrix.mtx file\n",
            "Total matrix count: 50547797.0\n",
            "Number of unique hexagons: 5211\n",
            "Creating matrix.mtx.gz file in spatial folder.\n"
          ]
        },
        {
          "metadata": {
            "tags": null
          },
          "name": "stderr",
          "output_type": "stream",
          "text": [
            "/usr/local/lib/python3.10/dist-packages/Pseudovisium/pseudovisium_generate.py:786: SettingWithCopyWarning: \n",
            "A value is trying to be set on a copy of a slice from a DataFrame.\n",
            "Try using .loc[row_indexer,col_indexer] = value instead\n",
            "\n",
            "See the caveats in the documentation: https://pandas.pydata.org/pandas-docs/stable/user_guide/indexing.html#returning-a-view-versus-a-copy\n",
            "  hexagon_cell_counts[\"hexagon_id\"] = hexagon_cell_counts[\"hexagon_id\"] + 1\n"
          ]
        },
        {
          "metadata": {
            "tags": null
          },
          "name": "stdout",
          "output_type": "stream",
          "text": [
            "Putting together the filtered_feature_bc_matrix.h5 file\n",
            "No image file provided. Drawing tissue positions on a white background.\n",
            "Creating arguments.json file in output path.\n",
            "Time taken: 480.07486844062805 seconds\n",
            "Searching for temporary batch files in: /tmp\n",
            "No remaining temporary batch files found.\n",
            "Downloaded 1199651002_cellpose-detected_transcripts.csv\n",
            "Downloaded 1199651002_cellpose-detected_transcripts.csv\n",
            "You are using version:  ['Pseudovisium==0.0.40']\n",
            "Date:  2024-06-10\n",
            "Technology not recognized. Going forward with set column names.\n",
            "Quality filter is set to False\n",
            "Quality counting per hexagon is set to False\n",
            "Quality counting per probe is set to False\n",
            "Created temporary directory /tmp/tmp_hexag1l75uu6\n",
            "Now creating batches\n",
            "Created batch 1\n",
            "Created batch 2\n",
            "Created batch 3\n",
            "Created batch 4\n",
            "Created batch 5\n",
            "Created batch 6\n",
            "Created batch 7\n",
            "Created batch 8\n",
            "Created batch 9\n",
            "Created batch 10\n",
            "Created batch 11\n",
            "Finished preprocessing. Total batches created: 11\n",
            "Processing batches using 8 processes\n"
          ]
        },
        {
          "metadata": {
            "tags": null
          },
          "name": "stderr",
          "output_type": "stream",
          "text": [
            "Processing batches: 100%|██████████| 11/11 [02:56<00:00, 16.09s/batch]\n"
          ]
        },
        {
          "metadata": {
            "tags": null
          },
          "name": "stdout",
          "output_type": "stream",
          "text": [
            "Creating pseudovisium folder in output path:/content/pseudovisium/section20\n",
            "Using already existing folder: /content/pseudovisium/\n",
            "Creating scalefactors_json.json file in spatial folder.\n",
            "Creating barcodes.tsv.gz file in spatial folder.\n",
            "Creating tissue_positions_list.csv file in spatial folder.\n",
            "Creating pv_cell_hex.csv file in spatial folder.\n"
          ]
        },
        {
          "metadata": {
            "tags": null
          },
          "name": "stderr",
          "output_type": "stream",
          "text": [
            "/usr/local/lib/python3.10/dist-packages/Pseudovisium/pseudovisium_generate.py:786: SettingWithCopyWarning: \n",
            "A value is trying to be set on a copy of a slice from a DataFrame.\n",
            "Try using .loc[row_indexer,col_indexer] = value instead\n",
            "\n",
            "See the caveats in the documentation: https://pandas.pydata.org/pandas-docs/stable/user_guide/indexing.html#returning-a-view-versus-a-copy\n",
            "  hexagon_cell_counts[\"hexagon_id\"] = hexagon_cell_counts[\"hexagon_id\"] + 1\n"
          ]
        },
        {
          "metadata": {
            "tags": null
          },
          "name": "stdout",
          "output_type": "stream",
          "text": [
            "No quality information provided. Skipping quality information files.\n",
            "No quality information provided. Skipping quality information files.\n",
            "Creating features.tsv.gz file in spatial folder.\n",
            "Putting together the matrix.mtx file\n",
            "Total matrix count: 86996016.0\n",
            "Number of unique hexagons: 6046\n",
            "Creating matrix.mtx.gz file in spatial folder.\n",
            "Putting together the filtered_feature_bc_matrix.h5 file\n",
            "No image file provided. Drawing tissue positions on a white background.\n",
            "Creating arguments.json file in output path.\n",
            "Time taken: 774.9421167373657 seconds\n",
            "Searching for temporary batch files in: /tmp\n",
            "No remaining temporary batch files found.\n",
            "Downloaded 1199651005_cellpose-detected_transcripts.csv\n",
            "Downloaded 1199651005_cellpose-detected_transcripts.csv\n",
            "You are using version:  ['Pseudovisium==0.0.40']\n",
            "Date:  2024-06-10\n",
            "Technology not recognized. Going forward with set column names.\n",
            "Quality filter is set to False\n",
            "Quality counting per hexagon is set to False\n",
            "Quality counting per probe is set to False\n",
            "Created temporary directory /tmp/tmp_hexa9aa76wjp\n",
            "Now creating batches\n",
            "Created batch 1\n",
            "Created batch 2\n",
            "Created batch 3\n",
            "Created batch 4\n",
            "Created batch 5\n",
            "Created batch 6\n",
            "Created batch 7\n",
            "Created batch 8\n",
            "Created batch 9\n",
            "Created batch 10\n",
            "Created batch 11\n",
            "Created batch 12\n",
            "Created batch 13\n",
            "Created batch 14\n",
            "Finished preprocessing. Total batches created: 14\n",
            "Processing batches using 8 processes\n"
          ]
        },
        {
          "metadata": {
            "tags": null
          },
          "name": "stderr",
          "output_type": "stream",
          "text": [
            "Processing batches: 100%|██████████| 14/14 [04:00<00:00, 17.17s/batch]\n"
          ]
        },
        {
          "metadata": {
            "tags": null
          },
          "name": "stdout",
          "output_type": "stream",
          "text": [
            "Creating pseudovisium folder in output path:/content/pseudovisium/section21\n",
            "Using already existing folder: /content/pseudovisium/\n",
            "Creating scalefactors_json.json file in spatial folder.\n",
            "Creating barcodes.tsv.gz file in spatial folder.\n",
            "Creating tissue_positions_list.csv file in spatial folder.\n",
            "Creating pv_cell_hex.csv file in spatial folder.\n"
          ]
        },
        {
          "metadata": {
            "tags": null
          },
          "name": "stderr",
          "output_type": "stream",
          "text": [
            "/usr/local/lib/python3.10/dist-packages/Pseudovisium/pseudovisium_generate.py:786: SettingWithCopyWarning: \n",
            "A value is trying to be set on a copy of a slice from a DataFrame.\n",
            "Try using .loc[row_indexer,col_indexer] = value instead\n",
            "\n",
            "See the caveats in the documentation: https://pandas.pydata.org/pandas-docs/stable/user_guide/indexing.html#returning-a-view-versus-a-copy\n",
            "  hexagon_cell_counts[\"hexagon_id\"] = hexagon_cell_counts[\"hexagon_id\"] + 1\n"
          ]
        },
        {
          "metadata": {
            "tags": null
          },
          "name": "stdout",
          "output_type": "stream",
          "text": [
            "No quality information provided. Skipping quality information files.\n",
            "No quality information provided. Skipping quality information files.\n",
            "Creating features.tsv.gz file in spatial folder.\n",
            "Putting together the matrix.mtx file\n",
            "Total matrix count: 104813106.0\n",
            "Number of unique hexagons: 6392\n",
            "Creating matrix.mtx.gz file in spatial folder.\n",
            "Putting together the filtered_feature_bc_matrix.h5 file\n",
            "No image file provided. Drawing tissue positions on a white background.\n",
            "Creating arguments.json file in output path.\n",
            "Time taken: 967.3934931755066 seconds\n",
            "Searching for temporary batch files in: /tmp\n",
            "No remaining temporary batch files found.\n",
            "Downloaded 1199651009_cellpose-detected_transcripts.csv\n",
            "Downloaded 1199651009_cellpose-detected_transcripts.csv\n",
            "You are using version:  ['Pseudovisium==0.0.40']\n",
            "Date:  2024-06-10\n",
            "Technology not recognized. Going forward with set column names.\n",
            "Quality filter is set to False\n",
            "Quality counting per hexagon is set to False\n",
            "Quality counting per probe is set to False\n",
            "Created temporary directory /tmp/tmp_hexagn84kvn9\n",
            "Now creating batches\n",
            "Created batch 1\n",
            "Created batch 2\n",
            "Created batch 3\n",
            "Created batch 4\n",
            "Created batch 5\n",
            "Created batch 6\n",
            "Created batch 7\n",
            "Created batch 8\n",
            "Created batch 9\n",
            "Finished preprocessing. Total batches created: 9\n",
            "Processing batches using 8 processes\n"
          ]
        },
        {
          "metadata": {
            "tags": null
          },
          "name": "stderr",
          "output_type": "stream",
          "text": [
            "Processing batches: 100%|██████████| 9/9 [02:10<00:00, 14.52s/batch]\n"
          ]
        },
        {
          "metadata": {
            "tags": null
          },
          "name": "stdout",
          "output_type": "stream",
          "text": [
            "Creating pseudovisium folder in output path:/content/pseudovisium/section22\n",
            "Using already existing folder: /content/pseudovisium/\n",
            "Creating scalefactors_json.json file in spatial folder.\n",
            "Creating barcodes.tsv.gz file in spatial folder.\n",
            "Creating tissue_positions_list.csv file in spatial folder.\n",
            "Creating pv_cell_hex.csv file in spatial folder.\n",
            "No quality information provided. Skipping quality information files.\n",
            "No quality information provided. Skipping quality information files.\n",
            "Creating features.tsv.gz file in spatial folder.\n",
            "Putting together the matrix.mtx file\n",
            "Total matrix count: 65520595.0\n",
            "Number of unique hexagons: 6357\n",
            "Creating matrix.mtx.gz file in spatial folder.\n"
          ]
        },
        {
          "metadata": {
            "tags": null
          },
          "name": "stderr",
          "output_type": "stream",
          "text": [
            "/usr/local/lib/python3.10/dist-packages/Pseudovisium/pseudovisium_generate.py:786: SettingWithCopyWarning: \n",
            "A value is trying to be set on a copy of a slice from a DataFrame.\n",
            "Try using .loc[row_indexer,col_indexer] = value instead\n",
            "\n",
            "See the caveats in the documentation: https://pandas.pydata.org/pandas-docs/stable/user_guide/indexing.html#returning-a-view-versus-a-copy\n",
            "  hexagon_cell_counts[\"hexagon_id\"] = hexagon_cell_counts[\"hexagon_id\"] + 1\n"
          ]
        },
        {
          "metadata": {
            "tags": null
          },
          "name": "stdout",
          "output_type": "stream",
          "text": [
            "Putting together the filtered_feature_bc_matrix.h5 file\n",
            "No image file provided. Drawing tissue positions on a white background.\n",
            "Creating arguments.json file in output path.\n",
            "Time taken: 582.1777589321136 seconds\n",
            "Searching for temporary batch files in: /tmp\n",
            "No remaining temporary batch files found.\n",
            "Downloaded 1199651012_cellpose-detected_transcripts.csv\n",
            "Downloaded 1199651012_cellpose-detected_transcripts.csv\n",
            "You are using version:  ['Pseudovisium==0.0.40']\n",
            "Date:  2024-06-10\n",
            "Technology not recognized. Going forward with set column names.\n",
            "Quality filter is set to False\n",
            "Quality counting per hexagon is set to False\n",
            "Quality counting per probe is set to False\n",
            "Created temporary directory /tmp/tmp_hexakc10oh9b\n",
            "Now creating batches\n",
            "Created batch 1\n",
            "Created batch 2\n",
            "Created batch 3\n",
            "Created batch 4\n",
            "Created batch 5\n",
            "Created batch 6\n",
            "Created batch 7\n",
            "Created batch 8\n",
            "Created batch 9\n",
            "Created batch 10\n",
            "Created batch 11\n",
            "Created batch 12\n",
            "Created batch 13\n",
            "Finished preprocessing. Total batches created: 13\n",
            "Processing batches using 8 processes\n"
          ]
        },
        {
          "metadata": {
            "tags": null
          },
          "name": "stderr",
          "output_type": "stream",
          "text": [
            "Processing batches: 100%|██████████| 13/13 [03:45<00:00, 17.37s/batch]\n"
          ]
        },
        {
          "metadata": {
            "tags": null
          },
          "name": "stdout",
          "output_type": "stream",
          "text": [
            "Creating pseudovisium folder in output path:/content/pseudovisium/section23\n",
            "Using already existing folder: /content/pseudovisium/\n",
            "Creating scalefactors_json.json file in spatial folder.\n",
            "Creating barcodes.tsv.gz file in spatial folder.\n",
            "Creating tissue_positions_list.csv file in spatial folder.\n",
            "Creating pv_cell_hex.csv file in spatial folder.\n"
          ]
        },
        {
          "metadata": {
            "tags": null
          },
          "name": "stderr",
          "output_type": "stream",
          "text": [
            "/usr/local/lib/python3.10/dist-packages/Pseudovisium/pseudovisium_generate.py:786: SettingWithCopyWarning: \n",
            "A value is trying to be set on a copy of a slice from a DataFrame.\n",
            "Try using .loc[row_indexer,col_indexer] = value instead\n",
            "\n",
            "See the caveats in the documentation: https://pandas.pydata.org/pandas-docs/stable/user_guide/indexing.html#returning-a-view-versus-a-copy\n",
            "  hexagon_cell_counts[\"hexagon_id\"] = hexagon_cell_counts[\"hexagon_id\"] + 1\n"
          ]
        },
        {
          "metadata": {
            "tags": null
          },
          "name": "stdout",
          "output_type": "stream",
          "text": [
            "No quality information provided. Skipping quality information files.\n",
            "No quality information provided. Skipping quality information files.\n",
            "Creating features.tsv.gz file in spatial folder.\n",
            "Putting together the matrix.mtx file\n",
            "Total matrix count: 103017522.0\n",
            "Number of unique hexagons: 7003\n",
            "Creating matrix.mtx.gz file in spatial folder.\n",
            "Putting together the filtered_feature_bc_matrix.h5 file\n",
            "No image file provided. Drawing tissue positions on a white background.\n",
            "Creating arguments.json file in output path.\n",
            "Time taken: 945.847992181778 seconds\n",
            "Searching for temporary batch files in: /tmp\n",
            "No remaining temporary batch files found.\n",
            "Downloaded 1199651015_cellpose-detected_transcripts.csv\n",
            "Downloaded 1199651015_cellpose-detected_transcripts.csv\n",
            "You are using version:  ['Pseudovisium==0.0.40']\n",
            "Date:  2024-06-10\n",
            "Technology not recognized. Going forward with set column names.\n",
            "Quality filter is set to False\n",
            "Quality counting per hexagon is set to False\n",
            "Quality counting per probe is set to False\n",
            "Created temporary directory /tmp/tmp_hexaprp1vm00\n",
            "Now creating batches\n",
            "Created batch 1\n",
            "Created batch 2\n",
            "Created batch 3\n",
            "Created batch 4\n",
            "Created batch 5\n",
            "Created batch 6\n",
            "Created batch 7\n",
            "Created batch 8\n",
            "Created batch 9\n",
            "Created batch 10\n",
            "Created batch 11\n",
            "Created batch 12\n",
            "Created batch 13\n",
            "Finished preprocessing. Total batches created: 13\n",
            "Processing batches using 8 processes\n"
          ]
        },
        {
          "metadata": {
            "tags": null
          },
          "name": "stderr",
          "output_type": "stream",
          "text": [
            "Processing batches: 100%|██████████| 13/13 [03:32<00:00, 16.32s/batch]\n"
          ]
        },
        {
          "metadata": {
            "tags": null
          },
          "name": "stdout",
          "output_type": "stream",
          "text": [
            "Creating pseudovisium folder in output path:/content/pseudovisium/section24\n",
            "Using already existing folder: /content/pseudovisium/\n",
            "Creating scalefactors_json.json file in spatial folder.\n",
            "Creating barcodes.tsv.gz file in spatial folder.\n",
            "Creating tissue_positions_list.csv file in spatial folder.\n",
            "Creating pv_cell_hex.csv file in spatial folder.\n"
          ]
        },
        {
          "metadata": {
            "tags": null
          },
          "name": "stderr",
          "output_type": "stream",
          "text": [
            "/usr/local/lib/python3.10/dist-packages/Pseudovisium/pseudovisium_generate.py:786: SettingWithCopyWarning: \n",
            "A value is trying to be set on a copy of a slice from a DataFrame.\n",
            "Try using .loc[row_indexer,col_indexer] = value instead\n",
            "\n",
            "See the caveats in the documentation: https://pandas.pydata.org/pandas-docs/stable/user_guide/indexing.html#returning-a-view-versus-a-copy\n",
            "  hexagon_cell_counts[\"hexagon_id\"] = hexagon_cell_counts[\"hexagon_id\"] + 1\n"
          ]
        },
        {
          "metadata": {
            "tags": null
          },
          "name": "stdout",
          "output_type": "stream",
          "text": [
            "No quality information provided. Skipping quality information files.\n",
            "No quality information provided. Skipping quality information files.\n",
            "Creating features.tsv.gz file in spatial folder.\n",
            "Putting together the matrix.mtx file\n",
            "Total matrix count: 101068250.0\n",
            "Number of unique hexagons: 6480\n",
            "Creating matrix.mtx.gz file in spatial folder.\n",
            "Putting together the filtered_feature_bc_matrix.h5 file\n",
            "No image file provided. Drawing tissue positions on a white background.\n",
            "Creating arguments.json file in output path.\n",
            "Time taken: 913.2749469280243 seconds\n",
            "Searching for temporary batch files in: /tmp\n",
            "No remaining temporary batch files found.\n",
            "Downloaded 1199651018_cellpose-detected_transcripts.csv\n",
            "Downloaded 1199651018_cellpose-detected_transcripts.csv\n",
            "You are using version:  ['Pseudovisium==0.0.40']\n",
            "Date:  2024-06-10\n",
            "Technology not recognized. Going forward with set column names.\n",
            "Quality filter is set to False\n",
            "Quality counting per hexagon is set to False\n",
            "Quality counting per probe is set to False\n",
            "Created temporary directory /tmp/tmp_hexaiq8m4r56\n",
            "Now creating batches\n",
            "Created batch 1\n",
            "Created batch 2\n",
            "Created batch 3\n",
            "Created batch 4\n",
            "Created batch 5\n",
            "Created batch 6\n",
            "Created batch 7\n",
            "Created batch 8\n",
            "Created batch 9\n",
            "Created batch 10\n",
            "Created batch 11\n",
            "Created batch 12\n",
            "Created batch 13\n",
            "Created batch 14\n",
            "Finished preprocessing. Total batches created: 14\n",
            "Processing batches using 8 processes\n"
          ]
        },
        {
          "metadata": {
            "tags": null
          },
          "name": "stderr",
          "output_type": "stream",
          "text": [
            "Processing batches: 100%|██████████| 14/14 [03:33<00:00, 15.26s/batch]\n"
          ]
        },
        {
          "metadata": {
            "tags": null
          },
          "name": "stdout",
          "output_type": "stream",
          "text": [
            "Creating pseudovisium folder in output path:/content/pseudovisium/section25\n",
            "Using already existing folder: /content/pseudovisium/\n",
            "Creating scalefactors_json.json file in spatial folder.\n",
            "Creating barcodes.tsv.gz file in spatial folder.\n",
            "Creating tissue_positions_list.csv file in spatial folder.\n",
            "Creating pv_cell_hex.csv file in spatial folder.\n"
          ]
        },
        {
          "metadata": {
            "tags": null
          },
          "name": "stderr",
          "output_type": "stream",
          "text": [
            "/usr/local/lib/python3.10/dist-packages/Pseudovisium/pseudovisium_generate.py:786: SettingWithCopyWarning: \n",
            "A value is trying to be set on a copy of a slice from a DataFrame.\n",
            "Try using .loc[row_indexer,col_indexer] = value instead\n",
            "\n",
            "See the caveats in the documentation: https://pandas.pydata.org/pandas-docs/stable/user_guide/indexing.html#returning-a-view-versus-a-copy\n",
            "  hexagon_cell_counts[\"hexagon_id\"] = hexagon_cell_counts[\"hexagon_id\"] + 1\n"
          ]
        },
        {
          "metadata": {
            "tags": null
          },
          "name": "stdout",
          "output_type": "stream",
          "text": [
            "No quality information provided. Skipping quality information files.\n",
            "No quality information provided. Skipping quality information files.\n",
            "Creating features.tsv.gz file in spatial folder.\n",
            "Putting together the matrix.mtx file\n",
            "Total matrix count: 105795849.0\n",
            "Number of unique hexagons: 7161\n",
            "Creating matrix.mtx.gz file in spatial folder.\n",
            "Putting together the filtered_feature_bc_matrix.h5 file\n",
            "No image file provided. Drawing tissue positions on a white background.\n",
            "Creating arguments.json file in output path.\n",
            "Time taken: 943.6694669723511 seconds\n",
            "Searching for temporary batch files in: /tmp\n",
            "No remaining temporary batch files found.\n",
            "Downloaded 1199651021_cellpose-detected_transcripts.csv\n",
            "Downloaded 1199651021_cellpose-detected_transcripts.csv\n",
            "You are using version:  ['Pseudovisium==0.0.40']\n",
            "Date:  2024-06-10\n",
            "Technology not recognized. Going forward with set column names.\n",
            "Quality filter is set to False\n",
            "Quality counting per hexagon is set to False\n",
            "Quality counting per probe is set to False\n",
            "Created temporary directory /tmp/tmp_hexa75pe7vx4\n",
            "Now creating batches\n",
            "Created batch 1\n",
            "Created batch 2\n",
            "Created batch 3\n",
            "Created batch 4\n",
            "Created batch 5\n",
            "Created batch 6\n",
            "Created batch 7\n",
            "Created batch 8\n",
            "Created batch 9\n",
            "Created batch 10\n",
            "Created batch 11\n",
            "Created batch 12\n",
            "Created batch 13\n",
            "Finished preprocessing. Total batches created: 13\n",
            "Processing batches using 8 processes\n"
          ]
        },
        {
          "metadata": {
            "tags": null
          },
          "name": "stderr",
          "output_type": "stream",
          "text": [
            "Processing batches: 100%|██████████| 13/13 [03:49<00:00, 17.63s/batch]\n"
          ]
        },
        {
          "metadata": {
            "tags": null
          },
          "name": "stdout",
          "output_type": "stream",
          "text": [
            "Creating pseudovisium folder in output path:/content/pseudovisium/section26\n",
            "Using already existing folder: /content/pseudovisium/\n",
            "Creating scalefactors_json.json file in spatial folder.\n",
            "Creating barcodes.tsv.gz file in spatial folder.\n",
            "Creating tissue_positions_list.csv file in spatial folder.\n",
            "Creating pv_cell_hex.csv file in spatial folder.\n"
          ]
        },
        {
          "metadata": {
            "tags": null
          },
          "name": "stderr",
          "output_type": "stream",
          "text": [
            "/usr/local/lib/python3.10/dist-packages/Pseudovisium/pseudovisium_generate.py:786: SettingWithCopyWarning: \n",
            "A value is trying to be set on a copy of a slice from a DataFrame.\n",
            "Try using .loc[row_indexer,col_indexer] = value instead\n",
            "\n",
            "See the caveats in the documentation: https://pandas.pydata.org/pandas-docs/stable/user_guide/indexing.html#returning-a-view-versus-a-copy\n",
            "  hexagon_cell_counts[\"hexagon_id\"] = hexagon_cell_counts[\"hexagon_id\"] + 1\n"
          ]
        },
        {
          "metadata": {
            "tags": null
          },
          "name": "stdout",
          "output_type": "stream",
          "text": [
            "No quality information provided. Skipping quality information files.\n",
            "No quality information provided. Skipping quality information files.\n",
            "Creating features.tsv.gz file in spatial folder.\n",
            "Putting together the matrix.mtx file\n",
            "Total matrix count: 100761167.0\n",
            "Number of unique hexagons: 6873\n",
            "Creating matrix.mtx.gz file in spatial folder.\n",
            "Putting together the filtered_feature_bc_matrix.h5 file\n",
            "No image file provided. Drawing tissue positions on a white background.\n",
            "Creating arguments.json file in output path.\n",
            "Time taken: 935.1812088489532 seconds\n",
            "Searching for temporary batch files in: /tmp\n",
            "No remaining temporary batch files found.\n",
            "Downloaded 1199651024_cellpose-detected_transcripts.csv\n",
            "Downloaded 1199651024_cellpose-detected_transcripts.csv\n",
            "You are using version:  ['Pseudovisium==0.0.40']\n",
            "Date:  2024-06-10\n",
            "Technology not recognized. Going forward with set column names.\n",
            "Quality filter is set to False\n",
            "Quality counting per hexagon is set to False\n",
            "Quality counting per probe is set to False\n",
            "Created temporary directory /tmp/tmp_hexatsrrr1ql\n",
            "Now creating batches\n",
            "Created batch 1\n",
            "Created batch 2\n",
            "Created batch 3\n",
            "Created batch 4\n",
            "Created batch 5\n",
            "Created batch 6\n",
            "Created batch 7\n",
            "Created batch 8\n",
            "Created batch 9\n",
            "Created batch 10\n",
            "Created batch 11\n",
            "Created batch 12\n",
            "Created batch 13\n",
            "Created batch 14\n",
            "Finished preprocessing. Total batches created: 14\n",
            "Processing batches using 8 processes\n"
          ]
        },
        {
          "metadata": {
            "tags": null
          },
          "name": "stderr",
          "output_type": "stream",
          "text": [
            "Processing batches: 100%|██████████| 14/14 [04:32<00:00, 19.49s/batch]\n"
          ]
        },
        {
          "metadata": {
            "tags": null
          },
          "name": "stdout",
          "output_type": "stream",
          "text": [
            "Creating pseudovisium folder in output path:/content/pseudovisium/section27\n",
            "Using already existing folder: /content/pseudovisium/\n",
            "Creating scalefactors_json.json file in spatial folder.\n",
            "Creating barcodes.tsv.gz file in spatial folder.\n",
            "Creating tissue_positions_list.csv file in spatial folder.\n",
            "Creating pv_cell_hex.csv file in spatial folder.\n"
          ]
        },
        {
          "metadata": {
            "tags": null
          },
          "name": "stderr",
          "output_type": "stream",
          "text": [
            "/usr/local/lib/python3.10/dist-packages/Pseudovisium/pseudovisium_generate.py:786: SettingWithCopyWarning: \n",
            "A value is trying to be set on a copy of a slice from a DataFrame.\n",
            "Try using .loc[row_indexer,col_indexer] = value instead\n",
            "\n",
            "See the caveats in the documentation: https://pandas.pydata.org/pandas-docs/stable/user_guide/indexing.html#returning-a-view-versus-a-copy\n",
            "  hexagon_cell_counts[\"hexagon_id\"] = hexagon_cell_counts[\"hexagon_id\"] + 1\n"
          ]
        },
        {
          "metadata": {
            "tags": null
          },
          "name": "stdout",
          "output_type": "stream",
          "text": [
            "No quality information provided. Skipping quality information files.\n",
            "No quality information provided. Skipping quality information files.\n",
            "Creating features.tsv.gz file in spatial folder.\n",
            "Putting together the matrix.mtx file\n",
            "Total matrix count: 107111998.0\n",
            "Number of unique hexagons: 7563\n",
            "Creating matrix.mtx.gz file in spatial folder.\n",
            "Putting together the filtered_feature_bc_matrix.h5 file\n",
            "No image file provided. Drawing tissue positions on a white background.\n",
            "Creating arguments.json file in output path.\n",
            "Time taken: 1036.0519609451294 seconds\n",
            "Searching for temporary batch files in: /tmp\n",
            "No remaining temporary batch files found.\n",
            "Downloaded 1199651027_cellpose-detected_transcripts.csv\n",
            "Downloaded 1199651027_cellpose-detected_transcripts.csv\n",
            "You are using version:  ['Pseudovisium==0.0.40']\n",
            "Date:  2024-06-10\n",
            "Technology not recognized. Going forward with set column names.\n",
            "Quality filter is set to False\n",
            "Quality counting per hexagon is set to False\n",
            "Quality counting per probe is set to False\n",
            "Created temporary directory /tmp/tmp_hexa977xlab2\n",
            "Now creating batches\n",
            "Created batch 1\n",
            "Created batch 2\n",
            "Created batch 3\n",
            "Created batch 4\n",
            "Created batch 5\n",
            "Created batch 6\n",
            "Created batch 7\n",
            "Created batch 8\n",
            "Created batch 9\n",
            "Created batch 10\n",
            "Created batch 11\n",
            "Created batch 12\n",
            "Finished preprocessing. Total batches created: 12\n",
            "Processing batches using 8 processes\n"
          ]
        },
        {
          "metadata": {
            "tags": null
          },
          "name": "stderr",
          "output_type": "stream",
          "text": [
            "Processing batches: 100%|██████████| 12/12 [03:37<00:00, 18.15s/batch]\n"
          ]
        },
        {
          "metadata": {
            "tags": null
          },
          "name": "stdout",
          "output_type": "stream",
          "text": [
            "Creating pseudovisium folder in output path:/content/pseudovisium/section28\n",
            "Using already existing folder: /content/pseudovisium/\n",
            "Creating scalefactors_json.json file in spatial folder.\n",
            "Creating barcodes.tsv.gz file in spatial folder.\n",
            "Creating tissue_positions_list.csv file in spatial folder.\n",
            "Creating pv_cell_hex.csv file in spatial folder.\n"
          ]
        },
        {
          "metadata": {
            "tags": null
          },
          "name": "stderr",
          "output_type": "stream",
          "text": [
            "/usr/local/lib/python3.10/dist-packages/Pseudovisium/pseudovisium_generate.py:786: SettingWithCopyWarning: \n",
            "A value is trying to be set on a copy of a slice from a DataFrame.\n",
            "Try using .loc[row_indexer,col_indexer] = value instead\n",
            "\n",
            "See the caveats in the documentation: https://pandas.pydata.org/pandas-docs/stable/user_guide/indexing.html#returning-a-view-versus-a-copy\n",
            "  hexagon_cell_counts[\"hexagon_id\"] = hexagon_cell_counts[\"hexagon_id\"] + 1\n"
          ]
        },
        {
          "metadata": {
            "tags": null
          },
          "name": "stdout",
          "output_type": "stream",
          "text": [
            "No quality information provided. Skipping quality information files.\n",
            "No quality information provided. Skipping quality information files.\n",
            "Creating features.tsv.gz file in spatial folder.\n",
            "Putting together the matrix.mtx file\n",
            "Total matrix count: 91510620.0\n",
            "Number of unique hexagons: 6635\n",
            "Creating matrix.mtx.gz file in spatial folder.\n",
            "Putting together the filtered_feature_bc_matrix.h5 file\n",
            "No image file provided. Drawing tissue positions on a white background.\n",
            "Creating arguments.json file in output path.\n",
            "Time taken: 854.354364156723 seconds\n",
            "Searching for temporary batch files in: /tmp\n",
            "No remaining temporary batch files found.\n",
            "Downloaded 1199651033_cellpose-detected_transcripts.csv\n",
            "Downloaded 1199651033_cellpose-detected_transcripts.csv\n",
            "You are using version:  ['Pseudovisium==0.0.40']\n",
            "Date:  2024-06-10\n",
            "Technology not recognized. Going forward with set column names.\n",
            "Quality filter is set to False\n",
            "Quality counting per hexagon is set to False\n",
            "Quality counting per probe is set to False\n",
            "Created temporary directory /tmp/tmp_hexagzsrele6\n",
            "Now creating batches\n",
            "Created batch 1\n",
            "Created batch 2\n",
            "Created batch 3\n",
            "Created batch 4\n",
            "Created batch 5\n",
            "Created batch 6\n",
            "Created batch 7\n",
            "Created batch 8\n",
            "Created batch 9\n",
            "Created batch 10\n",
            "Created batch 11\n",
            "Finished preprocessing. Total batches created: 11\n",
            "Processing batches using 8 processes\n"
          ]
        },
        {
          "metadata": {
            "tags": null
          },
          "name": "stderr",
          "output_type": "stream",
          "text": [
            "Processing batches: 100%|██████████| 11/11 [03:23<00:00, 18.51s/batch]\n"
          ]
        },
        {
          "metadata": {
            "tags": null
          },
          "name": "stdout",
          "output_type": "stream",
          "text": [
            "Creating pseudovisium folder in output path:/content/pseudovisium/section29\n",
            "Using already existing folder: /content/pseudovisium/\n",
            "Creating scalefactors_json.json file in spatial folder.\n",
            "Creating barcodes.tsv.gz file in spatial folder.\n",
            "Creating tissue_positions_list.csv file in spatial folder.\n",
            "Creating pv_cell_hex.csv file in spatial folder.\n"
          ]
        },
        {
          "metadata": {
            "tags": null
          },
          "name": "stderr",
          "output_type": "stream",
          "text": [
            "/usr/local/lib/python3.10/dist-packages/Pseudovisium/pseudovisium_generate.py:786: SettingWithCopyWarning: \n",
            "A value is trying to be set on a copy of a slice from a DataFrame.\n",
            "Try using .loc[row_indexer,col_indexer] = value instead\n",
            "\n",
            "See the caveats in the documentation: https://pandas.pydata.org/pandas-docs/stable/user_guide/indexing.html#returning-a-view-versus-a-copy\n",
            "  hexagon_cell_counts[\"hexagon_id\"] = hexagon_cell_counts[\"hexagon_id\"] + 1\n"
          ]
        },
        {
          "metadata": {
            "tags": null
          },
          "name": "stdout",
          "output_type": "stream",
          "text": [
            "No quality information provided. Skipping quality information files.\n",
            "No quality information provided. Skipping quality information files.\n",
            "Creating features.tsv.gz file in spatial folder.\n",
            "Putting together the matrix.mtx file\n",
            "Total matrix count: 82068006.0\n",
            "Number of unique hexagons: 7710\n",
            "Creating matrix.mtx.gz file in spatial folder.\n",
            "Putting together the filtered_feature_bc_matrix.h5 file\n",
            "No image file provided. Drawing tissue positions on a white background.\n",
            "Creating arguments.json file in output path.\n",
            "Time taken: 790.8335957527161 seconds\n",
            "Searching for temporary batch files in: /tmp\n",
            "No remaining temporary batch files found.\n",
            "Downloaded 1199651036_cellpose-detected_transcripts.csv\n",
            "Downloaded 1199651036_cellpose-detected_transcripts.csv\n",
            "You are using version:  ['Pseudovisium==0.0.40']\n",
            "Date:  2024-06-10\n",
            "Technology not recognized. Going forward with set column names.\n",
            "Quality filter is set to False\n",
            "Quality counting per hexagon is set to False\n",
            "Quality counting per probe is set to False\n",
            "Created temporary directory /tmp/tmp_hexa5l65qxmt\n",
            "Now creating batches\n",
            "Created batch 1\n",
            "Created batch 2\n",
            "Created batch 3\n",
            "Created batch 4\n",
            "Created batch 5\n",
            "Created batch 6\n",
            "Created batch 7\n",
            "Created batch 8\n",
            "Created batch 9\n",
            "Created batch 10\n",
            "Created batch 11\n",
            "Created batch 12\n",
            "Created batch 13\n",
            "Created batch 14\n",
            "Created batch 15\n",
            "Created batch 16\n",
            "Created batch 17\n",
            "Created batch 18\n",
            "Finished preprocessing. Total batches created: 18\n",
            "Processing batches using 8 processes\n"
          ]
        },
        {
          "metadata": {
            "tags": null
          },
          "name": "stderr",
          "output_type": "stream",
          "text": [
            "Processing batches: 100%|██████████| 18/18 [05:30<00:00, 18.38s/batch]\n"
          ]
        },
        {
          "metadata": {
            "tags": null
          },
          "name": "stdout",
          "output_type": "stream",
          "text": [
            "Creating pseudovisium folder in output path:/content/pseudovisium/section30\n",
            "Using already existing folder: /content/pseudovisium/\n",
            "Creating scalefactors_json.json file in spatial folder.\n",
            "Creating barcodes.tsv.gz file in spatial folder.\n",
            "Creating tissue_positions_list.csv file in spatial folder.\n",
            "Creating pv_cell_hex.csv file in spatial folder.\n"
          ]
        },
        {
          "metadata": {
            "tags": null
          },
          "name": "stderr",
          "output_type": "stream",
          "text": [
            "/usr/local/lib/python3.10/dist-packages/Pseudovisium/pseudovisium_generate.py:786: SettingWithCopyWarning: \n",
            "A value is trying to be set on a copy of a slice from a DataFrame.\n",
            "Try using .loc[row_indexer,col_indexer] = value instead\n",
            "\n",
            "See the caveats in the documentation: https://pandas.pydata.org/pandas-docs/stable/user_guide/indexing.html#returning-a-view-versus-a-copy\n",
            "  hexagon_cell_counts[\"hexagon_id\"] = hexagon_cell_counts[\"hexagon_id\"] + 1\n"
          ]
        },
        {
          "metadata": {
            "tags": null
          },
          "name": "stdout",
          "output_type": "stream",
          "text": [
            "No quality information provided. Skipping quality information files.\n",
            "No quality information provided. Skipping quality information files.\n",
            "Creating features.tsv.gz file in spatial folder.\n",
            "Putting together the matrix.mtx file\n",
            "Total matrix count: 141560028.0\n",
            "Number of unique hexagons: 7747\n",
            "Creating matrix.mtx.gz file in spatial folder.\n",
            "Putting together the filtered_feature_bc_matrix.h5 file\n",
            "No image file provided. Drawing tissue positions on a white background.\n",
            "Creating arguments.json file in output path.\n",
            "Time taken: 1330.709888458252 seconds\n",
            "Searching for temporary batch files in: /tmp\n",
            "No remaining temporary batch files found.\n",
            "Downloaded 1199651039_cellpose-detected_transcripts.csv\n",
            "Downloaded 1199651039_cellpose-detected_transcripts.csv\n",
            "You are using version:  ['Pseudovisium==0.0.40']\n",
            "Date:  2024-06-10\n",
            "Technology not recognized. Going forward with set column names.\n",
            "Quality filter is set to False\n",
            "Quality counting per hexagon is set to False\n",
            "Quality counting per probe is set to False\n",
            "Created temporary directory /tmp/tmp_hexa5in3tn6b\n",
            "Now creating batches\n",
            "Created batch 1\n",
            "Created batch 2\n",
            "Created batch 3\n",
            "Created batch 4\n",
            "Created batch 5\n",
            "Created batch 6\n",
            "Created batch 7\n",
            "Created batch 8\n",
            "Created batch 9\n",
            "Created batch 10\n",
            "Finished preprocessing. Total batches created: 10\n",
            "Processing batches using 8 processes\n"
          ]
        },
        {
          "metadata": {
            "tags": null
          },
          "name": "stderr",
          "output_type": "stream",
          "text": [
            "Processing batches: 100%|██████████| 10/10 [03:15<00:00, 19.58s/batch]\n"
          ]
        },
        {
          "metadata": {
            "tags": null
          },
          "name": "stdout",
          "output_type": "stream",
          "text": [
            "Creating pseudovisium folder in output path:/content/pseudovisium/section31\n",
            "Using already existing folder: /content/pseudovisium/\n",
            "Creating scalefactors_json.json file in spatial folder.\n",
            "Creating barcodes.tsv.gz file in spatial folder.\n",
            "Creating tissue_positions_list.csv file in spatial folder.\n",
            "Creating pv_cell_hex.csv file in spatial folder.\n"
          ]
        },
        {
          "metadata": {
            "tags": null
          },
          "name": "stderr",
          "output_type": "stream",
          "text": [
            "/usr/local/lib/python3.10/dist-packages/Pseudovisium/pseudovisium_generate.py:786: SettingWithCopyWarning: \n",
            "A value is trying to be set on a copy of a slice from a DataFrame.\n",
            "Try using .loc[row_indexer,col_indexer] = value instead\n",
            "\n",
            "See the caveats in the documentation: https://pandas.pydata.org/pandas-docs/stable/user_guide/indexing.html#returning-a-view-versus-a-copy\n",
            "  hexagon_cell_counts[\"hexagon_id\"] = hexagon_cell_counts[\"hexagon_id\"] + 1\n"
          ]
        },
        {
          "metadata": {
            "tags": null
          },
          "name": "stdout",
          "output_type": "stream",
          "text": [
            "No quality information provided. Skipping quality information files.\n",
            "No quality information provided. Skipping quality information files.\n",
            "Creating features.tsv.gz file in spatial folder.\n",
            "Putting together the matrix.mtx file\n",
            "Total matrix count: 79987004.0\n",
            "Number of unique hexagons: 7659\n",
            "Creating matrix.mtx.gz file in spatial folder.\n",
            "Putting together the filtered_feature_bc_matrix.h5 file\n",
            "No image file provided. Drawing tissue positions on a white background.\n",
            "Creating arguments.json file in output path.\n",
            "Time taken: 767.0518250465393 seconds\n",
            "Searching for temporary batch files in: /tmp\n",
            "No remaining temporary batch files found.\n",
            "Downloaded 1199651042_cellpose-detected_transcripts.csv\n",
            "Downloaded 1199651042_cellpose-detected_transcripts.csv\n",
            "You are using version:  ['Pseudovisium==0.0.40']\n",
            "Date:  2024-06-10\n",
            "Technology not recognized. Going forward with set column names.\n",
            "Quality filter is set to False\n",
            "Quality counting per hexagon is set to False\n",
            "Quality counting per probe is set to False\n",
            "Created temporary directory /tmp/tmp_hexataafzz3e\n",
            "Now creating batches\n",
            "Created batch 1\n",
            "Created batch 2\n",
            "Created batch 3\n",
            "Created batch 4\n",
            "Created batch 5\n",
            "Created batch 6\n",
            "Created batch 7\n",
            "Created batch 8\n",
            "Created batch 9\n",
            "Created batch 10\n",
            "Created batch 11\n",
            "Created batch 12\n",
            "Created batch 13\n",
            "Created batch 14\n",
            "Created batch 15\n",
            "Created batch 16\n",
            "Created batch 17\n",
            "Created batch 18\n",
            "Created batch 19\n",
            "Created batch 20\n",
            "Created batch 21\n",
            "Finished preprocessing. Total batches created: 21\n",
            "Processing batches using 8 processes\n"
          ]
        },
        {
          "metadata": {
            "tags": null
          },
          "name": "stderr",
          "output_type": "stream",
          "text": [
            "Processing batches: 100%|██████████| 21/21 [06:30<00:00, 18.61s/batch]\n"
          ]
        },
        {
          "metadata": {
            "tags": null
          },
          "name": "stdout",
          "output_type": "stream",
          "text": [
            "Creating pseudovisium folder in output path:/content/pseudovisium/section32\n",
            "Using already existing folder: /content/pseudovisium/\n",
            "Creating scalefactors_json.json file in spatial folder.\n",
            "Creating barcodes.tsv.gz file in spatial folder.\n",
            "Creating tissue_positions_list.csv file in spatial folder.\n",
            "Creating pv_cell_hex.csv file in spatial folder.\n"
          ]
        },
        {
          "metadata": {
            "tags": null
          },
          "name": "stderr",
          "output_type": "stream",
          "text": [
            "/usr/local/lib/python3.10/dist-packages/Pseudovisium/pseudovisium_generate.py:786: SettingWithCopyWarning: \n",
            "A value is trying to be set on a copy of a slice from a DataFrame.\n",
            "Try using .loc[row_indexer,col_indexer] = value instead\n",
            "\n",
            "See the caveats in the documentation: https://pandas.pydata.org/pandas-docs/stable/user_guide/indexing.html#returning-a-view-versus-a-copy\n",
            "  hexagon_cell_counts[\"hexagon_id\"] = hexagon_cell_counts[\"hexagon_id\"] + 1\n"
          ]
        },
        {
          "metadata": {
            "tags": null
          },
          "name": "stdout",
          "output_type": "stream",
          "text": [
            "No quality information provided. Skipping quality information files.\n",
            "No quality information provided. Skipping quality information files.\n",
            "Creating features.tsv.gz file in spatial folder.\n",
            "Putting together the matrix.mtx file\n",
            "Total matrix count: 167829974.0\n",
            "Number of unique hexagons: 8757\n",
            "Creating matrix.mtx.gz file in spatial folder.\n",
            "Putting together the filtered_feature_bc_matrix.h5 file\n",
            "No image file provided. Drawing tissue positions on a white background.\n",
            "Creating arguments.json file in output path.\n",
            "Time taken: 1575.9653973579407 seconds\n",
            "Searching for temporary batch files in: /tmp\n",
            "No remaining temporary batch files found.\n",
            "Downloaded 1199651045_cellpose-detected_transcripts.csv\n",
            "Downloaded 1199651045_cellpose-detected_transcripts.csv\n",
            "You are using version:  ['Pseudovisium==0.0.40']\n",
            "Date:  2024-06-10\n",
            "Technology not recognized. Going forward with set column names.\n",
            "Quality filter is set to False\n",
            "Quality counting per hexagon is set to False\n",
            "Quality counting per probe is set to False\n",
            "Created temporary directory /tmp/tmp_hexa1x3pa_2d\n",
            "Now creating batches\n",
            "Created batch 1\n",
            "Created batch 2\n",
            "Created batch 3\n",
            "Created batch 4\n",
            "Created batch 5\n",
            "Created batch 6\n",
            "Created batch 7\n",
            "Created batch 8\n",
            "Finished preprocessing. Total batches created: 8\n",
            "Processing batches using 8 processes\n"
          ]
        },
        {
          "metadata": {
            "tags": null
          },
          "name": "stderr",
          "output_type": "stream",
          "text": [
            "Processing batches: 100%|██████████| 8/8 [02:43<00:00, 20.40s/batch]\n"
          ]
        },
        {
          "metadata": {
            "tags": null
          },
          "name": "stdout",
          "output_type": "stream",
          "text": [
            "Creating pseudovisium folder in output path:/content/pseudovisium/section33\n",
            "Using already existing folder: /content/pseudovisium/\n",
            "Creating scalefactors_json.json file in spatial folder.\n",
            "Creating barcodes.tsv.gz file in spatial folder.\n",
            "Creating tissue_positions_list.csv file in spatial folder.\n",
            "Creating pv_cell_hex.csv file in spatial folder.\n"
          ]
        },
        {
          "metadata": {
            "tags": null
          },
          "name": "stderr",
          "output_type": "stream",
          "text": [
            "/usr/local/lib/python3.10/dist-packages/Pseudovisium/pseudovisium_generate.py:786: SettingWithCopyWarning: \n",
            "A value is trying to be set on a copy of a slice from a DataFrame.\n",
            "Try using .loc[row_indexer,col_indexer] = value instead\n",
            "\n",
            "See the caveats in the documentation: https://pandas.pydata.org/pandas-docs/stable/user_guide/indexing.html#returning-a-view-versus-a-copy\n",
            "  hexagon_cell_counts[\"hexagon_id\"] = hexagon_cell_counts[\"hexagon_id\"] + 1\n"
          ]
        },
        {
          "metadata": {
            "tags": null
          },
          "name": "stdout",
          "output_type": "stream",
          "text": [
            "No quality information provided. Skipping quality information files.\n",
            "No quality information provided. Skipping quality information files.\n",
            "Creating features.tsv.gz file in spatial folder.\n",
            "Putting together the matrix.mtx file\n",
            "Total matrix count: 59622033.0\n",
            "Number of unique hexagons: 8170\n",
            "Creating matrix.mtx.gz file in spatial folder.\n",
            "Putting together the filtered_feature_bc_matrix.h5 file\n",
            "No image file provided. Drawing tissue positions on a white background.\n",
            "Creating arguments.json file in output path.\n",
            "Time taken: 575.4923214912415 seconds\n",
            "Searching for temporary batch files in: /tmp\n",
            "No remaining temporary batch files found.\n",
            "Downloaded 1199651048_cellpose-detected_transcripts.csv\n",
            "Downloaded 1199651048_cellpose-detected_transcripts.csv\n",
            "You are using version:  ['Pseudovisium==0.0.40']\n",
            "Date:  2024-06-11\n",
            "Technology not recognized. Going forward with set column names.\n",
            "Quality filter is set to False\n",
            "Quality counting per hexagon is set to False\n",
            "Quality counting per probe is set to False\n",
            "Created temporary directory /tmp/tmp_hexat2aore2x\n",
            "Now creating batches\n",
            "Created batch 1\n",
            "Created batch 2\n",
            "Created batch 3\n",
            "Created batch 4\n",
            "Created batch 5\n",
            "Created batch 6\n",
            "Created batch 7\n",
            "Created batch 8\n",
            "Created batch 9\n",
            "Created batch 10\n",
            "Created batch 11\n",
            "Created batch 12\n",
            "Created batch 13\n",
            "Created batch 14\n",
            "Finished preprocessing. Total batches created: 14\n",
            "Processing batches using 8 processes\n"
          ]
        },
        {
          "metadata": {
            "tags": null
          },
          "name": "stderr",
          "output_type": "stream",
          "text": [
            "Processing batches: 100%|██████████| 14/14 [04:00<00:00, 17.21s/batch]\n"
          ]
        },
        {
          "metadata": {
            "tags": null
          },
          "name": "stdout",
          "output_type": "stream",
          "text": [
            "Creating pseudovisium folder in output path:/content/pseudovisium/section34\n",
            "Using already existing folder: /content/pseudovisium/\n",
            "Creating scalefactors_json.json file in spatial folder.\n",
            "Creating barcodes.tsv.gz file in spatial folder.\n",
            "Creating tissue_positions_list.csv file in spatial folder.\n",
            "Creating pv_cell_hex.csv file in spatial folder.\n"
          ]
        },
        {
          "metadata": {
            "tags": null
          },
          "name": "stderr",
          "output_type": "stream",
          "text": [
            "/usr/local/lib/python3.10/dist-packages/Pseudovisium/pseudovisium_generate.py:786: SettingWithCopyWarning: \n",
            "A value is trying to be set on a copy of a slice from a DataFrame.\n",
            "Try using .loc[row_indexer,col_indexer] = value instead\n",
            "\n",
            "See the caveats in the documentation: https://pandas.pydata.org/pandas-docs/stable/user_guide/indexing.html#returning-a-view-versus-a-copy\n",
            "  hexagon_cell_counts[\"hexagon_id\"] = hexagon_cell_counts[\"hexagon_id\"] + 1\n"
          ]
        },
        {
          "metadata": {
            "tags": null
          },
          "name": "stdout",
          "output_type": "stream",
          "text": [
            "No quality information provided. Skipping quality information files.\n",
            "No quality information provided. Skipping quality information files.\n",
            "Creating features.tsv.gz file in spatial folder.\n",
            "Putting together the matrix.mtx file\n",
            "Total matrix count: 110784504.0\n",
            "Number of unique hexagons: 8765\n",
            "Creating matrix.mtx.gz file in spatial folder.\n",
            "Putting together the filtered_feature_bc_matrix.h5 file\n",
            "No image file provided. Drawing tissue positions on a white background.\n",
            "Creating arguments.json file in output path.\n",
            "Time taken: 1050.9605748653412 seconds\n",
            "Searching for temporary batch files in: /tmp\n",
            "No remaining temporary batch files found.\n",
            "Downloaded 1199651054_cellpose-detected_transcripts.csv\n",
            "Downloaded 1199651054_cellpose-detected_transcripts.csv\n",
            "You are using version:  ['Pseudovisium==0.0.40']\n",
            "Date:  2024-06-11\n",
            "Technology not recognized. Going forward with set column names.\n",
            "Quality filter is set to False\n",
            "Quality counting per hexagon is set to False\n",
            "Quality counting per probe is set to False\n",
            "Created temporary directory /tmp/tmp_hexalgu6cpr_\n",
            "Now creating batches\n",
            "Created batch 1\n",
            "Created batch 2\n",
            "Created batch 3\n",
            "Created batch 4\n",
            "Created batch 5\n",
            "Created batch 6\n",
            "Created batch 7\n",
            "Created batch 8\n",
            "Created batch 9\n",
            "Created batch 10\n",
            "Created batch 11\n",
            "Created batch 12\n",
            "Finished preprocessing. Total batches created: 12\n",
            "Processing batches using 8 processes\n"
          ]
        },
        {
          "metadata": {
            "tags": null
          },
          "name": "stderr",
          "output_type": "stream",
          "text": [
            "Processing batches: 100%|██████████| 12/12 [03:42<00:00, 18.53s/batch]\n"
          ]
        },
        {
          "metadata": {
            "tags": null
          },
          "name": "stdout",
          "output_type": "stream",
          "text": [
            "Creating pseudovisium folder in output path:/content/pseudovisium/section35\n",
            "Using already existing folder: /content/pseudovisium/\n",
            "Creating scalefactors_json.json file in spatial folder.\n",
            "Creating barcodes.tsv.gz file in spatial folder.\n",
            "Creating tissue_positions_list.csv file in spatial folder.\n",
            "Creating pv_cell_hex.csv file in spatial folder.\n"
          ]
        },
        {
          "metadata": {
            "tags": null
          },
          "name": "stderr",
          "output_type": "stream",
          "text": [
            "/usr/local/lib/python3.10/dist-packages/Pseudovisium/pseudovisium_generate.py:786: SettingWithCopyWarning: \n",
            "A value is trying to be set on a copy of a slice from a DataFrame.\n",
            "Try using .loc[row_indexer,col_indexer] = value instead\n",
            "\n",
            "See the caveats in the documentation: https://pandas.pydata.org/pandas-docs/stable/user_guide/indexing.html#returning-a-view-versus-a-copy\n",
            "  hexagon_cell_counts[\"hexagon_id\"] = hexagon_cell_counts[\"hexagon_id\"] + 1\n"
          ]
        },
        {
          "metadata": {
            "tags": null
          },
          "name": "stdout",
          "output_type": "stream",
          "text": [
            "No quality information provided. Skipping quality information files.\n",
            "No quality information provided. Skipping quality information files.\n",
            "Creating features.tsv.gz file in spatial folder.\n",
            "Putting together the matrix.mtx file\n",
            "Total matrix count: 91956995.0\n",
            "Number of unique hexagons: 8099\n",
            "Creating matrix.mtx.gz file in spatial folder.\n",
            "Putting together the filtered_feature_bc_matrix.h5 file\n",
            "No image file provided. Drawing tissue positions on a white background.\n",
            "Creating arguments.json file in output path.\n",
            "Time taken: 855.7203042507172 seconds\n",
            "Searching for temporary batch files in: /tmp\n",
            "No remaining temporary batch files found.\n",
            "Downloaded 1199651057_cellpose-detected_transcripts.csv\n",
            "Downloaded 1199651057_cellpose-detected_transcripts.csv\n",
            "You are using version:  ['Pseudovisium==0.0.40']\n",
            "Date:  2024-06-11\n",
            "Technology not recognized. Going forward with set column names.\n",
            "Quality filter is set to False\n",
            "Quality counting per hexagon is set to False\n",
            "Quality counting per probe is set to False\n",
            "Created temporary directory /tmp/tmp_hexaq_sq995x\n",
            "Now creating batches\n",
            "Created batch 1\n",
            "Created batch 2\n",
            "Created batch 3\n",
            "Created batch 4\n",
            "Created batch 5\n",
            "Created batch 6\n",
            "Created batch 7\n",
            "Created batch 8\n",
            "Created batch 9\n",
            "Created batch 10\n",
            "Created batch 11\n",
            "Created batch 12\n",
            "Created batch 13\n",
            "Created batch 14\n",
            "Created batch 15\n",
            "Created batch 16\n",
            "Created batch 17\n",
            "Created batch 18\n",
            "Finished preprocessing. Total batches created: 18\n",
            "Processing batches using 8 processes\n"
          ]
        },
        {
          "metadata": {
            "tags": null
          },
          "name": "stderr",
          "output_type": "stream",
          "text": [
            "Processing batches: 100%|██████████| 18/18 [05:03<00:00, 16.86s/batch]\n"
          ]
        },
        {
          "metadata": {
            "tags": null
          },
          "name": "stdout",
          "output_type": "stream",
          "text": [
            "Creating pseudovisium folder in output path:/content/pseudovisium/section36\n",
            "Using already existing folder: /content/pseudovisium/\n",
            "Creating scalefactors_json.json file in spatial folder.\n",
            "Creating barcodes.tsv.gz file in spatial folder.\n",
            "Creating tissue_positions_list.csv file in spatial folder.\n",
            "Creating pv_cell_hex.csv file in spatial folder.\n"
          ]
        },
        {
          "metadata": {
            "tags": null
          },
          "name": "stderr",
          "output_type": "stream",
          "text": [
            "/usr/local/lib/python3.10/dist-packages/Pseudovisium/pseudovisium_generate.py:786: SettingWithCopyWarning: \n",
            "A value is trying to be set on a copy of a slice from a DataFrame.\n",
            "Try using .loc[row_indexer,col_indexer] = value instead\n",
            "\n",
            "See the caveats in the documentation: https://pandas.pydata.org/pandas-docs/stable/user_guide/indexing.html#returning-a-view-versus-a-copy\n",
            "  hexagon_cell_counts[\"hexagon_id\"] = hexagon_cell_counts[\"hexagon_id\"] + 1\n"
          ]
        },
        {
          "metadata": {
            "tags": null
          },
          "name": "stdout",
          "output_type": "stream",
          "text": [
            "No quality information provided. Skipping quality information files.\n",
            "No quality information provided. Skipping quality information files.\n",
            "Creating features.tsv.gz file in spatial folder.\n",
            "Putting together the matrix.mtx file\n",
            "Total matrix count: 139020452.0\n",
            "Number of unique hexagons: 7917\n",
            "Creating matrix.mtx.gz file in spatial folder.\n",
            "Putting together the filtered_feature_bc_matrix.h5 file\n",
            "No image file provided. Drawing tissue positions on a white background.\n",
            "Creating arguments.json file in output path.\n",
            "Time taken: 1341.2976942062378 seconds\n",
            "Searching for temporary batch files in: /tmp\n",
            "No remaining temporary batch files found.\n",
            "Downloaded 1199651060_cellpose-detected_transcripts.csv\n",
            "Downloaded 1199651060_cellpose-detected_transcripts.csv\n",
            "You are using version:  ['Pseudovisium==0.0.40']\n",
            "Date:  2024-06-11\n",
            "Technology not recognized. Going forward with set column names.\n",
            "Quality filter is set to False\n",
            "Quality counting per hexagon is set to False\n",
            "Quality counting per probe is set to False\n",
            "Created temporary directory /tmp/tmp_hexasbrqaz_o\n",
            "Now creating batches\n",
            "Created batch 1\n",
            "Created batch 2\n",
            "Created batch 3\n",
            "Created batch 4\n",
            "Created batch 5\n",
            "Created batch 6\n",
            "Created batch 7\n",
            "Created batch 8\n",
            "Created batch 9\n",
            "Created batch 10\n",
            "Created batch 11\n",
            "Created batch 12\n",
            "Created batch 13\n",
            "Created batch 14\n",
            "Finished preprocessing. Total batches created: 14\n",
            "Processing batches using 8 processes\n"
          ]
        },
        {
          "metadata": {
            "tags": null
          },
          "name": "stderr",
          "output_type": "stream",
          "text": [
            "Processing batches: 100%|██████████| 14/14 [04:27<00:00, 19.12s/batch]\n"
          ]
        },
        {
          "metadata": {
            "tags": null
          },
          "name": "stdout",
          "output_type": "stream",
          "text": [
            "Creating pseudovisium folder in output path:/content/pseudovisium/section37\n",
            "Using already existing folder: /content/pseudovisium/\n",
            "Creating scalefactors_json.json file in spatial folder.\n",
            "Creating barcodes.tsv.gz file in spatial folder.\n",
            "Creating tissue_positions_list.csv file in spatial folder.\n",
            "Creating pv_cell_hex.csv file in spatial folder.\n"
          ]
        },
        {
          "metadata": {
            "tags": null
          },
          "name": "stderr",
          "output_type": "stream",
          "text": [
            "/usr/local/lib/python3.10/dist-packages/Pseudovisium/pseudovisium_generate.py:786: SettingWithCopyWarning: \n",
            "A value is trying to be set on a copy of a slice from a DataFrame.\n",
            "Try using .loc[row_indexer,col_indexer] = value instead\n",
            "\n",
            "See the caveats in the documentation: https://pandas.pydata.org/pandas-docs/stable/user_guide/indexing.html#returning-a-view-versus-a-copy\n",
            "  hexagon_cell_counts[\"hexagon_id\"] = hexagon_cell_counts[\"hexagon_id\"] + 1\n"
          ]
        },
        {
          "metadata": {
            "tags": null
          },
          "name": "stdout",
          "output_type": "stream",
          "text": [
            "No quality information provided. Skipping quality information files.\n",
            "No quality information provided. Skipping quality information files.\n",
            "Creating features.tsv.gz file in spatial folder.\n",
            "Putting together the matrix.mtx file\n",
            "Total matrix count: 105389569.0\n",
            "Number of unique hexagons: 6917\n",
            "Creating matrix.mtx.gz file in spatial folder.\n",
            "Putting together the filtered_feature_bc_matrix.h5 file\n",
            "No image file provided. Drawing tissue positions on a white background.\n",
            "Creating arguments.json file in output path.\n",
            "Time taken: 1033.9827764034271 seconds\n",
            "Searching for temporary batch files in: /tmp\n",
            "No remaining temporary batch files found.\n",
            "Downloaded 1199651063_cellpose-detected_transcripts.csv\n",
            "Downloaded 1199651063_cellpose-detected_transcripts.csv\n",
            "You are using version:  ['Pseudovisium==0.0.40']\n",
            "Date:  2024-06-11\n",
            "Technology not recognized. Going forward with set column names.\n",
            "Quality filter is set to False\n",
            "Quality counting per hexagon is set to False\n",
            "Quality counting per probe is set to False\n",
            "Created temporary directory /tmp/tmp_hexacjubtljk\n",
            "Now creating batches\n",
            "Created batch 1\n",
            "Created batch 2\n",
            "Created batch 3\n",
            "Created batch 4\n",
            "Created batch 5\n",
            "Created batch 6\n",
            "Created batch 7\n",
            "Created batch 8\n",
            "Created batch 9\n",
            "Created batch 10\n",
            "Created batch 11\n",
            "Created batch 12\n",
            "Created batch 13\n",
            "Created batch 14\n",
            "Created batch 15\n",
            "Finished preprocessing. Total batches created: 15\n",
            "Processing batches using 8 processes\n"
          ]
        },
        {
          "metadata": {
            "tags": null
          },
          "name": "stderr",
          "output_type": "stream",
          "text": [
            "Processing batches: 100%|██████████| 15/15 [04:05<00:00, 16.40s/batch]\n"
          ]
        },
        {
          "metadata": {
            "tags": null
          },
          "name": "stdout",
          "output_type": "stream",
          "text": [
            "Creating pseudovisium folder in output path:/content/pseudovisium/section38\n",
            "Using already existing folder: /content/pseudovisium/\n",
            "Creating scalefactors_json.json file in spatial folder.\n",
            "Creating barcodes.tsv.gz file in spatial folder.\n",
            "Creating tissue_positions_list.csv file in spatial folder.\n",
            "Creating pv_cell_hex.csv file in spatial folder.\n"
          ]
        },
        {
          "metadata": {
            "tags": null
          },
          "name": "stderr",
          "output_type": "stream",
          "text": [
            "/usr/local/lib/python3.10/dist-packages/Pseudovisium/pseudovisium_generate.py:786: SettingWithCopyWarning: \n",
            "A value is trying to be set on a copy of a slice from a DataFrame.\n",
            "Try using .loc[row_indexer,col_indexer] = value instead\n",
            "\n",
            "See the caveats in the documentation: https://pandas.pydata.org/pandas-docs/stable/user_guide/indexing.html#returning-a-view-versus-a-copy\n",
            "  hexagon_cell_counts[\"hexagon_id\"] = hexagon_cell_counts[\"hexagon_id\"] + 1\n"
          ]
        },
        {
          "metadata": {
            "tags": null
          },
          "name": "stdout",
          "output_type": "stream",
          "text": [
            "No quality information provided. Skipping quality information files.\n",
            "No quality information provided. Skipping quality information files.\n",
            "Creating features.tsv.gz file in spatial folder.\n",
            "Putting together the matrix.mtx file\n",
            "Total matrix count: 116150065.0\n",
            "Number of unique hexagons: 7694\n",
            "Creating matrix.mtx.gz file in spatial folder.\n",
            "Putting together the filtered_feature_bc_matrix.h5 file\n",
            "No image file provided. Drawing tissue positions on a white background.\n",
            "Creating arguments.json file in output path.\n",
            "Time taken: 1094.3411226272583 seconds\n",
            "Searching for temporary batch files in: /tmp\n",
            "No remaining temporary batch files found.\n",
            "Downloaded 1199651066_cellpose-detected_transcripts.csv\n",
            "Downloaded 1199651066_cellpose-detected_transcripts.csv\n",
            "You are using version:  ['Pseudovisium==0.0.40']\n",
            "Date:  2024-06-11\n",
            "Technology not recognized. Going forward with set column names.\n",
            "Quality filter is set to False\n",
            "Quality counting per hexagon is set to False\n",
            "Quality counting per probe is set to False\n",
            "Created temporary directory /tmp/tmp_hexakmw7y8wf\n",
            "Now creating batches\n",
            "Created batch 1\n",
            "Created batch 2\n",
            "Created batch 3\n",
            "Created batch 4\n",
            "Created batch 5\n",
            "Created batch 6\n",
            "Created batch 7\n",
            "Created batch 8\n",
            "Created batch 9\n",
            "Created batch 10\n",
            "Created batch 11\n",
            "Created batch 12\n",
            "Created batch 13\n",
            "Created batch 14\n",
            "Finished preprocessing. Total batches created: 14\n",
            "Processing batches using 8 processes\n"
          ]
        },
        {
          "metadata": {
            "tags": null
          },
          "name": "stderr",
          "output_type": "stream",
          "text": [
            "Processing batches: 100%|██████████| 14/14 [03:53<00:00, 16.68s/batch]\n"
          ]
        },
        {
          "metadata": {
            "tags": null
          },
          "name": "stdout",
          "output_type": "stream",
          "text": [
            "Creating pseudovisium folder in output path:/content/pseudovisium/section39\n",
            "Using already existing folder: /content/pseudovisium/\n",
            "Creating scalefactors_json.json file in spatial folder.\n",
            "Creating barcodes.tsv.gz file in spatial folder.\n",
            "Creating tissue_positions_list.csv file in spatial folder.\n",
            "Creating pv_cell_hex.csv file in spatial folder.\n"
          ]
        },
        {
          "metadata": {
            "tags": null
          },
          "name": "stderr",
          "output_type": "stream",
          "text": [
            "/usr/local/lib/python3.10/dist-packages/Pseudovisium/pseudovisium_generate.py:786: SettingWithCopyWarning: \n",
            "A value is trying to be set on a copy of a slice from a DataFrame.\n",
            "Try using .loc[row_indexer,col_indexer] = value instead\n",
            "\n",
            "See the caveats in the documentation: https://pandas.pydata.org/pandas-docs/stable/user_guide/indexing.html#returning-a-view-versus-a-copy\n",
            "  hexagon_cell_counts[\"hexagon_id\"] = hexagon_cell_counts[\"hexagon_id\"] + 1\n"
          ]
        },
        {
          "metadata": {
            "tags": null
          },
          "name": "stdout",
          "output_type": "stream",
          "text": [
            "No quality information provided. Skipping quality information files.\n",
            "No quality information provided. Skipping quality information files.\n",
            "Creating features.tsv.gz file in spatial folder.\n",
            "Putting together the matrix.mtx file\n",
            "Total matrix count: 111794278.0\n",
            "Number of unique hexagons: 7395\n",
            "Creating matrix.mtx.gz file in spatial folder.\n",
            "Putting together the filtered_feature_bc_matrix.h5 file\n",
            "No image file provided. Drawing tissue positions on a white background.\n",
            "Creating arguments.json file in output path.\n",
            "Time taken: 1043.6830990314484 seconds\n",
            "Searching for temporary batch files in: /tmp\n",
            "No remaining temporary batch files found.\n",
            "Downloaded 1199651069_cellpose-detected_transcripts.csv\n",
            "Downloaded 1199651069_cellpose-detected_transcripts.csv\n",
            "You are using version:  ['Pseudovisium==0.0.40']\n",
            "Date:  2024-06-11\n",
            "Technology not recognized. Going forward with set column names.\n",
            "Quality filter is set to False\n",
            "Quality counting per hexagon is set to False\n",
            "Quality counting per probe is set to False\n",
            "Created temporary directory /tmp/tmp_hexayo_qgb1q\n",
            "Now creating batches\n",
            "Created batch 1\n",
            "Created batch 2\n",
            "Created batch 3\n",
            "Created batch 4\n",
            "Created batch 5\n",
            "Created batch 6\n",
            "Created batch 7\n",
            "Created batch 8\n",
            "Created batch 9\n",
            "Created batch 10\n",
            "Created batch 11\n",
            "Finished preprocessing. Total batches created: 11\n",
            "Processing batches using 8 processes\n"
          ]
        },
        {
          "metadata": {
            "tags": null
          },
          "name": "stderr",
          "output_type": "stream",
          "text": [
            "Processing batches: 100%|██████████| 11/11 [03:06<00:00, 16.95s/batch]\n"
          ]
        },
        {
          "metadata": {
            "tags": null
          },
          "name": "stdout",
          "output_type": "stream",
          "text": [
            "Creating pseudovisium folder in output path:/content/pseudovisium/section40\n",
            "Using already existing folder: /content/pseudovisium/\n",
            "Creating scalefactors_json.json file in spatial folder.\n",
            "Creating barcodes.tsv.gz file in spatial folder.\n",
            "Creating tissue_positions_list.csv file in spatial folder.\n",
            "Creating pv_cell_hex.csv file in spatial folder.\n"
          ]
        },
        {
          "metadata": {
            "tags": null
          },
          "name": "stderr",
          "output_type": "stream",
          "text": [
            "/usr/local/lib/python3.10/dist-packages/Pseudovisium/pseudovisium_generate.py:786: SettingWithCopyWarning: \n",
            "A value is trying to be set on a copy of a slice from a DataFrame.\n",
            "Try using .loc[row_indexer,col_indexer] = value instead\n",
            "\n",
            "See the caveats in the documentation: https://pandas.pydata.org/pandas-docs/stable/user_guide/indexing.html#returning-a-view-versus-a-copy\n",
            "  hexagon_cell_counts[\"hexagon_id\"] = hexagon_cell_counts[\"hexagon_id\"] + 1\n"
          ]
        },
        {
          "metadata": {
            "tags": null
          },
          "name": "stdout",
          "output_type": "stream",
          "text": [
            "No quality information provided. Skipping quality information files.\n",
            "No quality information provided. Skipping quality information files.\n",
            "Creating features.tsv.gz file in spatial folder.\n",
            "Putting together the matrix.mtx file\n",
            "Total matrix count: 81857731.0\n",
            "Number of unique hexagons: 6263\n",
            "Creating matrix.mtx.gz file in spatial folder.\n",
            "Putting together the filtered_feature_bc_matrix.h5 file\n",
            "No image file provided. Drawing tissue positions on a white background.\n",
            "Creating arguments.json file in output path.\n",
            "Time taken: 770.0475471019745 seconds\n",
            "Searching for temporary batch files in: /tmp\n",
            "No remaining temporary batch files found.\n",
            "Downloaded 1199651072_cellpose-detected_transcripts.csv\n",
            "Downloaded 1199651072_cellpose-detected_transcripts.csv\n",
            "You are using version:  ['Pseudovisium==0.0.40']\n",
            "Date:  2024-06-11\n",
            "Technology not recognized. Going forward with set column names.\n",
            "Quality filter is set to False\n",
            "Quality counting per hexagon is set to False\n",
            "Quality counting per probe is set to False\n",
            "Created temporary directory /tmp/tmp_hexaodunmmqx\n",
            "Now creating batches\n",
            "Created batch 1\n",
            "Created batch 2\n",
            "Created batch 3\n",
            "Created batch 4\n",
            "Created batch 5\n",
            "Created batch 6\n",
            "Created batch 7\n",
            "Created batch 8\n",
            "Created batch 9\n",
            "Finished preprocessing. Total batches created: 9\n",
            "Processing batches using 8 processes\n"
          ]
        },
        {
          "metadata": {
            "tags": null
          },
          "name": "stderr",
          "output_type": "stream",
          "text": [
            "Processing batches: 100%|██████████| 9/9 [02:28<00:00, 16.53s/batch]\n"
          ]
        },
        {
          "metadata": {
            "tags": null
          },
          "name": "stdout",
          "output_type": "stream",
          "text": [
            "Creating pseudovisium folder in output path:/content/pseudovisium/section41\n",
            "Using already existing folder: /content/pseudovisium/\n",
            "Creating scalefactors_json.json file in spatial folder.\n",
            "Creating barcodes.tsv.gz file in spatial folder.\n",
            "Creating tissue_positions_list.csv file in spatial folder.\n",
            "Creating pv_cell_hex.csv file in spatial folder.\n",
            "No quality information provided. Skipping quality information files.\n",
            "No quality information provided. Skipping quality information files.\n",
            "Creating features.tsv.gz file in spatial folder.\n",
            "Putting together the matrix.mtx file\n",
            "Total matrix count: 68450824.0\n",
            "Number of unique hexagons: 5936\n",
            "Creating matrix.mtx.gz file in spatial folder.\n"
          ]
        },
        {
          "metadata": {
            "tags": null
          },
          "name": "stderr",
          "output_type": "stream",
          "text": [
            "/usr/local/lib/python3.10/dist-packages/Pseudovisium/pseudovisium_generate.py:786: SettingWithCopyWarning: \n",
            "A value is trying to be set on a copy of a slice from a DataFrame.\n",
            "Try using .loc[row_indexer,col_indexer] = value instead\n",
            "\n",
            "See the caveats in the documentation: https://pandas.pydata.org/pandas-docs/stable/user_guide/indexing.html#returning-a-view-versus-a-copy\n",
            "  hexagon_cell_counts[\"hexagon_id\"] = hexagon_cell_counts[\"hexagon_id\"] + 1\n"
          ]
        },
        {
          "metadata": {
            "tags": null
          },
          "name": "stdout",
          "output_type": "stream",
          "text": [
            "Putting together the filtered_feature_bc_matrix.h5 file\n",
            "No image file provided. Drawing tissue positions on a white background.\n",
            "Creating arguments.json file in output path.\n",
            "Time taken: 644.1745853424072 seconds\n",
            "Searching for temporary batch files in: /tmp\n",
            "No remaining temporary batch files found.\n",
            "Downloaded 1199651075_cellpose-detected_transcripts.csv\n",
            "Downloaded 1199651075_cellpose-detected_transcripts.csv\n",
            "You are using version:  ['Pseudovisium==0.0.40']\n",
            "Date:  2024-06-11\n",
            "Technology not recognized. Going forward with set column names.\n",
            "Quality filter is set to False\n",
            "Quality counting per hexagon is set to False\n",
            "Quality counting per probe is set to False\n",
            "Created temporary directory /tmp/tmp_hexapyydstvy\n",
            "Now creating batches\n",
            "Created batch 1\n",
            "Created batch 2\n",
            "Created batch 3\n",
            "Created batch 4\n",
            "Created batch 5\n",
            "Created batch 6\n",
            "Created batch 7\n",
            "Created batch 8\n",
            "Created batch 9\n",
            "Created batch 10\n",
            "Created batch 11\n",
            "Created batch 12\n",
            "Created batch 13\n",
            "Created batch 14\n",
            "Created batch 15\n",
            "Created batch 16\n",
            "Created batch 17\n",
            "Created batch 18\n",
            "Finished preprocessing. Total batches created: 18\n",
            "Processing batches using 8 processes\n"
          ]
        },
        {
          "metadata": {
            "tags": null
          },
          "name": "stderr",
          "output_type": "stream",
          "text": [
            "Processing batches: 100%|██████████| 18/18 [05:22<00:00, 17.90s/batch]\n"
          ]
        },
        {
          "metadata": {
            "tags": null
          },
          "name": "stdout",
          "output_type": "stream",
          "text": [
            "Creating pseudovisium folder in output path:/content/pseudovisium/section42\n",
            "Using already existing folder: /content/pseudovisium/\n",
            "Creating scalefactors_json.json file in spatial folder.\n",
            "Creating barcodes.tsv.gz file in spatial folder.\n",
            "Creating tissue_positions_list.csv file in spatial folder.\n",
            "Creating pv_cell_hex.csv file in spatial folder.\n"
          ]
        },
        {
          "metadata": {
            "tags": null
          },
          "name": "stderr",
          "output_type": "stream",
          "text": [
            "/usr/local/lib/python3.10/dist-packages/Pseudovisium/pseudovisium_generate.py:786: SettingWithCopyWarning: \n",
            "A value is trying to be set on a copy of a slice from a DataFrame.\n",
            "Try using .loc[row_indexer,col_indexer] = value instead\n",
            "\n",
            "See the caveats in the documentation: https://pandas.pydata.org/pandas-docs/stable/user_guide/indexing.html#returning-a-view-versus-a-copy\n",
            "  hexagon_cell_counts[\"hexagon_id\"] = hexagon_cell_counts[\"hexagon_id\"] + 1\n"
          ]
        },
        {
          "metadata": {
            "tags": null
          },
          "name": "stdout",
          "output_type": "stream",
          "text": [
            "No quality information provided. Skipping quality information files.\n",
            "No quality information provided. Skipping quality information files.\n",
            "Creating features.tsv.gz file in spatial folder.\n",
            "Putting together the matrix.mtx file\n",
            "Total matrix count: 142396727.0\n",
            "Number of unique hexagons: 6766\n",
            "Creating matrix.mtx.gz file in spatial folder.\n",
            "Putting together the filtered_feature_bc_matrix.h5 file\n",
            "No image file provided. Drawing tissue positions on a white background.\n",
            "Creating arguments.json file in output path.\n",
            "Time taken: 1340.5009365081787 seconds\n",
            "Searching for temporary batch files in: /tmp\n",
            "No remaining temporary batch files found.\n",
            "Downloaded 1199651078_cellpose-detected_transcripts.csv\n",
            "Downloaded 1199651078_cellpose-detected_transcripts.csv\n",
            "You are using version:  ['Pseudovisium==0.0.40']\n",
            "Date:  2024-06-11\n",
            "Technology not recognized. Going forward with set column names.\n",
            "Quality filter is set to False\n",
            "Quality counting per hexagon is set to False\n",
            "Quality counting per probe is set to False\n",
            "Created temporary directory /tmp/tmp_hexavf4xdes5\n",
            "Now creating batches\n",
            "Created batch 1\n",
            "Created batch 2\n",
            "Created batch 3\n",
            "Created batch 4\n",
            "Created batch 5\n",
            "Created batch 6\n",
            "Created batch 7\n",
            "Created batch 8\n",
            "Created batch 9\n",
            "Created batch 10\n",
            "Created batch 11\n",
            "Created batch 12\n",
            "Created batch 13\n",
            "Created batch 14\n",
            "Created batch 15\n",
            "Created batch 16\n",
            "Created batch 17\n",
            "Created batch 18\n",
            "Finished preprocessing. Total batches created: 18\n",
            "Processing batches using 8 processes\n"
          ]
        },
        {
          "metadata": {
            "tags": null
          },
          "name": "stderr",
          "output_type": "stream",
          "text": [
            "Processing batches: 100%|██████████| 18/18 [05:10<00:00, 17.25s/batch]\n"
          ]
        },
        {
          "metadata": {
            "tags": null
          },
          "name": "stdout",
          "output_type": "stream",
          "text": [
            "Creating pseudovisium folder in output path:/content/pseudovisium/section43\n",
            "Using already existing folder: /content/pseudovisium/\n",
            "Creating scalefactors_json.json file in spatial folder.\n",
            "Creating barcodes.tsv.gz file in spatial folder.\n",
            "Creating tissue_positions_list.csv file in spatial folder.\n",
            "Creating pv_cell_hex.csv file in spatial folder.\n"
          ]
        },
        {
          "metadata": {
            "tags": null
          },
          "name": "stderr",
          "output_type": "stream",
          "text": [
            "/usr/local/lib/python3.10/dist-packages/Pseudovisium/pseudovisium_generate.py:786: SettingWithCopyWarning: \n",
            "A value is trying to be set on a copy of a slice from a DataFrame.\n",
            "Try using .loc[row_indexer,col_indexer] = value instead\n",
            "\n",
            "See the caveats in the documentation: https://pandas.pydata.org/pandas-docs/stable/user_guide/indexing.html#returning-a-view-versus-a-copy\n",
            "  hexagon_cell_counts[\"hexagon_id\"] = hexagon_cell_counts[\"hexagon_id\"] + 1\n"
          ]
        },
        {
          "metadata": {
            "tags": null
          },
          "name": "stdout",
          "output_type": "stream",
          "text": [
            "No quality information provided. Skipping quality information files.\n",
            "No quality information provided. Skipping quality information files.\n",
            "Creating features.tsv.gz file in spatial folder.\n",
            "Putting together the matrix.mtx file\n",
            "Total matrix count: 140415022.0\n",
            "Number of unique hexagons: 6761\n",
            "Creating matrix.mtx.gz file in spatial folder.\n",
            "Putting together the filtered_feature_bc_matrix.h5 file\n",
            "No image file provided. Drawing tissue positions on a white background.\n",
            "Creating arguments.json file in output path.\n",
            "Time taken: 1368.8179020881653 seconds\n",
            "Searching for temporary batch files in: /tmp\n",
            "No remaining temporary batch files found.\n",
            "Downloaded 1199651081_cellpose-detected_transcripts.csv\n",
            "Downloaded 1199651081_cellpose-detected_transcripts.csv\n",
            "You are using version:  ['Pseudovisium==0.0.40']\n",
            "Date:  2024-06-11\n",
            "Technology not recognized. Going forward with set column names.\n",
            "Quality filter is set to False\n",
            "Quality counting per hexagon is set to False\n",
            "Quality counting per probe is set to False\n",
            "Created temporary directory /tmp/tmp_hexajdja6v7q\n",
            "Now creating batches\n",
            "Created batch 1\n",
            "Created batch 2\n",
            "Created batch 3\n",
            "Created batch 4\n",
            "Created batch 5\n",
            "Created batch 6\n",
            "Created batch 7\n",
            "Created batch 8\n",
            "Created batch 9\n",
            "Created batch 10\n",
            "Created batch 11\n",
            "Created batch 12\n",
            "Created batch 13\n",
            "Created batch 14\n",
            "Created batch 15\n",
            "Finished preprocessing. Total batches created: 15\n",
            "Processing batches using 8 processes\n"
          ]
        },
        {
          "metadata": {
            "tags": null
          },
          "name": "stderr",
          "output_type": "stream",
          "text": [
            "Processing batches: 100%|██████████| 15/15 [04:00<00:00, 16.03s/batch]\n"
          ]
        },
        {
          "metadata": {
            "tags": null
          },
          "name": "stdout",
          "output_type": "stream",
          "text": [
            "Creating pseudovisium folder in output path:/content/pseudovisium/section44\n",
            "Using already existing folder: /content/pseudovisium/\n",
            "Creating scalefactors_json.json file in spatial folder.\n",
            "Creating barcodes.tsv.gz file in spatial folder.\n",
            "Creating tissue_positions_list.csv file in spatial folder.\n",
            "Creating pv_cell_hex.csv file in spatial folder.\n",
            "No quality information provided. Skipping quality information files.\n",
            "No quality information provided. Skipping quality information files.\n",
            "Creating features.tsv.gz file in spatial folder.\n",
            "Putting together the matrix.mtx file\n",
            "Total matrix count: 115747275.0\n",
            "Number of unique hexagons: 5882\n",
            "Creating matrix.mtx.gz file in spatial folder.\n"
          ]
        },
        {
          "metadata": {
            "tags": null
          },
          "name": "stderr",
          "output_type": "stream",
          "text": [
            "/usr/local/lib/python3.10/dist-packages/Pseudovisium/pseudovisium_generate.py:786: SettingWithCopyWarning: \n",
            "A value is trying to be set on a copy of a slice from a DataFrame.\n",
            "Try using .loc[row_indexer,col_indexer] = value instead\n",
            "\n",
            "See the caveats in the documentation: https://pandas.pydata.org/pandas-docs/stable/user_guide/indexing.html#returning-a-view-versus-a-copy\n",
            "  hexagon_cell_counts[\"hexagon_id\"] = hexagon_cell_counts[\"hexagon_id\"] + 1\n"
          ]
        },
        {
          "metadata": {
            "tags": null
          },
          "name": "stdout",
          "output_type": "stream",
          "text": [
            "Putting together the filtered_feature_bc_matrix.h5 file\n",
            "No image file provided. Drawing tissue positions on a white background.\n",
            "Creating arguments.json file in output path.\n",
            "Time taken: 1068.3911533355713 seconds\n",
            "Searching for temporary batch files in: /tmp\n",
            "No remaining temporary batch files found.\n",
            "Downloaded 1199651084_cellpose-detected_transcripts.csv\n",
            "Downloaded 1199651084_cellpose-detected_transcripts.csv\n",
            "You are using version:  ['Pseudovisium==0.0.40']\n",
            "Date:  2024-06-11\n",
            "Technology not recognized. Going forward with set column names.\n",
            "Quality filter is set to False\n",
            "Quality counting per hexagon is set to False\n",
            "Quality counting per probe is set to False\n",
            "Created temporary directory /tmp/tmp_hexasqz68pni\n",
            "Now creating batches\n",
            "Created batch 1\n",
            "Created batch 2\n",
            "Created batch 3\n",
            "Created batch 4\n",
            "Created batch 5\n",
            "Created batch 6\n",
            "Created batch 7\n",
            "Created batch 8\n",
            "Created batch 9\n",
            "Created batch 10\n",
            "Created batch 11\n",
            "Created batch 12\n",
            "Created batch 13\n",
            "Created batch 14\n",
            "Created batch 15\n",
            "Created batch 16\n",
            "Created batch 17\n",
            "Finished preprocessing. Total batches created: 17\n",
            "Processing batches using 8 processes\n"
          ]
        },
        {
          "metadata": {
            "tags": null
          },
          "name": "stderr",
          "output_type": "stream",
          "text": [
            "Processing batches: 100%|██████████| 17/17 [04:26<00:00, 15.68s/batch]\n"
          ]
        },
        {
          "metadata": {
            "tags": null
          },
          "name": "stdout",
          "output_type": "stream",
          "text": [
            "Creating pseudovisium folder in output path:/content/pseudovisium/section45\n",
            "Using already existing folder: /content/pseudovisium/\n",
            "Creating scalefactors_json.json file in spatial folder.\n",
            "Creating barcodes.tsv.gz file in spatial folder.\n",
            "Creating tissue_positions_list.csv file in spatial folder.\n",
            "Creating pv_cell_hex.csv file in spatial folder.\n"
          ]
        },
        {
          "metadata": {
            "tags": null
          },
          "name": "stderr",
          "output_type": "stream",
          "text": [
            "/usr/local/lib/python3.10/dist-packages/Pseudovisium/pseudovisium_generate.py:786: SettingWithCopyWarning: \n",
            "A value is trying to be set on a copy of a slice from a DataFrame.\n",
            "Try using .loc[row_indexer,col_indexer] = value instead\n",
            "\n",
            "See the caveats in the documentation: https://pandas.pydata.org/pandas-docs/stable/user_guide/indexing.html#returning-a-view-versus-a-copy\n",
            "  hexagon_cell_counts[\"hexagon_id\"] = hexagon_cell_counts[\"hexagon_id\"] + 1\n"
          ]
        },
        {
          "metadata": {
            "tags": null
          },
          "name": "stdout",
          "output_type": "stream",
          "text": [
            "No quality information provided. Skipping quality information files.\n",
            "No quality information provided. Skipping quality information files.\n",
            "Creating features.tsv.gz file in spatial folder.\n",
            "Putting together the matrix.mtx file\n",
            "Total matrix count: 131348303.0\n",
            "Number of unique hexagons: 6435\n",
            "Creating matrix.mtx.gz file in spatial folder.\n",
            "Putting together the filtered_feature_bc_matrix.h5 file\n",
            "No image file provided. Drawing tissue positions on a white background.\n",
            "Creating arguments.json file in output path.\n",
            "Time taken: 1273.3271148204803 seconds\n",
            "Searching for temporary batch files in: /tmp\n",
            "No remaining temporary batch files found.\n",
            "Downloaded 1199651091_cellpose-detected_transcripts.csv\n",
            "Downloaded 1199651091_cellpose-detected_transcripts.csv\n",
            "You are using version:  ['Pseudovisium==0.0.40']\n",
            "Date:  2024-06-11\n",
            "Technology not recognized. Going forward with set column names.\n",
            "Quality filter is set to False\n",
            "Quality counting per hexagon is set to False\n",
            "Quality counting per probe is set to False\n",
            "Created temporary directory /tmp/tmp_hexazboxf1ia\n",
            "Now creating batches\n",
            "Created batch 1\n",
            "Created batch 2\n",
            "Created batch 3\n",
            "Created batch 4\n",
            "Created batch 5\n",
            "Created batch 6\n",
            "Created batch 7\n",
            "Created batch 8\n",
            "Created batch 9\n",
            "Created batch 10\n",
            "Created batch 11\n",
            "Created batch 12\n",
            "Finished preprocessing. Total batches created: 12\n",
            "Processing batches using 8 processes\n"
          ]
        },
        {
          "metadata": {
            "tags": null
          },
          "name": "stderr",
          "output_type": "stream",
          "text": [
            "Processing batches: 100%|██████████| 12/12 [03:20<00:00, 16.72s/batch]\n"
          ]
        },
        {
          "metadata": {
            "tags": null
          },
          "name": "stdout",
          "output_type": "stream",
          "text": [
            "Creating pseudovisium folder in output path:/content/pseudovisium/section46\n",
            "Using already existing folder: /content/pseudovisium/\n",
            "Creating scalefactors_json.json file in spatial folder.\n",
            "Creating barcodes.tsv.gz file in spatial folder.\n",
            "Creating tissue_positions_list.csv file in spatial folder.\n",
            "Creating pv_cell_hex.csv file in spatial folder.\n",
            "No quality information provided. Skipping quality information files.\n",
            "No quality information provided. Skipping quality information files.\n",
            "Creating features.tsv.gz file in spatial folder.\n",
            "Putting together the matrix.mtx file\n",
            "Total matrix count: 89215957.0\n",
            "Number of unique hexagons: 6177\n",
            "Creating matrix.mtx.gz file in spatial folder.\n"
          ]
        },
        {
          "metadata": {
            "tags": null
          },
          "name": "stderr",
          "output_type": "stream",
          "text": [
            "/usr/local/lib/python3.10/dist-packages/Pseudovisium/pseudovisium_generate.py:786: SettingWithCopyWarning: \n",
            "A value is trying to be set on a copy of a slice from a DataFrame.\n",
            "Try using .loc[row_indexer,col_indexer] = value instead\n",
            "\n",
            "See the caveats in the documentation: https://pandas.pydata.org/pandas-docs/stable/user_guide/indexing.html#returning-a-view-versus-a-copy\n",
            "  hexagon_cell_counts[\"hexagon_id\"] = hexagon_cell_counts[\"hexagon_id\"] + 1\n"
          ]
        },
        {
          "metadata": {
            "tags": null
          },
          "name": "stdout",
          "output_type": "stream",
          "text": [
            "Putting together the filtered_feature_bc_matrix.h5 file\n",
            "No image file provided. Drawing tissue positions on a white background.\n",
            "Creating arguments.json file in output path.\n",
            "Time taken: 842.6145663261414 seconds\n",
            "Searching for temporary batch files in: /tmp\n",
            "No remaining temporary batch files found.\n",
            "Downloaded 1199651094_cellpose-detected_transcripts.csv\n",
            "Downloaded 1199651094_cellpose-detected_transcripts.csv\n",
            "You are using version:  ['Pseudovisium==0.0.40']\n",
            "Date:  2024-06-11\n",
            "Technology not recognized. Going forward with set column names.\n",
            "Quality filter is set to False\n",
            "Quality counting per hexagon is set to False\n",
            "Quality counting per probe is set to False\n",
            "Created temporary directory /tmp/tmp_hexaq1fkciin\n",
            "Now creating batches\n",
            "Created batch 1\n",
            "Created batch 2\n",
            "Created batch 3\n",
            "Created batch 4\n",
            "Created batch 5\n",
            "Created batch 6\n",
            "Created batch 7\n",
            "Created batch 8\n",
            "Created batch 9\n",
            "Created batch 10\n",
            "Created batch 11\n",
            "Created batch 12\n",
            "Created batch 13\n",
            "Created batch 14\n",
            "Finished preprocessing. Total batches created: 14\n",
            "Processing batches using 8 processes\n"
          ]
        },
        {
          "metadata": {
            "tags": null
          },
          "name": "stderr",
          "output_type": "stream",
          "text": [
            "Processing batches: 100%|██████████| 14/14 [03:43<00:00, 15.99s/batch]\n"
          ]
        },
        {
          "metadata": {
            "tags": null
          },
          "name": "stdout",
          "output_type": "stream",
          "text": [
            "Creating pseudovisium folder in output path:/content/pseudovisium/section47\n",
            "Using already existing folder: /content/pseudovisium/\n",
            "Creating scalefactors_json.json file in spatial folder.\n",
            "Creating barcodes.tsv.gz file in spatial folder.\n",
            "Creating tissue_positions_list.csv file in spatial folder.\n",
            "Creating pv_cell_hex.csv file in spatial folder.\n",
            "No quality information provided. Skipping quality information files.\n",
            "No quality information provided. Skipping quality information files.\n",
            "Creating features.tsv.gz file in spatial folder.\n",
            "Putting together the matrix.mtx file\n",
            "Total matrix count: 111207515.0\n",
            "Number of unique hexagons: 5859\n",
            "Creating matrix.mtx.gz file in spatial folder.\n"
          ]
        },
        {
          "metadata": {
            "tags": null
          },
          "name": "stderr",
          "output_type": "stream",
          "text": [
            "/usr/local/lib/python3.10/dist-packages/Pseudovisium/pseudovisium_generate.py:786: SettingWithCopyWarning: \n",
            "A value is trying to be set on a copy of a slice from a DataFrame.\n",
            "Try using .loc[row_indexer,col_indexer] = value instead\n",
            "\n",
            "See the caveats in the documentation: https://pandas.pydata.org/pandas-docs/stable/user_guide/indexing.html#returning-a-view-versus-a-copy\n",
            "  hexagon_cell_counts[\"hexagon_id\"] = hexagon_cell_counts[\"hexagon_id\"] + 1\n"
          ]
        },
        {
          "metadata": {
            "tags": null
          },
          "name": "stdout",
          "output_type": "stream",
          "text": [
            "Putting together the filtered_feature_bc_matrix.h5 file\n",
            "No image file provided. Drawing tissue positions on a white background.\n",
            "Creating arguments.json file in output path.\n",
            "Time taken: 1011.9901485443115 seconds\n",
            "Searching for temporary batch files in: /tmp\n",
            "No remaining temporary batch files found.\n",
            "Downloaded 1199651097_cellpose-detected_transcripts.csv\n",
            "Downloaded 1199651097_cellpose-detected_transcripts.csv\n",
            "You are using version:  ['Pseudovisium==0.0.40']\n",
            "Date:  2024-06-11\n",
            "Technology not recognized. Going forward with set column names.\n",
            "Quality filter is set to False\n",
            "Quality counting per hexagon is set to False\n",
            "Quality counting per probe is set to False\n",
            "Created temporary directory /tmp/tmp_hexaqvllkam2\n",
            "Now creating batches\n",
            "Created batch 1\n",
            "Created batch 2\n",
            "Created batch 3\n",
            "Created batch 4\n",
            "Created batch 5\n",
            "Created batch 6\n",
            "Created batch 7\n",
            "Created batch 8\n",
            "Created batch 9\n",
            "Created batch 10\n",
            "Created batch 11\n",
            "Created batch 12\n",
            "Created batch 13\n",
            "Created batch 14\n",
            "Created batch 15\n",
            "Created batch 16\n",
            "Finished preprocessing. Total batches created: 16\n",
            "Processing batches using 8 processes\n"
          ]
        },
        {
          "metadata": {
            "tags": null
          },
          "name": "stderr",
          "output_type": "stream",
          "text": [
            "Processing batches: 100%|██████████| 16/16 [04:33<00:00, 17.10s/batch]\n"
          ]
        },
        {
          "metadata": {
            "tags": null
          },
          "name": "stdout",
          "output_type": "stream",
          "text": [
            "Creating pseudovisium folder in output path:/content/pseudovisium/section48\n",
            "Using already existing folder: /content/pseudovisium/\n",
            "Creating scalefactors_json.json file in spatial folder.\n",
            "Creating barcodes.tsv.gz file in spatial folder.\n",
            "Creating tissue_positions_list.csv file in spatial folder.\n",
            "Creating pv_cell_hex.csv file in spatial folder.\n",
            "No quality information provided. Skipping quality information files.\n",
            "No quality information provided. Skipping quality information files.\n",
            "Creating features.tsv.gz file in spatial folder.\n",
            "Putting together the matrix.mtx file\n",
            "Total matrix count: 122118101.0\n",
            "Number of unique hexagons: 5483\n",
            "Creating matrix.mtx.gz file in spatial folder.\n"
          ]
        },
        {
          "metadata": {
            "tags": null
          },
          "name": "stderr",
          "output_type": "stream",
          "text": [
            "/usr/local/lib/python3.10/dist-packages/Pseudovisium/pseudovisium_generate.py:786: SettingWithCopyWarning: \n",
            "A value is trying to be set on a copy of a slice from a DataFrame.\n",
            "Try using .loc[row_indexer,col_indexer] = value instead\n",
            "\n",
            "See the caveats in the documentation: https://pandas.pydata.org/pandas-docs/stable/user_guide/indexing.html#returning-a-view-versus-a-copy\n",
            "  hexagon_cell_counts[\"hexagon_id\"] = hexagon_cell_counts[\"hexagon_id\"] + 1\n"
          ]
        },
        {
          "metadata": {
            "tags": null
          },
          "name": "stdout",
          "output_type": "stream",
          "text": [
            "Putting together the filtered_feature_bc_matrix.h5 file\n",
            "No image file provided. Drawing tissue positions on a white background.\n",
            "Creating arguments.json file in output path.\n",
            "Time taken: 1122.6880106925964 seconds\n",
            "Searching for temporary batch files in: /tmp\n",
            "No remaining temporary batch files found.\n",
            "Downloaded 1199651100_cellpose-detected_transcripts.csv\n",
            "Downloaded 1199651100_cellpose-detected_transcripts.csv\n",
            "You are using version:  ['Pseudovisium==0.0.40']\n",
            "Date:  2024-06-11\n",
            "Technology not recognized. Going forward with set column names.\n",
            "Quality filter is set to False\n",
            "Quality counting per hexagon is set to False\n",
            "Quality counting per probe is set to False\n",
            "Created temporary directory /tmp/tmp_hexalfs5g2gk\n",
            "Now creating batches\n",
            "Created batch 1\n",
            "Created batch 2\n",
            "Created batch 3\n",
            "Created batch 4\n",
            "Created batch 5\n",
            "Created batch 6\n",
            "Created batch 7\n",
            "Created batch 8\n",
            "Created batch 9\n",
            "Finished preprocessing. Total batches created: 9\n",
            "Processing batches using 8 processes\n"
          ]
        },
        {
          "metadata": {
            "tags": null
          },
          "name": "stderr",
          "output_type": "stream",
          "text": [
            "Processing batches: 100%|██████████| 9/9 [02:11<00:00, 14.60s/batch]\n"
          ]
        },
        {
          "metadata": {
            "tags": null
          },
          "name": "stdout",
          "output_type": "stream",
          "text": [
            "Creating pseudovisium folder in output path:/content/pseudovisium/section49\n",
            "Using already existing folder: /content/pseudovisium/\n",
            "Creating scalefactors_json.json file in spatial folder.\n",
            "Creating barcodes.tsv.gz file in spatial folder.\n",
            "Creating tissue_positions_list.csv file in spatial folder.\n",
            "Creating pv_cell_hex.csv file in spatial folder.\n",
            "No quality information provided. Skipping quality information files.\n",
            "No quality information provided. Skipping quality information files.\n",
            "Creating features.tsv.gz file in spatial folder.\n",
            "Putting together the matrix.mtx file\n",
            "Total matrix count: 65864701.0\n",
            "Number of unique hexagons: 4572\n",
            "Creating matrix.mtx.gz file in spatial folder.\n"
          ]
        },
        {
          "metadata": {
            "tags": null
          },
          "name": "stderr",
          "output_type": "stream",
          "text": [
            "/usr/local/lib/python3.10/dist-packages/Pseudovisium/pseudovisium_generate.py:786: SettingWithCopyWarning: \n",
            "A value is trying to be set on a copy of a slice from a DataFrame.\n",
            "Try using .loc[row_indexer,col_indexer] = value instead\n",
            "\n",
            "See the caveats in the documentation: https://pandas.pydata.org/pandas-docs/stable/user_guide/indexing.html#returning-a-view-versus-a-copy\n",
            "  hexagon_cell_counts[\"hexagon_id\"] = hexagon_cell_counts[\"hexagon_id\"] + 1\n"
          ]
        },
        {
          "metadata": {
            "tags": null
          },
          "name": "stdout",
          "output_type": "stream",
          "text": [
            "Putting together the filtered_feature_bc_matrix.h5 file\n",
            "No image file provided. Drawing tissue positions on a white background.\n",
            "Creating arguments.json file in output path.\n",
            "Time taken: 606.4774181842804 seconds\n",
            "Searching for temporary batch files in: /tmp\n",
            "No remaining temporary batch files found.\n",
            "Downloaded 1199651103_cellpose-detected_transcripts.csv\n",
            "Downloaded 1199651103_cellpose-detected_transcripts.csv\n",
            "You are using version:  ['Pseudovisium==0.0.40']\n",
            "Date:  2024-06-11\n",
            "Technology not recognized. Going forward with set column names.\n",
            "Quality filter is set to False\n",
            "Quality counting per hexagon is set to False\n",
            "Quality counting per probe is set to False\n",
            "Created temporary directory /tmp/tmp_hexaoq0hhybn\n",
            "Now creating batches\n",
            "Created batch 1\n",
            "Created batch 2\n",
            "Created batch 3\n",
            "Created batch 4\n",
            "Created batch 5\n",
            "Created batch 6\n",
            "Created batch 7\n",
            "Created batch 8\n",
            "Created batch 9\n",
            "Finished preprocessing. Total batches created: 9\n",
            "Processing batches using 8 processes\n"
          ]
        },
        {
          "metadata": {
            "tags": null
          },
          "name": "stderr",
          "output_type": "stream",
          "text": [
            "Processing batches: 100%|██████████| 9/9 [02:37<00:00, 17.55s/batch]\n"
          ]
        },
        {
          "metadata": {
            "tags": null
          },
          "name": "stdout",
          "output_type": "stream",
          "text": [
            "Creating pseudovisium folder in output path:/content/pseudovisium/section50\n",
            "Using already existing folder: /content/pseudovisium/\n",
            "Creating scalefactors_json.json file in spatial folder.\n",
            "Creating barcodes.tsv.gz file in spatial folder.\n",
            "Creating tissue_positions_list.csv file in spatial folder.\n",
            "Creating pv_cell_hex.csv file in spatial folder.\n",
            "No quality information provided. Skipping quality information files.\n",
            "No quality information provided. Skipping quality information files.\n",
            "Creating features.tsv.gz file in spatial folder.\n",
            "Putting together the matrix.mtx file\n",
            "Total matrix count: 69438993.0\n",
            "Number of unique hexagons: 4193\n",
            "Creating matrix.mtx.gz file in spatial folder.\n"
          ]
        },
        {
          "metadata": {
            "tags": null
          },
          "name": "stderr",
          "output_type": "stream",
          "text": [
            "/usr/local/lib/python3.10/dist-packages/Pseudovisium/pseudovisium_generate.py:786: SettingWithCopyWarning: \n",
            "A value is trying to be set on a copy of a slice from a DataFrame.\n",
            "Try using .loc[row_indexer,col_indexer] = value instead\n",
            "\n",
            "See the caveats in the documentation: https://pandas.pydata.org/pandas-docs/stable/user_guide/indexing.html#returning-a-view-versus-a-copy\n",
            "  hexagon_cell_counts[\"hexagon_id\"] = hexagon_cell_counts[\"hexagon_id\"] + 1\n"
          ]
        },
        {
          "output_type": "stream",
          "name": "stdout",
          "text": [
            "Putting together the filtered_feature_bc_matrix.h5 file\n",
            "No image file provided. Drawing tissue positions on a white background.\n",
            "Creating arguments.json file in output path.\n",
            "Time taken: 677.285224199295 seconds\n",
            "Searching for temporary batch files in: /tmp\n",
            "No remaining temporary batch files found.\n",
            "Downloaded 1199651106_cellpose-detected_transcripts.csv\n",
            "Downloaded 1199651106_cellpose-detected_transcripts.csv\n",
            "You are using version:  ['Pseudovisium==0.0.40']\n",
            "Date:  2024-06-11\n",
            "Technology not recognized. Going forward with set column names.\n",
            "Quality filter is set to False\n",
            "Quality counting per hexagon is set to False\n",
            "Quality counting per probe is set to False\n",
            "Created temporary directory /tmp/tmp_hexad7cr_m8k\n",
            "Now creating batches\n",
            "Created batch 1\n",
            "Created batch 2\n",
            "Created batch 3\n",
            "Created batch 4\n",
            "Created batch 5\n",
            "Created batch 6\n",
            "Created batch 7\n",
            "Created batch 8\n",
            "Finished preprocessing. Total batches created: 8\n",
            "Processing batches using 8 processes\n"
          ]
        },
        {
          "output_type": "stream",
          "name": "stderr",
          "text": [
            "Processing batches: 100%|██████████| 8/8 [01:52<00:00, 14.02s/batch]\n"
          ]
        },
        {
          "output_type": "stream",
          "name": "stdout",
          "text": [
            "Creating pseudovisium folder in output path:/content/pseudovisium/section51\n",
            "Using already existing folder: /content/pseudovisium/\n",
            "Creating scalefactors_json.json file in spatial folder.\n",
            "Creating barcodes.tsv.gz file in spatial folder.\n",
            "Creating tissue_positions_list.csv file in spatial folder.\n",
            "Creating pv_cell_hex.csv file in spatial folder.\n",
            "No quality information provided. Skipping quality information files.\n",
            "No quality information provided. Skipping quality information files.\n",
            "Creating features.tsv.gz file in spatial folder.\n",
            "Putting together the matrix.mtx file\n",
            "Total matrix count: 58116822.0\n",
            "Number of unique hexagons: 3579\n",
            "Creating matrix.mtx.gz file in spatial folder.\n"
          ]
        },
        {
          "output_type": "stream",
          "name": "stderr",
          "text": [
            "/usr/local/lib/python3.10/dist-packages/Pseudovisium/pseudovisium_generate.py:786: SettingWithCopyWarning: \n",
            "A value is trying to be set on a copy of a slice from a DataFrame.\n",
            "Try using .loc[row_indexer,col_indexer] = value instead\n",
            "\n",
            "See the caveats in the documentation: https://pandas.pydata.org/pandas-docs/stable/user_guide/indexing.html#returning-a-view-versus-a-copy\n",
            "  hexagon_cell_counts[\"hexagon_id\"] = hexagon_cell_counts[\"hexagon_id\"] + 1\n"
          ]
        },
        {
          "output_type": "stream",
          "name": "stdout",
          "text": [
            "Putting together the filtered_feature_bc_matrix.h5 file\n",
            "No image file provided. Drawing tissue positions on a white background.\n",
            "Creating arguments.json file in output path.\n",
            "Time taken: 537.8067779541016 seconds\n",
            "Searching for temporary batch files in: /tmp\n",
            "No remaining temporary batch files found.\n",
            "Downloaded 1199651109_cellpose-detected_transcripts.csv\n",
            "Downloaded 1199651109_cellpose-detected_transcripts.csv\n",
            "You are using version:  ['Pseudovisium==0.0.40']\n",
            "Date:  2024-06-11\n",
            "Technology not recognized. Going forward with set column names.\n",
            "Quality filter is set to False\n",
            "Quality counting per hexagon is set to False\n",
            "Quality counting per probe is set to False\n",
            "Created temporary directory /tmp/tmp_hexa7k3c2w2l\n",
            "Now creating batches\n",
            "Created batch 1\n",
            "Created batch 2\n",
            "Created batch 3\n",
            "Created batch 4\n"
          ]
        }
      ],
      "source": [
        "# URL of the webpage\n",
        "url = \"https://download.brainimagelibrary.org/aa/79/aa79b8ba5b3add56/638850/\"\n",
        "\n",
        "# Send a GET request to fetch the webpage content\n",
        "response = requests.get(url)\n",
        "\n",
        "# Check if the request was successful (status code 200)\n",
        "if response.status_code == 200:\n",
        "    # Parse the HTML content\n",
        "    soup = BeautifulSoup(response.text, 'html.parser')\n",
        "\n",
        "    # Find all <a> tags which contain the folder names\n",
        "    folder_links = soup.find_all('a')\n",
        "    filenames=[]\n",
        "    for i,folder_link in enumerate(folder_links[1:]):\n",
        "        folder_name = folder_link.text.strip('/')\n",
        "        if folder_name != \"..\":\n",
        "            # Construct the full URL of the CSV file\n",
        "            csv_url = url + folder_name + \"/merfish_output/cellpose_cyto2_nuclei/cellpose-detected_transcripts.csv\"\n",
        "            filename= folder_name + \"_cellpose-detected_transcripts.csv\"\n",
        "            filenames.append(filename)\n",
        "            # Define the command to download using wget\n",
        "            wget_command = f\"wget -O {filename} {csv_url}\"\n",
        "            # Execute the wget command\n",
        "            subprocess.run(wget_command, shell=True)\n",
        "            print(f\"Downloaded {folder_name}_cellpose-detected_transcripts.csv\")\n",
        "\n",
        "        print(f\"Downloaded {folder_name}_cellpose-detected_transcripts.csv\")\n",
        "        csv_file = \"/content/\"+folder_name+\"_cellpose-detected_transcripts.csv\"\n",
        "        output_path = \"/content\"\n",
        "        hexagon_size = 50\n",
        "\n",
        "        pseudovisium_path = generate_pv(csv_file=csv_file,\n",
        "                                        hexagon_size=hexagon_size,\n",
        "                                        output_path=output_path,\n",
        "                                          batch_size=8000000,\n",
        "                                          max_workers=10,\n",
        "                                          x_colname = \"global_x\",\n",
        "                                          y_colname = \"global_y\",\n",
        "                                          feature_colname = \"gene\",\n",
        "                                          cell_id_colname = \"cell_id\",\n",
        "                                          technology=\"merscope\",\n",
        "                                          project_name=\"section\"+str(i))\n",
        "\n",
        "        os.remove(csv_file)\n",
        "else:\n",
        "    print(\"Failed to retrieve webpage. Status code:\", response.status_code)"
      ]
    },
    {
      "cell_type": "code",
      "execution_count": null,
      "metadata": {
        "id": "WJ62ulL_CbGC"
      },
      "outputs": [],
      "source": [
        "folders= [\"/content/pseudovisium/section\"+str(i)  for i in range(60)]\n",
        "folders"
      ]
    },
    {
      "cell_type": "code",
      "execution_count": null,
      "metadata": {
        "id": "p8TSF-zEQBxO"
      },
      "outputs": [],
      "source": [
        "output_folder=\"/content/\"\n",
        "gene_names=[\"Kitl\",\"Fstl5\",\"Slit2\"]\n",
        "generate_qc_report(folders,\n",
        "                   output_folder,\n",
        "                   gene_names,\n",
        "                   include_morans_i=False,\n",
        "                   max_workers=10,\n",
        "                   normalisation=True,\n",
        "                   save_plots=True,\n",
        "                   squidpy=True)"
      ]
    },
    {
      "cell_type": "code",
      "execution_count": null,
      "metadata": {
        "colab": {
          "base_uri": "https://localhost:8080/"
        },
        "id": "6q1WsulGJwmK",
        "outputId": "5ac321ce-1022-4fad-ab3a-74d9abdc7b7f"
      },
      "outputs": [
        {
          "output_type": "stream",
          "name": "stdout",
          "text": [
            "Mounted at /content/drive\n",
            "  adding: content/pseudovisium/ (stored 0%)\n",
            "  adding: content/pseudovisium/section45/ (stored 0%)\n",
            "  adding: content/pseudovisium/section45/spatial/ (stored 0%)\n",
            "  adding: content/pseudovisium/section45/spatial/tissue_positions_list.csv (deflated 79%)\n",
            "  adding: content/pseudovisium/section45/spatial/tissue_lowres_image.png (deflated 86%)\n",
            "  adding: content/pseudovisium/section45/spatial/pv_cell_hex.csv (deflated 80%)\n",
            "  adding: content/pseudovisium/section45/spatial/scalefactors_json.json (deflated 35%)\n",
            "  adding: content/pseudovisium/section45/spatial/tissue_hires_image.png (deflated 94%)\n",
            "  adding: content/pseudovisium/section45/matrix.mtx (deflated 87%)\n",
            "  adding: content/pseudovisium/section45/barcodes.tsv (deflated 81%)\n",
            "  adding: content/pseudovisium/section45/features.tsv.gz (deflated 3%)\n",
            "  adding: content/pseudovisium/section45/barcodes.tsv.gz (deflated 70%)\n",
            "  adding: content/pseudovisium/section45/features.tsv (deflated 81%)\n",
            "  adding: content/pseudovisium/section45/matrix.mtx.gz (deflated 0%)\n",
            "  adding: content/pseudovisium/section45/arguments.json (deflated 50%)\n",
            "  adding: content/pseudovisium/section45/filtered_feature_bc_matrix.h5 (deflated 82%)\n",
            "  adding: content/pseudovisium/section1/ (stored 0%)\n",
            "  adding: content/pseudovisium/section1/spatial/ (stored 0%)\n",
            "  adding: content/pseudovisium/section1/spatial/tissue_positions_list.csv (deflated 80%)\n",
            "  adding: content/pseudovisium/section1/spatial/tissue_lowres_image.png (deflated 80%)\n",
            "  adding: content/pseudovisium/section1/spatial/pv_cell_hex.csv (deflated 80%)\n",
            "  adding: content/pseudovisium/section1/spatial/scalefactors_json.json (deflated 35%)\n",
            "  adding: content/pseudovisium/section1/spatial/tissue_hires_image.png (deflated 93%)\n",
            "  adding: content/pseudovisium/section1/matrix.mtx (deflated 87%)\n",
            "  adding: content/pseudovisium/section1/barcodes.tsv (deflated 81%)\n",
            "  adding: content/pseudovisium/section1/features.tsv.gz (deflated 3%)\n",
            "  adding: content/pseudovisium/section1/barcodes.tsv.gz (deflated 28%)\n",
            "  adding: content/pseudovisium/section1/features.tsv (deflated 81%)\n",
            "  adding: content/pseudovisium/section1/matrix.mtx.gz (deflated 0%)\n",
            "  adding: content/pseudovisium/section1/arguments.json (deflated 51%)\n",
            "  adding: content/pseudovisium/section1/filtered_feature_bc_matrix.h5 (deflated 82%)\n",
            "  adding: content/pseudovisium/section46/ (stored 0%)\n",
            "  adding: content/pseudovisium/section46/spatial/ (stored 0%)\n",
            "  adding: content/pseudovisium/section46/spatial/tissue_positions_list.csv (deflated 78%)\n",
            "  adding: content/pseudovisium/section46/spatial/tissue_lowres_image.png (deflated 80%)\n",
            "  adding: content/pseudovisium/section46/spatial/pv_cell_hex.csv (deflated 79%)\n",
            "  adding: content/pseudovisium/section46/spatial/scalefactors_json.json (deflated 35%)\n",
            "  adding: content/pseudovisium/section46/spatial/tissue_hires_image.png (deflated 92%)\n",
            "  adding: content/pseudovisium/section46/matrix.mtx (deflated 87%)\n",
            "  adding: content/pseudovisium/section46/barcodes.tsv (deflated 81%)\n",
            "  adding: content/pseudovisium/section46/features.tsv.gz (deflated 3%)\n",
            "  adding: content/pseudovisium/section46/barcodes.tsv.gz (deflated 69%)\n",
            "  adding: content/pseudovisium/section46/features.tsv (deflated 81%)\n",
            "  adding: content/pseudovisium/section46/matrix.mtx.gz (deflated 0%)\n",
            "  adding: content/pseudovisium/section46/arguments.json (deflated 50%)\n",
            "  adding: content/pseudovisium/section46/filtered_feature_bc_matrix.h5 (deflated 82%)\n",
            "  adding: content/pseudovisium/section57/ (stored 0%)\n",
            "  adding: content/pseudovisium/section57/spatial/ (stored 0%)\n",
            "  adding: content/pseudovisium/section57/spatial/tissue_positions_list.csv (deflated 80%)\n",
            "  adding: content/pseudovisium/section57/spatial/tissue_lowres_image.png (deflated 71%)\n",
            "  adding: content/pseudovisium/section57/spatial/pv_cell_hex.csv (deflated 80%)\n",
            "  adding: content/pseudovisium/section57/spatial/scalefactors_json.json (deflated 35%)\n",
            "  adding: content/pseudovisium/section57/spatial/tissue_hires_image.png (deflated 90%)\n",
            "  adding: content/pseudovisium/section57/matrix.mtx (deflated 87%)\n",
            "  adding: content/pseudovisium/section57/barcodes.tsv (deflated 81%)\n",
            "  adding: content/pseudovisium/section57/features.tsv.gz (deflated 3%)\n",
            "  adding: content/pseudovisium/section57/barcodes.tsv.gz (deflated 22%)\n",
            "  adding: content/pseudovisium/section57/features.tsv (deflated 81%)\n",
            "  adding: content/pseudovisium/section57/matrix.mtx.gz (deflated 0%)\n",
            "  adding: content/pseudovisium/section57/arguments.json (deflated 50%)\n",
            "  adding: content/pseudovisium/section57/filtered_feature_bc_matrix.h5 (deflated 81%)\n",
            "  adding: content/pseudovisium/section27/ (stored 0%)\n",
            "  adding: content/pseudovisium/section27/spatial/ (stored 0%)\n",
            "  adding: content/pseudovisium/section27/spatial/tissue_positions_list.csv (deflated 79%)\n",
            "  adding: content/pseudovisium/section27/spatial/tissue_lowres_image.png (deflated 81%)\n",
            "  adding: content/pseudovisium/section27/spatial/pv_cell_hex.csv (deflated 80%)\n",
            "  adding: content/pseudovisium/section27/spatial/scalefactors_json.json (deflated 35%)\n",
            "  adding: content/pseudovisium/section27/spatial/tissue_hires_image.png (deflated 93%)\n",
            "  adding: content/pseudovisium/section27/matrix.mtx (deflated 88%)\n",
            "  adding: content/pseudovisium/section27/barcodes.tsv (deflated 81%)\n",
            "  adding: content/pseudovisium/section27/features.tsv.gz (deflated 3%)\n",
            "  adding: content/pseudovisium/section27/barcodes.tsv.gz (deflated 74%)\n",
            "  adding: content/pseudovisium/section27/features.tsv (deflated 81%)\n",
            "  adding: content/pseudovisium/section27/matrix.mtx.gz (deflated 0%)\n",
            "  adding: content/pseudovisium/section27/arguments.json (deflated 50%)\n",
            "  adding: content/pseudovisium/section27/filtered_feature_bc_matrix.h5 (deflated 82%)\n",
            "  adding: content/pseudovisium/section18/ (stored 0%)\n",
            "  adding: content/pseudovisium/section18/spatial/ (stored 0%)\n",
            "  adding: content/pseudovisium/section18/spatial/tissue_positions_list.csv (deflated 78%)\n",
            "  adding: content/pseudovisium/section18/spatial/tissue_lowres_image.png (deflated 70%)\n",
            "  adding: content/pseudovisium/section18/spatial/pv_cell_hex.csv (deflated 79%)\n",
            "  adding: content/pseudovisium/section18/spatial/scalefactors_json.json (deflated 35%)\n",
            "  adding: content/pseudovisium/section18/spatial/tissue_hires_image.png (deflated 91%)\n",
            "  adding: content/pseudovisium/section18/matrix.mtx (deflated 87%)\n",
            "  adding: content/pseudovisium/section18/barcodes.tsv (deflated 81%)\n",
            "  adding: content/pseudovisium/section18/features.tsv.gz (deflated 3%)\n",
            "  adding: content/pseudovisium/section18/barcodes.tsv.gz (deflated 29%)\n",
            "  adding: content/pseudovisium/section18/features.tsv (deflated 81%)\n",
            "  adding: content/pseudovisium/section18/matrix.mtx.gz (deflated 0%)\n",
            "  adding: content/pseudovisium/section18/arguments.json (deflated 50%)\n",
            "  adding: content/pseudovisium/section18/filtered_feature_bc_matrix.h5 (deflated 82%)\n",
            "  adding: content/pseudovisium/section2/ (stored 0%)\n",
            "  adding: content/pseudovisium/section2/spatial/ (stored 0%)\n",
            "  adding: content/pseudovisium/section2/spatial/tissue_positions_list.csv (deflated 80%)\n",
            "  adding: content/pseudovisium/section2/spatial/tissue_lowres_image.png (deflated 81%)\n",
            "  adding: content/pseudovisium/section2/spatial/pv_cell_hex.csv (deflated 80%)\n",
            "  adding: content/pseudovisium/section2/spatial/scalefactors_json.json (deflated 35%)\n",
            "  adding: content/pseudovisium/section2/spatial/tissue_hires_image.png (deflated 92%)\n",
            "  adding: content/pseudovisium/section2/matrix.mtx (deflated 87%)\n",
            "  adding: content/pseudovisium/section2/barcodes.tsv (deflated 81%)\n",
            "  adding: content/pseudovisium/section2/features.tsv.gz (deflated 3%)\n",
            "  adding: content/pseudovisium/section2/barcodes.tsv.gz (deflated 42%)\n",
            "  adding: content/pseudovisium/section2/features.tsv (deflated 81%)\n",
            "  adding: content/pseudovisium/section2/matrix.mtx.gz (deflated 0%)\n",
            "  adding: content/pseudovisium/section2/arguments.json (deflated 51%)\n",
            "  adding: content/pseudovisium/section2/filtered_feature_bc_matrix.h5 (deflated 81%)\n",
            "  adding: content/pseudovisium/section23/ (stored 0%)\n",
            "  adding: content/pseudovisium/section23/spatial/ (stored 0%)\n",
            "  adding: content/pseudovisium/section23/spatial/tissue_positions_list.csv (deflated 78%)\n",
            "  adding: content/pseudovisium/section23/spatial/tissue_lowres_image.png (deflated 84%)\n",
            "  adding: content/pseudovisium/section23/spatial/pv_cell_hex.csv (deflated 80%)\n",
            "  adding: content/pseudovisium/section23/spatial/scalefactors_json.json (deflated 35%)\n",
            "  adding: content/pseudovisium/section23/spatial/tissue_hires_image.png (deflated 94%)\n",
            "  adding: content/pseudovisium/section23/matrix.mtx (deflated 87%)\n",
            "  adding: content/pseudovisium/section23/barcodes.tsv (deflated 81%)\n",
            "  adding: content/pseudovisium/section23/features.tsv.gz (deflated 3%)\n",
            "  adding: content/pseudovisium/section23/barcodes.tsv.gz (deflated 73%)\n",
            "  adding: content/pseudovisium/section23/features.tsv (deflated 81%)\n",
            "  adding: content/pseudovisium/section23/matrix.mtx.gz (deflated 0%)\n",
            "  adding: content/pseudovisium/section23/arguments.json (deflated 50%)\n",
            "  adding: content/pseudovisium/section23/filtered_feature_bc_matrix.h5 (deflated 81%)\n",
            "  adding: content/pseudovisium/section36/ (stored 0%)\n",
            "  adding: content/pseudovisium/section36/spatial/ (stored 0%)\n",
            "  adding: content/pseudovisium/section36/spatial/tissue_positions_list.csv (deflated 79%)\n",
            "  adding: content/pseudovisium/section36/spatial/tissue_lowres_image.png (deflated 87%)\n",
            "  adding: content/pseudovisium/section36/spatial/pv_cell_hex.csv (deflated 79%)\n",
            "  adding: content/pseudovisium/section36/spatial/scalefactors_json.json (deflated 35%)\n",
            "  adding: content/pseudovisium/section36/spatial/tissue_hires_image.png (deflated 94%)\n",
            "  adding: content/pseudovisium/section36/matrix.mtx (deflated 87%)\n",
            "  adding: content/pseudovisium/section36/barcodes.tsv (deflated 81%)\n",
            "  adding: content/pseudovisium/section36/features.tsv.gz (deflated 3%)\n",
            "  adding: content/pseudovisium/section36/barcodes.tsv.gz (deflated 75%)\n",
            "  adding: content/pseudovisium/section36/features.tsv (deflated 81%)\n",
            "  adding: content/pseudovisium/section36/matrix.mtx.gz (deflated 0%)\n",
            "  adding: content/pseudovisium/section36/arguments.json (deflated 50%)\n",
            "  adding: content/pseudovisium/section36/filtered_feature_bc_matrix.h5 (deflated 82%)\n",
            "  adding: content/pseudovisium/section8/ (stored 0%)\n",
            "  adding: content/pseudovisium/section8/spatial/ (stored 0%)\n",
            "  adding: content/pseudovisium/section8/spatial/tissue_positions_list.csv (deflated 78%)\n",
            "  adding: content/pseudovisium/section8/spatial/tissue_lowres_image.png (deflated 84%)\n",
            "  adding: content/pseudovisium/section8/spatial/pv_cell_hex.csv (deflated 81%)\n",
            "  adding: content/pseudovisium/section8/spatial/scalefactors_json.json (deflated 35%)\n",
            "  adding: content/pseudovisium/section8/spatial/tissue_hires_image.png (deflated 93%)\n",
            "  adding: content/pseudovisium/section8/matrix.mtx (deflated 88%)\n",
            "  adding: content/pseudovisium/section8/barcodes.tsv (deflated 81%)\n",
            "  adding: content/pseudovisium/section8/features.tsv.gz (deflated 3%)\n",
            "  adding: content/pseudovisium/section8/barcodes.tsv.gz (deflated 65%)\n",
            "  adding: content/pseudovisium/section8/features.tsv (deflated 81%)\n",
            "  adding: content/pseudovisium/section8/matrix.mtx.gz (deflated 0%)\n",
            "  adding: content/pseudovisium/section8/arguments.json (deflated 51%)\n",
            "  adding: content/pseudovisium/section8/filtered_feature_bc_matrix.h5 (deflated 81%)\n",
            "  adding: content/pseudovisium/section51/ (stored 0%)\n",
            "  adding: content/pseudovisium/section51/spatial/ (stored 0%)\n",
            "  adding: content/pseudovisium/section51/spatial/tissue_positions_list.csv (deflated 81%)\n",
            "  adding: content/pseudovisium/section51/spatial/tissue_lowres_image.png (deflated 82%)\n",
            "  adding: content/pseudovisium/section51/spatial/pv_cell_hex.csv (deflated 79%)\n",
            "  adding: content/pseudovisium/section51/spatial/scalefactors_json.json (deflated 35%)\n",
            "  adding: content/pseudovisium/section51/spatial/tissue_hires_image.png (deflated 93%)\n",
            "  adding: content/pseudovisium/section51/matrix.mtx (deflated 87%)\n",
            "  adding: content/pseudovisium/section51/barcodes.tsv (deflated 81%)\n",
            "  adding: content/pseudovisium/section51/features.tsv.gz (deflated 3%)\n",
            "  adding: content/pseudovisium/section51/barcodes.tsv.gz (deflated 48%)\n",
            "  adding: content/pseudovisium/section51/features.tsv (deflated 81%)\n",
            "  adding: content/pseudovisium/section51/matrix.mtx.gz (deflated 0%)\n",
            "  adding: content/pseudovisium/section51/arguments.json (deflated 50%)\n",
            "  adding: content/pseudovisium/section51/filtered_feature_bc_matrix.h5 (deflated 81%)\n",
            "  adding: content/pseudovisium/section17/ (stored 0%)\n",
            "  adding: content/pseudovisium/section17/spatial/ (stored 0%)\n",
            "  adding: content/pseudovisium/section17/spatial/tissue_positions_list.csv (deflated 79%)\n",
            "  adding: content/pseudovisium/section17/spatial/tissue_lowres_image.png (deflated 77%)\n",
            "  adding: content/pseudovisium/section17/spatial/pv_cell_hex.csv (deflated 79%)\n",
            "  adding: content/pseudovisium/section17/spatial/scalefactors_json.json (deflated 35%)\n",
            "  adding: content/pseudovisium/section17/spatial/tissue_hires_image.png (deflated 91%)\n",
            "  adding: content/pseudovisium/section17/matrix.mtx (deflated 87%)\n",
            "  adding: content/pseudovisium/section17/barcodes.tsv (deflated 81%)\n",
            "  adding: content/pseudovisium/section17/features.tsv.gz (deflated 3%)\n",
            "  adding: content/pseudovisium/section17/barcodes.tsv.gz (deflated 66%)\n",
            "  adding: content/pseudovisium/section17/features.tsv (deflated 81%)\n",
            "  adding: content/pseudovisium/section17/matrix.mtx.gz (deflated 0%)\n",
            "  adding: content/pseudovisium/section17/arguments.json (deflated 50%)\n",
            "  adding: content/pseudovisium/section17/filtered_feature_bc_matrix.h5 (deflated 82%)\n",
            "  adding: content/pseudovisium/section52/ (stored 0%)\n",
            "  adding: content/pseudovisium/section52/spatial/ (stored 0%)\n",
            "  adding: content/pseudovisium/section52/spatial/tissue_positions_list.csv (deflated 80%)\n",
            "  adding: content/pseudovisium/section52/spatial/tissue_lowres_image.png (deflated 82%)\n",
            "  adding: content/pseudovisium/section52/spatial/pv_cell_hex.csv (deflated 79%)\n",
            "  adding: content/pseudovisium/section52/spatial/scalefactors_json.json (deflated 35%)\n",
            "  adding: content/pseudovisium/section52/spatial/tissue_hires_image.png (deflated 93%)\n",
            "  adding: content/pseudovisium/section52/matrix.mtx (deflated 87%)\n",
            "  adding: content/pseudovisium/section52/barcodes.tsv (deflated 81%)\n",
            "  adding: content/pseudovisium/section52/features.tsv.gz (deflated 3%)\n",
            "  adding: content/pseudovisium/section52/barcodes.tsv.gz (deflated 52%)\n",
            "  adding: content/pseudovisium/section52/features.tsv (deflated 81%)\n",
            "  adding: content/pseudovisium/section52/matrix.mtx.gz (deflated 0%)\n",
            "  adding: content/pseudovisium/section52/arguments.json (deflated 50%)\n",
            "  adding: content/pseudovisium/section52/filtered_feature_bc_matrix.h5 (deflated 81%)\n",
            "  adding: content/pseudovisium/section9/ (stored 0%)\n",
            "  adding: content/pseudovisium/section9/spatial/ (stored 0%)\n",
            "  adding: content/pseudovisium/section9/spatial/tissue_positions_list.csv (deflated 79%)\n",
            "  adding: content/pseudovisium/section9/spatial/tissue_lowres_image.png (deflated 75%)\n",
            "  adding: content/pseudovisium/section9/spatial/pv_cell_hex.csv (deflated 80%)\n",
            "  adding: content/pseudovisium/section9/spatial/scalefactors_json.json (deflated 35%)\n",
            "  adding: content/pseudovisium/section9/spatial/tissue_hires_image.png (deflated 92%)\n",
            "  adding: content/pseudovisium/section9/matrix.mtx (deflated 88%)\n",
            "  adding: content/pseudovisium/section9/barcodes.tsv (deflated 81%)\n",
            "  adding: content/pseudovisium/section9/features.tsv.gz (deflated 3%)\n",
            "  adding: content/pseudovisium/section9/barcodes.tsv.gz (deflated 65%)\n",
            "  adding: content/pseudovisium/section9/features.tsv (deflated 81%)\n",
            "  adding: content/pseudovisium/section9/matrix.mtx.gz (deflated 0%)\n",
            "  adding: content/pseudovisium/section9/arguments.json (deflated 51%)\n",
            "  adding: content/pseudovisium/section9/filtered_feature_bc_matrix.h5 (deflated 81%)\n",
            "  adding: content/pseudovisium/section22/ (stored 0%)\n",
            "  adding: content/pseudovisium/section22/spatial/ (stored 0%)\n",
            "  adding: content/pseudovisium/section22/spatial/tissue_positions_list.csv (deflated 79%)\n",
            "  adding: content/pseudovisium/section22/spatial/tissue_lowres_image.png (deflated 69%)\n",
            "  adding: content/pseudovisium/section22/spatial/pv_cell_hex.csv (deflated 80%)\n",
            "  adding: content/pseudovisium/section22/spatial/scalefactors_json.json (deflated 35%)\n",
            "  adding: content/pseudovisium/section22/spatial/tissue_hires_image.png (deflated 89%)\n",
            "  adding: content/pseudovisium/section22/matrix.mtx (deflated 88%)\n",
            "  adding: content/pseudovisium/section22/barcodes.tsv (deflated 81%)\n",
            "  adding: content/pseudovisium/section22/features.tsv.gz (deflated 3%)\n",
            "  adding: content/pseudovisium/section22/barcodes.tsv.gz (deflated 70%)\n",
            "  adding: content/pseudovisium/section22/features.tsv (deflated 81%)\n",
            "  adding: content/pseudovisium/section22/matrix.mtx.gz (deflated 0%)\n",
            "  adding: content/pseudovisium/section22/arguments.json (deflated 50%)\n",
            "  adding: content/pseudovisium/section22/filtered_feature_bc_matrix.h5 (deflated 81%)\n",
            "  adding: content/pseudovisium/section32/ (stored 0%)\n",
            "  adding: content/pseudovisium/section32/spatial/ (stored 0%)\n",
            "  adding: content/pseudovisium/section32/spatial/tissue_positions_list.csv (deflated 79%)\n",
            "  adding: content/pseudovisium/section32/spatial/tissue_lowres_image.png (deflated 88%)\n",
            "  adding: content/pseudovisium/section32/spatial/pv_cell_hex.csv (deflated 80%)\n",
            "  adding: content/pseudovisium/section32/spatial/scalefactors_json.json (deflated 35%)\n",
            "  adding: content/pseudovisium/section32/spatial/tissue_hires_image.png (deflated 95%)\n",
            "  adding: content/pseudovisium/section32/matrix.mtx (deflated 87%)\n",
            "  adding: content/pseudovisium/section32/barcodes.tsv (deflated 81%)\n",
            "  adding: content/pseudovisium/section32/features.tsv.gz (deflated 3%)\n",
            "  adding: content/pseudovisium/section32/barcodes.tsv.gz (deflated 77%)\n",
            "  adding: content/pseudovisium/section32/features.tsv (deflated 81%)\n",
            "  adding: content/pseudovisium/section32/matrix.mtx.gz (deflated 0%)\n",
            "  adding: content/pseudovisium/section32/arguments.json (deflated 50%)\n",
            "  adding: content/pseudovisium/section32/filtered_feature_bc_matrix.h5 (deflated 81%)\n",
            "  adding: content/pseudovisium/section33/ (stored 0%)\n",
            "  adding: content/pseudovisium/section33/spatial/ (stored 0%)\n",
            "  adding: content/pseudovisium/section33/spatial/tissue_positions_list.csv (deflated 79%)\n",
            "  adding: content/pseudovisium/section33/spatial/tissue_lowres_image.png (deflated 80%)\n",
            "  adding: content/pseudovisium/section33/spatial/pv_cell_hex.csv (deflated 80%)\n",
            "  adding: content/pseudovisium/section33/spatial/scalefactors_json.json (deflated 35%)\n",
            "  adding: content/pseudovisium/section33/spatial/tissue_hires_image.png (deflated 93%)\n",
            "  adding: content/pseudovisium/section33/matrix.mtx (deflated 88%)\n",
            "  adding: content/pseudovisium/section33/barcodes.tsv (deflated 81%)\n",
            "  adding: content/pseudovisium/section33/features.tsv.gz (deflated 3%)\n",
            "  adding: content/pseudovisium/section33/barcodes.tsv.gz (deflated 76%)\n",
            "  adding: content/pseudovisium/section33/features.tsv (deflated 81%)\n",
            "  adding: content/pseudovisium/section33/matrix.mtx.gz (deflated 0%)\n",
            "  adding: content/pseudovisium/section33/arguments.json (deflated 50%)\n",
            "  adding: content/pseudovisium/section33/filtered_feature_bc_matrix.h5 (deflated 81%)\n",
            "  adding: content/pseudovisium/section56/ (stored 0%)\n",
            "  adding: content/pseudovisium/section56/spatial/ (stored 0%)\n",
            "  adding: content/pseudovisium/section56/spatial/tissue_positions_list.csv (deflated 80%)\n",
            "  adding: content/pseudovisium/section56/spatial/tissue_lowres_image.png (deflated 79%)\n",
            "  adding: content/pseudovisium/section56/spatial/pv_cell_hex.csv (deflated 79%)\n",
            "  adding: content/pseudovisium/section56/spatial/scalefactors_json.json (deflated 35%)\n",
            "  adding: content/pseudovisium/section56/spatial/tissue_hires_image.png (deflated 92%)\n",
            "  adding: content/pseudovisium/section56/matrix.mtx (deflated 87%)\n",
            "  adding: content/pseudovisium/section56/barcodes.tsv (deflated 81%)\n",
            "  adding: content/pseudovisium/section56/features.tsv.gz (deflated 3%)\n",
            "  adding: content/pseudovisium/section56/barcodes.tsv.gz (deflated 30%)\n",
            "  adding: content/pseudovisium/section56/features.tsv (deflated 81%)\n",
            "  adding: content/pseudovisium/section56/matrix.mtx.gz (deflated 0%)\n",
            "  adding: content/pseudovisium/section56/arguments.json (deflated 50%)\n",
            "  adding: content/pseudovisium/section56/filtered_feature_bc_matrix.h5 (deflated 81%)\n",
            "  adding: content/pseudovisium/section4/ (stored 0%)\n",
            "  adding: content/pseudovisium/section4/spatial/ (stored 0%)\n",
            "  adding: content/pseudovisium/section4/spatial/tissue_positions_list.csv (deflated 79%)\n",
            "  adding: content/pseudovisium/section4/spatial/tissue_lowres_image.png (deflated 78%)\n",
            "  adding: content/pseudovisium/section4/spatial/pv_cell_hex.csv (deflated 79%)\n",
            "  adding: content/pseudovisium/section4/spatial/scalefactors_json.json (deflated 35%)\n",
            "  adding: content/pseudovisium/section4/spatial/tissue_hires_image.png (deflated 92%)\n",
            "  adding: content/pseudovisium/section4/matrix.mtx (deflated 87%)\n",
            "  adding: content/pseudovisium/section4/barcodes.tsv (deflated 81%)\n",
            "  adding: content/pseudovisium/section4/features.tsv.gz (deflated 3%)\n",
            "  adding: content/pseudovisium/section4/barcodes.tsv.gz (deflated 55%)\n",
            "  adding: content/pseudovisium/section4/features.tsv (deflated 81%)\n",
            "  adding: content/pseudovisium/section4/matrix.mtx.gz (deflated 0%)\n",
            "  adding: content/pseudovisium/section4/arguments.json (deflated 51%)\n",
            "  adding: content/pseudovisium/section4/filtered_feature_bc_matrix.h5 (deflated 82%)\n",
            "  adding: content/pseudovisium/section13/ (stored 0%)\n",
            "  adding: content/pseudovisium/section13/spatial/ (stored 0%)\n",
            "  adding: content/pseudovisium/section13/spatial/tissue_positions_list.csv (deflated 79%)\n",
            "  adding: content/pseudovisium/section13/spatial/tissue_lowres_image.png (deflated 78%)\n",
            "  adding: content/pseudovisium/section13/spatial/pv_cell_hex.csv (deflated 79%)\n",
            "  adding: content/pseudovisium/section13/spatial/scalefactors_json.json (deflated 35%)\n",
            "  adding: content/pseudovisium/section13/spatial/tissue_hires_image.png (deflated 91%)\n",
            "  adding: content/pseudovisium/section13/matrix.mtx (deflated 87%)\n",
            "  adding: content/pseudovisium/section13/barcodes.tsv (deflated 81%)\n",
            "  adding: content/pseudovisium/section13/features.tsv.gz (deflated 3%)\n",
            "  adding: content/pseudovisium/section13/barcodes.tsv.gz (deflated 69%)\n",
            "  adding: content/pseudovisium/section13/features.tsv (deflated 81%)\n",
            "  adding: content/pseudovisium/section13/matrix.mtx.gz (deflated 0%)\n",
            "  adding: content/pseudovisium/section13/arguments.json (deflated 50%)\n",
            "  adding: content/pseudovisium/section13/filtered_feature_bc_matrix.h5 (deflated 82%)\n",
            "  adding: content/pseudovisium/section55/ (stored 0%)\n",
            "  adding: content/pseudovisium/section55/spatial/ (stored 0%)\n",
            "  adding: content/pseudovisium/section55/spatial/tissue_positions_list.csv (deflated 80%)\n",
            "  adding: content/pseudovisium/section55/spatial/tissue_lowres_image.png (deflated 73%)\n",
            "  adding: content/pseudovisium/section55/spatial/pv_cell_hex.csv (deflated 80%)\n",
            "  adding: content/pseudovisium/section55/spatial/scalefactors_json.json (deflated 35%)\n",
            "  adding: content/pseudovisium/section55/spatial/tissue_hires_image.png (deflated 91%)\n",
            "  adding: content/pseudovisium/section55/matrix.mtx (deflated 87%)\n",
            "  adding: content/pseudovisium/section55/barcodes.tsv (deflated 81%)\n",
            "  adding: content/pseudovisium/section55/features.tsv.gz (deflated 3%)\n",
            "  adding: content/pseudovisium/section55/barcodes.tsv.gz (deflated 29%)\n",
            "  adding: content/pseudovisium/section55/features.tsv (deflated 81%)\n",
            "  adding: content/pseudovisium/section55/matrix.mtx.gz (deflated 0%)\n",
            "  adding: content/pseudovisium/section55/arguments.json (deflated 51%)\n",
            "  adding: content/pseudovisium/section55/filtered_feature_bc_matrix.h5 (deflated 81%)\n",
            "  adding: content/pseudovisium/section7/ (stored 0%)\n",
            "  adding: content/pseudovisium/section7/spatial/ (stored 0%)\n",
            "  adding: content/pseudovisium/section7/spatial/tissue_positions_list.csv (deflated 79%)\n",
            "  adding: content/pseudovisium/section7/spatial/tissue_lowres_image.png (deflated 82%)\n",
            "  adding: content/pseudovisium/section7/spatial/pv_cell_hex.csv (deflated 80%)\n",
            "  adding: content/pseudovisium/section7/spatial/scalefactors_json.json (deflated 35%)\n",
            "  adding: content/pseudovisium/section7/spatial/tissue_hires_image.png (deflated 93%)\n",
            "  adding: content/pseudovisium/section7/matrix.mtx (deflated 88%)\n",
            "  adding: content/pseudovisium/section7/barcodes.tsv (deflated 81%)\n",
            "  adding: content/pseudovisium/section7/features.tsv.gz (deflated 3%)\n",
            "  adding: content/pseudovisium/section7/barcodes.tsv.gz (deflated 69%)\n",
            "  adding: content/pseudovisium/section7/features.tsv (deflated 81%)\n",
            "  adding: content/pseudovisium/section7/matrix.mtx.gz (deflated 0%)\n",
            "  adding: content/pseudovisium/section7/arguments.json (deflated 51%)\n",
            "  adding: content/pseudovisium/section7/filtered_feature_bc_matrix.h5 (deflated 82%)\n",
            "  adding: content/pseudovisium/section24/ (stored 0%)\n",
            "  adding: content/pseudovisium/section24/spatial/ (stored 0%)\n",
            "  adding: content/pseudovisium/section24/spatial/tissue_positions_list.csv (deflated 78%)\n",
            "  adding: content/pseudovisium/section24/spatial/tissue_lowres_image.png (deflated 84%)\n",
            "  adding: content/pseudovisium/section24/spatial/pv_cell_hex.csv (deflated 80%)\n",
            "  adding: content/pseudovisium/section24/spatial/scalefactors_json.json (deflated 35%)\n",
            "  adding: content/pseudovisium/section24/spatial/tissue_hires_image.png (deflated 93%)\n",
            "  adding: content/pseudovisium/section24/matrix.mtx (deflated 88%)\n",
            "  adding: content/pseudovisium/section24/barcodes.tsv (deflated 81%)\n",
            "  adding: content/pseudovisium/section24/features.tsv.gz (deflated 3%)\n",
            "  adding: content/pseudovisium/section24/barcodes.tsv.gz (deflated 71%)\n",
            "  adding: content/pseudovisium/section24/features.tsv (deflated 81%)\n",
            "  adding: content/pseudovisium/section24/matrix.mtx.gz (deflated 0%)\n",
            "  adding: content/pseudovisium/section24/arguments.json (deflated 50%)\n",
            "  adding: content/pseudovisium/section24/filtered_feature_bc_matrix.h5 (deflated 82%)\n",
            "  adding: content/pseudovisium/section48/ (stored 0%)\n",
            "  adding: content/pseudovisium/section48/spatial/ (stored 0%)\n",
            "  adding: content/pseudovisium/section48/spatial/tissue_positions_list.csv (deflated 79%)\n",
            "  adding: content/pseudovisium/section48/spatial/tissue_lowres_image.png (deflated 85%)\n",
            "  adding: content/pseudovisium/section48/spatial/pv_cell_hex.csv (deflated 79%)\n",
            "  adding: content/pseudovisium/section48/spatial/scalefactors_json.json (deflated 35%)\n",
            "  adding: content/pseudovisium/section48/spatial/tissue_hires_image.png (deflated 94%)\n",
            "  adding: content/pseudovisium/section48/matrix.mtx (deflated 87%)\n",
            "  adding: content/pseudovisium/section48/barcodes.tsv (deflated 81%)\n",
            "  adding: content/pseudovisium/section48/features.tsv.gz (deflated 3%)\n",
            "  adding: content/pseudovisium/section48/barcodes.tsv.gz (deflated 65%)\n",
            "  adding: content/pseudovisium/section48/features.tsv (deflated 81%)\n",
            "  adding: content/pseudovisium/section48/matrix.mtx.gz (deflated 0%)\n",
            "  adding: content/pseudovisium/section48/arguments.json (deflated 50%)\n",
            "  adding: content/pseudovisium/section48/filtered_feature_bc_matrix.h5 (deflated 81%)\n",
            "  adding: content/pseudovisium/section28/ (stored 0%)\n",
            "  adding: content/pseudovisium/section28/spatial/ (stored 0%)\n",
            "  adding: content/pseudovisium/section28/spatial/tissue_positions_list.csv (deflated 78%)\n",
            "  adding: content/pseudovisium/section28/spatial/tissue_lowres_image.png (deflated 78%)\n",
            "  adding: content/pseudovisium/section28/spatial/pv_cell_hex.csv (deflated 79%)\n",
            "  adding: content/pseudovisium/section28/spatial/scalefactors_json.json (deflated 35%)\n",
            "  adding: content/pseudovisium/section28/spatial/tissue_hires_image.png (deflated 92%)\n",
            "  adding: content/pseudovisium/section28/matrix.mtx (deflated 88%)\n",
            "  adding: content/pseudovisium/section28/barcodes.tsv (deflated 81%)\n",
            "  adding: content/pseudovisium/section28/features.tsv.gz (deflated 3%)\n",
            "  adding: content/pseudovisium/section28/barcodes.tsv.gz (deflated 71%)\n",
            "  adding: content/pseudovisium/section28/features.tsv (deflated 81%)\n",
            "  adding: content/pseudovisium/section28/matrix.mtx.gz (deflated 0%)\n",
            "  adding: content/pseudovisium/section28/arguments.json (deflated 50%)\n",
            "  adding: content/pseudovisium/section28/filtered_feature_bc_matrix.h5 (deflated 82%)\n",
            "  adding: content/pseudovisium/section10/ (stored 0%)\n",
            "  adding: content/pseudovisium/section10/spatial/ (stored 0%)\n",
            "  adding: content/pseudovisium/section10/spatial/tissue_positions_list.csv (deflated 79%)\n",
            "  adding: content/pseudovisium/section10/spatial/tissue_lowres_image.png (deflated 78%)\n",
            "  adding: content/pseudovisium/section10/spatial/pv_cell_hex.csv (deflated 80%)\n",
            "  adding: content/pseudovisium/section10/spatial/scalefactors_json.json (deflated 35%)\n",
            "  adding: content/pseudovisium/section10/spatial/tissue_hires_image.png (deflated 92%)\n",
            "  adding: content/pseudovisium/section10/matrix.mtx (deflated 88%)\n",
            "  adding: content/pseudovisium/section10/barcodes.tsv (deflated 81%)\n",
            "  adding: content/pseudovisium/section10/features.tsv.gz (deflated 3%)\n",
            "  adding: content/pseudovisium/section10/barcodes.tsv.gz (deflated 68%)\n",
            "  adding: content/pseudovisium/section10/features.tsv (deflated 81%)\n",
            "  adding: content/pseudovisium/section10/matrix.mtx.gz (deflated 0%)\n",
            "  adding: content/pseudovisium/section10/arguments.json (deflated 50%)\n",
            "  adding: content/pseudovisium/section10/filtered_feature_bc_matrix.h5 (deflated 82%)\n",
            "  adding: content/pseudovisium/section0/ (stored 0%)\n",
            "  adding: content/pseudovisium/section0/spatial/ (stored 0%)\n",
            "  adding: content/pseudovisium/section0/spatial/tissue_positions_list.csv (deflated 79%)\n",
            "  adding: content/pseudovisium/section0/spatial/tissue_lowres_image.png (deflated 77%)\n",
            "  adding: content/pseudovisium/section0/spatial/pv_cell_hex.csv (deflated 79%)\n",
            "  adding: content/pseudovisium/section0/spatial/scalefactors_json.json (deflated 35%)\n",
            "  adding: content/pseudovisium/section0/spatial/tissue_hires_image.png (deflated 91%)\n",
            "  adding: content/pseudovisium/section0/matrix.mtx (deflated 87%)\n",
            "  adding: content/pseudovisium/section0/barcodes.tsv (deflated 81%)\n",
            "  adding: content/pseudovisium/section0/features.tsv.gz (deflated 3%)\n",
            "  adding: content/pseudovisium/section0/barcodes.tsv.gz (deflated 34%)\n",
            "  adding: content/pseudovisium/section0/features.tsv (deflated 81%)\n",
            "  adding: content/pseudovisium/section0/matrix.mtx.gz (deflated 0%)\n",
            "  adding: content/pseudovisium/section0/arguments.json (deflated 51%)\n",
            "  adding: content/pseudovisium/section0/filtered_feature_bc_matrix.h5 (deflated 81%)\n",
            "  adding: content/pseudovisium/section19/ (stored 0%)\n",
            "  adding: content/pseudovisium/section19/spatial/ (stored 0%)\n",
            "  adding: content/pseudovisium/section19/spatial/tissue_positions_list.csv (deflated 78%)\n",
            "  adding: content/pseudovisium/section19/spatial/tissue_lowres_image.png (deflated 71%)\n",
            "  adding: content/pseudovisium/section19/spatial/pv_cell_hex.csv (deflated 80%)\n",
            "  adding: content/pseudovisium/section19/spatial/scalefactors_json.json (deflated 35%)\n",
            "  adding: content/pseudovisium/section19/spatial/tissue_hires_image.png (deflated 90%)\n",
            "  adding: content/pseudovisium/section19/matrix.mtx (deflated 88%)\n",
            "  adding: content/pseudovisium/section19/barcodes.tsv (deflated 81%)\n",
            "  adding: content/pseudovisium/section19/features.tsv.gz (deflated 3%)\n",
            "  adding: content/pseudovisium/section19/barcodes.tsv.gz (deflated 64%)\n",
            "  adding: content/pseudovisium/section19/features.tsv (deflated 81%)\n",
            "  adding: content/pseudovisium/section19/matrix.mtx.gz (deflated 0%)\n",
            "  adding: content/pseudovisium/section19/arguments.json (deflated 50%)\n",
            "  adding: content/pseudovisium/section19/filtered_feature_bc_matrix.h5 (deflated 82%)\n",
            "  adding: content/pseudovisium/section34/ (stored 0%)\n",
            "  adding: content/pseudovisium/section34/spatial/ (stored 0%)\n",
            "  adding: content/pseudovisium/section34/spatial/tissue_positions_list.csv (deflated 79%)\n",
            "  adding: content/pseudovisium/section34/spatial/tissue_lowres_image.png (deflated 84%)\n",
            "  adding: content/pseudovisium/section34/spatial/pv_cell_hex.csv (deflated 80%)\n",
            "  adding: content/pseudovisium/section34/spatial/scalefactors_json.json (deflated 35%)\n",
            "  adding: content/pseudovisium/section34/spatial/tissue_hires_image.png (deflated 94%)\n",
            "  adding: content/pseudovisium/section34/matrix.mtx (deflated 88%)\n",
            "  adding: content/pseudovisium/section34/barcodes.tsv (deflated 81%)\n",
            "  adding: content/pseudovisium/section34/features.tsv.gz (deflated 3%)\n",
            "  adding: content/pseudovisium/section34/barcodes.tsv.gz (deflated 77%)\n",
            "  adding: content/pseudovisium/section34/features.tsv (deflated 81%)\n",
            "  adding: content/pseudovisium/section34/matrix.mtx.gz (deflated 0%)\n",
            "  adding: content/pseudovisium/section34/arguments.json (deflated 50%)\n",
            "  adding: content/pseudovisium/section34/filtered_feature_bc_matrix.h5 (deflated 81%)\n",
            "  adding: content/pseudovisium/section5/ (stored 0%)\n",
            "  adding: content/pseudovisium/section5/spatial/ (stored 0%)\n",
            "  adding: content/pseudovisium/section5/spatial/tissue_positions_list.csv (deflated 79%)\n",
            "  adding: content/pseudovisium/section5/spatial/tissue_lowres_image.png (deflated 73%)\n",
            "  adding: content/pseudovisium/section5/spatial/pv_cell_hex.csv (deflated 79%)\n",
            "  adding: content/pseudovisium/section5/spatial/scalefactors_json.json (deflated 35%)\n",
            "  adding: content/pseudovisium/section5/spatial/tissue_hires_image.png (deflated 90%)\n",
            "  adding: content/pseudovisium/section5/matrix.mtx (deflated 87%)\n",
            "  adding: content/pseudovisium/section5/barcodes.tsv (deflated 81%)\n",
            "  adding: content/pseudovisium/section5/features.tsv.gz (deflated 3%)\n",
            "  adding: content/pseudovisium/section5/barcodes.tsv.gz (deflated 57%)\n",
            "  adding: content/pseudovisium/section5/features.tsv (deflated 81%)\n",
            "  adding: content/pseudovisium/section5/matrix.mtx.gz (deflated 0%)\n",
            "  adding: content/pseudovisium/section5/arguments.json (deflated 51%)\n",
            "  adding: content/pseudovisium/section5/filtered_feature_bc_matrix.h5 (deflated 81%)\n",
            "  adding: content/pseudovisium/section3/ (stored 0%)\n",
            "  adding: content/pseudovisium/section3/spatial/ (stored 0%)\n",
            "  adding: content/pseudovisium/section3/spatial/tissue_positions_list.csv (deflated 79%)\n",
            "  adding: content/pseudovisium/section3/spatial/tissue_lowres_image.png (deflated 80%)\n",
            "  adding: content/pseudovisium/section3/spatial/pv_cell_hex.csv (deflated 80%)\n",
            "  adding: content/pseudovisium/section3/spatial/scalefactors_json.json (deflated 35%)\n",
            "  adding: content/pseudovisium/section3/spatial/tissue_hires_image.png (deflated 92%)\n",
            "  adding: content/pseudovisium/section3/matrix.mtx (deflated 87%)\n",
            "  adding: content/pseudovisium/section3/barcodes.tsv (deflated 81%)\n",
            "  adding: content/pseudovisium/section3/features.tsv.gz (deflated 3%)\n",
            "  adding: content/pseudovisium/section3/barcodes.tsv.gz (deflated 52%)\n",
            "  adding: content/pseudovisium/section3/features.tsv (deflated 81%)\n",
            "  adding: content/pseudovisium/section3/matrix.mtx.gz (deflated 0%)\n",
            "  adding: content/pseudovisium/section3/arguments.json (deflated 50%)\n",
            "  adding: content/pseudovisium/section3/filtered_feature_bc_matrix.h5 (deflated 82%)\n",
            "  adding: content/pseudovisium/section54/ (stored 0%)\n",
            "  adding: content/pseudovisium/section54/spatial/ (stored 0%)\n",
            "  adding: content/pseudovisium/section54/spatial/tissue_positions_list.csv (deflated 81%)\n",
            "  adding: content/pseudovisium/section54/spatial/tissue_lowres_image.png (deflated 72%)\n",
            "  adding: content/pseudovisium/section54/spatial/pv_cell_hex.csv (deflated 80%)\n",
            "  adding: content/pseudovisium/section54/spatial/scalefactors_json.json (deflated 35%)\n",
            "  adding: content/pseudovisium/section54/spatial/tissue_hires_image.png (deflated 89%)\n",
            "  adding: content/pseudovisium/section54/matrix.mtx (deflated 87%)\n",
            "  adding: content/pseudovisium/section54/barcodes.tsv (deflated 81%)\n",
            "  adding: content/pseudovisium/section54/features.tsv.gz (deflated 3%)\n",
            "  adding: content/pseudovisium/section54/barcodes.tsv.gz (deflated 37%)\n",
            "  adding: content/pseudovisium/section54/features.tsv (deflated 81%)\n",
            "  adding: content/pseudovisium/section54/matrix.mtx.gz (deflated 0%)\n",
            "  adding: content/pseudovisium/section54/arguments.json (deflated 50%)\n",
            "  adding: content/pseudovisium/section54/filtered_feature_bc_matrix.h5 (deflated 81%)\n",
            "  adding: content/pseudovisium/section15/ (stored 0%)\n",
            "  adding: content/pseudovisium/section15/spatial/ (stored 0%)\n",
            "  adding: content/pseudovisium/section15/spatial/tissue_positions_list.csv (deflated 79%)\n",
            "  adding: content/pseudovisium/section15/spatial/tissue_lowres_image.png (deflated 84%)\n",
            "  adding: content/pseudovisium/section15/spatial/pv_cell_hex.csv (deflated 80%)\n",
            "  adding: content/pseudovisium/section15/spatial/scalefactors_json.json (deflated 35%)\n",
            "  adding: content/pseudovisium/section15/spatial/tissue_hires_image.png (deflated 94%)\n",
            "  adding: content/pseudovisium/section15/matrix.mtx (deflated 88%)\n",
            "  adding: content/pseudovisium/section15/barcodes.tsv (deflated 81%)\n",
            "  adding: content/pseudovisium/section15/features.tsv.gz (deflated 3%)\n",
            "  adding: content/pseudovisium/section15/barcodes.tsv.gz (deflated 65%)\n",
            "  adding: content/pseudovisium/section15/features.tsv (deflated 81%)\n",
            "  adding: content/pseudovisium/section15/matrix.mtx.gz (deflated 0%)\n",
            "  adding: content/pseudovisium/section15/arguments.json (deflated 50%)\n",
            "  adding: content/pseudovisium/section15/filtered_feature_bc_matrix.h5 (deflated 82%)\n",
            "  adding: content/pseudovisium/section58/ (stored 0%)\n",
            "  adding: content/pseudovisium/section58/spatial/ (stored 0%)\n",
            "  adding: content/pseudovisium/section58/spatial/tissue_positions_list.csv (deflated 81%)\n",
            "  adding: content/pseudovisium/section58/spatial/tissue_lowres_image.png (deflated 74%)\n",
            "  adding: content/pseudovisium/section58/spatial/pv_cell_hex.csv (deflated 80%)\n",
            "  adding: content/pseudovisium/section58/spatial/scalefactors_json.json (deflated 35%)\n",
            "  adding: content/pseudovisium/section58/spatial/tissue_hires_image.png (deflated 91%)\n",
            "  adding: content/pseudovisium/section58/matrix.mtx (deflated 88%)\n",
            "  adding: content/pseudovisium/section58/barcodes.tsv (deflated 81%)\n",
            "  adding: content/pseudovisium/section58/features.tsv.gz (deflated 3%)\n",
            "  adding: content/pseudovisium/section58/barcodes.tsv.gz (deflated 22%)\n",
            "  adding: content/pseudovisium/section58/features.tsv (deflated 81%)\n",
            "  adding: content/pseudovisium/section58/matrix.mtx.gz (deflated 0%)\n",
            "  adding: content/pseudovisium/section58/arguments.json (deflated 50%)\n",
            "  adding: content/pseudovisium/section58/filtered_feature_bc_matrix.h5 (deflated 82%)\n",
            "  adding: content/pseudovisium/section26/ (stored 0%)\n",
            "  adding: content/pseudovisium/section26/spatial/ (stored 0%)\n",
            "  adding: content/pseudovisium/section26/spatial/tissue_positions_list.csv (deflated 79%)\n",
            "  adding: content/pseudovisium/section26/spatial/tissue_lowres_image.png (deflated 77%)\n",
            "  adding: content/pseudovisium/section26/spatial/pv_cell_hex.csv (deflated 80%)\n",
            "  adding: content/pseudovisium/section26/spatial/scalefactors_json.json (deflated 35%)\n",
            "  adding: content/pseudovisium/section26/spatial/tissue_hires_image.png (deflated 92%)\n",
            "  adding: content/pseudovisium/section26/matrix.mtx (deflated 87%)\n",
            "  adding: content/pseudovisium/section26/barcodes.tsv (deflated 81%)\n",
            "  adding: content/pseudovisium/section26/features.tsv.gz (deflated 3%)\n",
            "  adding: content/pseudovisium/section26/barcodes.tsv.gz (deflated 72%)\n",
            "  adding: content/pseudovisium/section26/features.tsv (deflated 81%)\n",
            "  adding: content/pseudovisium/section26/matrix.mtx.gz (deflated 0%)\n",
            "  adding: content/pseudovisium/section26/arguments.json (deflated 50%)\n",
            "  adding: content/pseudovisium/section26/filtered_feature_bc_matrix.h5 (deflated 82%)\n",
            "  adding: content/pseudovisium/section43/ (stored 0%)\n",
            "  adding: content/pseudovisium/section43/spatial/ (stored 0%)\n",
            "  adding: content/pseudovisium/section43/spatial/tissue_positions_list.csv (deflated 79%)\n",
            "  adding: content/pseudovisium/section43/spatial/tissue_lowres_image.png (deflated 87%)\n",
            "  adding: content/pseudovisium/section43/spatial/pv_cell_hex.csv (deflated 79%)\n",
            "  adding: content/pseudovisium/section43/spatial/scalefactors_json.json (deflated 35%)\n",
            "  adding: content/pseudovisium/section43/spatial/tissue_hires_image.png (deflated 94%)\n",
            "  adding: content/pseudovisium/section43/matrix.mtx (deflated 87%)\n",
            "  adding: content/pseudovisium/section43/barcodes.tsv (deflated 81%)\n",
            "  adding: content/pseudovisium/section43/features.tsv.gz (deflated 3%)\n",
            "  adding: content/pseudovisium/section43/barcodes.tsv.gz (deflated 72%)\n",
            "  adding: content/pseudovisium/section43/features.tsv (deflated 81%)\n",
            "  adding: content/pseudovisium/section43/matrix.mtx.gz (deflated 0%)\n",
            "  adding: content/pseudovisium/section43/arguments.json (deflated 50%)\n",
            "  adding: content/pseudovisium/section43/filtered_feature_bc_matrix.h5 (deflated 82%)\n",
            "  adding: content/pseudovisium/section39/ (stored 0%)\n",
            "  adding: content/pseudovisium/section39/spatial/ (stored 0%)\n",
            "  adding: content/pseudovisium/section39/spatial/tissue_positions_list.csv (deflated 79%)\n",
            "  adding: content/pseudovisium/section39/spatial/tissue_lowres_image.png (deflated 82%)\n",
            "  adding: content/pseudovisium/section39/spatial/pv_cell_hex.csv (deflated 80%)\n",
            "  adding: content/pseudovisium/section39/spatial/scalefactors_json.json (deflated 35%)\n",
            "  adding: content/pseudovisium/section39/spatial/tissue_hires_image.png (deflated 93%)\n",
            "  adding: content/pseudovisium/section39/matrix.mtx (deflated 87%)\n",
            "  adding: content/pseudovisium/section39/barcodes.tsv (deflated 81%)\n",
            "  adding: content/pseudovisium/section39/features.tsv.gz (deflated 3%)\n",
            "  adding: content/pseudovisium/section39/barcodes.tsv.gz (deflated 74%)\n",
            "  adding: content/pseudovisium/section39/features.tsv (deflated 81%)\n",
            "  adding: content/pseudovisium/section39/matrix.mtx.gz (deflated 0%)\n",
            "  adding: content/pseudovisium/section39/arguments.json (deflated 50%)\n",
            "  adding: content/pseudovisium/section39/filtered_feature_bc_matrix.h5 (deflated 82%)\n",
            "  adding: content/pseudovisium/section41/ (stored 0%)\n",
            "  adding: content/pseudovisium/section41/spatial/ (stored 0%)\n",
            "  adding: content/pseudovisium/section41/spatial/tissue_positions_list.csv (deflated 79%)\n",
            "  adding: content/pseudovisium/section41/spatial/tissue_lowres_image.png (deflated 76%)\n",
            "  adding: content/pseudovisium/section41/spatial/pv_cell_hex.csv (deflated 80%)\n",
            "  adding: content/pseudovisium/section41/spatial/scalefactors_json.json (deflated 35%)\n",
            "  adding: content/pseudovisium/section41/spatial/tissue_hires_image.png (deflated 92%)\n",
            "  adding: content/pseudovisium/section41/matrix.mtx (deflated 88%)\n",
            "  adding: content/pseudovisium/section41/barcodes.tsv (deflated 81%)\n",
            "  adding: content/pseudovisium/section41/features.tsv.gz (deflated 3%)\n",
            "  adding: content/pseudovisium/section41/barcodes.tsv.gz (deflated 68%)\n",
            "  adding: content/pseudovisium/section41/features.tsv (deflated 81%)\n",
            "  adding: content/pseudovisium/section41/matrix.mtx.gz (deflated 0%)\n",
            "  adding: content/pseudovisium/section41/arguments.json (deflated 50%)\n",
            "  adding: content/pseudovisium/section41/filtered_feature_bc_matrix.h5 (deflated 82%)\n",
            "  adding: content/pseudovisium/section12/ (stored 0%)\n",
            "  adding: content/pseudovisium/section12/spatial/ (stored 0%)\n",
            "  adding: content/pseudovisium/section12/spatial/tissue_positions_list.csv (deflated 78%)\n",
            "  adding: content/pseudovisium/section12/spatial/tissue_lowres_image.png (deflated 72%)\n",
            "  adding: content/pseudovisium/section12/spatial/pv_cell_hex.csv (deflated 80%)\n",
            "  adding: content/pseudovisium/section12/spatial/scalefactors_json.json (deflated 35%)\n",
            "  adding: content/pseudovisium/section12/spatial/tissue_hires_image.png (deflated 90%)\n",
            "  adding: content/pseudovisium/section12/matrix.mtx (deflated 88%)\n",
            "  adding: content/pseudovisium/section12/barcodes.tsv (deflated 81%)\n",
            "  adding: content/pseudovisium/section12/features.tsv.gz (deflated 3%)\n",
            "  adding: content/pseudovisium/section12/barcodes.tsv.gz (deflated 67%)\n",
            "  adding: content/pseudovisium/section12/features.tsv (deflated 81%)\n",
            "  adding: content/pseudovisium/section12/matrix.mtx.gz (deflated 0%)\n",
            "  adding: content/pseudovisium/section12/arguments.json (deflated 50%)\n",
            "  adding: content/pseudovisium/section12/filtered_feature_bc_matrix.h5 (deflated 82%)\n",
            "  adding: content/pseudovisium/section37/ (stored 0%)\n",
            "  adding: content/pseudovisium/section37/spatial/ (stored 0%)\n",
            "  adding: content/pseudovisium/section37/spatial/tissue_positions_list.csv (deflated 78%)\n",
            "  adding: content/pseudovisium/section37/spatial/tissue_lowres_image.png (deflated 85%)\n",
            "  adding: content/pseudovisium/section37/spatial/pv_cell_hex.csv (deflated 81%)\n",
            "  adding: content/pseudovisium/section37/spatial/scalefactors_json.json (deflated 35%)\n",
            "  adding: content/pseudovisium/section37/spatial/tissue_hires_image.png (deflated 95%)\n",
            "  adding: content/pseudovisium/section37/matrix.mtx (deflated 88%)\n",
            "  adding: content/pseudovisium/section37/barcodes.tsv (deflated 81%)\n",
            "  adding: content/pseudovisium/section37/features.tsv.gz (deflated 3%)\n",
            "  adding: content/pseudovisium/section37/barcodes.tsv.gz (deflated 72%)\n",
            "  adding: content/pseudovisium/section37/features.tsv (deflated 81%)\n",
            "  adding: content/pseudovisium/section37/matrix.mtx.gz (deflated 0%)\n",
            "  adding: content/pseudovisium/section37/arguments.json (deflated 50%)\n",
            "  adding: content/pseudovisium/section37/filtered_feature_bc_matrix.h5 (deflated 82%)\n",
            "  adding: content/pseudovisium/section53/ (stored 0%)\n",
            "  adding: content/pseudovisium/section53/spatial/ (stored 0%)\n",
            "  adding: content/pseudovisium/section53/spatial/tissue_positions_list.csv (deflated 79%)\n",
            "  adding: content/pseudovisium/section53/spatial/tissue_lowres_image.png (deflated 74%)\n",
            "  adding: content/pseudovisium/section53/spatial/pv_cell_hex.csv (deflated 79%)\n",
            "  adding: content/pseudovisium/section53/spatial/scalefactors_json.json (deflated 35%)\n",
            "  adding: content/pseudovisium/section53/spatial/tissue_hires_image.png (deflated 91%)\n",
            "  adding: content/pseudovisium/section53/matrix.mtx (deflated 87%)\n",
            "  adding: content/pseudovisium/section53/barcodes.tsv (deflated 81%)\n",
            "  adding: content/pseudovisium/section53/features.tsv.gz (deflated 3%)\n",
            "  adding: content/pseudovisium/section53/barcodes.tsv.gz (deflated 51%)\n",
            "  adding: content/pseudovisium/section53/features.tsv (deflated 81%)\n",
            "  adding: content/pseudovisium/section53/matrix.mtx.gz (deflated 0%)\n",
            "  adding: content/pseudovisium/section53/arguments.json (deflated 50%)\n",
            "  adding: content/pseudovisium/section53/filtered_feature_bc_matrix.h5 (deflated 82%)\n",
            "  adding: content/pseudovisium/section16/ (stored 0%)\n",
            "  adding: content/pseudovisium/section16/spatial/ (stored 0%)\n",
            "  adding: content/pseudovisium/section16/spatial/tissue_positions_list.csv (deflated 78%)\n",
            "  adding: content/pseudovisium/section16/spatial/tissue_lowres_image.png (deflated 75%)\n",
            "  adding: content/pseudovisium/section16/spatial/pv_cell_hex.csv (deflated 80%)\n",
            "  adding: content/pseudovisium/section16/spatial/scalefactors_json.json (deflated 35%)\n",
            "  adding: content/pseudovisium/section16/spatial/tissue_hires_image.png (deflated 90%)\n",
            "  adding: content/pseudovisium/section16/matrix.mtx (deflated 88%)\n",
            "  adding: content/pseudovisium/section16/barcodes.tsv (deflated 81%)\n",
            "  adding: content/pseudovisium/section16/features.tsv.gz (deflated 3%)\n",
            "  adding: content/pseudovisium/section16/barcodes.tsv.gz (deflated 59%)\n",
            "  adding: content/pseudovisium/section16/features.tsv (deflated 81%)\n",
            "  adding: content/pseudovisium/section16/matrix.mtx.gz (deflated 0%)\n",
            "  adding: content/pseudovisium/section16/arguments.json (deflated 50%)\n",
            "  adding: content/pseudovisium/section16/filtered_feature_bc_matrix.h5 (deflated 82%)\n",
            "  adding: content/pseudovisium/section49/ (stored 0%)\n",
            "  adding: content/pseudovisium/section49/spatial/ (stored 0%)\n",
            "  adding: content/pseudovisium/section49/spatial/tissue_positions_list.csv (deflated 78%)\n",
            "  adding: content/pseudovisium/section49/spatial/tissue_lowres_image.png (deflated 72%)\n",
            "  adding: content/pseudovisium/section49/spatial/pv_cell_hex.csv (deflated 79%)\n",
            "  adding: content/pseudovisium/section49/spatial/scalefactors_json.json (deflated 35%)\n",
            "  adding: content/pseudovisium/section49/spatial/tissue_hires_image.png (deflated 90%)\n",
            "  adding: content/pseudovisium/section49/matrix.mtx (deflated 87%)\n",
            "  adding: content/pseudovisium/section49/barcodes.tsv (deflated 81%)\n",
            "  adding: content/pseudovisium/section49/features.tsv.gz (deflated 3%)\n",
            "  adding: content/pseudovisium/section49/barcodes.tsv.gz (deflated 59%)\n",
            "  adding: content/pseudovisium/section49/features.tsv (deflated 81%)\n",
            "  adding: content/pseudovisium/section49/matrix.mtx.gz (deflated 0%)\n",
            "  adding: content/pseudovisium/section49/arguments.json (deflated 50%)\n",
            "  adding: content/pseudovisium/section49/filtered_feature_bc_matrix.h5 (deflated 82%)\n",
            "  adding: content/pseudovisium/section50/ (stored 0%)\n",
            "  adding: content/pseudovisium/section50/spatial/ (stored 0%)\n",
            "  adding: content/pseudovisium/section50/spatial/tissue_positions_list.csv (deflated 79%)\n",
            "  adding: content/pseudovisium/section50/spatial/tissue_lowres_image.png (deflated 74%)\n",
            "  adding: content/pseudovisium/section50/spatial/pv_cell_hex.csv (deflated 79%)\n",
            "  adding: content/pseudovisium/section50/spatial/scalefactors_json.json (deflated 35%)\n",
            "  adding: content/pseudovisium/section50/spatial/tissue_hires_image.png (deflated 90%)\n",
            "  adding: content/pseudovisium/section50/matrix.mtx (deflated 87%)\n",
            "  adding: content/pseudovisium/section50/barcodes.tsv (deflated 81%)\n",
            "  adding: content/pseudovisium/section50/features.tsv.gz (deflated 3%)\n",
            "  adding: content/pseudovisium/section50/barcodes.tsv.gz (deflated 57%)\n",
            "  adding: content/pseudovisium/section50/features.tsv (deflated 81%)\n",
            "  adding: content/pseudovisium/section50/matrix.mtx.gz (deflated 0%)\n",
            "  adding: content/pseudovisium/section50/arguments.json (deflated 50%)\n",
            "  adding: content/pseudovisium/section50/filtered_feature_bc_matrix.h5 (deflated 81%)\n",
            "  adding: content/pseudovisium/section21/ (stored 0%)\n",
            "  adding: content/pseudovisium/section21/spatial/ (stored 0%)\n",
            "  adding: content/pseudovisium/section21/spatial/tissue_positions_list.csv (deflated 78%)\n",
            "  adding: content/pseudovisium/section21/spatial/tissue_lowres_image.png (deflated 77%)\n",
            "  adding: content/pseudovisium/section21/spatial/pv_cell_hex.csv (deflated 80%)\n",
            "  adding: content/pseudovisium/section21/spatial/scalefactors_json.json (deflated 35%)\n",
            "  adding: content/pseudovisium/section21/spatial/tissue_hires_image.png (deflated 92%)\n",
            "  adding: content/pseudovisium/section21/matrix.mtx (deflated 87%)\n",
            "  adding: content/pseudovisium/section21/barcodes.tsv (deflated 81%)\n",
            "  adding: content/pseudovisium/section21/features.tsv.gz (deflated 3%)\n",
            "  adding: content/pseudovisium/section21/barcodes.tsv.gz (deflated 70%)\n",
            "  adding: content/pseudovisium/section21/features.tsv (deflated 81%)\n",
            "  adding: content/pseudovisium/section21/matrix.mtx.gz (deflated 0%)\n",
            "  adding: content/pseudovisium/section21/arguments.json (deflated 51%)\n",
            "  adding: content/pseudovisium/section21/filtered_feature_bc_matrix.h5 (deflated 81%)\n",
            "  adding: content/pseudovisium/section38/ (stored 0%)\n",
            "  adding: content/pseudovisium/section38/spatial/ (stored 0%)\n",
            "  adding: content/pseudovisium/section38/spatial/tissue_positions_list.csv (deflated 79%)\n",
            "  adding: content/pseudovisium/section38/spatial/tissue_lowres_image.png (deflated 87%)\n",
            "  adding: content/pseudovisium/section38/spatial/pv_cell_hex.csv (deflated 80%)\n",
            "  adding: content/pseudovisium/section38/spatial/scalefactors_json.json (deflated 35%)\n",
            "  adding: content/pseudovisium/section38/spatial/tissue_hires_image.png (deflated 94%)\n",
            "  adding: content/pseudovisium/section38/matrix.mtx (deflated 87%)\n",
            "  adding: content/pseudovisium/section38/barcodes.tsv (deflated 81%)\n",
            "  adding: content/pseudovisium/section38/features.tsv.gz (deflated 3%)\n",
            "  adding: content/pseudovisium/section38/barcodes.tsv.gz (deflated 75%)\n",
            "  adding: content/pseudovisium/section38/features.tsv (deflated 81%)\n",
            "  adding: content/pseudovisium/section38/matrix.mtx.gz (deflated 0%)\n",
            "  adding: content/pseudovisium/section38/arguments.json (deflated 50%)\n",
            "  adding: content/pseudovisium/section38/filtered_feature_bc_matrix.h5 (deflated 82%)\n",
            "  adding: content/pseudovisium/section20/ (stored 0%)\n",
            "  adding: content/pseudovisium/section20/spatial/ (stored 0%)\n",
            "  adding: content/pseudovisium/section20/spatial/tissue_positions_list.csv (deflated 79%)\n",
            "  adding: content/pseudovisium/section20/spatial/tissue_lowres_image.png (deflated 76%)\n",
            "  adding: content/pseudovisium/section20/spatial/pv_cell_hex.csv (deflated 79%)\n",
            "  adding: content/pseudovisium/section20/spatial/scalefactors_json.json (deflated 35%)\n",
            "  adding: content/pseudovisium/section20/spatial/tissue_hires_image.png (deflated 92%)\n",
            "  adding: content/pseudovisium/section20/matrix.mtx (deflated 87%)\n",
            "  adding: content/pseudovisium/section20/barcodes.tsv (deflated 81%)\n",
            "  adding: content/pseudovisium/section20/features.tsv.gz (deflated 3%)\n",
            "  adding: content/pseudovisium/section20/barcodes.tsv.gz (deflated 68%)\n",
            "  adding: content/pseudovisium/section20/features.tsv (deflated 81%)\n",
            "  adding: content/pseudovisium/section20/matrix.mtx.gz (deflated 0%)\n",
            "  adding: content/pseudovisium/section20/arguments.json (deflated 50%)\n",
            "  adding: content/pseudovisium/section20/filtered_feature_bc_matrix.h5 (deflated 82%)\n",
            "  adding: content/pseudovisium/section11/ (stored 0%)\n",
            "  adding: content/pseudovisium/section11/spatial/ (stored 0%)\n",
            "  adding: content/pseudovisium/section11/spatial/tissue_positions_list.csv (deflated 79%)\n",
            "  adding: content/pseudovisium/section11/spatial/tissue_lowres_image.png (deflated 87%)\n",
            "  adding: content/pseudovisium/section11/spatial/pv_cell_hex.csv (deflated 81%)\n",
            "  adding: content/pseudovisium/section11/spatial/scalefactors_json.json (deflated 35%)\n",
            "  adding: content/pseudovisium/section11/spatial/tissue_hires_image.png (deflated 95%)\n",
            "  adding: content/pseudovisium/section11/matrix.mtx (deflated 88%)\n",
            "  adding: content/pseudovisium/section11/barcodes.tsv (deflated 81%)\n",
            "  adding: content/pseudovisium/section11/features.tsv.gz (deflated 3%)\n",
            "  adding: content/pseudovisium/section11/barcodes.tsv.gz (deflated 70%)\n",
            "  adding: content/pseudovisium/section11/features.tsv (deflated 81%)\n",
            "  adding: content/pseudovisium/section11/matrix.mtx.gz (deflated 0%)\n",
            "  adding: content/pseudovisium/section11/arguments.json (deflated 50%)\n",
            "  adding: content/pseudovisium/section11/filtered_feature_bc_matrix.h5 (deflated 81%)\n",
            "  adding: content/pseudovisium/section25/ (stored 0%)\n",
            "  adding: content/pseudovisium/section25/spatial/ (stored 0%)\n",
            "  adding: content/pseudovisium/section25/spatial/tissue_positions_list.csv (deflated 79%)\n",
            "  adding: content/pseudovisium/section25/spatial/tissue_lowres_image.png (deflated 84%)\n",
            "  adding: content/pseudovisium/section25/spatial/pv_cell_hex.csv (deflated 80%)\n",
            "  adding: content/pseudovisium/section25/spatial/scalefactors_json.json (deflated 35%)\n",
            "  adding: content/pseudovisium/section25/spatial/tissue_hires_image.png (deflated 94%)\n",
            "  adding: content/pseudovisium/section25/matrix.mtx (deflated 87%)\n",
            "  adding: content/pseudovisium/section25/barcodes.tsv (deflated 81%)\n",
            "  adding: content/pseudovisium/section25/features.tsv.gz (deflated 3%)\n",
            "  adding: content/pseudovisium/section25/barcodes.tsv.gz (deflated 73%)\n",
            "  adding: content/pseudovisium/section25/features.tsv (deflated 81%)\n",
            "  adding: content/pseudovisium/section25/matrix.mtx.gz (deflated 0%)\n",
            "  adding: content/pseudovisium/section25/arguments.json (deflated 50%)\n",
            "  adding: content/pseudovisium/section25/filtered_feature_bc_matrix.h5 (deflated 82%)\n",
            "  adding: content/pseudovisium/section42/ (stored 0%)\n",
            "  adding: content/pseudovisium/section42/spatial/ (stored 0%)\n",
            "  adding: content/pseudovisium/section42/spatial/tissue_positions_list.csv (deflated 79%)\n",
            "  adding: content/pseudovisium/section42/spatial/tissue_lowres_image.png (deflated 80%)\n",
            "  adding: content/pseudovisium/section42/spatial/pv_cell_hex.csv (deflated 80%)\n",
            "  adding: content/pseudovisium/section42/spatial/scalefactors_json.json (deflated 35%)\n",
            "  adding: content/pseudovisium/section42/spatial/tissue_hires_image.png (deflated 92%)\n",
            "  adding: content/pseudovisium/section42/matrix.mtx (deflated 87%)\n",
            "  adding: content/pseudovisium/section42/barcodes.tsv (deflated 81%)\n",
            "  adding: content/pseudovisium/section42/features.tsv.gz (deflated 3%)\n",
            "  adding: content/pseudovisium/section42/barcodes.tsv.gz (deflated 72%)\n",
            "  adding: content/pseudovisium/section42/features.tsv (deflated 81%)\n",
            "  adding: content/pseudovisium/section42/matrix.mtx.gz (deflated 0%)\n",
            "  adding: content/pseudovisium/section42/arguments.json (deflated 50%)\n",
            "  adding: content/pseudovisium/section42/filtered_feature_bc_matrix.h5 (deflated 81%)\n",
            "  adding: content/pseudovisium/section14/ (stored 0%)\n",
            "  adding: content/pseudovisium/section14/spatial/ (stored 0%)\n",
            "  adding: content/pseudovisium/section14/spatial/tissue_positions_list.csv (deflated 79%)\n",
            "  adding: content/pseudovisium/section14/spatial/tissue_lowres_image.png (deflated 85%)\n",
            "  adding: content/pseudovisium/section14/spatial/pv_cell_hex.csv (deflated 81%)\n",
            "  adding: content/pseudovisium/section14/spatial/scalefactors_json.json (deflated 35%)\n",
            "  adding: content/pseudovisium/section14/spatial/tissue_hires_image.png (deflated 94%)\n",
            "  adding: content/pseudovisium/section14/matrix.mtx (deflated 87%)\n",
            "  adding: content/pseudovisium/section14/barcodes.tsv (deflated 81%)\n",
            "  adding: content/pseudovisium/section14/features.tsv.gz (deflated 3%)\n",
            "  adding: content/pseudovisium/section14/barcodes.tsv.gz (deflated 71%)\n",
            "  adding: content/pseudovisium/section14/features.tsv (deflated 81%)\n",
            "  adding: content/pseudovisium/section14/matrix.mtx.gz (deflated 0%)\n",
            "  adding: content/pseudovisium/section14/arguments.json (deflated 50%)\n",
            "  adding: content/pseudovisium/section14/filtered_feature_bc_matrix.h5 (deflated 81%)\n",
            "  adding: content/pseudovisium/section40/ (stored 0%)\n",
            "  adding: content/pseudovisium/section40/spatial/ (stored 0%)\n",
            "  adding: content/pseudovisium/section40/spatial/tissue_positions_list.csv (deflated 79%)\n",
            "  adding: content/pseudovisium/section40/spatial/tissue_lowres_image.png (deflated 76%)\n",
            "  adding: content/pseudovisium/section40/spatial/pv_cell_hex.csv (deflated 79%)\n",
            "  adding: content/pseudovisium/section40/spatial/scalefactors_json.json (deflated 35%)\n",
            "  adding: content/pseudovisium/section40/spatial/tissue_hires_image.png (deflated 92%)\n",
            "  adding: content/pseudovisium/section40/matrix.mtx (deflated 88%)\n",
            "  adding: content/pseudovisium/section40/barcodes.tsv (deflated 81%)\n",
            "  adding: content/pseudovisium/section40/features.tsv.gz (deflated 3%)\n",
            "  adding: content/pseudovisium/section40/barcodes.tsv.gz (deflated 70%)\n",
            "  adding: content/pseudovisium/section40/features.tsv (deflated 81%)\n",
            "  adding: content/pseudovisium/section40/matrix.mtx.gz (deflated 0%)\n",
            "  adding: content/pseudovisium/section40/arguments.json (deflated 50%)\n",
            "  adding: content/pseudovisium/section40/filtered_feature_bc_matrix.h5 (deflated 82%)\n",
            "  adding: content/pseudovisium/section6/ (stored 0%)\n",
            "  adding: content/pseudovisium/section6/spatial/ (stored 0%)\n",
            "  adding: content/pseudovisium/section6/spatial/tissue_positions_list.csv (deflated 78%)\n",
            "  adding: content/pseudovisium/section6/spatial/tissue_lowres_image.png (deflated 78%)\n",
            "  adding: content/pseudovisium/section6/spatial/pv_cell_hex.csv (deflated 80%)\n",
            "  adding: content/pseudovisium/section6/spatial/scalefactors_json.json (deflated 35%)\n",
            "  adding: content/pseudovisium/section6/spatial/tissue_hires_image.png (deflated 91%)\n",
            "  adding: content/pseudovisium/section6/matrix.mtx (deflated 88%)\n",
            "  adding: content/pseudovisium/section6/barcodes.tsv (deflated 81%)\n",
            "  adding: content/pseudovisium/section6/features.tsv.gz (deflated 3%)\n",
            "  adding: content/pseudovisium/section6/barcodes.tsv.gz (deflated 58%)\n",
            "  adding: content/pseudovisium/section6/features.tsv (deflated 81%)\n",
            "  adding: content/pseudovisium/section6/matrix.mtx.gz (deflated 0%)\n",
            "  adding: content/pseudovisium/section6/arguments.json (deflated 51%)\n",
            "  adding: content/pseudovisium/section6/filtered_feature_bc_matrix.h5 (deflated 82%)\n",
            "  adding: content/pseudovisium/section35/ (stored 0%)\n",
            "  adding: content/pseudovisium/section35/spatial/ (stored 0%)\n",
            "  adding: content/pseudovisium/section35/spatial/tissue_positions_list.csv (deflated 79%)\n",
            "  adding: content/pseudovisium/section35/spatial/tissue_lowres_image.png (deflated 84%)\n",
            "  adding: content/pseudovisium/section35/spatial/pv_cell_hex.csv (deflated 79%)\n",
            "  adding: content/pseudovisium/section35/spatial/scalefactors_json.json (deflated 35%)\n",
            "  adding: content/pseudovisium/section35/spatial/tissue_hires_image.png (deflated 94%)\n",
            "  adding: content/pseudovisium/section35/matrix.mtx (deflated 88%)\n",
            "  adding: content/pseudovisium/section35/barcodes.tsv (deflated 81%)\n",
            "  adding: content/pseudovisium/section35/features.tsv.gz (deflated 3%)\n",
            "  adding: content/pseudovisium/section35/barcodes.tsv.gz (deflated 76%)\n",
            "  adding: content/pseudovisium/section35/features.tsv (deflated 81%)\n",
            "  adding: content/pseudovisium/section35/matrix.mtx.gz (deflated 0%)\n",
            "  adding: content/pseudovisium/section35/arguments.json (deflated 50%)\n",
            "  adding: content/pseudovisium/section35/filtered_feature_bc_matrix.h5 (deflated 82%)\n",
            "  adding: content/pseudovisium/section44/ (stored 0%)\n",
            "  adding: content/pseudovisium/section44/spatial/ (stored 0%)\n",
            "  adding: content/pseudovisium/section44/spatial/tissue_positions_list.csv (deflated 78%)\n",
            "  adding: content/pseudovisium/section44/spatial/tissue_lowres_image.png (deflated 84%)\n",
            "  adding: content/pseudovisium/section44/spatial/pv_cell_hex.csv (deflated 79%)\n",
            "  adding: content/pseudovisium/section44/spatial/scalefactors_json.json (deflated 35%)\n",
            "  adding: content/pseudovisium/section44/spatial/tissue_hires_image.png (deflated 93%)\n",
            "  adding: content/pseudovisium/section44/matrix.mtx (deflated 87%)\n",
            "  adding: content/pseudovisium/section44/barcodes.tsv (deflated 81%)\n",
            "  adding: content/pseudovisium/section44/features.tsv.gz (deflated 3%)\n",
            "  adding: content/pseudovisium/section44/barcodes.tsv.gz (deflated 68%)\n",
            "  adding: content/pseudovisium/section44/features.tsv (deflated 81%)\n",
            "  adding: content/pseudovisium/section44/matrix.mtx.gz (deflated 0%)\n",
            "  adding: content/pseudovisium/section44/arguments.json (deflated 50%)\n",
            "  adding: content/pseudovisium/section44/filtered_feature_bc_matrix.h5 (deflated 82%)\n",
            "  adding: content/pseudovisium/section30/ (stored 0%)\n",
            "  adding: content/pseudovisium/section30/spatial/ (stored 0%)\n",
            "  adding: content/pseudovisium/section30/spatial/tissue_positions_list.csv (deflated 79%)\n",
            "  adding: content/pseudovisium/section30/spatial/tissue_lowres_image.png (deflated 83%)\n",
            "  adding: content/pseudovisium/section30/spatial/pv_cell_hex.csv (deflated 80%)\n",
            "  adding: content/pseudovisium/section30/spatial/scalefactors_json.json (deflated 35%)\n",
            "  adding: content/pseudovisium/section30/spatial/tissue_hires_image.png (deflated 93%)\n",
            "  adding: content/pseudovisium/section30/matrix.mtx (deflated 87%)\n",
            "  adding: content/pseudovisium/section30/barcodes.tsv (deflated 81%)\n",
            "  adding: content/pseudovisium/section30/features.tsv.gz (deflated 3%)\n",
            "  adding: content/pseudovisium/section30/barcodes.tsv.gz (deflated 75%)\n",
            "  adding: content/pseudovisium/section30/features.tsv (deflated 81%)\n",
            "  adding: content/pseudovisium/section30/matrix.mtx.gz (deflated 0%)\n",
            "  adding: content/pseudovisium/section30/arguments.json (deflated 50%)\n",
            "  adding: content/pseudovisium/section30/filtered_feature_bc_matrix.h5 (deflated 82%)\n",
            "  adding: content/pseudovisium/section29/ (stored 0%)\n",
            "  adding: content/pseudovisium/section29/spatial/ (stored 0%)\n",
            "  adding: content/pseudovisium/section29/spatial/tissue_positions_list.csv (deflated 79%)\n",
            "  adding: content/pseudovisium/section29/spatial/tissue_lowres_image.png (deflated 74%)\n",
            "  adding: content/pseudovisium/section29/spatial/pv_cell_hex.csv (deflated 79%)\n",
            "  adding: content/pseudovisium/section29/spatial/scalefactors_json.json (deflated 35%)\n",
            "  adding: content/pseudovisium/section29/spatial/tissue_hires_image.png (deflated 91%)\n",
            "  adding: content/pseudovisium/section29/matrix.mtx (deflated 88%)\n",
            "  adding: content/pseudovisium/section29/barcodes.tsv (deflated 81%)\n",
            "  adding: content/pseudovisium/section29/features.tsv.gz (deflated 3%)\n",
            "  adding: content/pseudovisium/section29/barcodes.tsv.gz (deflated 75%)\n",
            "  adding: content/pseudovisium/section29/features.tsv (deflated 81%)\n",
            "  adding: content/pseudovisium/section29/matrix.mtx.gz (deflated 0%)\n",
            "  adding: content/pseudovisium/section29/arguments.json (deflated 50%)\n",
            "  adding: content/pseudovisium/section29/filtered_feature_bc_matrix.h5 (deflated 82%)\n",
            "  adding: content/pseudovisium/section47/ (stored 0%)\n",
            "  adding: content/pseudovisium/section47/spatial/ (stored 0%)\n",
            "  adding: content/pseudovisium/section47/spatial/tissue_positions_list.csv (deflated 79%)\n",
            "  adding: content/pseudovisium/section47/spatial/tissue_lowres_image.png (deflated 84%)\n",
            "  adding: content/pseudovisium/section47/spatial/pv_cell_hex.csv (deflated 79%)\n",
            "  adding: content/pseudovisium/section47/spatial/scalefactors_json.json (deflated 35%)\n",
            "  adding: content/pseudovisium/section47/spatial/tissue_hires_image.png (deflated 93%)\n",
            "  adding: content/pseudovisium/section47/matrix.mtx (deflated 87%)\n",
            "  adding: content/pseudovisium/section47/barcodes.tsv (deflated 81%)\n",
            "  adding: content/pseudovisium/section47/features.tsv.gz (deflated 3%)\n",
            "  adding: content/pseudovisium/section47/barcodes.tsv.gz (deflated 67%)\n",
            "  adding: content/pseudovisium/section47/features.tsv (deflated 81%)\n",
            "  adding: content/pseudovisium/section47/matrix.mtx.gz (deflated 0%)\n",
            "  adding: content/pseudovisium/section47/arguments.json (deflated 50%)\n",
            "  adding: content/pseudovisium/section47/filtered_feature_bc_matrix.h5 (deflated 82%)\n",
            "  adding: content/pseudovisium/section59/ (stored 0%)\n",
            "  adding: content/pseudovisium/section59/spatial/ (stored 0%)\n",
            "  adding: content/pseudovisium/section59/spatial/tissue_positions_list.csv (deflated 80%)\n",
            "  adding: content/pseudovisium/section59/spatial/tissue_lowres_image.png (deflated 71%)\n",
            "  adding: content/pseudovisium/section59/spatial/pv_cell_hex.csv (deflated 79%)\n",
            "  adding: content/pseudovisium/section59/spatial/scalefactors_json.json (deflated 35%)\n",
            "  adding: content/pseudovisium/section59/spatial/tissue_hires_image.png (deflated 89%)\n",
            "  adding: content/pseudovisium/section59/matrix.mtx (deflated 87%)\n",
            "  adding: content/pseudovisium/section59/barcodes.tsv (deflated 82%)\n",
            "  adding: content/pseudovisium/section59/features.tsv.gz (deflated 3%)\n",
            "  adding: content/pseudovisium/section59/barcodes.tsv.gz (deflated 30%)\n",
            "  adding: content/pseudovisium/section59/features.tsv (deflated 81%)\n",
            "  adding: content/pseudovisium/section59/matrix.mtx.gz (deflated 0%)\n",
            "  adding: content/pseudovisium/section59/arguments.json (deflated 50%)\n",
            "  adding: content/pseudovisium/section59/filtered_feature_bc_matrix.h5 (deflated 81%)\n",
            "  adding: content/pseudovisium/section31/ (stored 0%)\n",
            "  adding: content/pseudovisium/section31/spatial/ (stored 0%)\n",
            "  adding: content/pseudovisium/section31/spatial/tissue_positions_list.csv (deflated 79%)\n",
            "  adding: content/pseudovisium/section31/spatial/tissue_lowres_image.png (deflated 83%)\n",
            "  adding: content/pseudovisium/section31/spatial/pv_cell_hex.csv (deflated 80%)\n",
            "  adding: content/pseudovisium/section31/spatial/scalefactors_json.json (deflated 35%)\n",
            "  adding: content/pseudovisium/section31/spatial/tissue_hires_image.png (deflated 93%)\n",
            "  adding: content/pseudovisium/section31/matrix.mtx (deflated 88%)\n",
            "  adding: content/pseudovisium/section31/barcodes.tsv (deflated 81%)\n",
            "  adding: content/pseudovisium/section31/features.tsv.gz (deflated 3%)\n",
            "  adding: content/pseudovisium/section31/barcodes.tsv.gz (deflated 75%)\n",
            "  adding: content/pseudovisium/section31/features.tsv (deflated 81%)\n",
            "  adding: content/pseudovisium/section31/matrix.mtx.gz (deflated 0%)\n",
            "  adding: content/pseudovisium/section31/arguments.json (deflated 50%)\n",
            "  adding: content/pseudovisium/section31/filtered_feature_bc_matrix.h5 (deflated 82%)\n",
            "pseudovisium.zip has been saved to your Google Drive.\n"
          ]
        }
      ],
      "source": [
        "from google.colab import drive\n",
        "\n",
        "# Mount your Google Drive\n",
        "drive.mount('/content/drive')\n",
        "\n",
        "# Create the ZIP archive\n",
        "!zip -r pseudovisium.zip /content/pseudovisium\n",
        "\n",
        "# Copy the ZIP file to your Google Drive\n",
        "!cp pseudovisium.zip /content/drive/MyDrive/\n",
        "\n",
        "print(\"pseudovisium.zip has been saved to your Google Drive.\")"
      ]
    },
    {
      "cell_type": "code",
      "execution_count": null,
      "metadata": {
        "id": "KXRWZGfhLGHv"
      },
      "outputs": [],
      "source": []
    }
  ],
  "metadata": {
    "colab": {
      "machine_shape": "hm",
      "provenance": [],
      "authorship_tag": "ABX9TyPN8rjb04ylrTojxo2Gfo+o",
      "include_colab_link": true
    },
    "kernelspec": {
      "display_name": "Python 3",
      "name": "python3"
    },
    "language_info": {
      "name": "python"
    }
  },
  "nbformat": 4,
  "nbformat_minor": 0
}